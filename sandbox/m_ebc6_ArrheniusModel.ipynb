{
 "cells": [
  {
   "cell_type": "markdown",
   "metadata": {},
   "source": [
    "# EBC-Var6: temperature-dependent parameters\n",
    "In this notebook, I would use Arrhenius equation in every parameters (except efficiency terms) in temperature-dependent format.  The backbone model is shown as below:\n",
    "![](graph/ebc6.png)\n",
    "Arrhenius equation general format is:\n",
    "\\begin{equation*}\n",
    "    k = A\\cdot e^{-E_A/(RT_K)}\n",
    "\\end{equation*}\n",
    "which $k$ is theoretical rate, $A$ is a pre-exponential factor, $E_A$ is the activation energy, $R$ is the universal gas constant and $T_K$ is the absolute temperature  \n",
    "\n",
    "In this model, $k$ is replacing every rate parameters with $E_A$ is a species-specific energy parameter and $A$ are species- and parameter-specific normalization constant.\n",
    "## lang & pkg\n",
    "python 3.7.3  \n",
    "sympy: 1.5.1, mpmath 1.5.0"
   ]
  },
  {
   "cell_type": "code",
   "execution_count": 1,
   "metadata": {
    "ExecuteTime": {
     "end_time": "2020-03-17T20:04:39.051311Z",
     "start_time": "2020-03-17T20:04:38.085341Z"
    }
   },
   "outputs": [],
   "source": [
    "from sympy import *\n",
    "import math as mt\n",
    "init_printing()"
   ]
  },
  {
   "cell_type": "markdown",
   "metadata": {},
   "source": [
    "## vars & Eqs"
   ]
  },
  {
   "cell_type": "code",
   "execution_count": 2,
   "metadata": {
    "ExecuteTime": {
     "end_time": "2020-03-17T20:04:39.067852Z",
     "start_time": "2020-03-17T20:04:39.056306Z"
    }
   },
   "outputs": [],
   "source": [
    "C, P, B = symbols(\"C P B\")\n",
    "R = 8.31\n",
    "T_k, E_P,e_P,g_0,r_0,m_0,a_0, E_B,e_B,g_8,r_8,m_8 = symbols(\"T_k E_P e_0 g_0 r_0 m_0 a_0 E_B e_B g_8 r_8 m_8\", positive=True)"
   ]
  },
  {
   "cell_type": "markdown",
   "metadata": {},
   "source": [
    "## parameters equations"
   ]
  },
  {
   "cell_type": "code",
   "execution_count": 3,
   "metadata": {
    "ExecuteTime": {
     "end_time": "2020-03-17T20:04:39.256334Z",
     "start_time": "2020-03-17T20:04:39.072303Z"
    }
   },
   "outputs": [
    {
     "data": {
      "text/latex": [
       "$\\displaystyle g_{0} e^{- \\frac{0.120336943441637 E_{P}}{T_{k}}}$"
      ],
      "text/plain": [
       "    -0.120336943441637⋅E_P \n",
       "    ───────────────────────\n",
       "              T_k          \n",
       "g₀⋅ℯ                       "
      ]
     },
     "execution_count": 3,
     "metadata": {},
     "output_type": "execute_result"
    }
   ],
   "source": [
    "g_P = g_0*exp(-E_P/(R*T_k))\n",
    "r_P = r_0*exp(-E_P/(R*T_k))\n",
    "m_P = m_0*exp(-E_P/(R*T_k))\n",
    "a_P = a_0*exp(-E_P/(R*T_k))\n",
    "\n",
    "g_B = g_8*exp(-E_B/(R*T_k))\n",
    "r_B = r_8*exp(-E_B/(R*T_k))\n",
    "m_B = m_8*exp(-E_B/(R*T_k))\n",
    "\n",
    "# C_eqm = Eq((g_P*(1 -e_P) +a_P*P +m_P)*P + (g_B*(1 -e_B)*C +m_B)*B, 0)\n",
    "# P_eqm = Eq((g_P*e_P -a_P*P -r_P -m_P)*P, 0)\n",
    "# B_eqm = Eq((g_B*e_B*C -r_B -m_B)*B, 0)\n",
    "g_P"
   ]
  },
  {
   "cell_type": "markdown",
   "metadata": {},
   "source": [
    "## equation system\n",
    "\\begin{equation}\n",
    "\\left\\{\\begin{array}{rl}\n",
    "C'(t) &= (g_P(1-\\varepsilon_P) + a_PP + m_P)P + (g_B(1-\\varepsilon_B)C + m_B)B\\\\\n",
    "P'(t) &= (g_P\\varepsilon_P - a_PP - R_P - m_P)P\\\\\n",
    "B'(t) &= (g_B\\varepsilon_BC - R_B - m_B)B\\\\\n",
    "\\end{array}\\right.\n",
    "\\end{equation}\n",
    "\n",
    "## parameters table\n",
    "symbol | unit | meaning\n",
    "--- | --- | ---\n",
    "$C$ | kgCm$^-3$ | system organic __C__arbon pool concentration\n",
    "$P$ | kgCm$^-3$ | system __P__hytoplankton Carbon pool concentration\n",
    "$B$ | kgCm$^-3$ | system _E. coli_ (__B__acteria) Carbon pool concentration\n",
    "$a_P$ | $m^3(kgC)^{-1}$ | intraspecific density dependence coefficient\n",
    "$g_P$ | t$^{-1}$ | growth rate of $P$\n",
    "$e_P$ | no | carbon assimilation efficiency of $P$\n",
    "$R_P$ | t$^{-1}$ | respiration rate of $P$\n",
    "$m_P$ | t$^{-1}$ | death rate of $P$\n",
    "$g_B$ | m$^3$(kgC$\\cdot$t)$^{-1}$ | growth rate per $B$ pool concentration unit\n",
    "$e_B$ | no | absorption efficiency of $B$\n",
    "$R_B$ | t$^{-1}$ | respiration rate of $B$\n",
    "$m_B$ | t$^{-1}$ | death rate of $B$\n",
    "\n",
    "## equations simplification"
   ]
  },
  {
   "cell_type": "code",
   "execution_count": 4,
   "metadata": {
    "ExecuteTime": {
     "end_time": "2020-03-17T20:04:40.795828Z",
     "start_time": "2020-03-17T20:04:39.263089Z"
    }
   },
   "outputs": [
    {
     "data": {
      "text/latex": [
       "$\\displaystyle \\left( \\left(- B \\left(C g_{8} \\left(e_{B} - 1\\right) - m_{8}\\right) e^{\\frac{0.120336943441637 E_{P}}{T_{k}}} + P \\left(P a_{0} - g_{0} \\left(e_{0} - 1\\right) + m_{0}\\right) e^{\\frac{0.120336943441637 E_{B}}{T_{k}}}\\right) e^{- \\frac{0.120336943441637 \\left(E_{B} + E_{P}\\right)}{T_{k}}}, \\  - P \\left(P a_{0} - e_{0} g_{0} + m_{0} + r_{0}\\right) e^{- \\frac{0.120336943441637 E_{P}}{T_{k}}}, \\  B \\left(C e_{B} g_{8} - m_{8} - r_{8}\\right) e^{- \\frac{0.120336943441637 E_{B}}{T_{k}}}\\right)$"
      ],
      "text/plain": [
       "⎛⎛                           0.120336943441637⋅E_P                            \n",
       "⎜⎜                           ─────────────────────                            \n",
       "⎜⎜                                    T_k                                     \n",
       "⎝⎝- B⋅(C⋅g₈⋅(e_B - 1) - m₈)⋅ℯ                      + P⋅(P⋅a₀ - g₀⋅(e₀ - 1) + m\n",
       "\n",
       "    0.120336943441637⋅E_B⎞  -0.120336943441637⋅(E_B + E_P)                    \n",
       "    ─────────────────────⎟  ───────────────────────────────                   \n",
       "             T_k         ⎟                T_k                                 \n",
       "₀)⋅ℯ                     ⎠⋅ℯ                               , -P⋅(P⋅a₀ - e₀⋅g₀ \n",
       "\n",
       "            -0.120336943441637⋅E_P                           -0.12033694344163\n",
       "            ───────────────────────                          ─────────────────\n",
       "                      T_k                                              T_k    \n",
       "+ m₀ + r₀)⋅ℯ                       , B⋅(C⋅e_B⋅g₈ - m₈ - r₈)⋅ℯ                 \n",
       "\n",
       "7⋅E_B ⎞\n",
       "──────⎟\n",
       "      ⎟\n",
       "      ⎠"
      ]
     },
     "execution_count": 4,
     "metadata": {},
     "output_type": "execute_result"
    }
   ],
   "source": [
    "C_eqm = (g_P*(1 -e_P) +a_P*P +m_P)*P + (g_B*(1 -e_B)*C +m_B)*B\n",
    "P_eqm = (g_P*e_P -a_P*P -r_P -m_P)*P\n",
    "B_eqm = (g_B*e_B*C -r_B -m_B)*B\n",
    "\n",
    "C_sim = simplify(C_eqm)\n",
    "P_sim = simplify(P_eqm)\n",
    "B_sim = simplify(B_eqm)\n",
    "\n",
    "C_sim,P_sim,B_sim"
   ]
  },
  {
   "cell_type": "markdown",
   "metadata": {},
   "source": [
    "# simplified ODE equation system\n",
    "\\begin{equation}\\left\\{\\begin{array}{rl}\n",
    "    C'(t) &= e^{-\\dfrac{E_B+E_P}{RT_k}}(P(P\\cdot a_P-g_P(e_P-1)+m_P)e^{\\dfrac{E_B}{RT_k}}-B(C\\cdot g_B)e^{\\dfrac{E_P}{RT_k}})\\\\\n",
    "    P'(t) &= -P(P\\cdot a_P-e_P\\cdot g_P + m_P + r_P)e^{-\\dfrac{E_P}{RT_k}}\\\\\n",
    "    B'(t) &= B(C\\cdot e_B\\cdot g_B-m_B-r_B)e^{-\\dfrac{E_B}{RT_k}}\n",
    "\\end{array}\\right.\\end{equation}"
   ]
  },
  {
   "cell_type": "code",
   "execution_count": 5,
   "metadata": {
    "ExecuteTime": {
     "end_time": "2020-03-17T20:04:50.015342Z",
     "start_time": "2020-03-17T20:04:40.800899Z"
    }
   },
   "outputs": [
    {
     "data": {
      "text/latex": [
       "$\\displaystyle \\left[ \\left( C, \\  0.0, \\  0.0\\right), \\  \\left( C, \\  \\frac{e_{0} g_{0} - m_{0} - r_{0}}{a_{0}}, \\  0.0\\right), \\  \\left( \\frac{m_{8} + r_{8}}{e_{B} g_{8}}, \\  0.0, \\  B\\right), \\  \\left( \\frac{m_{8} + r_{8}}{e_{B} g_{8}}, \\  \\frac{e_{0} g_{0} - m_{0} - r_{0}}{a_{0}}, \\  B\\right)\\right]$"
      ],
      "text/plain": [
       "⎡               ⎛   e₀⋅g₀ - m₀ - r₀     ⎞  ⎛m₈ + r₈        ⎞  ⎛m₈ + r₈  e₀⋅g₀ \n",
       "⎢(C, 0.0, 0.0), ⎜C, ───────────────, 0.0⎟, ⎜───────, 0.0, B⎟, ⎜───────, ──────\n",
       "⎣               ⎝          a₀           ⎠  ⎝ e_B⋅g₈        ⎠  ⎝ e_B⋅g₈        \n",
       "\n",
       "- m₀ - r₀   ⎞⎤\n",
       "─────────, B⎟⎥\n",
       " a₀         ⎠⎦"
      ]
     },
     "execution_count": 5,
     "metadata": {},
     "output_type": "execute_result"
    }
   ],
   "source": [
    "C_eqm = Eq(C_eqm,0)\n",
    "P_eqm = Eq(P_eqm,0)\n",
    "B_eqm = Eq(B_eqm,0)\n",
    "\n",
    "sol = solve([C_eqm, P_eqm, B_eqm], [C, P, B])\n",
    "sol"
   ]
  },
  {
   "cell_type": "markdown",
   "metadata": {},
   "source": [
    "## extract coexistence system"
   ]
  },
  {
   "cell_type": "code",
   "execution_count": 6,
   "metadata": {
    "ExecuteTime": {
     "end_time": "2020-03-17T20:04:50.045163Z",
     "start_time": "2020-03-17T20:04:50.019662Z"
    }
   },
   "outputs": [
    {
     "data": {
      "text/latex": [
       "$\\displaystyle \\left( \\frac{m_{8} + r_{8}}{e_{B} g_{8}}, \\  \\frac{e_{0} g_{0} - m_{0} - r_{0}}{a_{0}}, \\  B\\right)$"
      ],
      "text/plain": [
       "⎛m₈ + r₈  e₀⋅g₀ - m₀ - r₀   ⎞\n",
       "⎜───────, ───────────────, B⎟\n",
       "⎝ e_B⋅g₈         a₀         ⎠"
      ]
     },
     "execution_count": 6,
     "metadata": {},
     "output_type": "execute_result"
    }
   ],
   "source": [
    "sol[3] ## the only solution with coexistence"
   ]
  },
  {
   "cell_type": "markdown",
   "metadata": {},
   "source": [
    "## parameter ranges from coexistence system\n",
    "$C$ is always positive for any values of parameters in the expression"
   ]
  },
  {
   "cell_type": "code",
   "execution_count": 9,
   "metadata": {
    "ExecuteTime": {
     "end_time": "2020-03-17T20:06:59.245041Z",
     "start_time": "2020-03-17T20:06:58.718924Z"
    }
   },
   "outputs": [
    {
     "data": {
      "text/latex": [
       "$\\displaystyle \\left[ \\left( g_{0} e^{- \\frac{0.120336943441637 E_{P}}{T_{k}}}, \\  \\frac{m_{0} + r_{0}}{g_{0}}, \\  r_{0} e^{- \\frac{0.120336943441637 E_{P}}{T_{k}}}, \\  m_{0} e^{- \\frac{0.120336943441637 E_{P}}{T_{k}}}, \\  a_{0} e^{- \\frac{0.120336943441637 E_{P}}{T_{k}}}, \\  T_{k}\\right)\\right]$"
      ],
      "text/plain": [
       "⎡⎛    -0.120336943441637⋅E_P                -0.120336943441637⋅E_P       -0.12\n",
       "⎢⎜    ───────────────────────               ───────────────────────      ─────\n",
       "⎢⎜              T_k            m₀ + r₀                T_k                     \n",
       "⎢⎜g₀⋅ℯ                       , ───────, r₀⋅ℯ                       , m₀⋅ℯ     \n",
       "⎣⎝                                g₀                                          \n",
       "\n",
       "0336943441637⋅E_P       -0.120336943441637⋅E_P      ⎞⎤\n",
       "──────────────────      ───────────────────────     ⎟⎥\n",
       "     T_k                          T_k               ⎟⎥\n",
       "                  , a₀⋅ℯ                       , T_k⎟⎥\n",
       "                                                    ⎠⎦"
      ]
     },
     "execution_count": 9,
     "metadata": {},
     "output_type": "execute_result"
    }
   ],
   "source": [
    "P_0 = Eq(sol[3][1],0)\n",
    "\n",
    "sol1 = solve(P_0, [g_P,e_P,r_P,m_P,a_P,T_k])\n",
    "sol1"
   ]
  },
  {
   "cell_type": "markdown",
   "metadata": {},
   "source": [
    "and this shows efficiency ($e_P$) of phytoplankton is temperature-independent (as expected/assumed) can only be larger than $\\dfrac{m_P + r_P}{g_P}$.  Given that 0 $\\leq e_P\\leq$ 1, only $g_P\\geq (m_P + r_P)$ is accepted.  Given that all phytoplankton is having $g_P>(r_P+m_P)$ in order to have population growth, this implies that all phytoplankton can be used (?), as long as it survives under the given temperature."
   ]
  }
 ],
 "metadata": {
  "kernelspec": {
   "display_name": "Python 3",
   "language": "python",
   "name": "python3"
  },
  "language_info": {
   "codemirror_mode": {
    "name": "ipython",
    "version": 2
   },
   "file_extension": ".py",
   "mimetype": "text/x-python",
   "name": "python",
   "nbconvert_exporter": "python",
   "pygments_lexer": "ipython2",
   "version": "2.7.17"
  },
  "toc": {
   "base_numbering": 1,
   "nav_menu": {},
   "number_sections": true,
   "sideBar": true,
   "skip_h1_title": false,
   "title_cell": "Table of Contents",
   "title_sidebar": "Contents",
   "toc_cell": false,
   "toc_position": {},
   "toc_section_display": true,
   "toc_window_display": true
  }
 },
 "nbformat": 4,
 "nbformat_minor": 2
}
