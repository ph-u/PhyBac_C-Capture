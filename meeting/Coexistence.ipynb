{
 "cells": [
  {
   "cell_type": "markdown",
   "metadata": {},
   "source": [
    "# Component Equations"
   ]
  },
  {
   "cell_type": "markdown",
   "metadata": {},
   "source": [
    "pillar equation:\n",
    "\n",
    "\\begin{equation}\\label{eq:main}\n",
    "    dp/dt = r_p [p] - k_{p1} [p][q]\n",
    "\\end{equation}"
   ]
  },
  {
   "cell_type": "markdown",
   "metadata": {},
   "source": [
    "Term explanation:  \n",
    "$dp/dt$ : instantaneous rate of population growth of lineage p (sec$^{-1}$)  \n",
    "$r_p$ : rate of growth of lineage p (sec$^{-1}$)  \n",
    "$k_{p1}$ : hinder factor on growth rate exerted from q to p (sec$^{-1}$)  \n",
    "$[p]$ : lineage p population size (no unit)  \n",
    "$[q]$ : lineage q (interacting / competing lineage) population size (no unit)  \n",
    "\n",
    "This is the core equation describing the \"spatial competition\" situation between p & q, with p as the target population described.  Another exact equation (except position of p & q swapped) will be used to describe target population as q."
   ]
  },
  {
   "cell_type": "markdown",
   "metadata": {},
   "source": [
    "population growth rate:\n",
    "\n",
    "\\begin{align}\\label{eq:growth}\n",
    "    r_p & = \\dfrac{r_p|_{expt}}{P_p|_{expt}}\\cdot P_p \\nonumber\\\\\n",
    "        & = \\dfrac{r_p|_{expt}\\cdot t_p|_{expt}}{J_p|_{expt}}\\cdot\\dfrac{J_p}{3600}\n",
    "\\end{align}"
   ]
  },
  {
   "cell_type": "markdown",
   "metadata": {},
   "source": [
    "Term explanation:  \n",
    "$r_p$ : rate of growth of lineage p (sec$^{-1}$)  \n",
    "$P_p$ : power gained by lineage p in model (W)  \n",
    "$J_p$ : energy gained by lineage p in model (J)  \n",
    "3600 : hourly record of solar data (1 hour = 3600 sec) (sec)  \n",
    "$r_p|_{expt}$ : rate of growth of lineage p reported in literature (sec$^{-1}$)  \n",
    "$P_p|_{expt}$ : power gained by lineage p reported in literature (W)  \n",
    "$J_p|_{expt}$ : energy gained by lineage p reported in literature (J)  \n",
    "$t_p|_{expt}$ : time used in reported experiment to obtain $J_p|_{expt}$ (sec)  \n",
    "\n",
    "Growth rate used in model is an estimate from past literature assuming linear relationship between power gained (per cell) and growth rate."
   ]
  },
  {
   "cell_type": "markdown",
   "metadata": {},
   "source": [
    "competition coefficient:\n",
    "\n",
    "\\begin{align}\\label{eq:compete}\n",
    "    k_{p1} & = \\dfrac{P_q}{P_p + P_q}\\cdot r_p \\nonumber\\\\\n",
    "           & = \\dfrac{J_q J_p}{(J_p + J_q)\\cdot3600}\\cdot \\dfrac{r_p|_{expt}\\cdot t_p|_{expt}}{J_p|_{expt}}\n",
    "\\end{align}"
   ]
  },
  {
   "cell_type": "markdown",
   "metadata": {},
   "source": [
    "Term explanation:  \n",
    "$k_{p1}$ : hinder factor on growth rate exerted from q to p (sec$^{-1}$)  \n",
    "$r_p$ : rate of growth of lineage p (sec$^{-1}$)  \n",
    "$P_p$ : power gained by lineage p in model (W)  \n",
    "$P_q$ : power gained by lineage q in model (W)  \n",
    "$J_p$ : energy gained by lineage p in model (J)  \n",
    "$J_q$ : energy gained by lineage q in model (J)  \n",
    "3600: hourly record of solar data (1 hour = 3600 sec) (sec)  \n",
    "$r_p|_{expt}$ : rate of growth of lineage p reported in literature (sec$^{-1}$)  \n",
    "$J_p|_{expt}$ : energy gained by lineage p reported in literature (J)  \n",
    "$t_p|_{expt}$ : time used in reported experiment to obtain $J_p|_{expt}$ (sec)  \n",
    "\n",
    "This equation was calculating how much hinder do the other competing lineage exert on the target population if only advantage can be gained by gaining more energy (per cell) within the same time period."
   ]
  },
  {
   "cell_type": "markdown",
   "metadata": {},
   "source": [
    "Overall equation (Eq.1+2+3):\n",
    "\\begin{align}\\label{eq:overall}\n",
    "    \\dfrac{dp}{dt} & = [p]\\cdot(r_p - k_{p1}[q]) \\nonumber\\\\\n",
    "                   & = [p]\\cdot r_p(1-\\dfrac{P_q}{P_p + P_q}\\cdot[q]) \\nonumber\\\\\n",
    "                   & = [p]\\cdot(\\dfrac{r_p|_{expt}\\cdot t_p|_{expt}}{J_p|_{expt}})\\cdot\\dfrac{J_p}{3600}\\cdot(1-\\dfrac{J_q[q]}{J_p + J_q}) \\nonumber \\\\\n",
    "                   & = (\\dfrac{r_p|_{expt}\\cdot t_p|_{expt}}{3600\\cdot J_p|_{expt}})(1-\\dfrac{J_q[q]}{J_p + J_q})J_p[p]\n",
    "\\end{align}"
   ]
  },
  {
   "cell_type": "markdown",
   "metadata": {},
   "source": [
    "This equation describes the instantaneous growth rate of lineage p ($\\dfrac{dp}{dt}$) by combining equations 1 to 3.  There are a constant coefficient ($\\dfrac{r_p|_{expt}\\cdot t_p|_{expt}}{3600\\cdot J_p|_{expt}}$), a variable coefficient [$(1-\\dfrac{J_q[q]}{J_p+J_q})\\cdot J_p$] and the target population [$p$]."
   ]
  },
  {
   "cell_type": "code",
   "execution_count": null,
   "metadata": {},
   "outputs": [],
   "source": [
    "def ebc(pops,)"
   ]
  }
 ],
 "metadata": {
  "kernelspec": {
   "display_name": "Python 3",
   "language": "python",
   "name": "python3"
  },
  "language_info": {
   "codemirror_mode": {
    "name": "ipython",
    "version": 3
   },
   "file_extension": ".py",
   "mimetype": "text/x-python",
   "name": "python",
   "nbconvert_exporter": "python",
   "pygments_lexer": "ipython3",
   "version": "3.7.3"
  },
  "latex_envs": {
   "LaTeX_envs_menu_present": true,
   "autoclose": true,
   "autocomplete": true,
   "bibliofile": "biblio.bib",
   "cite_by": "apalike",
   "current_citInitial": 1,
   "eqLabelWithNumbers": true,
   "eqNumInitial": 1,
   "hotkeys": {
    "equation": "Ctrl-E",
    "itemize": "Ctrl-I"
   },
   "labels_anchors": false,
   "latex_user_defs": false,
   "report_style_numbering": true,
   "user_envs_cfg": true
  },
  "varInspector": {
   "cols": {
    "lenName": 16,
    "lenType": 16,
    "lenVar": 40
   },
   "kernels_config": {
    "python": {
     "delete_cmd_postfix": "",
     "delete_cmd_prefix": "del ",
     "library": "var_list.py",
     "varRefreshCmd": "print(var_dic_list())"
    },
    "r": {
     "delete_cmd_postfix": ") ",
     "delete_cmd_prefix": "rm(",
     "library": "var_list.r",
     "varRefreshCmd": "cat(var_dic_list()) "
    }
   },
   "types_to_exclude": [
    "module",
    "function",
    "builtin_function_or_method",
    "instance",
    "_Feature"
   ],
   "window_display": false
  }
 },
 "nbformat": 4,
 "nbformat_minor": 2
}
