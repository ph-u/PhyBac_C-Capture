{
 "cells": [
  {
   "cell_type": "markdown",
   "metadata": {
    "toc": true
   },
   "source": [
    "<h1>Table of Contents<span class=\"tocSkip\"></span></h1>\n",
    "<div class=\"toc\"><ul class=\"toc-item\"><li><span><a href=\"#purpose\" data-toc-modified-id=\"purpose-1\"><span class=\"toc-item-num\">1&nbsp;&nbsp;</span>purpose</a></span></li><li><span><a href=\"#data-mapping-second-half-in-surface\" data-toc-modified-id=\"data-mapping-second-half-in-surface-2\"><span class=\"toc-item-num\">2&nbsp;&nbsp;</span>data mapping second half in surface</a></span></li></ul></div>"
   ]
  },
  {
   "cell_type": "markdown",
   "metadata": {},
   "source": [
    "# purpose\n",
    "This notebook only contain the second half of surface plots\n",
    "- Surface plots [first](https://nbviewer.jupyter.org/github/ph-u/Project/blob/master/sandbox/cpb_surface1.ipynb) half\n",
    "- Contour plots [here](https://nbviewer.jupyter.org/github/ph-u/Project/blob/master/sandbox/cpb_contour.ipynb)"
   ]
  },
  {
   "cell_type": "code",
   "execution_count": 1,
   "metadata": {
    "ExecuteTime": {
     "end_time": "2020-04-18T14:49:03.332000+01:00",
     "start_time": "2020-04-18T13:48:42.247Z"
    }
   },
   "outputs": [],
   "source": [
    "using RCall, DataFrames, CSV, Plots"
   ]
  },
  {
   "cell_type": "code",
   "execution_count": null,
   "metadata": {},
   "outputs": [],
   "source": [
    "#rAw = CSV.read(\"../result/maxYield_0.1.csv\")\n",
    "rAw = CSV.read(\"../result/maxYield_0.05.csv\")\n",
    "@rput rAw\n",
    "R\"\n",
    "u0 = vector(mode='list', length=9)\n",
    "for(i in 1:9){\n",
    "    u0[[i]] = unique(rAw[,i])\n",
    "};rm(i)\n",
    "\"\n",
    "@rget u0"
   ]
  },
  {
   "cell_type": "code",
   "execution_count": null,
   "metadata": {},
   "outputs": [],
   "source": [
    "aXis = [4 8 0 5] ## default x,y,z,t axis\n",
    "fiX = [u0[i] for i in 1:length(u0) if length(u0[i])==1]\n",
    "aMt = [[i0 i1] for i0 in 1:length(u0[aXis[4]]) for i1 in 1:length(u0[1])]\n",
    "println()"
   ]
  },
  {
   "cell_type": "markdown",
   "metadata": {},
   "source": [
    "# data mapping second half in surface"
   ]
  },
  {
   "cell_type": "code",
   "execution_count": null,
   "metadata": {},
   "outputs": [],
   "source": [
    "aXis[3] = 12 ## customed z axis\n",
    "aa = @animate for i0 in 1:length(aMt)\n",
    "                aMt0 = aMt[i0]\n",
    "                @rput aXis aMt0\n",
    "                R\"\n",
    "                ## extract necessary data\n",
    "                pp = rAw[which(rAw[,aXis[4]]==u0[[aXis[4]]][aMt0[1]] & rAw[,1]==u0[[1]][aMt0[2]]),]\n",
    "                \n",
    "                ## initialize matrix\n",
    "                mmR = unique(pp[,aXis[1]])\n",
    "                mmC = unique(pp[,aXis[2]])\n",
    "                mm = matrix(NA, nr=length(mmR), nc=length(mmC))\n",
    "                \n",
    "                ## map data from dataframe to matrix\n",
    "                for(i in 1:nrow(pp)){\n",
    "                    mm[which(mmR==pp[i,aXis[1]]),which(mmC==pp[i,aXis[2]])] <- pp[i,aXis[3]]\n",
    "                };rm(i)\n",
    "                \"\n",
    "                @rget mm mmR mmC\n",
    "                if size(mm)[1] > 0\n",
    "                    plot(mmR, mmC, mm, st=:surface,\n",
    "                    xlabel=names(rAw)[aXis[1]], ylabel=names(rAw)[aXis[2]], zlabel=names(rAw)[aXis[3]],\n",
    "                    title=\"Surface plot animation based on fixed parameters\\n ePR=\"*string(fiX[1])*\", eP=\"*string(fiX[2])*\", eBR=\"*string(fiX[3])*\", eB=\"*string(fiX[4])*\", mB=\"*string(fiX[5])*\",\\n x=\"*string(u0[1][aMt0[2]])*\", aP=\"*string(u0[aXis[4]][aMt0[1]]))\n",
    "                end\n",
    "            end\n",
    "gif(aa, \"gif/\"*string(names(rAw)[aXis[3]])*\".gif\", fps=15)"
   ]
  },
  {
   "cell_type": "code",
   "execution_count": null,
   "metadata": {},
   "outputs": [],
   "source": [
    "aXis[3] = 13 ## customed z axis\n",
    "aa = @animate for i0 in 1:length(aMt)\n",
    "                aMt0 = aMt[i0]\n",
    "                @rput aXis aMt0\n",
    "                R\"\n",
    "                ## extract necessary data\n",
    "                pp = rAw[which(rAw[,aXis[4]]==u0[[aXis[4]]][aMt0[1]] & rAw[,1]==u0[[1]][aMt0[2]]),]\n",
    "                \n",
    "                ## initialize matrix\n",
    "                mmR = unique(pp[,aXis[1]])\n",
    "                mmC = unique(pp[,aXis[2]])\n",
    "                mm = matrix(NA, nr=length(mmR), nc=length(mmC))\n",
    "                \n",
    "                ## map data from dataframe to matrix\n",
    "                for(i in 1:nrow(pp)){\n",
    "                    mm[which(mmR==pp[i,aXis[1]]),which(mmC==pp[i,aXis[2]])] <- pp[i,aXis[3]]\n",
    "                };rm(i)\n",
    "                \"\n",
    "                @rget mm mmR mmC\n",
    "                if size(mm)[1] > 0\n",
    "                    plot(mmR, mmC, mm, st=:surface,\n",
    "                    xlabel=names(rAw)[aXis[1]], ylabel=names(rAw)[aXis[2]], zlabel=names(rAw)[aXis[3]],\n",
    "                    title=\"Surface plot animation based on fixed parameters\\n ePR=\"*string(fiX[1])*\", eP=\"*string(fiX[2])*\", eBR=\"*string(fiX[3])*\", eB=\"*string(fiX[4])*\", mB=\"*string(fiX[5])*\",\\n x=\"*string(u0[1][aMt0[2]])*\", aP=\"*string(u0[aXis[4]][aMt0[1]]))\n",
    "                end\n",
    "            end\n",
    "gif(aa, \"gif/\"*string(names(rAw)[aXis[3]])*\".gif\", fps=15)"
   ]
  }
 ],
 "metadata": {
  "kernelspec": {
   "display_name": "Julia 1.3.1",
   "language": "julia",
   "name": "julia-1.3"
  },
  "language_info": {
   "file_extension": ".jl",
   "mimetype": "application/julia",
   "name": "julia",
   "version": "1.3.1"
  },
  "toc": {
   "base_numbering": 1,
   "nav_menu": {},
   "number_sections": true,
   "sideBar": true,
   "skip_h1_title": false,
   "title_cell": "Table of Contents",
   "title_sidebar": "Contents",
   "toc_cell": true,
   "toc_position": {},
   "toc_section_display": true,
   "toc_window_display": true
  }
 },
 "nbformat": 4,
 "nbformat_minor": 2
}
