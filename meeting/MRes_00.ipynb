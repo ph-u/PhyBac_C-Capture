{
 "cells": [
  {
   "cell_type": "markdown",
   "metadata": {},
   "source": [
    "# Component Equations"
   ]
  },
  {
   "cell_type": "markdown",
   "metadata": {},
   "source": [
    "pillar equation:\n",
    "\n",
    "\\begin{equation}\\label{eq:main}\n",
    "    dp/dt = r_p [p] - k_{p1} [p][q]\n",
    "\\end{equation}\n",
    "\n",
    "Term explanation:  \n",
    "$dp/dt$ : instantaneous rate of population growth of lineage p (sec$^{-1}$)  \n",
    "$r_p$ : rate of growth of lineage p (sec$^{-1}$)  \n",
    "$k_{p1}$ : hinder factor on growth rate exerted from q to p (sec$^{-1}$)  \n",
    "$[p]$ : lineage p population size (no unit)  \n",
    "$[q]$ : lineage q (interacting / competing lineage) population size (no unit)  \n",
    "\n",
    "This is the core equation describing the \"spatial competition\" situation between p & q, with p as the target population described.  Another exact equation (except position of p & q swapped) will be used to describe target population as q."
   ]
  },
  {
   "cell_type": "markdown",
   "metadata": {},
   "source": [
    "population growth rate:\n",
    "\n",
    "\\begin{align}\\label{eq:growth}\n",
    "    r_p & = \\dfrac{r_p|_{expt}}{P_p|_{expt}}\\cdot P_p \\nonumber\\\\\n",
    "        & = \\dfrac{r_p|_{expt}\\cdot t_p|_{expt}}{J_p|_{expt}}\\cdot\\dfrac{J_p}{t_p}\n",
    "\\end{align}\n",
    "\n",
    "Term explanation:  \n",
    "$r_p$ : rate of growth of lineage p (sec$^{-1}$)  \n",
    "$P_p$ : power gained by lineage p in model (W)  \n",
    "$J_p$ : energy gained by lineage p in model (J)  \n",
    "$t_p$ : hourly record of solar data (1 hour = 3600 sec) (sec)  \n",
    "$r_p|_{expt}$ : rate of growth of lineage p reported in literature (sec$^{-1}$)  \n",
    "$P_p|_{expt}$ : power gained by lineage p reported in literature (W)  \n",
    "$J_p|_{expt}$ : energy gained by lineage p reported in literature (J)  \n",
    "$t_p|_{expt}$ : time used in reported experiment to obtain $J_p|_{expt}$ (sec)  \n",
    "\n",
    "Growth rate used in model is an estimate from past literature assuming linear relationship between power gained (per cell) and growth rate."
   ]
  },
  {
   "cell_type": "markdown",
   "metadata": {},
   "source": [
    "competition coefficient:\n",
    "\n",
    "\\begin{align}\\label{eq:compete}\n",
    "    k_{p1} & = \\dfrac{P_q}{P_p + P_q}\\cdot r_p \\nonumber\\\\\n",
    "           & = \\dfrac{J_q J_p}{(J_p + J_q)\\cdot t_p}\\cdot \\dfrac{r_p|_{expt}\\cdot t_p|_{expt}}{J_p|_{expt}}\n",
    "\\end{align}\n",
    "\n",
    "Term explanation:  \n",
    "$k_{p1}$ : hinder factor on growth rate exerted from q to p (sec$^{-1}$)  \n",
    "$r_p$ : rate of growth of lineage p (sec$^{-1}$)  \n",
    "$P_p$ : power gained by lineage p in model (W)  \n",
    "$P_q$ : power gained by lineage q in model (W)  \n",
    "$J_p$ : energy gained by lineage p in model (J)  \n",
    "$J_q$ : energy gained by lineage q in model (J)  \n",
    "$t_p$ : hourly record of solar data (1 hour = 3600 sec) (sec)  \n",
    "$r_p|_{expt}$ : rate of growth of lineage p reported in literature (sec$^{-1}$)  \n",
    "$J_p|_{expt}$ : energy gained by lineage p reported in literature (J)  \n",
    "$t_p|_{expt}$ : time used in reported experiment to obtain $J_p|_{expt}$ (sec)  \n",
    "\n",
    "This equation was calculating how much hinder do the other competing lineage exert on the target population if only advantage can be gained by gaining more energy (per cell) within the same time period."
   ]
  },
  {
   "cell_type": "markdown",
   "metadata": {},
   "source": [
    "Overall equation (Eq.1+2+3):\n",
    "\\begin{align}\\label{eq:overall}\n",
    "    \\dfrac{dp}{dt} & = [p]\\cdot(r_p - k_{p1}[q]) \\nonumber\\\\\n",
    "                   & = [p]\\cdot r_p(1-\\dfrac{P_q}{P_p + P_q}\\cdot[q]) \\nonumber\\\\\n",
    "                   & = [p]\\cdot(\\dfrac{r_p|_{expt}\\cdot t_p|_{expt}}{J_p|_{expt}})\\cdot\\dfrac{J_p}{t_p}\\cdot(1-\\dfrac{J_q[q]}{J_p + J_q}) \\nonumber \\\\\n",
    "                   & = (\\dfrac{r_p|_{expt}\\cdot t_p|_{expt}}{J_p|_{expt}})(1-\\dfrac{J_q[q]}{J_p + J_q})(\\dfrac{J_p}{t_p})[p]\n",
    "\\end{align}\n",
    "\n",
    "This equation describes the instantaneous growth rate of lineage p ($\\dfrac{dp}{dt}$) by combining equations 1 to 3.  There are a constant coefficient ($\\dfrac{r_p|_{expt}\\cdot t_p|_{expt}}{J_p|_{expt}}$), a variable coefficient [$(1-\\dfrac{J_q[q]}{J_p+J_q})(\\dfrac{J_p}{t_p})$] and the target population [$p$]."
   ]
  },
  {
   "cell_type": "markdown",
   "metadata": {},
   "source": [
    "# Model"
   ]
  },
  {
   "cell_type": "code",
   "execution_count": 1,
   "metadata": {
    "ExecuteTime": {
     "end_time": "2020-01-17T01:48:44.021631Z",
     "start_time": "2020-01-17T01:48:39.533277Z"
    }
   },
   "outputs": [],
   "source": [
    "import scipy as sc\n",
    "import scipy.integrate as integrate\n",
    "import matplotlib.pylab as p"
   ]
  },
  {
   "cell_type": "markdown",
   "metadata": {},
   "source": [
    "## Eco-bacterial cell first attempt"
   ]
  },
  {
   "cell_type": "code",
   "execution_count": 2,
   "metadata": {
    "ExecuteTime": {
     "end_time": "2020-01-17T01:48:44.041120Z",
     "start_time": "2020-01-17T01:48:44.026954Z"
    }
   },
   "outputs": [],
   "source": [
    "def ebc(pops,\n",
    "        Jp=1, Jq=1,\n",
    "        T_int=3600,\n",
    "        JpEXPT=8, RpEXPT=1, TpEXPT=50,\n",
    "        JqEXPT=8, RqEXPT=1, TqEXPT=50):\n",
    "    \"\"\"Competition model\"\"\"\n",
    "    p=pops[0]\n",
    "    q=pops[1]\n",
    "    \n",
    "    dpdt = (RpEXPT * TpEXPT / JpEXPT) * (1 - Jq * q / (Jp + Jq)) * (Jp / T_int) * p\n",
    "    dqdt = (RqEXPT * TqEXPT / JqEXPT) * (1 - Jp * p / (Jp + Jq)) * (Jq / T_int) * q\n",
    "    \n",
    "    return sc.array([dpdt, dqdt])"
   ]
  },
  {
   "cell_type": "code",
   "execution_count": 3,
   "metadata": {
    "ExecuteTime": {
     "end_time": "2020-01-17T01:48:45.008473Z",
     "start_time": "2020-01-17T01:48:44.044985Z"
    }
   },
   "outputs": [
    {
     "name": "stderr",
     "output_type": "stream",
     "text": [
      "/Applications/miniconda3/lib/python3.7/site-packages/ipykernel_launcher.py:1: DeprecationWarning: object of type <class 'float'> cannot be safely interpreted as an integer.\n",
      "  \"\"\"Entry point for launching an IPython kernel.\n",
      "/Applications/miniconda3/lib/python3.7/site-packages/ipykernel_launcher.py:11: RuntimeWarning: overflow encountered in double_scalars\n",
      "  # This is added back by InteractiveShellApp.init_path()\n",
      "/Applications/miniconda3/lib/python3.7/site-packages/ipykernel_launcher.py:10: RuntimeWarning: overflow encountered in double_scalars\n",
      "  # Remove the CWD from sys.path while we load stuff.\n",
      "No handles with labels found to put in legend.\n"
     ]
    },
    {
     "data": {
      "text/plain": [
       "Text(0.5, 1.0, 'Competition population dynamics')"
      ]
     },
     "execution_count": 3,
     "metadata": {},
     "output_type": "execute_result"
    },
    {
     "data": {
      "image/png": "[encoded data removed]",
      "text/plain": [
       "<Figure size 432x288 with 1 Axes>"
      ]
     },
     "metadata": {
      "needs_background": "light"
     },
     "output_type": "display_data"
    }
   ],
   "source": [
    "t=sc.linspace(0,1500,1e5) # timescale: start, end, interval\n",
    "\n",
    "pops, infodict=integrate.odeint(ebc, sc.array([10,10]), t, full_output=True) # modeling\n",
    "\n",
    "f1=p.figure(num=1);f1\n",
    "p.plot(pops[:,1],pops[:,0], 'r-')\n",
    "p.grid()\n",
    "p.legend(loc=\"best\")\n",
    "p.xlabel(\"Population density p\")\n",
    "p.ylabel(\"Population density q\")\n",
    "p.title(\"Competition population dynamics\")"
   ]
  },
  {
   "cell_type": "code",
   "execution_count": 4,
   "metadata": {
    "ExecuteTime": {
     "end_time": "2020-01-17T01:48:46.180690Z",
     "start_time": "2020-01-17T01:48:45.021011Z"
    }
   },
   "outputs": [
    {
     "name": "stderr",
     "output_type": "stream",
     "text": [
      "/Applications/miniconda3/lib/python3.7/site-packages/ipykernel_launcher.py:1: DeprecationWarning: object of type <class 'float'> cannot be safely interpreted as an integer.\n",
      "  \"\"\"Entry point for launching an IPython kernel.\n",
      "/Applications/miniconda3/lib/python3.7/site-packages/ipykernel_launcher.py:11: RuntimeWarning: overflow encountered in double_scalars\n",
      "  # This is added back by InteractiveShellApp.init_path()\n",
      "/Applications/miniconda3/lib/python3.7/site-packages/ipykernel_launcher.py:10: RuntimeWarning: overflow encountered in double_scalars\n",
      "  # Remove the CWD from sys.path while we load stuff.\n"
     ]
    },
    {
     "data": {
      "text/plain": [
       "Text(0.5, 1.0, 'Competition population dynamics')"
      ]
     },
     "execution_count": 4,
     "metadata": {},
     "output_type": "execute_result"
    },
    {
     "data": {
      "image/png": "[encoded data removed]",
      "text/plain": [
       "<Figure size 432x288 with 1 Axes>"
      ]
     },
     "metadata": {
      "needs_background": "light"
     },
     "output_type": "display_data"
    }
   ],
   "source": [
    "t=sc.linspace(0,1500,1e5) # timescale: start, end, interval\n",
    "\n",
    "pops, infodict=integrate.odeint(ebc, sc.array([10,10]), t, full_output=True) # modeling\n",
    "#pops # show population py-listZ\n",
    "\n",
    "f1=p.figure(num=1);f1\n",
    "p.plot(t,pops[:,0], 'r-', label=\"lineage p density\")\n",
    "p.plot(t,pops[:,1], 'b-', label=\"lineage q density\")\n",
    "p.grid()\n",
    "p.legend(loc=\"best\")\n",
    "p.xlabel(\"Time (sec)\")\n",
    "p.ylabel(\"Population density\")\n",
    "p.title(\"Competition population dynamics\")"
   ]
  },
  {
   "cell_type": "markdown",
   "metadata": {},
   "source": [
    "## Competitive Lotka-Volterra equations"
   ]
  },
  {
   "cell_type": "code",
   "execution_count": 8,
   "metadata": {
    "ExecuteTime": {
     "end_time": "2020-01-17T01:48:48.009782Z",
     "start_time": "2020-01-17T01:48:47.995929Z"
    }
   },
   "outputs": [],
   "source": [
    "def LV_comp(pops, r1=2, r2=1, a12=1, a21=1, K1=100, K2=100, t=0):\n",
    "    \"\"\"Competitive Lotka-Volterra equations\"\"\"\n",
    "    x1=pops[0]\n",
    "    x2=pops[1]\n",
    "    dx1dt=r1*x1*(1-(x1+a12*x2)/K1)\n",
    "    dx2dt=r2*x2*(1-(x2+a21*x1)/K2)\n",
    "    return(sc.array([dx1dt,dx2dt]))"
   ]
  },
  {
   "cell_type": "code",
   "execution_count": 9,
   "metadata": {
    "ExecuteTime": {
     "end_time": "2020-01-17T01:48:48.694380Z",
     "start_time": "2020-01-17T01:48:48.017667Z"
    }
   },
   "outputs": [
    {
     "name": "stderr",
     "output_type": "stream",
     "text": [
      "/Applications/miniconda3/lib/python3.7/site-packages/ipykernel_launcher.py:1: DeprecationWarning: object of type <class 'float'> cannot be safely interpreted as an integer.\n",
      "  \"\"\"Entry point for launching an IPython kernel.\n",
      "No handles with labels found to put in legend.\n"
     ]
    },
    {
     "data": {
      "text/plain": [
       "Text(0.5, 1.0, 'Competition population dynamics')"
      ]
     },
     "execution_count": 9,
     "metadata": {},
     "output_type": "execute_result"
    },
    {
     "data": {
      "image/png": "[encoded data removed]",
      "text/plain": [
       "<Figure size 432x288 with 1 Axes>"
      ]
     },
     "metadata": {
      "needs_background": "light"
     },
     "output_type": "display_data"
    }
   ],
   "source": [
    "t=sc.linspace(0,1500,1e5) # timescale: start, end, interval\n",
    "\n",
    "pops, infodict=integrate.odeint(LV_comp, sc.array([10,10]), t, full_output=True) # modeling\n",
    "\n",
    "f1=p.figure(num=1);f1\n",
    "p.plot(pops[:,1],pops[:,0], 'r-')\n",
    "p.grid()\n",
    "p.legend(loc=\"best\")\n",
    "p.xlabel(\"Population density p\")\n",
    "p.ylabel(\"Population density q\")\n",
    "p.title(\"Competition population dynamics\")"
   ]
  },
  {
   "cell_type": "code",
   "execution_count": 10,
   "metadata": {
    "ExecuteTime": {
     "end_time": "2020-01-17T01:48:49.792969Z",
     "start_time": "2020-01-17T01:48:48.698639Z"
    }
   },
   "outputs": [
    {
     "name": "stderr",
     "output_type": "stream",
     "text": [
      "/Applications/miniconda3/lib/python3.7/site-packages/ipykernel_launcher.py:1: DeprecationWarning: object of type <class 'float'> cannot be safely interpreted as an integer.\n",
      "  \"\"\"Entry point for launching an IPython kernel.\n"
     ]
    },
    {
     "data": {
      "text/plain": [
       "Text(0.5, 1.0, 'Competition population dynamics')"
      ]
     },
     "execution_count": 10,
     "metadata": {},
     "output_type": "execute_result"
    },
    {
     "data": {
      "image/png": "[encoded data removed]",
      "text/plain": [
       "<Figure size 432x288 with 1 Axes>"
      ]
     },
     "metadata": {
      "needs_background": "light"
     },
     "output_type": "display_data"
    }
   ],
   "source": [
    "t=sc.linspace(0,150,1e5) # timescale: start, end, interval\n",
    "\n",
    "pops, infodict=integrate.odeint(LV_comp, sc.array([10,10]), t, full_output=True) # modeling\n",
    "#pops # show population py-listZ\n",
    "\n",
    "f1=p.figure(num=1);f1\n",
    "p.plot(t,pops[:,0], 'r-', label=\"lineage p density\")\n",
    "p.plot(t,pops[:,1], 'b-', label=\"lineage q density\")\n",
    "p.grid()\n",
    "p.legend(loc=\"best\")\n",
    "p.xlabel(\"Time (sec)\")\n",
    "p.ylabel(\"Population density\")\n",
    "p.title(\"Competition population dynamics\")"
   ]
  },
  {
   "cell_type": "markdown",
   "metadata": {},
   "source": [
    "# Parameters, units, meaning"
   ]
  },
  {
   "cell_type": "markdown",
   "metadata": {},
   "source": [
    "parameter | raw unit | unit use in model | meaning | ref\n",
    "--- | --- | --- | --- | ---\n",
    "$r_p|_{expt}$ | hour$^{-1}$ | sec$^{-1}$ | population growth rate in lineage p in a growth rate experiment | zavvrel2017phenotypic\n",
    "$J_p|_{expt}$ | NA | J | expected energy gained per lineage p cell in a growth rate experiment | NA\n",
    "$t_p|_{expt}$ | hour | sec | reported time to optain $r_p|_{expt}$ | zavvrel2017phenotypic\n",
    "$r_q|_{expt}$ | hour$^{-1}$ | sec$^{-1}$ | population growth rate in a lineage q growth rate experiment | billi1998method\n",
    "$J_q|_{expt}$ | NA | J | expected energy gained per lineage q cell in a growth rate experiment | NA\n",
    "$t_q|_{expt}$ | hour | sec | reported time to optain $r_q|_{expt}$ | billi1998method\n",
    "$size_p|_{expt}$ | $\\mu$m | m | mean cell size for lineage p | zavvrel2017phenotypic\n",
    "$size_q|_{expt}$ | $\\mu$m | m | mean cell size for lineage q | [microbewiki](https://microbewiki.kenyon.edu/index.php/Chroococcidiopsis#Cell_Structure.2C_Metabolism_and_Life_Cycle)\n",
    "$size_m|_{expt}$ | cm | m | size for button mushroom pileus | [wikipedia](https://en.wikipedia.org/wiki/Agaricus_bisporus#Description)"
   ]
  },
  {
   "cell_type": "code",
   "execution_count": null,
   "metadata": {},
   "outputs": [],
   "source": []
  }
 ],
 "metadata": {
  "kernelspec": {
   "display_name": "Python 3",
   "language": "python",
   "name": "python3"
  },
  "language_info": {
   "codemirror_mode": {
    "name": "ipython",
    "version": 3
   },
   "file_extension": ".py",
   "mimetype": "text/x-python",
   "name": "python",
   "nbconvert_exporter": "python",
   "pygments_lexer": "ipython3",
   "version": "3.7.3"
  },
  "latex_envs": {
   "LaTeX_envs_menu_present": true,
   "autoclose": true,
   "autocomplete": true,
   "bibliofile": "biblio.bib",
   "cite_by": "apalike",
   "current_citInitial": 1,
   "eqLabelWithNumbers": true,
   "eqNumInitial": 1,
   "hotkeys": {
    "equation": "Ctrl-E",
    "itemize": "Ctrl-I"
   },
   "labels_anchors": false,
   "latex_user_defs": false,
   "report_style_numbering": true,
   "user_envs_cfg": true
  },
  "varInspector": {
   "cols": {
    "lenName": 16,
    "lenType": 16,
    "lenVar": 40
   },
   "kernels_config": {
    "python": {
     "delete_cmd_postfix": "",
     "delete_cmd_prefix": "del ",
     "library": "var_list.py",
     "varRefreshCmd": "print(var_dic_list())"
    },
    "r": {
     "delete_cmd_postfix": ") ",
     "delete_cmd_prefix": "rm(",
     "library": "var_list.r",
     "varRefreshCmd": "cat(var_dic_list()) "
    }
   },
   "types_to_exclude": [
    "module",
    "function",
    "builtin_function_or_method",
    "instance",
    "_Feature"
   ],
   "window_display": false
  }
 },
 "nbformat": 4,
 "nbformat_minor": 2
}
