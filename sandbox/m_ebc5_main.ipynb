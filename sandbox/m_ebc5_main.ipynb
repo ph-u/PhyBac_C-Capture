{
 "cells": [
  {
   "cell_type": "markdown",
   "metadata": {
    "toc": true
   },
   "source": [
    "<h1>Table of Contents<span class=\"tocSkip\"></span></h1>\n",
    "<div class=\"toc\"><ul class=\"toc-item\"><li><span><a href=\"#housekeeping\" data-toc-modified-id=\"housekeeping-1\"><span class=\"toc-item-num\">1&nbsp;&nbsp;</span>housekeeping</a></span><ul class=\"toc-item\"><li><span><a href=\"#languages-&amp;-packages\" data-toc-modified-id=\"languages-&amp;-packages-1.1\"><span class=\"toc-item-num\">1.1&nbsp;&nbsp;</span>languages &amp; packages</a></span></li><li><span><a href=\"#env-set-up\" data-toc-modified-id=\"env-set-up-1.2\"><span class=\"toc-item-num\">1.2&nbsp;&nbsp;</span>env set-up</a></span></li><li><span><a href=\"#parameters\" data-toc-modified-id=\"parameters-1.3\"><span class=\"toc-item-num\">1.3&nbsp;&nbsp;</span>parameters</a></span></li><li><span><a href=\"#equation-system\" data-toc-modified-id=\"equation-system-1.4\"><span class=\"toc-item-num\">1.4&nbsp;&nbsp;</span>equation system</a></span></li><li><span><a href=\"#equation-system-visualization\" data-toc-modified-id=\"equation-system-visualization-1.5\"><span class=\"toc-item-num\">1.5&nbsp;&nbsp;</span>equation system visualization</a></span></li></ul></li><li><span><a href=\"#numeric-solve\" data-toc-modified-id=\"numeric-solve-2\"><span class=\"toc-item-num\">2&nbsp;&nbsp;</span>numeric solve</a></span><ul class=\"toc-item\"><li><span><a href=\"#whole-ODE-system\" data-toc-modified-id=\"whole-ODE-system-2.1\"><span class=\"toc-item-num\">2.1&nbsp;&nbsp;</span>whole ODE system</a></span></li><li><span><a href=\"#$P$-&amp;-partial-$C$-equation-isolation\" data-toc-modified-id=\"$P$-&amp;-partial-$C$-equation-isolation-2.2\"><span class=\"toc-item-num\">2.2&nbsp;&nbsp;</span>$P$ &amp; partial-$C$ equation isolation</a></span></li><li><span><a href=\"#$B$-&amp;-partial-$C$-equation-isolation\" data-toc-modified-id=\"$B$-&amp;-partial-$C$-equation-isolation-2.3\"><span class=\"toc-item-num\">2.3&nbsp;&nbsp;</span>$B$ &amp; partial-$C$ equation isolation</a></span></li></ul></li><li><span><a href=\"#conclusion\" data-toc-modified-id=\"conclusion-3\"><span class=\"toc-item-num\">3&nbsp;&nbsp;</span>conclusion</a></span></li><li><span><a href=\"#ODE-system-variation\" data-toc-modified-id=\"ODE-system-variation-4\"><span class=\"toc-item-num\">4&nbsp;&nbsp;</span>ODE system variation</a></span><ul class=\"toc-item\"><li><span><a href=\"#parameters\" data-toc-modified-id=\"parameters-4.1\"><span class=\"toc-item-num\">4.1&nbsp;&nbsp;</span>parameters</a></span></li><li><span><a href=\"#equation-system\" data-toc-modified-id=\"equation-system-4.2\"><span class=\"toc-item-num\">4.2&nbsp;&nbsp;</span>equation system</a></span></li><li><span><a href=\"#equation-system-visualization\" data-toc-modified-id=\"equation-system-visualization-4.3\"><span class=\"toc-item-num\">4.3&nbsp;&nbsp;</span>equation system visualization</a></span></li></ul></li></ul></div>"
   ]
  },
  {
   "cell_type": "markdown",
   "metadata": {},
   "source": [
    "# housekeeping\n",
    "This notebook is for analytically (2nd attempt) solving parameters in the set of ODEs for eco-bioelectric cell (EBC).\n",
    "\n",
    "## languages & packages\n",
    "Julia-lang 1.3.1: `PyCall` (1.91.2), `DataFrames` (0.20.0), `SymPy` (1.0.18)\n",
    "\n",
    "## env set-up"
   ]
  },
  {
   "cell_type": "code",
   "execution_count": 1,
   "metadata": {
    "ExecuteTime": {
     "end_time": "2020-03-13T22:45:34.609000Z",
     "start_time": "2020-03-13T22:44:53.655Z"
    }
   },
   "outputs": [
    {
     "name": "stdout",
     "output_type": "stream",
     "text": [
      "\n"
     ]
    }
   ],
   "source": [
    "using PyCall, DataFrames, SymPy\n",
    "sympy.init_printing() ## use other py3 function not implemented in native Julia-lang, http://mth229.github.io/symbolic.html\n",
    "println()"
   ]
  },
  {
   "cell_type": "code",
   "execution_count": 2,
   "metadata": {
    "ExecuteTime": {
     "end_time": "2020-03-13T22:45:41.041000Z",
     "start_time": "2020-03-13T22:44:53.659Z"
    }
   },
   "outputs": [
    {
     "data": {
      "text/plain": [
       "(C, P, B, K_P, g_P, e_P, R_P, m_P, g_B, e_B, R_B, m_B)"
      ]
     },
     "execution_count": 2,
     "metadata": {},
     "output_type": "execute_result"
    }
   ],
   "source": [
    "C,P,B,K_P, g_P,e_P,R_P,m_P, g_B,e_B,R_B,m_B = symbols(\"C P B K_P g_P e_P R_P m_P g_B e_B R_B m_B\", positive=true)"
   ]
  },
  {
   "cell_type": "markdown",
   "metadata": {},
   "source": [
    "## parameters\n",
    "symbol | unit | meaning\n",
    "--- | --- | ---\n",
    "$C$ | kgCm$^-3$ | system organic __C__arbon pool concentration\n",
    "$P$ | kgCm$^-3$ | system __P__hytoplankton Carbon pool concentration\n",
    "$B$ | kgCm$^-3$ | system _E. coli_ (__B__acteria) Carbon pool concentration\n",
    "$K_P$ | kgCm$^-3$ | system phytoplankton Carbon pool carrying capacity\n",
    "$g_P$ | t$^{-1}$ | growth rate of $P$\n",
    "$e_P$ | no | carbon assimilation efficiency of $P$\n",
    "$R_P$ | t$^{-1}$ | respiration rate of $P$\n",
    "$m_P$ | t$^{-1}$ | death rate of $P$\n",
    "$g_B$ | m$^3$(kgC$\\cdot$t)$^{-1}$ | growth rate per $B$ pool concentration unit\n",
    "$e_B$ | no | absorption efficiency of $B$\n",
    "$R_B$ | t$^{-1}$ | respiration rate of $B$\n",
    "$m_B$ | t$^{-1}$ | death rate of $B$\n",
    "\n",
    "## equation system\n",
    "\\begin{equation}\n",
    "\\left\\{\\begin{array}{rl}\n",
    "C'(t) &= (g_P(1-\\varepsilon_P)\\left(1-\\frac{P}{K_P}\\right) + m_P)P + (g_B(1-\\varepsilon_B)C + m_B)B\\\\\n",
    "P'(t) &= (g_P\\varepsilon_P \\left(1-\\frac{P}{K_P}\\right) - R_P - m_P)P\\\\\n",
    "B'(t) &= (g_B\\varepsilon_BC - R_B - m_B)B\\\\\n",
    "\\end{array}\\right.\n",
    "\\end{equation}\n",
    "\n",
    "## equation system visualization\n",
    "![](graph/ebc5.png)"
   ]
  },
  {
   "cell_type": "markdown",
   "metadata": {},
   "source": [
    "# numeric solve"
   ]
  },
  {
   "cell_type": "code",
   "execution_count": 3,
   "metadata": {
    "ExecuteTime": {
     "end_time": "2020-03-13T22:45:42.301000Z",
     "start_time": "2020-03-13T22:44:54.416Z"
    }
   },
   "outputs": [
    {
     "data": {
      "text/latex": [
       "\\begin{equation*}B \\left(C e_{B} g_{B} - R_{B} - m_{B}\\right) = 0\\end{equation*}"
      ],
      "text/plain": [
       "B⋅(C⋅e_B⋅g_B - R_B - m_B) = 0"
      ]
     },
     "execution_count": 3,
     "metadata": {},
     "output_type": "execute_result"
    }
   ],
   "source": [
    "C_eqm = Eq((g_P*(1 -e_P)*(1 -P/K_P) +m_P)*P + (g_B*(1 -e_B)*C +m_B)*B, 0)\n",
    "P_eqm = Eq((g_P*e_P*(1 -P/K_P) -R_P -m_P)*P, 0)\n",
    "B_eqm = Eq((g_B*e_B*C -R_B -m_B)*B, 0)"
   ]
  },
  {
   "cell_type": "markdown",
   "metadata": {},
   "source": [
    "## whole ODE system"
   ]
  },
  {
   "cell_type": "code",
   "execution_count": 4,
   "metadata": {
    "ExecuteTime": {
     "end_time": "2020-03-13T22:45:51.536000Z",
     "start_time": "2020-03-13T22:44:54.785Z"
    }
   },
   "outputs": [
    {
     "data": {
      "text/html": [
       "<table class=\"data-frame\"><thead><tr><th></th><th>var</th><th>value</th></tr><tr><th></th><th>String</th><th>Sym</th></tr></thead><tbody><p>3 rows × 2 columns</p><tr><th>1</th><td>C</td><td>(R_B + m_B)/(e_B*g_B)</td></tr><tr><th>2</th><td>P</td><td>-K_P*(R_P - e_P*g_P + m_P)/(e_P*g_P)</td></tr><tr><th>3</th><td>B</td><td>K_P*e_B*(R_P - e_P*g_P + m_P)*(R_P*e_P - R_P - m_P)/(e_P^2*g_P*(R_B*e_B - R_B - m_B))</td></tr></tbody></table>"
      ],
      "text/latex": [
       "\\begin{tabular}{r|cc}\n",
       "\t& var & value\\\\\n",
       "\t\\hline\n",
       "\t& String & Sym\\\\\n",
       "\t\\hline\n",
       "\t1 & C & \\begin{equation*}\\frac{R_{B} + m_{B}}{e_{B} g_{B}}\\end{equation*} \\\\\n",
       "\t2 & P & \\begin{equation*}- \\frac{K_{P} \\left(R_{P} - e_{P} g_{P} + m_{P}\\right)}{e_{P} g_{P}}\\end{equation*} \\\\\n",
       "\t3 & B & \\begin{equation*}\\frac{K_{P} e_{B} \\left(R_{P} - e_{P} g_{P} + m_{P}\\right) \\left(R_{P} e_{P} - R_{P} - m_{P}\\right)}{e_{P}^{2} g_{P} \\left(R_{B} e_{B} - R_{B} - m_{B}\\right)}\\end{equation*} \\\\\n",
       "\\end{tabular}\n"
      ],
      "text/plain": [
       "3×2 DataFrame. Omitted printing of 1 columns\n",
       "│ Row │ var    │\n",
       "│     │ \u001b[90mString\u001b[39m │\n",
       "├─────┼────────┤\n",
       "│ 1   │ C      │\n",
       "│ 2   │ P      │\n",
       "│ 3   │ B      │"
      ]
     },
     "execution_count": 4,
     "metadata": {},
     "output_type": "execute_result"
    }
   ],
   "source": [
    "sol = solve([C_eqm, P_eqm, B_eqm], [C, P, B])\n",
    "DataFrame(\n",
    "    var = [\"C\",\"P\",\"B\"],\n",
    "    value = [sol[1][1],sol[1][2],sol[1][3]]\n",
    ")"
   ]
  },
  {
   "cell_type": "code",
   "execution_count": 5,
   "metadata": {
    "ExecuteTime": {
     "end_time": "2020-03-13T22:45:51.671000Z",
     "start_time": "2020-03-13T22:44:54.791Z"
    }
   },
   "outputs": [
    {
     "data": {
      "text/latex": [
       "\\begin{equation*}\\frac{R_{B} + m_{B}}{e_{B} g_{B}}\\end{equation*}"
      ],
      "text/plain": [
       "R_B + m_B\n",
       "─────────\n",
       " e_B⋅g_B "
      ]
     },
     "execution_count": 5,
     "metadata": {},
     "output_type": "execute_result"
    }
   ],
   "source": [
    "sol[1][1] # C"
   ]
  },
  {
   "cell_type": "markdown",
   "metadata": {},
   "source": [
    "So $g_B$, $e_B$, $R_B$, $m_B$ can be any values within predefined ranges"
   ]
  },
  {
   "cell_type": "code",
   "execution_count": 6,
   "metadata": {
    "ExecuteTime": {
     "end_time": "2020-03-13T22:45:51.743000Z",
     "start_time": "2020-03-13T22:44:55.143Z"
    }
   },
   "outputs": [
    {
     "data": {
      "text/latex": [
       "\\begin{equation*}- \\frac{K_{P} \\left(R_{P} - e_{P} g_{P} + m_{P}\\right)}{e_{P} g_{P}} = 0\\end{equation*}"
      ],
      "text/plain": [
       "-K_P⋅(R_P - e_P⋅g_P + m_P)     \n",
       "─────────────────────────── = 0\n",
       "          e_P⋅g_P              "
      ]
     },
     "execution_count": 6,
     "metadata": {},
     "output_type": "execute_result"
    }
   ],
   "source": [
    "P0 = Eq(sol[1][2],0) # P"
   ]
  },
  {
   "cell_type": "code",
   "execution_count": 7,
   "metadata": {
    "ExecuteTime": {
     "end_time": "2020-03-13T22:45:53.544000Z",
     "start_time": "2020-03-13T22:44:55.146Z"
    }
   },
   "outputs": [
    {
     "data": {
      "text/plain": [
       "1-element Array{NTuple{5,Sym},1}:\n",
       " ((R_P + m_P)/e_P, e_P, R_P, m_P, K_P)"
      ]
     },
     "execution_count": 7,
     "metadata": {},
     "output_type": "execute_result"
    }
   ],
   "source": [
    "solve(P0, [g_P,e_P,R_P,m_P,K_P])"
   ]
  },
  {
   "cell_type": "markdown",
   "metadata": {},
   "source": [
    "[default sol'n]: $e_P$, $R_P$, $m_P$, $K_P$ can be any value; $g_P$ can only be larger than ($\\dfrac{R_P+m_P}{e_P}$)  \n",
    "Or other equivalent alternatives  \n",
    "__NOTE__: a fast-growing, high-efficiency phytoplankton is preferred & advantageous"
   ]
  },
  {
   "cell_type": "code",
   "execution_count": 8,
   "metadata": {
    "ExecuteTime": {
     "end_time": "2020-03-13T22:45:53.564000Z",
     "start_time": "2020-03-13T22:44:55.500Z"
    }
   },
   "outputs": [
    {
     "data": {
      "text/latex": [
       "\\begin{equation*}\\frac{K_{P} e_{B} \\left(R_{P} - e_{P} g_{P} + m_{P}\\right) \\left(R_{P} e_{P} - R_{P} - m_{P}\\right)}{e_{P}^{2} g_{P} \\left(R_{B} e_{B} - R_{B} - m_{B}\\right)} = 0\\end{equation*}"
      ],
      "text/plain": [
       "K_P⋅e_B⋅(R_P - e_P⋅g_P + m_P)⋅(R_P⋅e_P - R_P - m_P)    \n",
       "─────────────────────────────────────────────────── = 0\n",
       "              2                                        \n",
       "           e_P ⋅g_P⋅(R_B⋅e_B - R_B - m_B)              "
      ]
     },
     "execution_count": 8,
     "metadata": {},
     "output_type": "execute_result"
    }
   ],
   "source": [
    "B0 = Eq(sol[1][3],0) # B"
   ]
  },
  {
   "cell_type": "code",
   "execution_count": 9,
   "metadata": {
    "ExecuteTime": {
     "end_time": "2020-03-13T22:45:55.161000Z",
     "start_time": "2020-03-13T22:44:55.503Z"
    }
   },
   "outputs": [
    {
     "data": {
      "text/plain": [
       "2-element Array{NTuple{10,Sym},1}:\n",
       " (C, P, g_P, e_P, m_P/(e_P - 1), m_P, g_B, e_B, R_B, m_B)\n",
       " (C, P, g_P, e_P, e_P*g_P - m_P, m_P, g_B, e_B, R_B, m_B)"
      ]
     },
     "execution_count": 9,
     "metadata": {},
     "output_type": "execute_result"
    }
   ],
   "source": [
    "solve(B0, [C,P, g_P,e_P,R_P,m_P, g_B,e_B,R_B,m_B])"
   ]
  },
  {
   "cell_type": "markdown",
   "metadata": {},
   "source": [
    "Two eqm positions exist for $B$ > 0  \n",
    "All but one parameters can take any values  \n",
    "$R_P$ can only be either ($\\dfrac{m_P}{e_P-1}$) or ($e_P*g_P-m_P$); however ($\\dfrac{m_P}{e_P-1}$) < 0 $\\because$ 0 $\\leq e_P\\leq$ 1, so the only solution is ($e_P*g_P-m_P$) with ($e_P*g_P$) > $m_P$ (the former solution has to be rejected as $R_P$ is a non-negative number)  \n",
    "__NOTE__: the above deduction also favours high growth rate high efficiency low death rate phytoplankton lineages"
   ]
  },
  {
   "cell_type": "markdown",
   "metadata": {},
   "source": [
    "## $P$ & partial-$C$ equation isolation"
   ]
  },
  {
   "cell_type": "code",
   "execution_count": 10,
   "metadata": {
    "ExecuteTime": {
     "end_time": "2020-03-13T22:45:56.163000Z",
     "start_time": "2020-03-13T22:44:56.131Z"
    }
   },
   "outputs": [
    {
     "data": {
      "text/plain": [
       "0-element Array{Any,1}"
      ]
     },
     "execution_count": 10,
     "metadata": {},
     "output_type": "execute_result"
    }
   ],
   "source": [
    "C_eqmP = Eq((g_P*(1 -e_P)*(1 -P/K_P) +m_P)*P, 0)\n",
    "sol = solve([C_eqmP, P_eqm], [C, P])"
   ]
  },
  {
   "cell_type": "markdown",
   "metadata": {},
   "source": [
    "## $B$ & partial-$C$ equation isolation"
   ]
  },
  {
   "cell_type": "code",
   "execution_count": 11,
   "metadata": {
    "ExecuteTime": {
     "end_time": "2020-03-13T22:45:56.226000Z",
     "start_time": "2020-03-13T22:44:56.447Z"
    }
   },
   "outputs": [
    {
     "data": {
      "text/plain": [
       "0-element Array{Any,1}"
      ]
     },
     "execution_count": 11,
     "metadata": {},
     "output_type": "execute_result"
    }
   ],
   "source": [
    "C_eqmB = Eq((g_B*(1 -e_B)*C +m_B)*B, 0)\n",
    "sol = solve([C_eqmB, B_eqm], [C, B])"
   ]
  },
  {
   "cell_type": "markdown",
   "metadata": {},
   "source": [
    "# conclusion\n",
    "From above numeric analysis, the system only limits the use of phytoplankton lineages.  High growth rate, high carbon-assimilation efficiency (i.e. low leakage) and low death rate lineages are required.  \n",
    "On the other hand, flexible _E. coli_ limits are observed.  Hence the idea of incorporating high CUE phytoplankton, low CUE _E. coli_ works, as long as electricity generation calculation also allows low CUE _E. coli_ to serve.\n",
    "\n",
    "# ODE system variation\n",
    "## parameters\n",
    "symbol | unit | meaning\n",
    "--- | --- | ---\n",
    "$C$ | kgCm$^-3$ | system organic __C__arbon pool concentration\n",
    "$P$ | kgCm$^-3$ | system __P__hytoplankton Carbon pool concentration\n",
    "$B$ | kgCm$^-3$ | system _E. coli_ (__B__acteria) Carbon pool concentration\n",
    "$a_P$ | $m^3(kgC)^{-1}$ | intraspecific density dependence coefficient\n",
    "$g_P$ | t$^{-1}$ | growth rate of $P$\n",
    "$e_P$ | no | carbon assimilation efficiency of $P$\n",
    "$R_P$ | t$^{-1}$ | respiration rate of $P$\n",
    "$m_P$ | t$^{-1}$ | death rate of $P$\n",
    "$g_B$ | m$^3$(kgC$\\cdot$t)$^{-1}$ | growth rate per $B$ pool concentration unit\n",
    "$e_B$ | no | absorption efficiency of $B$\n",
    "$R_B$ | t$^{-1}$ | respiration rate of $B$\n",
    "$m_B$ | t$^{-1}$ | death rate of $B$\n",
    "\n",
    "## equation system\n",
    "\\begin{equation}\n",
    "\\left\\{\\begin{array}{rl}\n",
    "C'(t) &= (g_P(1-\\varepsilon_P) + a_PP + m_P)P + (g_B(1-\\varepsilon_B)C + m_B)B\\\\\n",
    "P'(t) &= (g_P\\varepsilon_P - a_PP - R_P - m_P)P\\\\\n",
    "B'(t) &= (g_B\\varepsilon_BC - R_B - m_B)B\\\\\n",
    "\\end{array}\\right.\n",
    "\\end{equation}\n",
    "\n",
    "## equation system visualization\n",
    "![](graph/ebc6.png)"
   ]
  },
  {
   "cell_type": "code",
   "execution_count": null,
   "metadata": {},
   "outputs": [],
   "source": []
  }
 ],
 "metadata": {
  "kernelspec": {
   "display_name": "Julia 1.3.1",
   "language": "julia",
   "name": "julia-1.3"
  },
  "language_info": {
   "file_extension": ".jl",
   "mimetype": "application/julia",
   "name": "julia",
   "version": "1.3.1"
  },
  "latex_envs": {
   "LaTeX_envs_menu_present": true,
   "autoclose": true,
   "autocomplete": true,
   "bibliofile": "biblio.bib",
   "cite_by": "apalike",
   "current_citInitial": 1,
   "eqLabelWithNumbers": true,
   "eqNumInitial": 1,
   "hotkeys": {
    "equation": "Ctrl-E",
    "itemize": "Ctrl-I"
   },
   "labels_anchors": false,
   "latex_user_defs": false,
   "report_style_numbering": true,
   "user_envs_cfg": true
  },
  "toc": {
   "base_numbering": 1,
   "nav_menu": {},
   "number_sections": true,
   "sideBar": true,
   "skip_h1_title": false,
   "title_cell": "Table of Contents",
   "title_sidebar": "Contents",
   "toc_cell": true,
   "toc_position": {},
   "toc_section_display": true,
   "toc_window_display": true
  },
  "varInspector": {
   "cols": {
    "lenName": 16,
    "lenType": 16,
    "lenVar": 40
   },
   "kernels_config": {
    "python": {
     "delete_cmd_postfix": "",
     "delete_cmd_prefix": "del ",
     "library": "var_list.py",
     "varRefreshCmd": "print(var_dic_list())"
    },
    "r": {
     "delete_cmd_postfix": ") ",
     "delete_cmd_prefix": "rm(",
     "library": "var_list.r",
     "varRefreshCmd": "cat(var_dic_list()) "
    }
   },
   "types_to_exclude": [
    "module",
    "function",
    "builtin_function_or_method",
    "instance",
    "_Feature"
   ],
   "window_display": true
  }
 },
 "nbformat": 4,
 "nbformat_minor": 4
}
