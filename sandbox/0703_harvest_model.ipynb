{
 "cells": [
  {
   "cell_type": "markdown",
   "metadata": {
    "toc": true
   },
   "source": [
    "<h1>Table of Contents<span class=\"tocSkip\"></span></h1>\n",
    "<div class=\"toc\"><ul class=\"toc-item\"><li><span><a href=\"#model-restructure\" data-toc-modified-id=\"model-restructure-1\"><span class=\"toc-item-num\">1&nbsp;&nbsp;</span>model restructure</a></span></li><li><span><a href=\"#analytical-solution-deduction\" data-toc-modified-id=\"analytical-solution-deduction-2\"><span class=\"toc-item-num\">2&nbsp;&nbsp;</span>analytical solution deduction</a></span></li><li><span><a href=\"#integration-trial\" data-toc-modified-id=\"integration-trial-3\"><span class=\"toc-item-num\">3&nbsp;&nbsp;</span>integration trial</a></span></li></ul></div>"
   ]
  },
  {
   "cell_type": "markdown",
   "metadata": {},
   "source": [
    "# model restructure"
   ]
  },
  {
   "cell_type": "code",
   "execution_count": 1,
   "metadata": {
    "ExecuteTime": {
     "end_time": "2020-07-03T23:35:58.568366Z",
     "start_time": "2020-07-03T23:35:57.289007Z"
    }
   },
   "outputs": [],
   "source": [
    "import scipy as sc\n",
    "import scipy.integrate as itg\n",
    "import matplotlib.pylab as plt\n",
    "import sympy as sp\n",
    "sp.init_printing()"
   ]
  },
  {
   "cell_type": "code",
   "execution_count": 2,
   "metadata": {
    "ExecuteTime": {
     "end_time": "2020-07-03T23:35:58.588816Z",
     "start_time": "2020-07-03T23:35:58.572899Z"
    }
   },
   "outputs": [],
   "source": [
    "def cpb(Den,t,x,ePR,eP,gP,aP,eBR,eB,gB,mB):\n",
    "    ## variable sorting\n",
    "    C = Den[0]\n",
    "    P = Den[1]\n",
    "    B = Den[2]\n",
    "    \n",
    "    ## rate calculation\n",
    "    dC = gP*ePR*(1-eP)*P + aP*P**2 + gB*(eBR*(1-eB)-1)*C*B + mB*B -x*C\n",
    "    dP = gP*ePR*eP*P - aP*P**2 - x*P\n",
    "    dB = gB*eBR*eB*C*B - mB*B - x*B\n",
    "    \n",
    "    return(sc.array([dC,dP,dB]))"
   ]
  },
  {
   "cell_type": "code",
   "execution_count": 3,
   "metadata": {
    "ExecuteTime": {
     "end_time": "2020-07-03T23:35:58.627773Z",
     "start_time": "2020-07-03T23:35:58.591984Z"
    }
   },
   "outputs": [],
   "source": [
    "C,P,B, x, e_PR,e_P,g_P,a_P, e_BR,e_B,g_B,m_B = sp.var('C,P,B, x, e_PR,e_P,g_P,a_P, e_BR,e_B,g_B,m_B', positive=True)\n",
    "dC = g_P*e_PR*(1-e_P)*P + a_P*P**2 + g_B*(e_BR*(1-e_B)-1)*C*B + m_B*B -x*C\n",
    "dP = g_P*e_PR*e_P*P - a_P*P**2 - x*P\n",
    "dB = g_B*e_BR*e_B*C*B - m_B*B - x*B"
   ]
  },
  {
   "cell_type": "markdown",
   "metadata": {},
   "source": [
    "# analytical solution deduction"
   ]
  },
  {
   "cell_type": "code",
   "execution_count": 4,
   "metadata": {
    "ExecuteTime": {
     "end_time": "2020-07-03T23:36:07.856662Z",
     "start_time": "2020-07-03T23:35:58.631393Z"
    }
   },
   "outputs": [
    {
     "data": {
      "image/png": "[encoded data removed]",
      "text/latex": [
       "$\\displaystyle \\left[ \\left( \\frac{m_{B} + x}{e_{B} e_{BR} g_{B}}, \\  - \\frac{- e_{P} e_{PR} g_{P} + x}{a_{P}}, \\  - \\frac{a_{P} m_{B} x + a_{P} x^{2} - e_{B} e_{BR} e_{P} e_{PR}^{2} g_{B} g_{P}^{2} + e_{B} e_{BR} e_{P} e_{PR} g_{B} g_{P} x + e_{B} e_{BR} e_{PR} g_{B} g_{P} x - e_{B} e_{BR} g_{B} x^{2}}{a_{P} e_{B} e_{BR} g_{B} x - a_{P} e_{BR} g_{B} m_{B} - a_{P} e_{BR} g_{B} x + a_{P} g_{B} m_{B} + a_{P} g_{B} x}\\right)\\right]$"
      ],
      "text/plain": [
       "⎡⎛                                      ⎛                 2                   \n",
       "⎢⎜  m_B + x     -(-e_P⋅e_PR⋅g_P + x)   -⎝a_P⋅m_B⋅x + a_P⋅x  - e_B⋅e_BR⋅e_P⋅e_P\n",
       "⎢⎜────────────, ─────────────────────, ───────────────────────────────────────\n",
       "⎣⎝e_B⋅e_BR⋅g_B           a_P                                  a_P⋅e_B⋅e_BR⋅g_B\n",
       "\n",
       " 2        2                                                                   \n",
       "R ⋅g_B⋅g_P  + e_B⋅e_BR⋅e_P⋅e_PR⋅g_B⋅g_P⋅x + e_B⋅e_BR⋅e_PR⋅g_B⋅g_P⋅x - e_B⋅e_BR\n",
       "──────────────────────────────────────────────────────────────────────────────\n",
       "⋅x - a_P⋅e_BR⋅g_B⋅m_B - a_P⋅e_BR⋅g_B⋅x + a_P⋅g_B⋅m_B + a_P⋅g_B⋅x              \n",
       "\n",
       "      2⎞ ⎞⎤\n",
       "⋅g_B⋅x ⎠ ⎟⎥\n",
       "─────────⎟⎥\n",
       "         ⎠⎦"
      ]
     },
     "execution_count": 4,
     "metadata": {},
     "output_type": "execute_result"
    }
   ],
   "source": [
    "sOl = sp.solve([sp.Eq(dC,0),sp.Eq(dP,0),sp.Eq(dB,0)],[C,P,B]);sOl"
   ]
  },
  {
   "cell_type": "code",
   "execution_count": 5,
   "metadata": {
    "ExecuteTime": {
     "end_time": "2020-07-03T23:36:08.695375Z",
     "start_time": "2020-07-03T23:36:07.861878Z"
    }
   },
   "outputs": [
    {
     "data": {
      "image/png": "[encoded data removed]",
      "text/latex": [
       "$\\displaystyle \\frac{- a_{P} m_{B} x - a_{P} x^{2} + e_{B} e_{BR} e_{P} e_{PR}^{2} g_{B} g_{P}^{2} - e_{B} e_{BR} e_{P} e_{PR} g_{B} g_{P} x - e_{B} e_{BR} e_{PR} g_{B} g_{P} x + e_{B} e_{BR} g_{B} x^{2}}{a_{P} g_{B} \\left(e_{B} e_{BR} x - e_{BR} m_{B} - e_{BR} x + m_{B} + x\\right)}$"
      ],
      "text/plain": [
       "                  2                    2        2                             \n",
       "-a_P⋅m_B⋅x - a_P⋅x  + e_B⋅e_BR⋅e_P⋅e_PR ⋅g_B⋅g_P  - e_B⋅e_BR⋅e_P⋅e_PR⋅g_B⋅g_P⋅\n",
       "──────────────────────────────────────────────────────────────────────────────\n",
       "                                     a_P⋅g_B⋅(e_B⋅e_BR⋅x - e_BR⋅m_B - e_BR⋅x +\n",
       "\n",
       "                                            2\n",
       "x - e_B⋅e_BR⋅e_PR⋅g_B⋅g_P⋅x + e_B⋅e_BR⋅g_B⋅x \n",
       "─────────────────────────────────────────────\n",
       " m_B + x)                                    "
      ]
     },
     "execution_count": 5,
     "metadata": {},
     "output_type": "execute_result"
    }
   ],
   "source": [
    "sp.simplify(sOl[0][2])"
   ]
  },
  {
   "cell_type": "code",
   "execution_count": 6,
   "metadata": {
    "ExecuteTime": {
     "end_time": "2020-07-03T23:36:08.719937Z",
     "start_time": "2020-07-03T23:36:08.701192Z"
    }
   },
   "outputs": [
    {
     "data": {
      "text/plain": [
       "array([ 7.27272727,  0.4277375 , -1.7219105 ])"
      ]
     },
     "execution_count": 6,
     "metadata": {},
     "output_type": "execute_result"
    }
   ],
   "source": [
    "vAr = (.1,.875,.63,.259,.1,.6,.55,.1,.14)\n",
    "x = vAr[0]\n",
    "ePR = vAr[1]; eP = vAr[2]; gP = vAr[3]; aP = vAr[4]\n",
    "eBR = vAr[5]; eB = vAr[6]; gB = vAr[7]; mB = vAr[8]\n",
    "eQ = sc.array([(mB+x)/(eB*eBR*gB),(eP*ePR*gP-x)/aP,(eBR*eB*gB*(x*(x-ePR*gP*(eP+1))+eP*(ePR*gP)**2)-aP*x*(mB+x))/(aP*gB*(eBR*(x*(eB-1)-mB)+mB+x))])\n",
    "eQ"
   ]
  },
  {
   "cell_type": "markdown",
   "metadata": {},
   "source": [
    "# integration trial"
   ]
  },
  {
   "cell_type": "code",
   "execution_count": 7,
   "metadata": {
    "ExecuteTime": {
     "end_time": "2020-07-03T23:36:08.733318Z",
     "start_time": "2020-07-03T23:36:08.725549Z"
    }
   },
   "outputs": [],
   "source": [
    "t = sc.linspace(0,15,1000)\n",
    "den, infodict = itg.odeint(cpb, sc.array([.0000001,.0000001,.0000001]), t, full_output=True, args=vAr)"
   ]
  },
  {
   "cell_type": "code",
   "execution_count": 8,
   "metadata": {
    "ExecuteTime": {
     "end_time": "2020-07-03T23:36:09.087255Z",
     "start_time": "2020-07-03T23:36:08.738708Z"
    }
   },
   "outputs": [
    {
     "data": {
      "image/png": "[encoded data removed]",
      "text/plain": [
       "<Figure size 432x288 with 1 Axes>"
      ]
     },
     "metadata": {
      "needs_background": "light"
     },
     "output_type": "display_data"
    }
   ],
   "source": [
    "f1 = plt.figure()\n",
    "plt.plot(t,den[:,0], 'b-', label='organic carbon')\n",
    "plt.plot(t,den[:,1], 'g-', label='phytoplankton')\n",
    "plt.plot(t,den[:,2], 'r-', label='bacteria')\n",
    "plt.plot([t[len(t)-1],t[len(t)-1],t[len(t)-1]],eQ, '.')\n",
    "plt.grid()\n",
    "plt.legend(loc='best')\n",
    "plt.xlabel('Time')\n",
    "plt.ylabel('density')\n",
    "plt.title('Harvest term on all components')\n",
    "plt.show()"
   ]
  }
 ],
 "metadata": {
  "kernelspec": {
   "display_name": "Python 3",
   "language": "python",
   "name": "python3"
  },
  "language_info": {
   "codemirror_mode": {
    "name": "ipython",
    "version": 2
   },
   "file_extension": ".py",
   "mimetype": "text/x-python",
   "name": "python",
   "nbconvert_exporter": "python",
   "pygments_lexer": "ipython2",
   "version": "2.7.17"
  },
  "toc": {
   "base_numbering": 1,
   "nav_menu": {},
   "number_sections": true,
   "sideBar": true,
   "skip_h1_title": false,
   "title_cell": "Table of Contents",
   "title_sidebar": "Contents",
   "toc_cell": true,
   "toc_position": {},
   "toc_section_display": true,
   "toc_window_display": true
  }
 },
 "nbformat": 4,
 "nbformat_minor": 2
}
