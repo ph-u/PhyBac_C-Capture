{
 "cells": [
  {
   "cell_type": "markdown",
   "metadata": {
    "slideshow": {
     "slide_type": "slide"
    },
    "toc": true
   },
   "source": [
    "<h1>Table of Contents<span class=\"tocSkip\"></span></h1>\n",
    "<div class=\"toc\"><ul class=\"toc-item\"><li><span><a href=\"#Closest-relative----ocean-mixed-layer-NPZD-model\" data-toc-modified-id=\"Closest-relative----ocean-mixed-layer-NPZD-model-1\"><span class=\"toc-item-num\">1&nbsp;&nbsp;</span>Closest relative -- ocean mixed layer NPZD model</a></span></li><li><span><a href=\"#Carbon-cycle-model-outline\" data-toc-modified-id=\"Carbon-cycle-model-outline-2\"><span class=\"toc-item-num\">2&nbsp;&nbsp;</span>Carbon cycle model outline</a></span><ul class=\"toc-item\"><li><span><a href=\"#ODEs\" data-toc-modified-id=\"ODEs-2.1\"><span class=\"toc-item-num\">2.1&nbsp;&nbsp;</span>ODEs</a></span></li><li><span><a href=\"#Model-visualization\" data-toc-modified-id=\"Model-visualization-2.2\"><span class=\"toc-item-num\">2.2&nbsp;&nbsp;</span>Model visualization</a></span></li><li><span><a href=\"#Table-of-parameters\" data-toc-modified-id=\"Table-of-parameters-2.3\"><span class=\"toc-item-num\">2.3&nbsp;&nbsp;</span>Table of parameters</a></span></li></ul></li><li><span><a href=\"#Carbon-cycle-model-validation\" data-toc-modified-id=\"Carbon-cycle-model-validation-3\"><span class=\"toc-item-num\">3&nbsp;&nbsp;</span>Carbon cycle model validation</a></span></li></ul></div>"
   ]
  },
  {
   "cell_type": "code",
   "execution_count": 1,
   "metadata": {
    "ExecuteTime": {
     "end_time": "2020-03-02T10:46:21.424000Z",
     "start_time": "2020-03-02T10:45:43.635Z"
    },
    "slideshow": {
     "slide_type": "notes"
    }
   },
   "outputs": [
    {
     "name": "stdout",
     "output_type": "stream",
     "text": [
      "\n"
     ]
    }
   ],
   "source": [
    "using RCall, PyCall, Plots, ProgressMeter, DataFrames\n",
    "mt = pyimport(\"math\")\n",
    "sc = pyimport(\"scipy\")\n",
    "cst = pyimport(\"scipy.constants\")\n",
    "itg = pyimport(\"scipy.integrate\")\n",
    "R\"cbp<-c('#000000', '#E69F00', '#56B4E9', '#009E73', '#0072B2', '#D55E00', '#CC79A7', '#e79f00', '#9ad0f3', '#F0E442', '#999999', '#cccccc', '#6633ff', '#00FFCC', '#0066cc')\"\n",
    "println()"
   ]
  },
  {
   "cell_type": "markdown",
   "metadata": {
    "slideshow": {
     "slide_type": "slide"
    }
   },
   "source": [
    "# Closest relative -- ocean mixed layer NPZD model\n",
    "![](graph/model_01_r.png)"
   ]
  },
  {
   "cell_type": "markdown",
   "metadata": {
    "slideshow": {
     "slide_type": "fragment"
    }
   },
   "source": [
    "NPZD model is a phenomenological ordinary differential equation (ODE) model in ocean science focus on describing the population dynamics of four major biochemical engines powering the oceanic carbon cycle system.  The nutrient pool (denoted by [$N$]) is consisting of inorganic nutrient essential for phytoplankton population growth.  Phytoplankton population (denoted by [$P$]) is assumed only one type of phytoplankton, grow by absorbing $N$ and is the food source of zooplankton (denoted by [$Z$]).  $Z$ is assumed only one type of zooplankton, food sources are including $P$ and detritus/organic matter (denoted by [$D$]) for its population growth.  $Z$ can only absorb nutrient through digestion of detritus into inorganic nutrient.  Due to the non-perfect absorption system, some \"digested but not absorbed\" inorganic chemical species can escape from zooplankton bodies and contribute to the $N$ pool.  For the $D$ pool, it is a collection of organic matter, including and mostly consist of cellular leftovers (i.e. dead cells from $P$ and $Z$).  It is a food source for $Z$, completing the microscopic oceanic carbon cycle."
   ]
  },
  {
   "cell_type": "markdown",
   "metadata": {
    "slideshow": {
     "slide_type": "slide"
    }
   },
   "source": [
    "\\begin{equation}\n",
    "\\left\\{\\begin{array}{rl}\n",
    "    N'(t) &= -\\mu_PP + \\beta_Z(1-k_{NZ})(G_P+G_D) + m_DD + (a_NZ + b_N - N)\\cdot\\dfrac{\\omega_{mix}H'(t)}{H(t)}\\\\\n",
    "    P'(t) &= \\mu_PP - G_P - m_PP - m_{P2}P^2 - P\\cdot\\dfrac{\\omega_{mix}H'(t)}{H(t)}\\\\\n",
    "    Z'(t) &= \\beta_Zk_N(G_P+G_D) - m_ZZ - m_{Z2}Z^2-Z\\cdot\\dfrac{\\omega_{mix}H'(t)}{H(t)}\\\\\n",
    "    D'(t) &= m_PP + m_{P2}P^2 + m_ZZ + (1-\\beta_Z)(G_P+G_D) - G_D - (m_D + \\dfrac{v_D}{H(t)})D -D\\cdot\\dfrac{\\omega_{mix}H'(t)}{H(t)}\n",
    "    \\end{array}\\right.\n",
    "\\end{equation}"
   ]
  },
  {
   "cell_type": "markdown",
   "metadata": {
    "slideshow": {
     "slide_type": "slide"
    }
   },
   "source": [
    "# Carbon cycle model outline"
   ]
  },
  {
   "cell_type": "markdown",
   "metadata": {
    "slideshow": {
     "slide_type": "fragment"
    }
   },
   "source": [
    "![](graph/DSC_0089.jpg)\n",
    "max CUE in phytoplankton (C-sequestration); min CUE in bacteria (max electricity generation)"
   ]
  },
  {
   "cell_type": "markdown",
   "metadata": {
    "slideshow": {
     "slide_type": "slide"
    }
   },
   "source": [
    "## ODEs\n",
    "By assuming conditions\n",
    "1. light saturating\n",
    "2. nutrient saturating\n",
    "\n",
    "three carbon sinks (in unit $kgCm^{-3}t^{-1}$) are investigated and labeled \"phytoplankton\", \"bacteria / E coli\" and \"detritus / organic matter\".  \n",
    "The expected ODE equations are as follow:\n",
    "\\begin{equation}\n",
    "    \\left\\{\\begin{array}{rl}\n",
    "    [phy]'(t) &= (g_P\\varepsilon_P - R_P - m_P)[phy]\\\\\n",
    "    [mtr]'(t) &= (g_P(1-\\varepsilon_P) + m_P)[phy] + (g_e(1-\\varepsilon_e)[mtr] + m_e)[eco]\\\\\n",
    "    [eco]'(t) &= (g_e\\varepsilon_e[mtr] - R_e - m_e)[eco]\\\\\n",
    "\\end{array}\\right.\n",
    "\\end{equation}\n",
    "or\n",
    "\\begin{equation}\n",
    "    \\left\\{\\begin{array}{rl}\n",
    "    [phy]'(t) &= g_P\\varepsilon_P[phy] - R_P[phy] - m_P[phy]\\\\\n",
    "    [mtr]'(t) &= g_P(1-\\varepsilon_P)[phy] + m_P[phy] + g_e(1-\\varepsilon_e)[eco][mtr] + m_e[eco]\\\\\n",
    "    [eco]'(t) &= g_e\\varepsilon_e[eco][mtr] - R_e[eco] - m_e[eco]\\\\\n",
    "\\end{array}\\right.\n",
    "\\end{equation}"
   ]
  },
  {
   "cell_type": "markdown",
   "metadata": {
    "slideshow": {
     "slide_type": "slide"
    }
   },
   "source": [
    "## Model visualization\n",
    "![](graph/PBD_00.png)"
   ]
  },
  {
   "cell_type": "markdown",
   "metadata": {
    "slideshow": {
     "slide_type": "slide"
    }
   },
   "source": [
    "## Table of parameters\n",
    "notation | unit | value | range | meaning\n",
    "--- | --- | --- | --- | ---\n",
    "phy | $\\dfrac{kgC}{m^3}$ | ? | +ve | biomass concentration of carbon in phytoplankton\n",
    "mtr | $\\dfrac{kgC}{m^3}$ | ? | +ve | concentration of carbon in detritus / organic matter (i.e. D in photo)\n",
    "eco | $\\dfrac{kgC}{m^3}$ | ? | +ve | biomass concentration of carbon in detritivore / _E. coli_ (i.e. B in photo)\n",
    "$g_P$ | $t^{-1}$ | ? | +ve | pure growth rate of phytoplankton (i.e. $g$ in photo)\n",
    "$\\varepsilon_P$ | no | ? | 0-1 | retention efficiency of atmospheric carbon inside phytoplankton cells (i.e. $\\varepsilon$ in photo)\n",
    "$R_P$ | $t^{-1}$ | ? | +ve | respiration rate of phytoplankton (i.e. $R$ in photo)\n",
    "$m_P$ | $t^{-1}$ | ? | +ve | death rate of phytoplankton (i.e. $m$ in photo)\n",
    "$g_e$ | $t^{-1}$ | ? | +ve | pure growth rate of detritivore (i.e. $g_2$ in photo)\n",
    "$\\varepsilon_e$ | no | ? | 0-1 | absorption efficiency of organic carbon inside _E. coli_ cells ($\\varepsilon_2$ in photo)\n",
    "$R_e$ | $t^{-1}$ | ? | +ve | respiration rate of detritivore (i.e. $R_2$ in photo)\n",
    "$m_e$ | $t^{-1}$ | ? | +ve | death rate of detritivore (i.e. $m_2$ in photo)"
   ]
  },
  {
   "cell_type": "markdown",
   "metadata": {
    "slideshow": {
     "slide_type": "slide"
    }
   },
   "source": [
    "# Carbon cycle model validation"
   ]
  },
  {
   "cell_type": "code",
   "execution_count": 2,
   "metadata": {
    "ExecuteTime": {
     "end_time": "2020-03-02T10:46:28.329000Z",
     "start_time": "2020-03-02T10:45:45.672Z"
    },
    "slideshow": {
     "slide_type": "fragment"
    }
   },
   "outputs": [
    {
     "data": {
      "text/plain": [
       "ebc0 (generic function with 1 method)"
      ]
     },
     "execution_count": 2,
     "metadata": {},
     "output_type": "execute_result"
    }
   ],
   "source": [
    "function ebc0(popDen, t, gp,ep,Rp,mp, gc,ec,Rc,mc)\n",
    "    \n",
    "    ## population densities\n",
    "    P = popDen[:1]\n",
    "    M = popDen[:2]\n",
    "    C = popDen[:3]\n",
    "    \n",
    "    ## numerical adaptation to net growth\n",
    "    gp = 1+gp\n",
    "    gc = 1+gc\n",
    "    \n",
    "    ## fluctuation model\n",
    "    dp = P*(gp*ep - Rp - mp)\n",
    "    dm = P*(gp*(1-ep) + mp) + C*(gc*(1-ec)*M + mc)\n",
    "    dc = C*(gc*ec*M - Rc - mc)\n",
    "    \n",
    "    ## non-recoverable elimination\n",
    "    if P <=0; dp=0;end\n",
    "    if C <=0; dc=0;end\n",
    "    \n",
    "    return(sc.array([dp,dm,dc]))\n",
    "end"
   ]
  },
  {
   "cell_type": "code",
   "execution_count": 6,
   "metadata": {
    "ExecuteTime": {
     "end_time": "2020-03-02T10:47:36.227000Z",
     "start_time": "2020-03-02T10:47:20.731Z"
    },
    "slideshow": {
     "slide_type": "subslide"
    }
   },
   "outputs": [
    {
     "data": {
      "image/svg+xml": [
       "<?xml version=\"1.0\" encoding=\"utf-8\"?>\n",
       "<svg xmlns=\"http://www.w3.org/2000/svg\" xmlns:xlink=\"http://www.w3.org/1999/xlink\" width=\"600\" height=\"400\" viewBox=\"0 0 2400 1600\">\n",
       "<defs>\n",
       "  <clipPath id=\"clip9400\">\n",
       "    <rect x=\"0\" y=\"0\" width=\"2400\" height=\"1600\"/>\n",
       "  </clipPath>\n",
       "</defs>\n",
       "<path clip-path=\"url(#clip9400)\" d=\"\n",
       "M0 1600 L2400 1600 L2400 0 L0 0  Z\n",
       "  \" fill=\"#ffffff\" fill-rule=\"evenodd\" fill-opacity=\"1\"/>\n",
       "<defs>\n",
       "  <clipPath id=\"clip9401\">\n",
       "    <rect x=\"480\" y=\"0\" width=\"1681\" height=\"1600\"/>\n",
       "  </clipPath>\n",
       "</defs>\n",
       "<path clip-path=\"url(#clip9400)\" d=\"\n",
       "M242.516 1425.62 L2352.76 1425.62 L2352.76 183.952 L242.516 183.952  Z\n",
       "  \" fill=\"#ffffff\" fill-rule=\"evenodd\" fill-opacity=\"1\"/>\n",
       "<defs>\n",
       "  <clipPath id=\"clip9402\">\n",
       "    <rect x=\"242\" y=\"183\" width=\"2111\" height=\"1243\"/>\n",
       "  </clipPath>\n",
       "</defs>\n",
       "<polyline clip-path=\"url(#clip9402)\" style=\"stroke:#000000; stroke-width:2; stroke-opacity:0.1; fill:none\" points=\"\n",
       "  282.131,1425.62 282.131,183.952 \n",
       "  \"/>\n",
       "<polyline clip-path=\"url(#clip9402)\" style=\"stroke:#000000; stroke-width:2; stroke-opacity:0.1; fill:none\" points=\"\n",
       "  784.856,1425.62 784.856,183.952 \n",
       "  \"/>\n",
       "<polyline clip-path=\"url(#clip9402)\" style=\"stroke:#000000; stroke-width:2; stroke-opacity:0.1; fill:none\" points=\"\n",
       "  1287.58,1425.62 1287.58,183.952 \n",
       "  \"/>\n",
       "<polyline clip-path=\"url(#clip9402)\" style=\"stroke:#000000; stroke-width:2; stroke-opacity:0.1; fill:none\" points=\"\n",
       "  1790.31,1425.62 1790.31,183.952 \n",
       "  \"/>\n",
       "<polyline clip-path=\"url(#clip9402)\" style=\"stroke:#000000; stroke-width:2; stroke-opacity:0.1; fill:none\" points=\"\n",
       "  2293.03,1425.62 2293.03,183.952 \n",
       "  \"/>\n",
       "<polyline clip-path=\"url(#clip9402)\" style=\"stroke:#000000; stroke-width:2; stroke-opacity:0.1; fill:none\" points=\"\n",
       "  242.516,1390.48 2352.76,1390.48 \n",
       "  \"/>\n",
       "<polyline clip-path=\"url(#clip9402)\" style=\"stroke:#000000; stroke-width:2; stroke-opacity:0.1; fill:none\" points=\"\n",
       "  242.516,1097.63 2352.76,1097.63 \n",
       "  \"/>\n",
       "<polyline clip-path=\"url(#clip9402)\" style=\"stroke:#000000; stroke-width:2; stroke-opacity:0.1; fill:none\" points=\"\n",
       "  242.516,804.785 2352.76,804.785 \n",
       "  \"/>\n",
       "<polyline clip-path=\"url(#clip9402)\" style=\"stroke:#000000; stroke-width:2; stroke-opacity:0.1; fill:none\" points=\"\n",
       "  242.516,511.94 2352.76,511.94 \n",
       "  \"/>\n",
       "<polyline clip-path=\"url(#clip9402)\" style=\"stroke:#000000; stroke-width:2; stroke-opacity:0.1; fill:none\" points=\"\n",
       "  242.516,219.094 2352.76,219.094 \n",
       "  \"/>\n",
       "<polyline clip-path=\"url(#clip9400)\" style=\"stroke:#000000; stroke-width:4; stroke-opacity:1; fill:none\" points=\"\n",
       "  242.516,1425.62 2352.76,1425.62 \n",
       "  \"/>\n",
       "<polyline clip-path=\"url(#clip9400)\" style=\"stroke:#000000; stroke-width:4; stroke-opacity:1; fill:none\" points=\"\n",
       "  242.516,1425.62 242.516,183.952 \n",
       "  \"/>\n",
       "<polyline clip-path=\"url(#clip9400)\" style=\"stroke:#000000; stroke-width:4; stroke-opacity:1; fill:none\" points=\"\n",
       "  282.131,1425.62 282.131,1410.72 \n",
       "  \"/>\n",
       "<polyline clip-path=\"url(#clip9400)\" style=\"stroke:#000000; stroke-width:4; stroke-opacity:1; fill:none\" points=\"\n",
       "  784.856,1425.62 784.856,1410.72 \n",
       "  \"/>\n",
       "<polyline clip-path=\"url(#clip9400)\" style=\"stroke:#000000; stroke-width:4; stroke-opacity:1; fill:none\" points=\"\n",
       "  1287.58,1425.62 1287.58,1410.72 \n",
       "  \"/>\n",
       "<polyline clip-path=\"url(#clip9400)\" style=\"stroke:#000000; stroke-width:4; stroke-opacity:1; fill:none\" points=\"\n",
       "  1790.31,1425.62 1790.31,1410.72 \n",
       "  \"/>\n",
       "<polyline clip-path=\"url(#clip9400)\" style=\"stroke:#000000; stroke-width:4; stroke-opacity:1; fill:none\" points=\"\n",
       "  2293.03,1425.62 2293.03,1410.72 \n",
       "  \"/>\n",
       "<polyline clip-path=\"url(#clip9400)\" style=\"stroke:#000000; stroke-width:4; stroke-opacity:1; fill:none\" points=\"\n",
       "  242.516,1390.48 267.839,1390.48 \n",
       "  \"/>\n",
       "<polyline clip-path=\"url(#clip9400)\" style=\"stroke:#000000; stroke-width:4; stroke-opacity:1; fill:none\" points=\"\n",
       "  242.516,1097.63 267.839,1097.63 \n",
       "  \"/>\n",
       "<polyline clip-path=\"url(#clip9400)\" style=\"stroke:#000000; stroke-width:4; stroke-opacity:1; fill:none\" points=\"\n",
       "  242.516,804.785 267.839,804.785 \n",
       "  \"/>\n",
       "<polyline clip-path=\"url(#clip9400)\" style=\"stroke:#000000; stroke-width:4; stroke-opacity:1; fill:none\" points=\"\n",
       "  242.516,511.94 267.839,511.94 \n",
       "  \"/>\n",
       "<polyline clip-path=\"url(#clip9400)\" style=\"stroke:#000000; stroke-width:4; stroke-opacity:1; fill:none\" points=\"\n",
       "  242.516,219.094 267.839,219.094 \n",
       "  \"/>\n",
       "<g clip-path=\"url(#clip9400)\">\n",
       "<text style=\"fill:#000000; fill-opacity:1; font-family:Arial,Helvetica Neue,Helvetica,sans-serif; font-size:48px; text-anchor:middle;\" transform=\"rotate(0, 282.131, 1479.62)\" x=\"282.131\" y=\"1479.62\">0</text>\n",
       "</g>\n",
       "<g clip-path=\"url(#clip9400)\">\n",
       "<text style=\"fill:#000000; fill-opacity:1; font-family:Arial,Helvetica Neue,Helvetica,sans-serif; font-size:48px; text-anchor:middle;\" transform=\"rotate(0, 784.856, 1479.62)\" x=\"784.856\" y=\"1479.62\">25</text>\n",
       "</g>\n",
       "<g clip-path=\"url(#clip9400)\">\n",
       "<text style=\"fill:#000000; fill-opacity:1; font-family:Arial,Helvetica Neue,Helvetica,sans-serif; font-size:48px; text-anchor:middle;\" transform=\"rotate(0, 1287.58, 1479.62)\" x=\"1287.58\" y=\"1479.62\">50</text>\n",
       "</g>\n",
       "<g clip-path=\"url(#clip9400)\">\n",
       "<text style=\"fill:#000000; fill-opacity:1; font-family:Arial,Helvetica Neue,Helvetica,sans-serif; font-size:48px; text-anchor:middle;\" transform=\"rotate(0, 1790.31, 1479.62)\" x=\"1790.31\" y=\"1479.62\">75</text>\n",
       "</g>\n",
       "<g clip-path=\"url(#clip9400)\">\n",
       "<text style=\"fill:#000000; fill-opacity:1; font-family:Arial,Helvetica Neue,Helvetica,sans-serif; font-size:48px; text-anchor:middle;\" transform=\"rotate(0, 2293.03, 1479.62)\" x=\"2293.03\" y=\"1479.62\">100</text>\n",
       "</g>\n",
       "<g clip-path=\"url(#clip9400)\">\n",
       "<text style=\"fill:#000000; fill-opacity:1; font-family:Arial,Helvetica Neue,Helvetica,sans-serif; font-size:48px; text-anchor:end;\" transform=\"rotate(0, 218.516, 1407.98)\" x=\"218.516\" y=\"1407.98\">0.0</text>\n",
       "</g>\n",
       "<g clip-path=\"url(#clip9400)\">\n",
       "<text style=\"fill:#000000; fill-opacity:1; font-family:Arial,Helvetica Neue,Helvetica,sans-serif; font-size:48px; text-anchor:end;\" transform=\"rotate(0, 218.516, 1115.13)\" x=\"218.516\" y=\"1115.13\">2.5</text>\n",
       "</g>\n",
       "<g clip-path=\"url(#clip9400)\">\n",
       "<text style=\"fill:#000000; fill-opacity:1; font-family:Arial,Helvetica Neue,Helvetica,sans-serif; font-size:48px; text-anchor:end;\" transform=\"rotate(0, 218.516, 822.285)\" x=\"218.516\" y=\"822.285\">5.0</text>\n",
       "</g>\n",
       "<g clip-path=\"url(#clip9400)\">\n",
       "<text style=\"fill:#000000; fill-opacity:1; font-family:Arial,Helvetica Neue,Helvetica,sans-serif; font-size:48px; text-anchor:end;\" transform=\"rotate(0, 218.516, 529.44)\" x=\"218.516\" y=\"529.44\">7.5</text>\n",
       "</g>\n",
       "<g clip-path=\"url(#clip9400)\">\n",
       "<text style=\"fill:#000000; fill-opacity:1; font-family:Arial,Helvetica Neue,Helvetica,sans-serif; font-size:48px; text-anchor:end;\" transform=\"rotate(0, 218.516, 236.594)\" x=\"218.516\" y=\"236.594\">10.0</text>\n",
       "</g>\n",
       "<g clip-path=\"url(#clip9400)\">\n",
       "<text style=\"fill:#000000; fill-opacity:1; font-family:Arial,Helvetica Neue,Helvetica,sans-serif; font-size:84px; text-anchor:middle;\" transform=\"rotate(0, 1297.64, 73.2)\" x=\"1297.64\" y=\"73.2\">Time series on population of phytoplankton (blue),</text>\n",
       "</g>\n",
       "<g clip-path=\"url(#clip9400)\">\n",
       "<text style=\"fill:#000000; fill-opacity:1; font-family:Arial,Helvetica Neue,Helvetica,sans-serif; font-size:84px; text-anchor:middle;\" transform=\"rotate(0, 1297.64, 163.92)\" x=\"1297.64\" y=\"163.92\">organic matter (orange) and E. coli (green)</text>\n",
       "</g>\n",
       "<g clip-path=\"url(#clip9400)\">\n",
       "<text style=\"fill:#000000; fill-opacity:1; font-family:Arial,Helvetica Neue,Helvetica,sans-serif; font-size:66px; text-anchor:middle;\" transform=\"rotate(0, 1297.64, 1559.48)\" x=\"1297.64\" y=\"1559.48\">time steps</text>\n",
       "</g>\n",
       "<g clip-path=\"url(#clip9400)\">\n",
       "<text style=\"fill:#000000; fill-opacity:1; font-family:Arial,Helvetica Neue,Helvetica,sans-serif; font-size:66px; text-anchor:middle;\" transform=\"rotate(-90, 89.2861, 804.785)\" x=\"89.2861\" y=\"804.785\">carbon density</text>\n",
       "</g>\n",
       "<polyline clip-path=\"url(#clip9402)\" style=\"stroke:#009af9; stroke-width:4; stroke-opacity:1; fill:none\" points=\"\n",
       "  302.24,804.785 322.349,800.479 342.458,796.142 362.567,791.772 382.676,787.37 402.785,782.936 422.894,778.469 443.003,773.97 463.112,769.437 483.221,764.871 \n",
       "  503.33,760.271 523.439,755.638 543.548,750.971 563.657,746.269 583.766,741.533 603.875,736.762 623.984,731.955 644.093,727.114 664.202,722.237 684.311,717.324 \n",
       "  704.42,712.374 724.529,707.389 744.638,702.367 764.747,697.308 784.856,692.211 804.965,687.078 825.074,681.906 845.183,676.697 865.292,671.449 885.401,666.162 \n",
       "  905.51,660.837 925.619,655.473 945.728,650.069 965.838,644.625 985.947,639.142 1006.06,633.618 1026.16,628.053 1046.27,622.448 1066.38,622.23 1086.49,1390.48 \n",
       "  \n",
       "  \"/>\n",
       "<polyline clip-path=\"url(#clip9402)\" style=\"stroke:#009af9; stroke-width:4; stroke-opacity:1; fill:none\" points=\"\n",
       "  2031.62,1390.48 2051.72,1390.48 2071.83,1390.48 2091.94,1390.48 \n",
       "  \"/>\n",
       "<polyline clip-path=\"url(#clip9402)\" style=\"stroke:#009af9; stroke-width:4; stroke-opacity:1; fill:none\" points=\"\n",
       "  2132.16,1390.48 2152.27,1390.48 2172.38,1390.48 2192.49,1390.48 \n",
       "  \"/>\n",
       "<polyline clip-path=\"url(#clip9402)\" style=\"stroke:#009af9; stroke-width:4; stroke-opacity:1; fill:none\" points=\"\n",
       "  2232.71,1390.48 2252.81,1390.48 2272.92,1390.48 2293.03,1390.48 \n",
       "  \"/>\n",
       "<polyline clip-path=\"url(#clip9402)\" style=\"stroke:#e26f46; stroke-width:4; stroke-opacity:1; fill:none\" points=\"\n",
       "  302.24,804.785 322.349,795.111 342.458,784.911 362.567,774.141 382.676,762.748 402.785,750.673 422.894,737.852 443.003,724.208 463.112,709.657 483.221,694.103 \n",
       "  503.33,677.433 523.439,659.519 543.548,640.212 563.657,619.338 583.766,596.694 603.875,572.04 623.984,545.087 644.093,515.495 664.202,482.846 684.311,446.635 \n",
       "  704.42,406.235 724.529,360.865 744.638,309.536 764.747,250.979 784.856,183.535 804.965,104.996 825.074,12.3574 845.183,-98.5835 865.292,-233.883 885.401,-402.605 \n",
       "  905.51,-618.955 925.619,-906.532 945.728,-1307.64 965.838,-1906.41 985.947,-2897.59 1006.06,-4857.54 1026.16,-10579.7 1046.27,-310982 1066.38,-4.46491e+14 \n",
       "  \"/>\n",
       "<polyline clip-path=\"url(#clip9402)\" style=\"stroke:#e26f46; stroke-width:4; stroke-opacity:1; fill:none\" points=\"\n",
       "  1187.04,1390.48 1207.15,1390.48 1227.25,1390.48 \n",
       "  \"/>\n",
       "<polyline clip-path=\"url(#clip9402)\" style=\"stroke:#e26f46; stroke-width:4; stroke-opacity:1; fill:none\" points=\"\n",
       "  1991.4,1390.48 2011.51,1390.48 2031.62,1390.48 2051.72,1390.48 \n",
       "  \"/>\n",
       "<polyline clip-path=\"url(#clip9402)\" style=\"stroke:#e26f46; stroke-width:4; stroke-opacity:1; fill:none\" points=\"\n",
       "  2091.94,1390.48 2112.05,1390.48 2132.16,1390.48 2152.27,1390.48 \n",
       "  \"/>\n",
       "<polyline clip-path=\"url(#clip9402)\" style=\"stroke:#e26f46; stroke-width:4; stroke-opacity:1; fill:none\" points=\"\n",
       "  2192.49,1390.48 2212.6,1390.48 2232.71,1390.48 2252.81,1390.48 \n",
       "  \"/>\n",
       "<polyline clip-path=\"url(#clip9402)\" style=\"stroke:#3da44d; stroke-width:4; stroke-opacity:1; fill:none\" points=\"\n",
       "  302.24,804.785 322.349,776.438 342.458,746.188 362.567,713.862 382.676,679.262 402.785,642.166 422.894,602.324 443.003,559.451 463.112,513.224 483.221,463.271 \n",
       "  503.33,409.167 523.439,350.418 543.548,286.455 563.657,216.608 583.766,140.094 603.875,55.9851 623.984,-36.8239 644.093,-139.66 664.202,-254.133 684.311,-382.207 \n",
       "  704.42,-526.315 724.529,-689.496 744.638,-875.604 764.747,-1089.59 784.856,-1337.95 804.965,-1629.31 825.074,-1975.47 845.183,-2392.93 865.292,-2905.52 885.401,-3548.94 \n",
       "  905.51,-4379.26 925.619,-5489.77 945.728,-7047.95 965.838,-9387.47 985.947,-13281.9 1006.06,-21024.7 1026.16,-43752.1 1046.27,-1.24459e+06 1066.38,-1.78596e+15 1086.49,1390.48 \n",
       "  \n",
       "  \"/>\n",
       "<polyline clip-path=\"url(#clip9402)\" style=\"stroke:#3da44d; stroke-width:4; stroke-opacity:1; fill:none\" points=\"\n",
       "  2051.72,1390.48 2071.83,1390.48 2091.94,1390.48 2112.05,1390.48 \n",
       "  \"/>\n",
       "<polyline clip-path=\"url(#clip9402)\" style=\"stroke:#3da44d; stroke-width:4; stroke-opacity:1; fill:none\" points=\"\n",
       "  2152.27,1390.48 2172.38,1390.48 2192.49,1390.48 2212.6,1390.48 \n",
       "  \"/>\n",
       "<polyline clip-path=\"url(#clip9402)\" style=\"stroke:#3da44d; stroke-width:4; stroke-opacity:1; fill:none\" points=\"\n",
       "  2252.81,1390.48 2272.92,1390.48 2293.03,1390.48 \n",
       "  \"/>\n",
       "</svg>\n"
      ]
     },
     "execution_count": 6,
     "metadata": {},
     "output_type": "execute_result"
    }
   ],
   "source": [
    "## model testing\n",
    "t = sc.linspace(0, 1, 100) # time series\n",
    "\n",
    "## parameters\n",
    "pops = sc.array([5,5,5]) # kgC/m^3 -- carbon density\n",
    "gp = .4/10 # pure growth rate [phytoplankton]\n",
    "ep = .7 # nutrient-handling efficiency [phytoplankton]\n",
    "Rp = .14/100 # respiration loss [phytoplankton]\n",
    "mp = .14/100 # cellular death rate [phytoplankton]\n",
    "gc = .2 # pure growth rate [E. coli]\n",
    "ec = .8 # nutrient-handling efficiency [E. coli]\n",
    "Rc = .8/10 # respiration loss [E. coli]\n",
    "mc = .8/10 # cellular death rate [E. coli]\n",
    "\n",
    "pops, infodict = itg.odeint(ebc0, pops, t, full_output=true, args=(gp,ep,Rp,mp, gc,ec,Rc,mc))\n",
    "plot(pops, xlabel=\"time steps\", ylabel=\"carbon density\", title=\"Time series on population of phytoplankton (blue),\\norganic matter (orange) and E. coli (green)\", label=\"\", ylim=[0,10])"
   ]
  }
 ],
 "metadata": {
  "celltoolbar": "Slideshow",
  "kernelspec": {
   "display_name": "Julia 1.3.1",
   "language": "julia",
   "name": "julia-1.3"
  },
  "language_info": {
   "file_extension": ".jl",
   "mimetype": "application/julia",
   "name": "julia",
   "version": "1.3.1"
  },
  "latex_envs": {
   "LaTeX_envs_menu_present": true,
   "autoclose": true,
   "autocomplete": true,
   "bibliofile": "biblio.bib",
   "cite_by": "apalike",
   "current_citInitial": 1,
   "eqLabelWithNumbers": true,
   "eqNumInitial": 1,
   "hotkeys": {
    "equation": "Ctrl-E",
    "itemize": "Ctrl-I"
   },
   "labels_anchors": false,
   "latex_user_defs": false,
   "report_style_numbering": true,
   "user_envs_cfg": true
  },
  "toc": {
   "base_numbering": 1,
   "nav_menu": {},
   "number_sections": true,
   "sideBar": true,
   "skip_h1_title": false,
   "title_cell": "Table of Contents",
   "title_sidebar": "Contents",
   "toc_cell": true,
   "toc_position": {},
   "toc_section_display": true,
   "toc_window_display": true
  },
  "varInspector": {
   "cols": {
    "lenName": 16,
    "lenType": 16,
    "lenVar": 40
   },
   "kernels_config": {
    "python": {
     "delete_cmd_postfix": "",
     "delete_cmd_prefix": "del ",
     "library": "var_list.py",
     "varRefreshCmd": "print(var_dic_list())"
    },
    "r": {
     "delete_cmd_postfix": ") ",
     "delete_cmd_prefix": "rm(",
     "library": "var_list.r",
     "varRefreshCmd": "cat(var_dic_list()) "
    }
   },
   "types_to_exclude": [
    "module",
    "function",
    "builtin_function_or_method",
    "instance",
    "_Feature"
   ],
   "window_display": true
  }
 },
 "nbformat": 4,
 "nbformat_minor": 4
}
