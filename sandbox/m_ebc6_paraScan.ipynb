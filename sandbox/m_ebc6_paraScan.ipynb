{
 "cells": [
  {
   "cell_type": "markdown",
   "metadata": {},
   "source": [
    "# parameter scan\n",
    "## env set-up\n",
    "Julia-lang 1.3.1: `PyCall` (1.91.2), `DataFrames` (0.20.0), `SymPy` (1.0.18)"
   ]
  },
  {
   "cell_type": "code",
   "execution_count": 4,
   "metadata": {
    "ExecuteTime": {
     "end_time": "2020-03-18T17:16:40.703000Z",
     "start_time": "2020-03-18T17:16:32.330Z"
    }
   },
   "outputs": [
    {
     "name": "stdout",
     "output_type": "stream",
     "text": [
      "\n"
     ]
    }
   ],
   "source": [
    "using PyCall, DataFrames, SymPy\n",
    "sympy.init_printing() ## use other py3 function not implemented in native Julia-lang, http://mth229.github.io/symbolic.html\n",
    "println()"
   ]
  },
  {
   "cell_type": "markdown",
   "metadata": {},
   "source": [
    "## parameters"
   ]
  },
  {
   "cell_type": "code",
   "execution_count": 5,
   "metadata": {
    "ExecuteTime": {
     "end_time": "2020-03-18T17:16:40.712000Z",
     "start_time": "2020-03-18T17:16:32.334Z"
    }
   },
   "outputs": [
    {
     "data": {
      "text/plain": [
       "8.31"
      ]
     },
     "execution_count": 5,
     "metadata": {},
     "output_type": "execute_result"
    }
   ],
   "source": [
    "@vars C P B\n",
    "T_k,\n",
    "E_PV,g_P0,r_P0,m_P0,a_P0,e_P,\n",
    "E_BV,g_B0,r_B0,m_B0,e_B =\n",
    "symbols(\n",
    "    \"T_k \n",
    "E_P g_P0 r_P0 m_P0 a_P0 e_P \n",
    "E_B g_B0 r_B0 m_B0 e_B\",\n",
    "    positive = true)\n",
    "R=8.31"
   ]
  },
  {
   "cell_type": "code",
   "execution_count": 6,
   "metadata": {
    "ExecuteTime": {
     "end_time": "2020-03-18T17:16:40.860000Z",
     "start_time": "2020-03-18T17:16:32.337Z"
    }
   },
   "outputs": [
    {
     "data": {
      "text/latex": [
       "\\begin{equation*}B \\left(C e_{B} g_{B0} e^{- \\frac{0.120336943441637 E_{B}}{T_{k}}} - m_{B0} e^{- \\frac{0.120336943441637 E_{B}}{T_{k}}} - r_{B0} e^{- \\frac{0.120336943441637 E_{B}}{T_{k}}}\\right)\\end{equation*}"
      ],
      "text/plain": [
       "  ⎛            -0.120336943441637⋅E_B          -0.120336943441637⋅E_B         \n",
       "  ⎜            ───────────────────────         ───────────────────────        \n",
       "  ⎜                       Tₖ                              Tₖ                  \n",
       "B⋅⎝C⋅e_B⋅g_B0⋅ℯ                        - m_B0⋅ℯ                        - r_B0⋅\n",
       "\n",
       " -0.120336943441637⋅E_B ⎞\n",
       " ───────────────────────⎟\n",
       "            Tₖ          ⎟\n",
       "ℯ                       ⎠"
      ]
     },
     "execution_count": 6,
     "metadata": {},
     "output_type": "execute_result"
    }
   ],
   "source": [
    "E_P = E_PV*1.6e-19 # unit conversion from eV to J\n",
    "E_B = E_BV*1.6e-19\n",
    "\n",
    "g_P = g_P0*exp(-E_P/(R*T_k))\n",
    "r_P = r_P0*exp(-E_P/(R*T_k))\n",
    "m_P = m_P0*exp(-E_P/(R*T_k))\n",
    "a_P = a_P0*exp(-E_P/(R*T_k))\n",
    "\n",
    "g_B = g_B0*exp(-E_B/(R*T_k))\n",
    "r_B = r_B0*exp(-E_B/(R*T_k))\n",
    "m_B = m_B0*exp(-E_B/(R*T_k))\n",
    "\n",
    "C_eq = (g_P*(1 -e_P) +a_P*P +m_P)*P + (g_B*(1 -e_B)*C +m_B)*B\n",
    "P_eq = (g_P*e_P -a_P*P -r_P -m_P)*P\n",
    "B_eq = (g_B*e_B*C -r_B -m_B)*B"
   ]
  },
  {
   "cell_type": "markdown",
   "metadata": {},
   "source": [
    "## default parameter values"
   ]
  },
  {
   "cell_type": "code",
   "execution_count": null,
   "metadata": {},
   "outputs": [],
   "source": [
    "E_PV = .57 # https://www.nature.com/articles/ngeo2807/ FROM [https://link.springer.com/article/10.1007/s11120-014-0067-8 ; https://nph.onlinelibrary.wiley.com/doi/abs/10.1111/j.1469-8137.1988.tb00282.x]\n"
   ]
  }
 ],
 "metadata": {
  "kernelspec": {
   "display_name": "Julia 1.3.1",
   "language": "julia",
   "name": "julia-1.3"
  },
  "language_info": {
   "file_extension": ".jl",
   "mimetype": "application/julia",
   "name": "julia",
   "version": "1.3.1"
  },
  "toc": {
   "base_numbering": 1,
   "nav_menu": {},
   "number_sections": true,
   "sideBar": true,
   "skip_h1_title": false,
   "title_cell": "Table of Contents",
   "title_sidebar": "Contents",
   "toc_cell": false,
   "toc_position": {},
   "toc_section_display": true,
   "toc_window_display": false
  }
 },
 "nbformat": 4,
 "nbformat_minor": 2
}
