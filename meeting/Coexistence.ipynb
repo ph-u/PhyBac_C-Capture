{
 "cells": [
  {
   "cell_type": "markdown",
   "metadata": {},
   "source": [
    "# Model"
   ]
  },
  {
   "cell_type": "markdown",
   "metadata": {},
   "source": [
    "pillar equation:\n",
    "\n",
    "\\begin{equation}\\label{eq:main}\n",
    "    dp/dt = r_p [p] - k_{p1} [p][q]\n",
    "\\end{equation}"
   ]
  },
  {
   "cell_type": "markdown",
   "metadata": {},
   "source": []
  },
  {
   "cell_type": "markdown",
   "metadata": {},
   "source": [
    "population growth rate:\n",
    "\n",
    "\\begin{align}\\label{eq:growth}\n",
    "    r_p & = \\dfrac{r_p|_{expt}}{P_p|_{expt}}\\cdot P_p \\nonumber\\\\\n",
    "        & = \\dfrac{r_p|_{expt}\\cdot t_p|_{expt}}{J_p|_{expt}}\\cdot\\dfrac{J_p}{3600}\n",
    "\\end{align}"
   ]
  },
  {
   "cell_type": "markdown",
   "metadata": {},
   "source": []
  },
  {
   "cell_type": "markdown",
   "metadata": {},
   "source": [
    "competition coefficient:\n",
    "\n",
    "\\begin{align}\\label{eq:compete}\n",
    "    k_{p1} & = \\dfrac{P_q}{P_p + P_q}\\cdot r_p \\nonumber\\\\\n",
    "           & = \\dfrac{J_q J_p}{(J_p + J_q)\\cdot3600}\\cdot \\dfrac{r_p|_{expt}\\cdot t_p|_{expt}}{J_p|_{expt}}\n",
    "\\end{align}"
   ]
  },
  {
   "cell_type": "markdown",
   "metadata": {},
   "source": []
  },
  {
   "cell_type": "markdown",
   "metadata": {},
   "source": [
    "Overall equation (Eq.1+2+3):\n",
    "\\begin{align}\\label{eq:overall}\n",
    "    \\dfrac{dp}{dt} & = [p]\\cdot(r_p - k_{p1}[q]) \\nonumber\\\\\n",
    "                   & = [p]\\cdot r_p(1-\\dfrac{P_q}{P_p + P_q}\\cdot[q]) \\nonumber\\\\\n",
    "                   & = [p]\\cdot(\\dfrac{r_p|_{expt}\\cdot t_p|_{expt}}{J_p|_{expt}})\\cdot\\dfrac{J_p}{3600}\\cdot(1-\\dfrac{J_q[q]}{J_p + J_q}) \\nonumber \\\\\n",
    "                   & = (\\dfrac{r_p|_{expt}\\cdot t_p|_{expt}}{3600\\cdot J_p|_{expt}})(1-\\dfrac{J_q[q]}{J_p + J_q})J_p[p]\n",
    "\\end{align}"
   ]
  },
  {
   "cell_type": "markdown",
   "metadata": {},
   "source": []
  },
  {
   "cell_type": "code",
   "execution_count": null,
   "metadata": {},
   "outputs": [],
   "source": [
    "def ebc(pops,)"
   ]
  }
 ],
 "metadata": {
  "kernelspec": {
   "display_name": "Python 3",
   "language": "python",
   "name": "python3"
  },
  "language_info": {
   "codemirror_mode": {
    "name": "ipython",
    "version": 3
   },
   "file_extension": ".py",
   "mimetype": "text/x-python",
   "name": "python",
   "nbconvert_exporter": "python",
   "pygments_lexer": "ipython3",
   "version": "3.7.3"
  },
  "latex_envs": {
   "LaTeX_envs_menu_present": true,
   "autoclose": true,
   "autocomplete": true,
   "bibliofile": "biblio.bib",
   "cite_by": "apalike",
   "current_citInitial": 1,
   "eqLabelWithNumbers": true,
   "eqNumInitial": 1,
   "hotkeys": {
    "equation": "Ctrl-E",
    "itemize": "Ctrl-I"
   },
   "labels_anchors": false,
   "latex_user_defs": false,
   "report_style_numbering": true,
   "user_envs_cfg": true
  },
  "varInspector": {
   "cols": {
    "lenName": 16,
    "lenType": 16,
    "lenVar": 40
   },
   "kernels_config": {
    "python": {
     "delete_cmd_postfix": "",
     "delete_cmd_prefix": "del ",
     "library": "var_list.py",
     "varRefreshCmd": "print(var_dic_list())"
    },
    "r": {
     "delete_cmd_postfix": ") ",
     "delete_cmd_prefix": "rm(",
     "library": "var_list.r",
     "varRefreshCmd": "cat(var_dic_list()) "
    }
   },
   "types_to_exclude": [
    "module",
    "function",
    "builtin_function_or_method",
    "instance",
    "_Feature"
   ],
   "window_display": false
  }
 },
 "nbformat": 4,
 "nbformat_minor": 2
}
