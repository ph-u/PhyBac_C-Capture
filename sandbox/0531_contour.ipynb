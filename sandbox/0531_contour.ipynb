{
 "cells": [
  {
   "cell_type": "markdown",
   "metadata": {
    "toc": true
   },
   "source": [
    "<h1>Table of Contents<span class=\"tocSkip\"></span></h1>\n",
    "<div class=\"toc\"><ul class=\"toc-item\"><li><span><a href=\"#env\" data-toc-modified-id=\"env-1\"><span class=\"toc-item-num\">1&nbsp;&nbsp;</span>env</a></span></li><li><span><a href=\"#data-explore\" data-toc-modified-id=\"data-explore-2\"><span class=\"toc-item-num\">2&nbsp;&nbsp;</span>data explore</a></span></li><li><span><a href=\"#functions\" data-toc-modified-id=\"functions-3\"><span class=\"toc-item-num\">3&nbsp;&nbsp;</span>functions</a></span></li><li><span><a href=\"#contour-plots\" data-toc-modified-id=\"contour-plots-4\"><span class=\"toc-item-num\">4&nbsp;&nbsp;</span>contour plots</a></span></li></ul></div>"
   ]
  },
  {
   "cell_type": "markdown",
   "metadata": {},
   "source": [
    "# env"
   ]
  },
  {
   "cell_type": "code",
   "execution_count": 1,
   "metadata": {
    "ExecuteTime": {
     "end_time": "2020-06-04T07:21:48.857444Z",
     "start_time": "2020-06-04T07:21:47.829586Z"
    }
   },
   "outputs": [],
   "source": [
    "from ipywidgets import *\n",
    "import pandas as pd\n",
    "import matplotlib as mpl\n",
    "import matplotlib.pyplot as plt\n",
    "import scipy as sc\n",
    "import numpy as np"
   ]
  },
  {
   "cell_type": "code",
   "execution_count": 2,
   "metadata": {
    "ExecuteTime": {
     "end_time": "2020-06-04T07:22:01.817889Z",
     "start_time": "2020-06-04T07:21:48.862045Z"
    }
   },
   "outputs": [
    {
     "data": {
      "text/plain": [
       "(1771561, 21)"
      ]
     },
     "execution_count": 2,
     "metadata": {},
     "output_type": "execute_result"
    }
   ],
   "source": [
    "a = pd.read_csv(\"../result/anaIRL.csv\")\n",
    "a.shape"
   ]
  },
  {
   "cell_type": "markdown",
   "metadata": {},
   "source": [
    "# data explore"
   ]
  },
  {
   "cell_type": "code",
   "execution_count": 3,
   "metadata": {
    "ExecuteTime": {
     "end_time": "2020-06-04T07:22:01.835862Z",
     "start_time": "2020-06-04T07:22:01.824345Z"
    }
   },
   "outputs": [
    {
     "data": {
      "text/plain": [
       "Index([u'x', u'ePR', u'eP', u'gP', u'aP', u'eBR', u'eB', u'gB'], dtype='object')"
      ]
     },
     "execution_count": 3,
     "metadata": {},
     "output_type": "execute_result"
    }
   ],
   "source": [
    "iDx = a.columns[0:8];iDx"
   ]
  },
  {
   "cell_type": "markdown",
   "metadata": {},
   "source": [
    "# functions"
   ]
  },
  {
   "cell_type": "code",
   "execution_count": 4,
   "metadata": {
    "ExecuteTime": {
     "end_time": "2020-06-04T07:22:01.937526Z",
     "start_time": "2020-06-04T07:22:01.840903Z"
    }
   },
   "outputs": [],
   "source": [
    "def cOntour(xAxis, yAxis, eqm, x, ePR, eP, gP, aP, gB):\n",
    "    df = a\n",
    "    \n",
    "    ## select columns\n",
    "    sEl = range(9)\n",
    "    for i in range(4):\n",
    "        j = 9+4*(eqm-2)+i\n",
    "        sEl.append(j)\n",
    "        \n",
    "    df = df.loc[:,list(a.columns[sEl])]\n",
    "    \n",
    "    ## select rows\n",
    "    if xAxis!=1 and yAxis!=1:df = df[df['x']==x]\n",
    "    if xAxis!=2 and yAxis!=2:df = df[df['ePR']==ePR]\n",
    "    if xAxis!=3 and yAxis!=3:df = df[df['eP']==eP]\n",
    "    if xAxis!=4 and yAxis!=4:df = df[df['gP']==gP]\n",
    "    if xAxis!=5 and yAxis!=5:df = df[df['aP']==aP]\n",
    "    if xAxis!=8 and yAxis!=8:df = df[df['gB']==gB]\n",
    "    \n",
    "    #df = df[(df['x']==x) & (df['ePR']==ePR) & (df['eP']==eP) & (df['gP']==gP) & (df['aP']==aP) & (df['eBR']==eBR) & (df['eB']==eB) & (df['gB']==gB) & (df['mB']==mB)]\n",
    "    \n",
    "    ## create array for contour plot\n",
    "    ZAxs1 = sc.array(df.pivot_table(df.columns[9],df.columns[yAxis-1],df.columns[xAxis-1], fill_value=0))\n",
    "    ZAxs2 = sc.array(df.pivot_table(df.columns[10],df.columns[yAxis-1],df.columns[xAxis-1], fill_value=0))\n",
    "    ZAxs3 = sc.array(df.pivot_table(df.columns[11],df.columns[yAxis-1],df.columns[xAxis-1], fill_value=0))\n",
    "    ZAxs4 = sc.array(df.pivot_table(df.columns[12],df.columns[yAxis-1],df.columns[xAxis-1], fill_value=0))\n",
    "    \n",
    "    ## plotting    \n",
    "    fig = plt.figure(figsize=(20,20))\n",
    "    gs = mpl.gridspec.GridSpec(2,2, height_ratios=[1,1], width_ratios=[1,1])\n",
    "    ax1 = fig.add_subplot(gs[0,0])\n",
    "    ax2 = fig.add_subplot(gs[0,1])\n",
    "    ax3 = fig.add_subplot(gs[1,0])\n",
    "    ax4 = fig.add_subplot(gs[1,1])\n",
    "    iNterval = 10\n",
    "    \n",
    "    z1 = int(np.ma.masked_invalid(ZAxs1).max())\n",
    "    Z1 = np.linspace(-.5, z1, iNterval)\n",
    "    ZC = ['black' for i in Z1]\n",
    "    z1c = ax1.contour(ZAxs1, levels=Z1, colors=ZC)\n",
    "    ax1.clabel(z1c, fontsize=10, colors=ZC)\n",
    "    ax1.text(9,9, \"C\" ,fontsize=18)\n",
    "    \n",
    "    z2 = int(np.ma.masked_invalid(ZAxs2).max())\n",
    "    Z2 = np.linspace(-.5, z2, iNterval)\n",
    "    z2c = ax2.contour(ZAxs2, levels=Z2, colors=ZC)\n",
    "    ax2.clabel(z2c, fontsize=10, colors=ZC)\n",
    "    ax2.text(9,9, \"P\" ,fontsize=18)\n",
    "    \n",
    "    z3 = int(np.ma.masked_invalid(ZAxs3).max())\n",
    "    Z3 = np.linspace(-.5, z3, iNterval)\n",
    "    z3c = ax3.contour(ZAxs3, levels=Z3, colors=ZC)\n",
    "    ax3.clabel(z3c, fontsize=10, colors=ZC)\n",
    "    ax3.text(9,9, \"B\" ,fontsize=18)\n",
    "    \n",
    "    z4 = int(np.ma.masked_invalid(ZAxs4).max())\n",
    "    Z4 = np.linspace(-.5, z4, iNterval)\n",
    "    z4c = ax4.contour(ZAxs4, levels=Z4, colors=ZC)\n",
    "    ax4.clabel(z4c, fontsize=10, colors=ZC)\n",
    "    ax4.text(9,9, \"A\" ,fontsize=18)\n",
    "    \n",
    "    return"
   ]
  },
  {
   "cell_type": "markdown",
   "metadata": {},
   "source": [
    "# contour plots"
   ]
  },
  {
   "cell_type": "code",
   "execution_count": 5,
   "metadata": {
    "ExecuteTime": {
     "end_time": "2020-06-04T07:22:02.367695Z",
     "start_time": "2020-06-04T07:22:01.941888Z"
    }
   },
   "outputs": [
    {
     "data": {
      "application/vnd.jupyter.widget-view+json": {
       "model_id": "ca65835b2db3450493962e4c2539838f",
       "version_major": 2,
       "version_minor": 0
      },
      "text/plain": [
       "aW50ZXJhY3RpdmUoY2hpbGRyZW49KERyb3Bkb3duKGRlc2NyaXB0aW9uPXUneEF4aXMnLCBvcHRpb25zPSgnc2VsZWN0JywgMSwgMiwgMywgNCwgNSwgOCksIHZhbHVlPSdzZWxlY3QnKSwgRHLigKY=\n"
      ]
     },
     "metadata": {},
     "output_type": "display_data"
    },
    {
     "data": {
      "text/plain": [
       "<function __main__.cOntour>"
      ]
     },
     "execution_count": 5,
     "metadata": {},
     "output_type": "execute_result"
    }
   ],
   "source": [
    "interact(cOntour, xAxis=[\"select\",1,2,3,4,5,8], yAxis=[\"select\",1,2,3,4,5,8], eqm=[\"select\",2,3,4],\n",
    "         x=a.x.unique(), ePR=a.ePR.unique(),eP=a.eP.unique(),gP=a.gP.unique(),aP=a.aP.unique(),gB=a.gB.unique()\n",
    "        )#(min(pA1),max(pA1),(max(pA1)-min(pA1))/10),"
   ]
  }
 ],
 "metadata": {
  "kernelspec": {
   "display_name": "Python 3",
   "language": "python",
   "name": "python3"
  },
  "language_info": {
   "codemirror_mode": {
    "name": "ipython",
    "version": 2
   },
   "file_extension": ".py",
   "mimetype": "text/x-python",
   "name": "python",
   "nbconvert_exporter": "python",
   "pygments_lexer": "ipython2",
   "version": "2.7.17"
  },
  "toc": {
   "base_numbering": 1,
   "nav_menu": {},
   "number_sections": true,
   "sideBar": true,
   "skip_h1_title": false,
   "title_cell": "Table of Contents",
   "title_sidebar": "Contents",
   "toc_cell": true,
   "toc_position": {},
   "toc_section_display": true,
   "toc_window_display": true
  }
 },
 "nbformat": 4,
 "nbformat_minor": 2
}
