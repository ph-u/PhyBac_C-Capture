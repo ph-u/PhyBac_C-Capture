{
 "cells": [
  {
   "cell_type": "markdown",
   "metadata": {
    "slideshow": {
     "slide_type": "slide"
    },
    "toc": true
   },
   "source": [
    "<h1>Table of Contents<span class=\"tocSkip\"></span></h1>\n",
    "<div class=\"toc\"><ul class=\"toc-item\"><li><span><a href=\"#Closest-relative----ocean-mixed-layer-NPZD-model\" data-toc-modified-id=\"Closest-relative----ocean-mixed-layer-NPZD-model-1\"><span class=\"toc-item-num\">1&nbsp;&nbsp;</span>Closest relative -- ocean mixed layer NPZD model</a></span></li><li><span><a href=\"#Carbon-cycle-model-outline\" data-toc-modified-id=\"Carbon-cycle-model-outline-2\"><span class=\"toc-item-num\">2&nbsp;&nbsp;</span>Carbon cycle model outline</a></span><ul class=\"toc-item\"><li><span><a href=\"#ODEs\" data-toc-modified-id=\"ODEs-2.1\"><span class=\"toc-item-num\">2.1&nbsp;&nbsp;</span>ODEs</a></span></li><li><span><a href=\"#Model-visualization\" data-toc-modified-id=\"Model-visualization-2.2\"><span class=\"toc-item-num\">2.2&nbsp;&nbsp;</span>Model visualization</a></span></li><li><span><a href=\"#Table-of-parameters\" data-toc-modified-id=\"Table-of-parameters-2.3\"><span class=\"toc-item-num\">2.3&nbsp;&nbsp;</span>Table of parameters</a></span></li></ul></li><li><span><a href=\"#Carbon-cycle-model-validation\" data-toc-modified-id=\"Carbon-cycle-model-validation-3\"><span class=\"toc-item-num\">3&nbsp;&nbsp;</span>Carbon cycle model validation</a></span></li><li><span><a href=\"#Simple-mathematical-approach\" data-toc-modified-id=\"Simple-mathematical-approach-4\"><span class=\"toc-item-num\">4&nbsp;&nbsp;</span>Simple mathematical approach</a></span></li></ul></div>"
   ]
  },
  {
   "cell_type": "code",
   "execution_count": 1,
   "metadata": {
    "ExecuteTime": {
     "end_time": "2020-03-06T20:27:06.763000Z",
     "start_time": "2020-03-06T20:25:00.817Z"
    },
    "slideshow": {
     "slide_type": "notes"
    }
   },
   "outputs": [
    {
     "name": "stdout",
     "output_type": "stream",
     "text": [
      "\n"
     ]
    }
   ],
   "source": [
    "using RCall, PyCall, Plots, ProgressMeter, DataFrames\n",
    "mt = pyimport(\"math\")\n",
    "sc = pyimport(\"scipy\")\n",
    "cst = pyimport(\"scipy.constants\")\n",
    "itg = pyimport(\"scipy.integrate\")\n",
    "R\"cbp<-c('#000000', '#E69F00', '#56B4E9', '#009E73', '#0072B2', '#D55E00', '#CC79A7', '#e79f00', '#9ad0f3', '#F0E442', '#999999', '#cccccc', '#6633ff', '#00FFCC', '#0066cc')\"\n",
    "println()"
   ]
  },
  {
   "cell_type": "markdown",
   "metadata": {
    "slideshow": {
     "slide_type": "slide"
    }
   },
   "source": [
    "# Closest relative -- ocean mixed layer NPZD model\n",
    "![](graph/model_01_r.png)"
   ]
  },
  {
   "cell_type": "markdown",
   "metadata": {
    "slideshow": {
     "slide_type": "fragment"
    }
   },
   "source": [
    "NPZD model is a phenomenological ordinary differential equation (ODE) model in ocean science focus on describing the population dynamics of four major biochemical engines powering the oceanic carbon cycle system.  The nutrient pool (denoted by [$N$]) is consisting of inorganic nutrient essential for phytoplankton population growth.  Phytoplankton population (denoted by [$P$]) is assumed only one type of phytoplankton, grow by absorbing $N$ and is the food source of zooplankton (denoted by [$Z$]).  $Z$ is assumed only one type of zooplankton, food sources are including $P$ and detritus/organic matter (denoted by [$D$]) for its population growth.  $Z$ can only absorb nutrient through digestion of detritus into inorganic nutrient.  Due to the non-perfect absorption system, some \"digested but not absorbed\" inorganic chemical species can escape from zooplankton bodies and contribute to the $N$ pool.  For the $D$ pool, it is a collection of organic matter, including and mostly consist of cellular leftovers (i.e. dead cells from $P$ and $Z$).  It is a food source for $Z$, completing the microscopic oceanic carbon cycle."
   ]
  },
  {
   "cell_type": "markdown",
   "metadata": {
    "slideshow": {
     "slide_type": "slide"
    }
   },
   "source": [
    "\\begin{equation}\n",
    "\\left\\{\\begin{array}{rl}\n",
    "    N'(t) &= -\\mu_PP + \\beta_Z(1-k_{NZ})(G_P+G_D) + m_DD + (a_NZ + b_N - N)\\cdot\\dfrac{\\omega_{mix}H'(t)}{H(t)}\\\\\n",
    "    P'(t) &= \\mu_PP - G_P - m_PP - m_{P2}P^2 - P\\cdot\\dfrac{\\omega_{mix}H'(t)}{H(t)}\\\\\n",
    "    Z'(t) &= \\beta_Zk_N(G_P+G_D) - m_ZZ - m_{Z2}Z^2-Z\\cdot\\dfrac{\\omega_{mix}H'(t)}{H(t)}\\\\\n",
    "    D'(t) &= m_PP + m_{P2}P^2 + m_ZZ + (1-\\beta_Z)(G_P+G_D) - G_D - (m_D + \\dfrac{v_D}{H(t)})D -D\\cdot\\dfrac{\\omega_{mix}H'(t)}{H(t)}\n",
    "    \\end{array}\\right.\n",
    "\\end{equation}"
   ]
  },
  {
   "cell_type": "markdown",
   "metadata": {
    "slideshow": {
     "slide_type": "slide"
    }
   },
   "source": [
    "# Carbon cycle model outline"
   ]
  },
  {
   "cell_type": "markdown",
   "metadata": {
    "slideshow": {
     "slide_type": "fragment"
    }
   },
   "source": [
    "![](graph/DSC_0089.jpg)\n",
    "max CUE in phytoplankton (C-sequestration); min CUE in bacteria (max electricity generation)"
   ]
  },
  {
   "cell_type": "markdown",
   "metadata": {
    "slideshow": {
     "slide_type": "slide"
    }
   },
   "source": [
    "## ODEs\n",
    "By assuming conditions\n",
    "1. light saturating\n",
    "2. nutrient saturating\n",
    "\n",
    "three carbon sinks (in unit $kgCm^{-3}t^{-1}$) are investigated and labeled \"phytoplankton\", \"bacteria / E coli\" and \"detritus / organic matter\".  \n",
    "The expected ODE equations are as follow:\n",
    "\\begin{equation}\n",
    "    \\left\\{\\begin{array}{rl}\n",
    "    C'(t) &= (g_P(1-\\varepsilon_P) + m_P)P + (g_e(1-\\varepsilon_e)C + m_e)B\\\\\n",
    "    P'(t) &= (g_P\\varepsilon_P \\left(1-\\frac{P}{K_P}\\right) - R_P - m_P)P\\\\\n",
    "    B'(t) &= (g_e\\varepsilon_eC - R_e - m_e)B\\\\\n",
    "\\end{array}\\right.\n",
    "\\end{equation}\n",
    "or\n",
    "\\begin{equation}\n",
    "    \\left\\{\\begin{array}{rl}\n",
    "    P'(t) &= g_P\\varepsilon_PP - R_PP - m_PP\\\\\n",
    "    C'(t) &= g_P(1-\\varepsilon_P)P + m_PP + g_e(1-\\varepsilon_e)BC + m_eB\\\\\n",
    "    B'(t) &= g_e\\varepsilon_eBC - R_eB - m_eB\\\\\n",
    "\\end{array}\\right.\n",
    "\\end{equation}"
   ]
  },
  {
   "cell_type": "markdown",
   "metadata": {
    "slideshow": {
     "slide_type": "slide"
    }
   },
   "source": [
    "## Model visualization\n",
    "![](graph/PBD_00.png)"
   ]
  },
  {
   "cell_type": "markdown",
   "metadata": {
    "slideshow": {
     "slide_type": "slide"
    }
   },
   "source": [
    "## Table of parameters\n",
    "notation | unit | value | value unit | range | meaning\n",
    "--- | --- | --- | --- | --- | ---\n",
    "C | $\\dfrac{kgC}{m^3}$ | // | // | +ve | concentration of carbon in detritus / organic matter (i.e. D in photo)\n",
    "P | $\\dfrac{kgC}{m^3}$ | // | // | +ve | biomass concentration of carbon in phytoplankton\n",
    "B | $\\dfrac{kgC}{m^3}$ | // | // | +ve | biomass concentration of carbon in detritivore / _E. coli_ (i.e. B in photo)\n",
    "$g_P$ | $t^{-1}$ | [0.44](https://www.sciencedirect.com/science/article/pii/S0168165607000892) | day$^{-1}$ | +ve | pure growth rate of phytoplankton (i.e. $g$ in photo)\n",
    "$\\varepsilon_P$ | no | [4](https://besjournals.onlinelibrary.wiley.com/doi/pdf/10.1111/j.1365-2435.2006.01222.x) | mgCL$^{-1}$ (DOC conc) | 0-1 | retention efficiency of atmospheric carbon inside phytoplankton cells (i.e. $\\varepsilon$ in photo)\n",
    "$R_P$ | $t^{-1}$ | [mean(0.01,0.6)](https://nph.onlinelibrary.wiley.com/doi/pdf/10.1111/j.1469-8137.1989.tb00321.x) | day$^{-1}$ | +ve | respiration rate of phytoplankton (i.e. $R$ in photo)\n",
    "$m_P$ | $t^{-1}$ | [mean(0.36,0.22,0.43)](https://www.sciencedirect.com/science/article/pii/S0168165607000892) | day$^{-1}$ | +ve | death rate of phytoplankton (i.e. $m$ in photo)\n",
    "$g_e$ | $\\dfrac{m^3}{kgC\\cdot t}$ | [1/40](https://www.ncbi.nlm.nih.gov/pmc/articles/PMC372817/pdf/microrev00033-0134.pdf) | min$^{-1}$ | +ve | pure growth rate of detritivore (i.e. $g_2$ in photo)\n",
    "$\\varepsilon_e$ | no | [1](https://www.ncbi.nlm.nih.gov/pmc/articles/PMC3187092/pdf/zam6763.pdf) | $\\mu$M (protein leakage) | 0-1 | absorption efficiency of organic carbon inside _E. coli_ cells ($\\varepsilon_2$ in photo)\n",
    "$R_e$ | $t^{-1}$ | [20](https://www.ncbi.nlm.nih.gov/pmc/articles/PMC294601/pdf/jbacter00571-0128.pdf) | mmolO$_2$/hr/g (dry mass) | +ve | respiration rate of detritivore (i.e. $R_2$ in photo)\n",
    "$m_e$ | $t^{-1}$ | [abs((1-10$^8$/10$^4$)/160)](https://www.ncbi.nlm.nih.gov/pmc/articles/PMC278050/pdf/jbacter00464-0118.pdf) | hr$^{-1}$(20$^o$C) | +ve | death rate of detritivore (i.e. $m_2$ in photo)"
   ]
  },
  {
   "cell_type": "markdown",
   "metadata": {
    "slideshow": {
     "slide_type": "slide"
    }
   },
   "source": [
    "# Carbon cycle model validation"
   ]
  },
  {
   "cell_type": "code",
   "execution_count": 2,
   "metadata": {
    "ExecuteTime": {
     "end_time": "2020-03-06T20:27:18.529000Z",
     "start_time": "2020-03-06T20:25:04.177Z"
    },
    "slideshow": {
     "slide_type": "fragment"
    }
   },
   "outputs": [
    {
     "data": {
      "text/plain": [
       "ebc0 (generic function with 1 method)"
      ]
     },
     "execution_count": 2,
     "metadata": {},
     "output_type": "execute_result"
    }
   ],
   "source": [
    "function ebc0(popDen, t, gp,ep,Rp,mp, gc,ec,Rc,mc)\n",
    "    \n",
    "    ## population densities\n",
    "    P = popDen[:1]\n",
    "    M = popDen[:2]\n",
    "    C = popDen[:3]\n",
    "    \n",
    "    ## numerical adaptation to net growth\n",
    "    #if gp <1; gp = 1+gp;end\n",
    "    #if gc <1; gc = 1+gc;end\n",
    "    \n",
    "    ## fluctuation model\n",
    "    dp = P*(gp*ep - Rp - mp)\n",
    "    dm = P*(gp*(1-ep) + mp) + C*(gc*(1-ec)*M + mc)\n",
    "    dc = C*(gc*ec*M - Rc - mc)\n",
    "    \n",
    "    ## non-recoverable elimination\n",
    "    if P <=0; dp=0;end\n",
    "    if C <=0; dc=0;end\n",
    "    \n",
    "    return(sc.array([dp,dm,dc]))\n",
    "end"
   ]
  },
  {
   "cell_type": "code",
   "execution_count": 3,
   "metadata": {
    "ExecuteTime": {
     "end_time": "2020-03-06T20:28:39.584000Z",
     "start_time": "2020-03-06T20:25:04.182Z"
    },
    "scrolled": true,
    "slideshow": {
     "slide_type": "subslide"
    }
   },
   "outputs": [
    {
     "data": {
      "image/svg+xml": [
       "<?xml version=\"1.0\" encoding=\"utf-8\"?>\n",
       "<svg xmlns=\"http://www.w3.org/2000/svg\" xmlns:xlink=\"http://www.w3.org/1999/xlink\" width=\"600\" height=\"400\" viewBox=\"0 0 2400 1600\">\n",
       "<defs>\n",
       "  <clipPath id=\"clip4500\">\n",
       "    <rect x=\"0\" y=\"0\" width=\"2400\" height=\"1600\"/>\n",
       "  </clipPath>\n",
       "</defs>\n",
       "<path clip-path=\"url(#clip4500)\" d=\"\n",
       "M0 1600 L2400 1600 L2400 0 L0 0  Z\n",
       "  \" fill=\"#ffffff\" fill-rule=\"evenodd\" fill-opacity=\"1\"/>\n",
       "<defs>\n",
       "  <clipPath id=\"clip4501\">\n",
       "    <rect x=\"480\" y=\"0\" width=\"1681\" height=\"1600\"/>\n",
       "  </clipPath>\n",
       "</defs>\n",
       "<path clip-path=\"url(#clip4500)\" d=\"\n",
       "M242.516 1425.62 L2352.76 1425.62 L2352.76 183.952 L242.516 183.952  Z\n",
       "  \" fill=\"#ffffff\" fill-rule=\"evenodd\" fill-opacity=\"1\"/>\n",
       "<defs>\n",
       "  <clipPath id=\"clip4502\">\n",
       "    <rect x=\"242\" y=\"183\" width=\"2111\" height=\"1243\"/>\n",
       "  </clipPath>\n",
       "</defs>\n",
       "<polyline clip-path=\"url(#clip4502)\" style=\"stroke:#000000; stroke-width:2; stroke-opacity:0.1; fill:none\" points=\"\n",
       "  282.131,1425.62 282.131,183.952 \n",
       "  \"/>\n",
       "<polyline clip-path=\"url(#clip4502)\" style=\"stroke:#000000; stroke-width:2; stroke-opacity:0.1; fill:none\" points=\"\n",
       "  784.856,1425.62 784.856,183.952 \n",
       "  \"/>\n",
       "<polyline clip-path=\"url(#clip4502)\" style=\"stroke:#000000; stroke-width:2; stroke-opacity:0.1; fill:none\" points=\"\n",
       "  1287.58,1425.62 1287.58,183.952 \n",
       "  \"/>\n",
       "<polyline clip-path=\"url(#clip4502)\" style=\"stroke:#000000; stroke-width:2; stroke-opacity:0.1; fill:none\" points=\"\n",
       "  1790.31,1425.62 1790.31,183.952 \n",
       "  \"/>\n",
       "<polyline clip-path=\"url(#clip4502)\" style=\"stroke:#000000; stroke-width:2; stroke-opacity:0.1; fill:none\" points=\"\n",
       "  2293.03,1425.62 2293.03,183.952 \n",
       "  \"/>\n",
       "<polyline clip-path=\"url(#clip4502)\" style=\"stroke:#000000; stroke-width:2; stroke-opacity:0.1; fill:none\" points=\"\n",
       "  242.516,1390.48 2352.76,1390.48 \n",
       "  \"/>\n",
       "<polyline clip-path=\"url(#clip4502)\" style=\"stroke:#000000; stroke-width:2; stroke-opacity:0.1; fill:none\" points=\"\n",
       "  242.516,1097.63 2352.76,1097.63 \n",
       "  \"/>\n",
       "<polyline clip-path=\"url(#clip4502)\" style=\"stroke:#000000; stroke-width:2; stroke-opacity:0.1; fill:none\" points=\"\n",
       "  242.516,804.785 2352.76,804.785 \n",
       "  \"/>\n",
       "<polyline clip-path=\"url(#clip4502)\" style=\"stroke:#000000; stroke-width:2; stroke-opacity:0.1; fill:none\" points=\"\n",
       "  242.516,511.94 2352.76,511.94 \n",
       "  \"/>\n",
       "<polyline clip-path=\"url(#clip4502)\" style=\"stroke:#000000; stroke-width:2; stroke-opacity:0.1; fill:none\" points=\"\n",
       "  242.516,219.094 2352.76,219.094 \n",
       "  \"/>\n",
       "<polyline clip-path=\"url(#clip4500)\" style=\"stroke:#000000; stroke-width:4; stroke-opacity:1; fill:none\" points=\"\n",
       "  242.516,1425.62 2352.76,1425.62 \n",
       "  \"/>\n",
       "<polyline clip-path=\"url(#clip4500)\" style=\"stroke:#000000; stroke-width:4; stroke-opacity:1; fill:none\" points=\"\n",
       "  242.516,1425.62 242.516,183.952 \n",
       "  \"/>\n",
       "<polyline clip-path=\"url(#clip4500)\" style=\"stroke:#000000; stroke-width:4; stroke-opacity:1; fill:none\" points=\"\n",
       "  282.131,1425.62 282.131,1410.72 \n",
       "  \"/>\n",
       "<polyline clip-path=\"url(#clip4500)\" style=\"stroke:#000000; stroke-width:4; stroke-opacity:1; fill:none\" points=\"\n",
       "  784.856,1425.62 784.856,1410.72 \n",
       "  \"/>\n",
       "<polyline clip-path=\"url(#clip4500)\" style=\"stroke:#000000; stroke-width:4; stroke-opacity:1; fill:none\" points=\"\n",
       "  1287.58,1425.62 1287.58,1410.72 \n",
       "  \"/>\n",
       "<polyline clip-path=\"url(#clip4500)\" style=\"stroke:#000000; stroke-width:4; stroke-opacity:1; fill:none\" points=\"\n",
       "  1790.31,1425.62 1790.31,1410.72 \n",
       "  \"/>\n",
       "<polyline clip-path=\"url(#clip4500)\" style=\"stroke:#000000; stroke-width:4; stroke-opacity:1; fill:none\" points=\"\n",
       "  2293.03,1425.62 2293.03,1410.72 \n",
       "  \"/>\n",
       "<polyline clip-path=\"url(#clip4500)\" style=\"stroke:#000000; stroke-width:4; stroke-opacity:1; fill:none\" points=\"\n",
       "  242.516,1390.48 267.839,1390.48 \n",
       "  \"/>\n",
       "<polyline clip-path=\"url(#clip4500)\" style=\"stroke:#000000; stroke-width:4; stroke-opacity:1; fill:none\" points=\"\n",
       "  242.516,1097.63 267.839,1097.63 \n",
       "  \"/>\n",
       "<polyline clip-path=\"url(#clip4500)\" style=\"stroke:#000000; stroke-width:4; stroke-opacity:1; fill:none\" points=\"\n",
       "  242.516,804.785 267.839,804.785 \n",
       "  \"/>\n",
       "<polyline clip-path=\"url(#clip4500)\" style=\"stroke:#000000; stroke-width:4; stroke-opacity:1; fill:none\" points=\"\n",
       "  242.516,511.94 267.839,511.94 \n",
       "  \"/>\n",
       "<polyline clip-path=\"url(#clip4500)\" style=\"stroke:#000000; stroke-width:4; stroke-opacity:1; fill:none\" points=\"\n",
       "  242.516,219.094 267.839,219.094 \n",
       "  \"/>\n",
       "<g clip-path=\"url(#clip4500)\">\n",
       "<text style=\"fill:#000000; fill-opacity:1; font-family:Arial,Helvetica Neue,Helvetica,sans-serif; font-size:48px; text-anchor:middle;\" transform=\"rotate(0, 282.131, 1479.62)\" x=\"282.131\" y=\"1479.62\">0</text>\n",
       "</g>\n",
       "<g clip-path=\"url(#clip4500)\">\n",
       "<text style=\"fill:#000000; fill-opacity:1; font-family:Arial,Helvetica Neue,Helvetica,sans-serif; font-size:48px; text-anchor:middle;\" transform=\"rotate(0, 784.856, 1479.62)\" x=\"784.856\" y=\"1479.62\">25</text>\n",
       "</g>\n",
       "<g clip-path=\"url(#clip4500)\">\n",
       "<text style=\"fill:#000000; fill-opacity:1; font-family:Arial,Helvetica Neue,Helvetica,sans-serif; font-size:48px; text-anchor:middle;\" transform=\"rotate(0, 1287.58, 1479.62)\" x=\"1287.58\" y=\"1479.62\">50</text>\n",
       "</g>\n",
       "<g clip-path=\"url(#clip4500)\">\n",
       "<text style=\"fill:#000000; fill-opacity:1; font-family:Arial,Helvetica Neue,Helvetica,sans-serif; font-size:48px; text-anchor:middle;\" transform=\"rotate(0, 1790.31, 1479.62)\" x=\"1790.31\" y=\"1479.62\">75</text>\n",
       "</g>\n",
       "<g clip-path=\"url(#clip4500)\">\n",
       "<text style=\"fill:#000000; fill-opacity:1; font-family:Arial,Helvetica Neue,Helvetica,sans-serif; font-size:48px; text-anchor:middle;\" transform=\"rotate(0, 2293.03, 1479.62)\" x=\"2293.03\" y=\"1479.62\">100</text>\n",
       "</g>\n",
       "<g clip-path=\"url(#clip4500)\">\n",
       "<text style=\"fill:#000000; fill-opacity:1; font-family:Arial,Helvetica Neue,Helvetica,sans-serif; font-size:48px; text-anchor:end;\" transform=\"rotate(0, 218.516, 1407.98)\" x=\"218.516\" y=\"1407.98\">0.0</text>\n",
       "</g>\n",
       "<g clip-path=\"url(#clip4500)\">\n",
       "<text style=\"fill:#000000; fill-opacity:1; font-family:Arial,Helvetica Neue,Helvetica,sans-serif; font-size:48px; text-anchor:end;\" transform=\"rotate(0, 218.516, 1115.13)\" x=\"218.516\" y=\"1115.13\">2.5</text>\n",
       "</g>\n",
       "<g clip-path=\"url(#clip4500)\">\n",
       "<text style=\"fill:#000000; fill-opacity:1; font-family:Arial,Helvetica Neue,Helvetica,sans-serif; font-size:48px; text-anchor:end;\" transform=\"rotate(0, 218.516, 822.285)\" x=\"218.516\" y=\"822.285\">5.0</text>\n",
       "</g>\n",
       "<g clip-path=\"url(#clip4500)\">\n",
       "<text style=\"fill:#000000; fill-opacity:1; font-family:Arial,Helvetica Neue,Helvetica,sans-serif; font-size:48px; text-anchor:end;\" transform=\"rotate(0, 218.516, 529.44)\" x=\"218.516\" y=\"529.44\">7.5</text>\n",
       "</g>\n",
       "<g clip-path=\"url(#clip4500)\">\n",
       "<text style=\"fill:#000000; fill-opacity:1; font-family:Arial,Helvetica Neue,Helvetica,sans-serif; font-size:48px; text-anchor:end;\" transform=\"rotate(0, 218.516, 236.594)\" x=\"218.516\" y=\"236.594\">10.0</text>\n",
       "</g>\n",
       "<g clip-path=\"url(#clip4500)\">\n",
       "<text style=\"fill:#000000; fill-opacity:1; font-family:Arial,Helvetica Neue,Helvetica,sans-serif; font-size:84px; text-anchor:middle;\" transform=\"rotate(0, 1297.64, 73.2)\" x=\"1297.64\" y=\"73.2\">Time series on population of phytoplankton (blue),</text>\n",
       "</g>\n",
       "<g clip-path=\"url(#clip4500)\">\n",
       "<text style=\"fill:#000000; fill-opacity:1; font-family:Arial,Helvetica Neue,Helvetica,sans-serif; font-size:84px; text-anchor:middle;\" transform=\"rotate(0, 1297.64, 163.92)\" x=\"1297.64\" y=\"163.92\">organic matter (orange) and E. coli (green)</text>\n",
       "</g>\n",
       "<g clip-path=\"url(#clip4500)\">\n",
       "<text style=\"fill:#000000; fill-opacity:1; font-family:Arial,Helvetica Neue,Helvetica,sans-serif; font-size:66px; text-anchor:middle;\" transform=\"rotate(0, 1297.64, 1559.48)\" x=\"1297.64\" y=\"1559.48\">time steps</text>\n",
       "</g>\n",
       "<g clip-path=\"url(#clip4500)\">\n",
       "<text style=\"fill:#000000; fill-opacity:1; font-family:Arial,Helvetica Neue,Helvetica,sans-serif; font-size:66px; text-anchor:middle;\" transform=\"rotate(-90, 89.2861, 804.785)\" x=\"89.2861\" y=\"804.785\">carbon density</text>\n",
       "</g>\n",
       "<polyline clip-path=\"url(#clip4502)\" style=\"stroke:#009af9; stroke-width:4; stroke-opacity:1; fill:none\" points=\"\n",
       "  302.24,804.785 322.349,789.685 342.458,774.196 362.567,769.929 382.676,1390.48 402.785,1390.48 422.894,1390.48 \n",
       "  \"/>\n",
       "<polyline clip-path=\"url(#clip4502)\" style=\"stroke:#009af9; stroke-width:4; stroke-opacity:1; fill:none\" points=\"\n",
       "  463.112,1390.48 483.221,1390.48 503.33,1390.48 523.439,1390.48 543.548,1390.48 563.657,1390.48 583.766,1390.48 603.875,1390.48 \n",
       "  \"/>\n",
       "<polyline clip-path=\"url(#clip4502)\" style=\"stroke:#009af9; stroke-width:4; stroke-opacity:1; fill:none\" points=\"\n",
       "  644.093,1390.48 664.202,1390.48 684.311,1390.48 704.42,1390.48 724.529,1390.48 744.638,1390.48 764.747,1390.48 784.856,1390.48 804.965,1390.48 825.074,1390.48 \n",
       "  \n",
       "  \"/>\n",
       "<polyline clip-path=\"url(#clip4502)\" style=\"stroke:#009af9; stroke-width:4; stroke-opacity:1; fill:none\" points=\"\n",
       "  925.619,1390.48 945.728,1390.48 965.838,1390.48 985.947,1390.48 \n",
       "  \"/>\n",
       "<polyline clip-path=\"url(#clip4502)\" style=\"stroke:#009af9; stroke-width:4; stroke-opacity:1; fill:none\" points=\"\n",
       "  1066.38,1390.48 1086.49,1390.48 1106.6,1390.48 \n",
       "  \"/>\n",
       "<polyline clip-path=\"url(#clip4502)\" style=\"stroke:#009af9; stroke-width:4; stroke-opacity:1; fill:none\" points=\"\n",
       "  1207.15,1390.48 1227.25,1390.48 1247.36,1390.48 1267.47,1390.48 1287.58,1390.48 1307.69,1390.48 \n",
       "  \"/>\n",
       "<polyline clip-path=\"url(#clip4502)\" style=\"stroke:#009af9; stroke-width:4; stroke-opacity:1; fill:none\" points=\"\n",
       "  1468.56,1390.48 1488.67,1390.48 1508.78,1390.48 1528.89,1390.48 1549,1390.48 1569.11,1390.48 1589.22,1390.48 1609.33,1390.48 1629.43,1390.48 \n",
       "  \"/>\n",
       "<polyline clip-path=\"url(#clip4502)\" style=\"stroke:#009af9; stroke-width:4; stroke-opacity:1; fill:none\" points=\"\n",
       "  1669.65,1390.48 1689.76,1390.48 1709.87,1390.48 1729.98,1390.48 1750.09,1390.48 1770.2,1390.48 1790.31,1390.48 1810.42,1390.48 1830.52,1390.48 1850.63,1390.48 \n",
       "  \n",
       "  \"/>\n",
       "<polyline clip-path=\"url(#clip4502)\" style=\"stroke:#009af9; stroke-width:4; stroke-opacity:1; fill:none\" points=\"\n",
       "  1890.85,1390.48 1910.96,1390.48 1931.07,1390.48 1951.18,1390.48 1971.29,1390.48 1991.4,1390.48 \n",
       "  \"/>\n",
       "<polyline clip-path=\"url(#clip4502)\" style=\"stroke:#009af9; stroke-width:4; stroke-opacity:1; fill:none\" points=\"\n",
       "  2031.62,1390.48 2051.72,1390.48 2071.83,1390.48 \n",
       "  \"/>\n",
       "<polyline clip-path=\"url(#clip4502)\" style=\"stroke:#009af9; stroke-width:4; stroke-opacity:1; fill:none\" points=\"\n",
       "  2112.05,1390.48 2132.16,1390.48 2152.27,1390.48 2172.38,1390.48 2192.49,1390.48 \n",
       "  \"/>\n",
       "<polyline clip-path=\"url(#clip4502)\" style=\"stroke:#009af9; stroke-width:4; stroke-opacity:1; fill:none\" points=\"\n",
       "  2232.71,1390.48 2252.81,1390.48 2272.92,1390.48 2293.03,1390.48 \n",
       "  \"/>\n",
       "<polyline clip-path=\"url(#clip4502)\" style=\"stroke:#e26f46; stroke-width:4; stroke-opacity:1; fill:none\" points=\"\n",
       "  302.24,804.785 322.349,506.209 342.458,-1766.54 362.567,-3.63747e+12 382.676,1390.48 402.785,1390.48 422.894,1390.48 443.003,-9.87426e+254 463.112,1390.48 483.221,1390.48 \n",
       "  503.33,1390.48 523.439,1390.48 543.548,1390.48 563.657,1390.48 583.766,1390.48 603.875,1390.48 623.984,1390.48 644.093,1390.48 664.202,1390.48 684.311,1390.48 \n",
       "  704.42,1390.48 724.529,1390.48 744.638,1390.48 764.747,1390.48 784.856,1390.48 804.965,1390.48 825.074,1390.48 845.183,-1.10996e+221 865.292,1390.48 885.401,-1.14299e+202 \n",
       "  905.51,-3.35461e+244 925.619,1390.48 945.728,1390.48 965.838,1390.48 985.947,1390.48 1006.06,-8.59088e+223 1026.16,1390.48 1046.27,-2.38802e+163 1066.38,1390.48 1086.49,1390.48 \n",
       "  1106.6,1390.48 1126.71,1390.48 1146.82,1390.48 1166.93,1390.48 1187.04,1390.48 1207.15,1390.48 1227.25,1390.48 1247.36,1390.48 1267.47,1390.48 1287.58,1390.48 \n",
       "  1307.69,1390.48 \n",
       "  \"/>\n",
       "<polyline clip-path=\"url(#clip4502)\" style=\"stroke:#e26f46; stroke-width:4; stroke-opacity:1; fill:none\" points=\"\n",
       "  1468.56,1390.48 1488.67,1390.48 1508.78,1390.48 1528.89,1390.48 1549,1390.48 1569.11,1390.48 1589.22,1390.48 1609.33,1390.48 1629.43,1390.48 1649.54,1390.48 \n",
       "  1669.65,1390.48 1689.76,1390.48 1709.87,1390.48 1729.98,1390.48 1750.09,1390.48 1770.2,1390.48 1790.31,1390.48 1810.42,1390.48 1830.52,1390.48 1850.63,1390.48 \n",
       "  1870.74,1390.48 1890.85,1390.48 1910.96,1390.48 1931.07,1390.48 1951.18,1390.48 1971.29,1390.48 1991.4,1390.48 2011.51,1390.48 2031.62,1390.48 2051.72,1390.48 \n",
       "  2071.83,1390.48 \n",
       "  \"/>\n",
       "<polyline clip-path=\"url(#clip4502)\" style=\"stroke:#e26f46; stroke-width:4; stroke-opacity:1; fill:none\" points=\"\n",
       "  2112.05,1390.48 2132.16,1390.48 2152.27,1390.48 2172.38,1390.48 2192.49,1390.48 \n",
       "  \"/>\n",
       "<polyline clip-path=\"url(#clip4502)\" style=\"stroke:#e26f46; stroke-width:4; stroke-opacity:1; fill:none\" points=\"\n",
       "  2232.71,1390.48 2252.81,1390.48 2272.92,1390.48 2293.03,1390.48 \n",
       "  \"/>\n",
       "<polyline clip-path=\"url(#clip4502)\" style=\"stroke:#3da44d; stroke-width:4; stroke-opacity:1; fill:none\" points=\"\n",
       "  302.24,804.785 322.349,67.0153 342.458,-7439.21 362.567,-1.45499e+13 382.676,1390.48 402.785,1390.48 422.894,1390.48 443.003,-8.6225e+225 463.112,1390.48 483.221,1390.48 \n",
       "  503.33,1390.48 523.439,1390.48 543.548,1390.48 563.657,1390.48 583.766,1390.48 603.875,1390.48 623.984,-1.95161e+67 644.093,1390.48 664.202,1390.48 684.311,1390.48 \n",
       "  704.42,1390.48 724.529,1390.48 744.638,1390.48 764.747,1390.48 784.856,1390.48 804.965,1390.48 825.074,1390.48 845.183,-9.17961e+201 865.292,-5.41128e+283 885.401,-2.65581e+244 \n",
       "  905.51,-5.75411e+28 925.619,1390.48 945.728,1390.48 965.838,1390.48 985.947,1390.48 1006.06,-8.05173e+254 1026.16,1390.48 1046.27,-4.19941e+74 1066.38,1390.48 1086.49,1390.48 \n",
       "  1106.6,1390.48 1126.71,-8.96929e+170 1146.82,1390.48 1166.93,1390.48 \n",
       "  \"/>\n",
       "<polyline clip-path=\"url(#clip4502)\" style=\"stroke:#3da44d; stroke-width:4; stroke-opacity:1; fill:none\" points=\"\n",
       "  1207.15,1390.48 1227.25,1390.48 1247.36,1390.48 1267.47,1390.48 1287.58,1390.48 1307.69,1390.48 1327.8,1390.48 1347.91,1390.48 \n",
       "  \"/>\n",
       "<polyline clip-path=\"url(#clip4502)\" style=\"stroke:#3da44d; stroke-width:4; stroke-opacity:1; fill:none\" points=\"\n",
       "  1468.56,1390.48 1488.67,1390.48 1508.78,1390.48 1528.89,1390.48 1549,1390.48 1569.11,1390.48 1589.22,1390.48 1609.33,1390.48 1629.43,1390.48 1649.54,1390.48 \n",
       "  1669.65,1390.48 1689.76,1390.48 1709.87,1390.48 1729.98,1390.48 1750.09,1390.48 1770.2,1390.48 1790.31,1390.48 1810.42,1390.48 1830.52,1390.48 1850.63,1390.48 \n",
       "  1870.74,1390.48 1890.85,1390.48 1910.96,1390.48 1931.07,1390.48 1951.18,1390.48 1971.29,1390.48 1991.4,1390.48 \n",
       "  \"/>\n",
       "<polyline clip-path=\"url(#clip4502)\" style=\"stroke:#3da44d; stroke-width:4; stroke-opacity:1; fill:none\" points=\"\n",
       "  2031.62,1390.48 2051.72,1390.48 2071.83,1390.48 \n",
       "  \"/>\n",
       "<polyline clip-path=\"url(#clip4502)\" style=\"stroke:#3da44d; stroke-width:4; stroke-opacity:1; fill:none\" points=\"\n",
       "  2112.05,1390.48 2132.16,1390.48 2152.27,1390.48 2172.38,1390.48 2192.49,1390.48 \n",
       "  \"/>\n",
       "<polyline clip-path=\"url(#clip4502)\" style=\"stroke:#3da44d; stroke-width:4; stroke-opacity:1; fill:none\" points=\"\n",
       "  2232.71,1390.48 2252.81,1390.48 2272.92,1390.48 2293.03,1390.48 \n",
       "  \"/>\n",
       "</svg>\n"
      ]
     },
     "execution_count": 3,
     "metadata": {},
     "output_type": "execute_result"
    }
   ],
   "source": [
    "## model testing\n",
    "t = sc.linspace(0, 100, 100) # time series\n",
    "\n",
    "## parameters\n",
    "pops = sc.array([5,5,5]) # kgC/m^3 -- carbon density\n",
    "gp = .4/10 # pure growth rate [phytoplankton]\n",
    "ep = .7 # nutrient-handling efficiency [phytoplankton]\n",
    "Rp = .14/100 # respiration loss [phytoplankton]\n",
    "mp = .14/100 # cellular death rate [phytoplankton]\n",
    "gc = .2 # pure growth rate [E. coli]\n",
    "ec = .8 # nutrient-handling efficiency [E. coli]\n",
    "Rc = .8/10 # respiration loss [E. coli]\n",
    "mc = .8/10 # cellular death rate [E. coli]\n",
    "\n",
    "pops, infodict = itg.odeint(ebc0, pops, t, full_output=true, args=(gp,ep,Rp,mp, gc,ec,Rc,mc))\n",
    "plot(pops, xlabel=\"time steps\", ylabel=\"carbon density\", title=\"Time series on population of phytoplankton (blue),\\norganic matter (orange) and E. coli (green)\", label=\"\", ylim=[0,10])"
   ]
  },
  {
   "cell_type": "markdown",
   "metadata": {
    "slideshow": {
     "slide_type": "slide"
    }
   },
   "source": [
    "# Simple mathematical approach\n",
    "![](graph/20200302_DSC_0086.JPG)"
   ]
  },
  {
   "cell_type": "markdown",
   "metadata": {
    "slideshow": {
     "slide_type": "slide"
    }
   },
   "source": [
    "model derivation\n",
    "* equations have not accommodate logistic characteristics\n",
    "* there's only one superscript level of population (order of 1) and all terms are having one composition of population $\\rightarrow$ stability = when population extinct\n",
    "* organic matter concentration $M$ does not match between the two equations"
   ]
  }
 ],
 "metadata": {
  "celltoolbar": "Slideshow",
  "kernelspec": {
   "display_name": "Julia 1.3.1",
   "language": "julia",
   "name": "julia-1.3"
  },
  "language_info": {
   "file_extension": ".jl",
   "mimetype": "application/julia",
   "name": "julia",
   "version": "1.3.1"
  },
  "latex_envs": {
   "LaTeX_envs_menu_present": true,
   "autoclose": true,
   "autocomplete": true,
   "bibliofile": "biblio.bib",
   "cite_by": "apalike",
   "current_citInitial": 1,
   "eqLabelWithNumbers": true,
   "eqNumInitial": 1,
   "hotkeys": {
    "equation": "Ctrl-E",
    "itemize": "Ctrl-I"
   },
   "labels_anchors": false,
   "latex_user_defs": false,
   "report_style_numbering": true,
   "user_envs_cfg": true
  },
  "toc": {
   "base_numbering": 1,
   "nav_menu": {},
   "number_sections": true,
   "sideBar": true,
   "skip_h1_title": false,
   "title_cell": "Table of Contents",
   "title_sidebar": "Contents",
   "toc_cell": true,
   "toc_position": {},
   "toc_section_display": true,
   "toc_window_display": false
  },
  "varInspector": {
   "cols": {
    "lenName": 16,
    "lenType": 16,
    "lenVar": 40
   },
   "kernels_config": {
    "python": {
     "delete_cmd_postfix": "",
     "delete_cmd_prefix": "del ",
     "library": "var_list.py",
     "varRefreshCmd": "print(var_dic_list())"
    },
    "r": {
     "delete_cmd_postfix": ") ",
     "delete_cmd_prefix": "rm(",
     "library": "var_list.r",
     "varRefreshCmd": "cat(var_dic_list()) "
    }
   },
   "types_to_exclude": [
    "module",
    "function",
    "builtin_function_or_method",
    "instance",
    "_Feature"
   ],
   "window_display": true
  }
 },
 "nbformat": 4,
 "nbformat_minor": 4
}
