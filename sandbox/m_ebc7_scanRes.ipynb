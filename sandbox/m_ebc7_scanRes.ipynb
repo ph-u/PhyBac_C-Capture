{
 "cells": [
  {
   "cell_type": "markdown",
   "metadata": {
    "toc": true
   },
   "source": [
    "<h1>Table of Contents<span class=\"tocSkip\"></span></h1>\n",
    "<div class=\"toc\"><ul class=\"toc-item\"><li><span><a href=\"#aim-and-objective\" data-toc-modified-id=\"aim-and-objective-1\"><span class=\"toc-item-num\">1&nbsp;&nbsp;</span>aim and objective</a></span></li><li><span><a href=\"#env-set-up,-data-exploration\" data-toc-modified-id=\"env-set-up,-data-exploration-2\"><span class=\"toc-item-num\">2&nbsp;&nbsp;</span>env set-up, data exploration</a></span></li></ul></div>"
   ]
  },
  {
   "cell_type": "markdown",
   "metadata": {},
   "source": [
    "# aim and objective\n",
    "scan result animated surface plot scan to show individual factors effects  \n",
    "scan result only contains resultant carbon density $>$0.1 gCm$^{-3}$ in every carbon pools considered (i.e. org-C, org-P, org-B)\n",
    "# env set-up, data exploration"
   ]
  },
  {
   "cell_type": "code",
   "execution_count": 1,
   "metadata": {
    "ExecuteTime": {
     "end_time": "2020-04-15T13:37:48.180000+01:00",
     "start_time": "2020-04-15T12:37:21.225Z"
    }
   },
   "outputs": [
    {
     "name": "stderr",
     "output_type": "stream",
     "text": [
      "┌ Info: Precompiling RCall [6f49c342-dc21-5d91-9882-a32aef131414]\n",
      "└ @ Base loading.jl:1273\n"
     ]
    }
   ],
   "source": [
    "using DataFrames, CSV, RCall, Plots"
   ]
  },
  {
   "cell_type": "code",
   "execution_count": 2,
   "metadata": {
    "ExecuteTime": {
     "end_time": "2020-04-15T13:38:05.067000+01:00",
     "start_time": "2020-04-15T12:37:21.233Z"
    }
   },
   "outputs": [
    {
     "data": {
      "text/html": [
       "<table class=\"data-frame\"><thead><tr><th></th><th>x</th><th>e_PR</th><th>e_P</th><th>g_P</th><th>a_P</th><th>e_BR</th><th>e_B</th><th>g_B</th><th>m_B</th></tr><tr><th></th><th>Float64</th><th>Float64</th><th>Float64</th><th>Float64</th><th>Float64</th><th>Float64</th><th>Float64</th><th>Float64</th><th>Float64</th></tr></thead><tbody><p>737,870 rows × 13 columns (omitted printing of 4 columns)</p><tr><th>1</th><td>0.0</td><td>0.1</td><td>0.1</td><td>0.1</td><td>0.001</td><td>0.1</td><td>0.1</td><td>0.1</td><td>0.001</td></tr><tr><th>2</th><td>0.0</td><td>0.1</td><td>0.1</td><td>0.1</td><td>0.001</td><td>0.1</td><td>0.1</td><td>0.6</td><td>0.001</td></tr><tr><th>3</th><td>0.0</td><td>0.1</td><td>0.1</td><td>0.1</td><td>0.001</td><td>0.1</td><td>0.6</td><td>0.1</td><td>0.001</td></tr><tr><th>4</th><td>0.0</td><td>0.1</td><td>0.1</td><td>0.1</td><td>0.001</td><td>0.6</td><td>0.1</td><td>0.1</td><td>0.001</td></tr><tr><th>5</th><td>0.0</td><td>0.1</td><td>0.1</td><td>0.6</td><td>0.001</td><td>0.1</td><td>0.1</td><td>0.1</td><td>0.001</td></tr><tr><th>6</th><td>0.0</td><td>0.1</td><td>0.1</td><td>0.6</td><td>0.001</td><td>0.1</td><td>0.1</td><td>0.6</td><td>0.001</td></tr><tr><th>7</th><td>0.0</td><td>0.1</td><td>0.1</td><td>0.6</td><td>0.001</td><td>0.1</td><td>0.6</td><td>0.1</td><td>0.001</td></tr><tr><th>8</th><td>0.0</td><td>0.1</td><td>0.1</td><td>0.6</td><td>0.001</td><td>0.1</td><td>0.6</td><td>0.1</td><td>0.101</td></tr><tr><th>9</th><td>0.0</td><td>0.1</td><td>0.1</td><td>0.6</td><td>0.001</td><td>0.1</td><td>0.6</td><td>0.1</td><td>0.201</td></tr><tr><th>10</th><td>0.0</td><td>0.1</td><td>0.1</td><td>0.6</td><td>0.001</td><td>0.1</td><td>0.6</td><td>0.6</td><td>0.101</td></tr><tr><th>11</th><td>0.0</td><td>0.1</td><td>0.1</td><td>0.6</td><td>0.001</td><td>0.1</td><td>0.6</td><td>0.6</td><td>0.201</td></tr><tr><th>12</th><td>0.0</td><td>0.1</td><td>0.1</td><td>0.6</td><td>0.001</td><td>0.1</td><td>0.6</td><td>1.1</td><td>0.101</td></tr><tr><th>13</th><td>0.0</td><td>0.1</td><td>0.1</td><td>0.6</td><td>0.001</td><td>0.1</td><td>0.6</td><td>1.1</td><td>0.201</td></tr><tr><th>14</th><td>0.0</td><td>0.1</td><td>0.1</td><td>0.6</td><td>0.001</td><td>0.1</td><td>0.6</td><td>1.6</td><td>0.101</td></tr><tr><th>15</th><td>0.0</td><td>0.1</td><td>0.1</td><td>0.6</td><td>0.001</td><td>0.1</td><td>0.6</td><td>1.6</td><td>0.201</td></tr><tr><th>16</th><td>0.0</td><td>0.1</td><td>0.1</td><td>0.6</td><td>0.001</td><td>0.1</td><td>0.6</td><td>2.1</td><td>0.101</td></tr><tr><th>17</th><td>0.0</td><td>0.1</td><td>0.1</td><td>0.6</td><td>0.001</td><td>0.1</td><td>0.6</td><td>2.1</td><td>0.201</td></tr><tr><th>18</th><td>0.0</td><td>0.1</td><td>0.1</td><td>0.6</td><td>0.001</td><td>0.1</td><td>0.6</td><td>2.6</td><td>0.101</td></tr><tr><th>19</th><td>0.0</td><td>0.1</td><td>0.1</td><td>0.6</td><td>0.001</td><td>0.1</td><td>0.6</td><td>2.6</td><td>0.201</td></tr><tr><th>20</th><td>0.0</td><td>0.1</td><td>0.1</td><td>0.6</td><td>0.001</td><td>0.1</td><td>0.6</td><td>3.1</td><td>0.101</td></tr><tr><th>21</th><td>0.0</td><td>0.1</td><td>0.1</td><td>0.6</td><td>0.001</td><td>0.1</td><td>0.6</td><td>3.1</td><td>0.201</td></tr><tr><th>22</th><td>0.0</td><td>0.1</td><td>0.1</td><td>0.6</td><td>0.001</td><td>0.1</td><td>0.6</td><td>3.6</td><td>0.101</td></tr><tr><th>23</th><td>0.0</td><td>0.1</td><td>0.1</td><td>0.6</td><td>0.001</td><td>0.1</td><td>0.6</td><td>3.6</td><td>0.201</td></tr><tr><th>24</th><td>0.0</td><td>0.1</td><td>0.1</td><td>0.6</td><td>0.001</td><td>0.1</td><td>0.6</td><td>4.1</td><td>0.101</td></tr><tr><th>25</th><td>0.0</td><td>0.1</td><td>0.1</td><td>0.6</td><td>0.001</td><td>0.1</td><td>0.6</td><td>4.1</td><td>0.201</td></tr><tr><th>26</th><td>0.0</td><td>0.1</td><td>0.1</td><td>0.6</td><td>0.001</td><td>0.1</td><td>0.6</td><td>4.6</td><td>0.101</td></tr><tr><th>27</th><td>0.0</td><td>0.1</td><td>0.1</td><td>0.6</td><td>0.001</td><td>0.1</td><td>0.6</td><td>4.6</td><td>0.201</td></tr><tr><th>28</th><td>0.0</td><td>0.1</td><td>0.1</td><td>0.6</td><td>0.001</td><td>0.1</td><td>0.6</td><td>5.1</td><td>0.101</td></tr><tr><th>29</th><td>0.0</td><td>0.1</td><td>0.1</td><td>0.6</td><td>0.001</td><td>0.1</td><td>0.6</td><td>5.1</td><td>0.201</td></tr><tr><th>30</th><td>0.0</td><td>0.1</td><td>0.1</td><td>0.6</td><td>0.001</td><td>0.1</td><td>0.6</td><td>5.6</td><td>0.101</td></tr><tr><th>&vellip;</th><td>&vellip;</td><td>&vellip;</td><td>&vellip;</td><td>&vellip;</td><td>&vellip;</td><td>&vellip;</td><td>&vellip;</td><td>&vellip;</td><td>&vellip;</td></tr></tbody></table>"
      ],
      "text/latex": [
       "\\begin{tabular}{r|cccccccccc}\n",
       "\t& x & e\\_PR & e\\_P & g\\_P & a\\_P & e\\_BR & e\\_B & g\\_B & m\\_B & \\\\\n",
       "\t\\hline\n",
       "\t& Float64 & Float64 & Float64 & Float64 & Float64 & Float64 & Float64 & Float64 & Float64 & \\\\\n",
       "\t\\hline\n",
       "\t1 & 0.0 & 0.1 & 0.1 & 0.1 & 0.001 & 0.1 & 0.1 & 0.1 & 0.001 & $\\dots$ \\\\\n",
       "\t2 & 0.0 & 0.1 & 0.1 & 0.1 & 0.001 & 0.1 & 0.1 & 0.6 & 0.001 & $\\dots$ \\\\\n",
       "\t3 & 0.0 & 0.1 & 0.1 & 0.1 & 0.001 & 0.1 & 0.6 & 0.1 & 0.001 & $\\dots$ \\\\\n",
       "\t4 & 0.0 & 0.1 & 0.1 & 0.1 & 0.001 & 0.6 & 0.1 & 0.1 & 0.001 & $\\dots$ \\\\\n",
       "\t5 & 0.0 & 0.1 & 0.1 & 0.6 & 0.001 & 0.1 & 0.1 & 0.1 & 0.001 & $\\dots$ \\\\\n",
       "\t6 & 0.0 & 0.1 & 0.1 & 0.6 & 0.001 & 0.1 & 0.1 & 0.6 & 0.001 & $\\dots$ \\\\\n",
       "\t7 & 0.0 & 0.1 & 0.1 & 0.6 & 0.001 & 0.1 & 0.6 & 0.1 & 0.001 & $\\dots$ \\\\\n",
       "\t8 & 0.0 & 0.1 & 0.1 & 0.6 & 0.001 & 0.1 & 0.6 & 0.1 & 0.101 & $\\dots$ \\\\\n",
       "\t9 & 0.0 & 0.1 & 0.1 & 0.6 & 0.001 & 0.1 & 0.6 & 0.1 & 0.201 & $\\dots$ \\\\\n",
       "\t10 & 0.0 & 0.1 & 0.1 & 0.6 & 0.001 & 0.1 & 0.6 & 0.6 & 0.101 & $\\dots$ \\\\\n",
       "\t11 & 0.0 & 0.1 & 0.1 & 0.6 & 0.001 & 0.1 & 0.6 & 0.6 & 0.201 & $\\dots$ \\\\\n",
       "\t12 & 0.0 & 0.1 & 0.1 & 0.6 & 0.001 & 0.1 & 0.6 & 1.1 & 0.101 & $\\dots$ \\\\\n",
       "\t13 & 0.0 & 0.1 & 0.1 & 0.6 & 0.001 & 0.1 & 0.6 & 1.1 & 0.201 & $\\dots$ \\\\\n",
       "\t14 & 0.0 & 0.1 & 0.1 & 0.6 & 0.001 & 0.1 & 0.6 & 1.6 & 0.101 & $\\dots$ \\\\\n",
       "\t15 & 0.0 & 0.1 & 0.1 & 0.6 & 0.001 & 0.1 & 0.6 & 1.6 & 0.201 & $\\dots$ \\\\\n",
       "\t16 & 0.0 & 0.1 & 0.1 & 0.6 & 0.001 & 0.1 & 0.6 & 2.1 & 0.101 & $\\dots$ \\\\\n",
       "\t17 & 0.0 & 0.1 & 0.1 & 0.6 & 0.001 & 0.1 & 0.6 & 2.1 & 0.201 & $\\dots$ \\\\\n",
       "\t18 & 0.0 & 0.1 & 0.1 & 0.6 & 0.001 & 0.1 & 0.6 & 2.6 & 0.101 & $\\dots$ \\\\\n",
       "\t19 & 0.0 & 0.1 & 0.1 & 0.6 & 0.001 & 0.1 & 0.6 & 2.6 & 0.201 & $\\dots$ \\\\\n",
       "\t20 & 0.0 & 0.1 & 0.1 & 0.6 & 0.001 & 0.1 & 0.6 & 3.1 & 0.101 & $\\dots$ \\\\\n",
       "\t21 & 0.0 & 0.1 & 0.1 & 0.6 & 0.001 & 0.1 & 0.6 & 3.1 & 0.201 & $\\dots$ \\\\\n",
       "\t22 & 0.0 & 0.1 & 0.1 & 0.6 & 0.001 & 0.1 & 0.6 & 3.6 & 0.101 & $\\dots$ \\\\\n",
       "\t23 & 0.0 & 0.1 & 0.1 & 0.6 & 0.001 & 0.1 & 0.6 & 3.6 & 0.201 & $\\dots$ \\\\\n",
       "\t24 & 0.0 & 0.1 & 0.1 & 0.6 & 0.001 & 0.1 & 0.6 & 4.1 & 0.101 & $\\dots$ \\\\\n",
       "\t25 & 0.0 & 0.1 & 0.1 & 0.6 & 0.001 & 0.1 & 0.6 & 4.1 & 0.201 & $\\dots$ \\\\\n",
       "\t26 & 0.0 & 0.1 & 0.1 & 0.6 & 0.001 & 0.1 & 0.6 & 4.6 & 0.101 & $\\dots$ \\\\\n",
       "\t27 & 0.0 & 0.1 & 0.1 & 0.6 & 0.001 & 0.1 & 0.6 & 4.6 & 0.201 & $\\dots$ \\\\\n",
       "\t28 & 0.0 & 0.1 & 0.1 & 0.6 & 0.001 & 0.1 & 0.6 & 5.1 & 0.101 & $\\dots$ \\\\\n",
       "\t29 & 0.0 & 0.1 & 0.1 & 0.6 & 0.001 & 0.1 & 0.6 & 5.1 & 0.201 & $\\dots$ \\\\\n",
       "\t30 & 0.0 & 0.1 & 0.1 & 0.6 & 0.001 & 0.1 & 0.6 & 5.6 & 0.101 & $\\dots$ \\\\\n",
       "\t$\\dots$ & $\\dots$ & $\\dots$ & $\\dots$ & $\\dots$ & $\\dots$ & $\\dots$ & $\\dots$ & $\\dots$ & $\\dots$ &  \\\\\n",
       "\\end{tabular}\n"
      ],
      "text/plain": [
       "737870×13 DataFrame. Omitted printing of 6 columns\n",
       "│ Row    │ x       │ e_PR    │ e_P     │ g_P     │ a_P     │ e_BR    │ e_B     │\n",
       "│        │ \u001b[90mFloat64\u001b[39m │ \u001b[90mFloat64\u001b[39m │ \u001b[90mFloat64\u001b[39m │ \u001b[90mFloat64\u001b[39m │ \u001b[90mFloat64\u001b[39m │ \u001b[90mFloat64\u001b[39m │ \u001b[90mFloat64\u001b[39m │\n",
       "├────────┼─────────┼─────────┼─────────┼─────────┼─────────┼─────────┼─────────┤\n",
       "│ 1      │ 0.0     │ 0.1     │ 0.1     │ 0.1     │ 0.001   │ 0.1     │ 0.1     │\n",
       "│ 2      │ 0.0     │ 0.1     │ 0.1     │ 0.1     │ 0.001   │ 0.1     │ 0.1     │\n",
       "│ 3      │ 0.0     │ 0.1     │ 0.1     │ 0.1     │ 0.001   │ 0.1     │ 0.6     │\n",
       "│ 4      │ 0.0     │ 0.1     │ 0.1     │ 0.1     │ 0.001   │ 0.6     │ 0.1     │\n",
       "│ 5      │ 0.0     │ 0.1     │ 0.1     │ 0.6     │ 0.001   │ 0.1     │ 0.1     │\n",
       "│ 6      │ 0.0     │ 0.1     │ 0.1     │ 0.6     │ 0.001   │ 0.1     │ 0.1     │\n",
       "│ 7      │ 0.0     │ 0.1     │ 0.1     │ 0.6     │ 0.001   │ 0.1     │ 0.6     │\n",
       "│ 8      │ 0.0     │ 0.1     │ 0.1     │ 0.6     │ 0.001   │ 0.1     │ 0.6     │\n",
       "│ 9      │ 0.0     │ 0.1     │ 0.1     │ 0.6     │ 0.001   │ 0.1     │ 0.6     │\n",
       "│ 10     │ 0.0     │ 0.1     │ 0.1     │ 0.6     │ 0.001   │ 0.1     │ 0.6     │\n",
       "⋮\n",
       "│ 737860 │ 1.0     │ 0.6     │ 0.6     │ 9.6     │ 0.901   │ 0.6     │ 0.6     │\n",
       "│ 737861 │ 1.0     │ 0.6     │ 0.6     │ 9.6     │ 0.901   │ 0.6     │ 0.6     │\n",
       "│ 737862 │ 1.0     │ 0.6     │ 0.6     │ 9.6     │ 0.901   │ 0.6     │ 0.6     │\n",
       "│ 737863 │ 1.0     │ 0.6     │ 0.6     │ 9.6     │ 0.901   │ 0.6     │ 0.6     │\n",
       "│ 737864 │ 1.0     │ 0.6     │ 0.6     │ 9.6     │ 0.901   │ 0.6     │ 0.6     │\n",
       "│ 737865 │ 1.0     │ 0.6     │ 0.6     │ 9.6     │ 0.901   │ 0.6     │ 0.6     │\n",
       "│ 737866 │ 1.0     │ 0.6     │ 0.6     │ 9.6     │ 0.901   │ 0.6     │ 0.6     │\n",
       "│ 737867 │ 1.0     │ 0.6     │ 0.6     │ 9.6     │ 0.901   │ 0.6     │ 0.6     │\n",
       "│ 737868 │ 1.0     │ 0.6     │ 0.6     │ 9.6     │ 0.901   │ 0.6     │ 0.6     │\n",
       "│ 737869 │ 1.0     │ 0.6     │ 0.6     │ 9.6     │ 0.901   │ 0.6     │ 0.6     │\n",
       "│ 737870 │ 1.0     │ 0.6     │ 0.6     │ 9.6     │ 0.901   │ 0.6     │ 0.6     │"
      ]
     },
     "execution_count": 2,
     "metadata": {},
     "output_type": "execute_result"
    }
   ],
   "source": [
    "rAw = CSV.read(\"../result/maxYield_0.1.csv\")"
   ]
  },
  {
   "cell_type": "code",
   "execution_count": 3,
   "metadata": {
    "ExecuteTime": {
     "end_time": "2020-04-15T13:38:06.612000+01:00",
     "start_time": "2020-04-15T12:37:21.238Z"
    }
   },
   "outputs": [
    {
     "data": {
      "text/plain": [
       "Dict{String,Array{Float64,1}} with 9 entries:\n",
       "  \"mB\"  => [0.001, 0.101, 0.201, 0.301, 0.401, 0.501, 0.601, 0.701, 0.801, 0.90…\n",
       "  \"ePR\" => [0.1, 0.6]\n",
       "  \"eP\"  => [0.1, 0.6]\n",
       "  \"gP\"  => [0.1, 0.6, 1.1, 1.6, 2.1, 2.6, 3.1, 3.6, 4.1, 4.6, 5.1, 5.6, 6.1, 6.…\n",
       "  \"x\"   => [0.0, 0.5, 1.0]\n",
       "  \"eB\"  => [0.1, 0.6]\n",
       "  \"gB\"  => [0.1, 0.6, 1.1, 1.6, 2.1, 2.6, 3.1, 3.6, 4.1, 4.6, 5.1, 5.6, 6.1, 6.…\n",
       "  \"aP\"  => [0.001, 0.101, 0.201, 0.301, 0.401, 0.501, 0.601, 0.701, 0.801, 0.90…\n",
       "  \"eBR\" => [0.1, 0.6]"
      ]
     },
     "execution_count": 3,
     "metadata": {},
     "output_type": "execute_result"
    }
   ],
   "source": [
    "Dict(\n",
    "    \"x\" => unique(rAw[:,1]),\n",
    "    \"ePR\" => unique(rAw[:,2]),\n",
    "    \"eP\" => unique(rAw[:,3]),\n",
    "    \"gP\" => unique(rAw[:,4]),\n",
    "    \"aP\" => unique(rAw[:,5]),\n",
    "    \"eBR\" => unique(rAw[:,6]),\n",
    "    \"eB\" => unique(rAw[:,7]),\n",
    "    \"gB\" => unique(rAw[:,8]),\n",
    "    \"mB\" => unique(rAw[:,9])\n",
    ")"
   ]
  },
  {
   "cell_type": "code",
   "execution_count": 4,
   "metadata": {
    "ExecuteTime": {
     "end_time": "2020-04-15T13:38:09.778000+01:00",
     "start_time": "2020-04-15T12:37:21.243Z"
    }
   },
   "outputs": [
    {
     "data": {
      "text/html": [
       "<table class=\"data-frame\"><thead><tr><th></th><th>variable</th><th>mean</th><th>min</th><th>median</th><th>max</th><th>nunique</th><th>nmissing</th><th>eltype</th></tr><tr><th></th><th>Symbol</th><th>Float64</th><th>Float64</th><th>Float64</th><th>Float64</th><th>Nothing</th><th>Nothing</th><th>DataType</th></tr></thead><tbody><p>13 rows × 8 columns</p><tr><th>1</th><td>x</td><td>0.427199</td><td>0.0</td><td>0.5</td><td>1.0</td><td></td><td></td><td>Float64</td></tr><tr><th>2</th><td>e_PR</td><td>0.474014</td><td>0.1</td><td>0.6</td><td>0.6</td><td></td><td></td><td>Float64</td></tr><tr><th>3</th><td>e_P</td><td>0.405024</td><td>0.1</td><td>0.6</td><td>0.6</td><td></td><td></td><td>Float64</td></tr><tr><th>4</th><td>g_P</td><td>5.98618</td><td>0.1</td><td>6.1</td><td>9.6</td><td></td><td></td><td>Float64</td></tr><tr><th>5</th><td>a_P</td><td>0.357978</td><td>0.001</td><td>0.301</td><td>0.901</td><td></td><td></td><td>Float64</td></tr><tr><th>6</th><td>e_BR</td><td>0.400619</td><td>0.1</td><td>0.6</td><td>0.6</td><td></td><td></td><td>Float64</td></tr><tr><th>7</th><td>e_B</td><td>0.386579</td><td>0.1</td><td>0.6</td><td>0.6</td><td></td><td></td><td>Float64</td></tr><tr><th>8</th><td>g_B</td><td>4.98812</td><td>0.1</td><td>5.1</td><td>9.6</td><td></td><td></td><td>Float64</td></tr><tr><th>9</th><td>m_B</td><td>0.479905</td><td>0.001</td><td>0.501</td><td>0.901</td><td></td><td></td><td>Float64</td></tr><tr><th>10</th><td>eqmC</td><td>6.29652</td><td>0.1032</td><td>1.165</td><td>901.0</td><td></td><td></td><td>Float64</td></tr><tr><th>11</th><td>eqmP</td><td>137.496</td><td>0.101</td><td>3.236</td><td>3456.0</td><td></td><td></td><td>Float64</td></tr><tr><th>12</th><td>eqmB</td><td>Inf</td><td>0.1</td><td>2.473</td><td>Inf</td><td></td><td></td><td>Float64</td></tr><tr><th>13</th><td>eqmA</td><td>Inf</td><td>0.3213</td><td>11.1</td><td>Inf</td><td></td><td></td><td>Float64</td></tr></tbody></table>"
      ],
      "text/latex": [
       "\\begin{tabular}{r|cccccccc}\n",
       "\t& variable & mean & min & median & max & nunique & nmissing & eltype\\\\\n",
       "\t\\hline\n",
       "\t& Symbol & Float64 & Float64 & Float64 & Float64 & Nothing & Nothing & DataType\\\\\n",
       "\t\\hline\n",
       "\t1 & x & 0.427199 & 0.0 & 0.5 & 1.0 &  &  & Float64 \\\\\n",
       "\t2 & e\\_PR & 0.474014 & 0.1 & 0.6 & 0.6 &  &  & Float64 \\\\\n",
       "\t3 & e\\_P & 0.405024 & 0.1 & 0.6 & 0.6 &  &  & Float64 \\\\\n",
       "\t4 & g\\_P & 5.98618 & 0.1 & 6.1 & 9.6 &  &  & Float64 \\\\\n",
       "\t5 & a\\_P & 0.357978 & 0.001 & 0.301 & 0.901 &  &  & Float64 \\\\\n",
       "\t6 & e\\_BR & 0.400619 & 0.1 & 0.6 & 0.6 &  &  & Float64 \\\\\n",
       "\t7 & e\\_B & 0.386579 & 0.1 & 0.6 & 0.6 &  &  & Float64 \\\\\n",
       "\t8 & g\\_B & 4.98812 & 0.1 & 5.1 & 9.6 &  &  & Float64 \\\\\n",
       "\t9 & m\\_B & 0.479905 & 0.001 & 0.501 & 0.901 &  &  & Float64 \\\\\n",
       "\t10 & eqmC & 6.29652 & 0.1032 & 1.165 & 901.0 &  &  & Float64 \\\\\n",
       "\t11 & eqmP & 137.496 & 0.101 & 3.236 & 3456.0 &  &  & Float64 \\\\\n",
       "\t12 & eqmB & Inf & 0.1 & 2.473 & Inf &  &  & Float64 \\\\\n",
       "\t13 & eqmA & Inf & 0.3213 & 11.1 & Inf &  &  & Float64 \\\\\n",
       "\\end{tabular}\n"
      ],
      "text/plain": [
       "13×8 DataFrame. Omitted printing of 1 columns\n",
       "│ Row │ variable │ mean     │ min     │ median  │ max     │ nunique │ nmissing │\n",
       "│     │ \u001b[90mSymbol\u001b[39m   │ \u001b[90mFloat64\u001b[39m  │ \u001b[90mFloat64\u001b[39m │ \u001b[90mFloat64\u001b[39m │ \u001b[90mFloat64\u001b[39m │ \u001b[90mNothing\u001b[39m │ \u001b[90mNothing\u001b[39m  │\n",
       "├─────┼──────────┼──────────┼─────────┼─────────┼─────────┼─────────┼──────────┤\n",
       "│ 1   │ x        │ 0.427199 │ 0.0     │ 0.5     │ 1.0     │         │          │\n",
       "│ 2   │ e_PR     │ 0.474014 │ 0.1     │ 0.6     │ 0.6     │         │          │\n",
       "│ 3   │ e_P      │ 0.405024 │ 0.1     │ 0.6     │ 0.6     │         │          │\n",
       "│ 4   │ g_P      │ 5.98618  │ 0.1     │ 6.1     │ 9.6     │         │          │\n",
       "│ 5   │ a_P      │ 0.357978 │ 0.001   │ 0.301   │ 0.901   │         │          │\n",
       "│ 6   │ e_BR     │ 0.400619 │ 0.1     │ 0.6     │ 0.6     │         │          │\n",
       "│ 7   │ e_B      │ 0.386579 │ 0.1     │ 0.6     │ 0.6     │         │          │\n",
       "│ 8   │ g_B      │ 4.98812  │ 0.1     │ 5.1     │ 9.6     │         │          │\n",
       "│ 9   │ m_B      │ 0.479905 │ 0.001   │ 0.501   │ 0.901   │         │          │\n",
       "│ 10  │ eqmC     │ 6.29652  │ 0.1032  │ 1.165   │ 901.0   │         │          │\n",
       "│ 11  │ eqmP     │ 137.496  │ 0.101   │ 3.236   │ 3456.0  │         │          │\n",
       "│ 12  │ eqmB     │ Inf      │ 0.1     │ 2.473   │ Inf     │         │          │\n",
       "│ 13  │ eqmA     │ Inf      │ 0.3213  │ 11.1    │ Inf     │         │          │"
      ]
     },
     "execution_count": 4,
     "metadata": {},
     "output_type": "execute_result"
    }
   ],
   "source": [
    "describe(rAw)"
   ]
  },
  {
   "cell_type": "code",
   "execution_count": 8,
   "metadata": {
    "ExecuteTime": {
     "end_time": "2020-04-15T14:06:45.329000+01:00",
     "start_time": "2020-04-15T13:06:44.929Z"
    }
   },
   "outputs": [
    {
     "data": {
      "text/plain": [
       "RObject{RealSxp}\n",
       " [1] 0.001 0.101 0.201 0.301 0.401 0.501 0.601 0.701 0.801 0.901\n"
      ]
     },
     "execution_count": 8,
     "metadata": {},
     "output_type": "execute_result"
    }
   ],
   "source": [
    "@rput rAw\n",
    "R\"\n",
    "unique(rAw[,5])\n",
    "\""
   ]
  },
  {
   "cell_type": "code",
   "execution_count": 7,
   "metadata": {
    "ExecuteTime": {
     "end_time": "2020-04-15T13:59:26.615000+01:00",
     "start_time": "2020-04-15T12:59:26.239Z"
    }
   },
   "outputs": [
    {
     "data": {
      "text/plain": [
       "RObject{StrSxp}\n",
       " [1] \"x\"    \"e_PR\" \"e_P\"  \"g_P\"  \"a_P\"  \"e_BR\" \"e_B\"  \"g_B\"  \"m_B\"  \"eqmC\"\n",
       "[11] \"eqmP\" \"eqmB\" \"eqmA\"\n"
      ]
     },
     "execution_count": 7,
     "metadata": {},
     "output_type": "execute_result"
    }
   ],
   "source": [
    "R\"colnames(rAw)\""
   ]
  },
  {
   "cell_type": "code",
   "execution_count": null,
   "metadata": {},
   "outputs": [],
   "source": []
  }
 ],
 "metadata": {
  "kernelspec": {
   "display_name": "Julia 1.3.1",
   "language": "julia",
   "name": "julia-1.3"
  },
  "language_info": {
   "file_extension": ".jl",
   "mimetype": "application/julia",
   "name": "julia",
   "version": "1.3.1"
  },
  "toc": {
   "base_numbering": 1,
   "nav_menu": {},
   "number_sections": true,
   "sideBar": true,
   "skip_h1_title": false,
   "title_cell": "Table of Contents",
   "title_sidebar": "Contents",
   "toc_cell": true,
   "toc_position": {},
   "toc_section_display": true,
   "toc_window_display": true
  }
 },
 "nbformat": 4,
 "nbformat_minor": 2
}
