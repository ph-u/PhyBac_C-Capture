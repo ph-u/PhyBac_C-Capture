{
 "cells": [
  {
   "cell_type": "markdown",
   "metadata": {},
   "source": [
    "# env set-up\n",
    "Julia-lang 1.3.1: `PyCall` (1.91.2), `DataFrames` (0.20.0), `SymPy` (1.0.18)"
   ]
  },
  {
   "cell_type": "code",
   "execution_count": 1,
   "metadata": {
    "ExecuteTime": {
     "end_time": "2020-03-18T18:56:37.161000Z",
     "start_time": "2020-03-18T18:56:24.072Z"
    }
   },
   "outputs": [
    {
     "name": "stdout",
     "output_type": "stream",
     "text": [
      "\n"
     ]
    }
   ],
   "source": [
    "using PyCall, DataFrames, SymPy\n",
    "sympy.init_printing() ## use other py3 function not implemented in native Julia-lang, http://mth229.github.io/symbolic.html\n",
    "println()"
   ]
  },
  {
   "cell_type": "markdown",
   "metadata": {},
   "source": [
    "## parameters & equations"
   ]
  },
  {
   "cell_type": "code",
   "execution_count": 2,
   "metadata": {
    "ExecuteTime": {
     "end_time": "2020-03-18T18:56:43.159000Z",
     "start_time": "2020-03-18T18:56:24.076Z"
    }
   },
   "outputs": [
    {
     "data": {
      "text/plain": [
       "(TC, E_P, g_P0, r_P0, m_P0, a_P0, e_P, E_B, g_B0, r_B0, m_B0, e_B)"
      ]
     },
     "execution_count": 2,
     "metadata": {},
     "output_type": "execute_result"
    }
   ],
   "source": [
    "@vars C P B\n",
    "TC,\n",
    "E_PV,g_P0,r_P0,m_P0,a_P0,e_P,\n",
    "E_BV,g_B0,r_B0,m_B0,e_B =\n",
    "symbols(\n",
    "    \"TC \n",
    "E_P g_P0 r_P0 m_P0 a_P0 e_P \n",
    "E_B g_B0 r_B0 m_B0 e_B\",\n",
    "    positive = true)"
   ]
  },
  {
   "cell_type": "code",
   "execution_count": 3,
   "metadata": {
    "ExecuteTime": {
     "end_time": "2020-03-18T18:56:44.323000Z",
     "start_time": "2020-03-18T18:56:24.084Z"
    }
   },
   "outputs": [
    {
     "data": {
      "text/latex": [
       "\\begin{equation*}B \\left(C e_{B} g_{B0} e^{- \\frac{1.6 \\cdot 10^{-19} E_{B}}{8.31 TC + 2269.8765}} - m_{B0} e^{- \\frac{1.6 \\cdot 10^{-19} E_{B}}{8.31 TC + 2269.8765}} - r_{B0} e^{- \\frac{1.6 \\cdot 10^{-19} E_{B}}{8.31 TC + 2269.8765}}\\right)\\end{equation*}"
      ],
      "text/plain": [
       "  ⎛               -1.6e-19⋅E_B                -1.6e-19⋅E_B                -1.6\n",
       "  ⎜            ───────────────────         ───────────────────         ───────\n",
       "  ⎜            8.31⋅TC + 2269.8765         8.31⋅TC + 2269.8765         8.31⋅TC\n",
       "B⋅⎝C⋅e_B⋅g_B0⋅ℯ                    - m_B0⋅ℯ                    - r_B0⋅ℯ       \n",
       "\n",
       "e-19⋅E_B    ⎞\n",
       "────────────⎟\n",
       " + 2269.8765⎟\n",
       "            ⎠"
      ]
     },
     "execution_count": 3,
     "metadata": {},
     "output_type": "execute_result"
    }
   ],
   "source": [
    "R = 8.31 # ideal gas constant\n",
    "T_k = TC+273.15 # unit conversion from Celsius to Kelvin\n",
    "E_P = E_PV*1.6e-19 # unit conversion from eV to J\n",
    "E_B = E_BV*1.6e-19\n",
    "\n",
    "g_P = g_P0*exp(-E_P/(R*T_k))\n",
    "r_P = r_P0*exp(-E_P/(R*T_k))\n",
    "m_P = m_P0*exp(-E_P/(R*T_k))\n",
    "a_P = a_P0*exp(-E_P/(R*T_k))\n",
    "\n",
    "g_B = g_B0*exp(-E_B/(R*T_k))\n",
    "r_B = r_B0*exp(-E_B/(R*T_k))\n",
    "m_B = m_B0*exp(-E_B/(R*T_k))\n",
    "\n",
    "C_eq = (g_P*(1 -e_P) +a_P*P +m_P)*P + (g_B*(1 -e_B)*C +m_B)*B\n",
    "P_eq = (g_P*e_P -a_P*P -r_P -m_P)*P\n",
    "B_eq = (g_B*e_B*C -r_B -m_B)*B"
   ]
  },
  {
   "cell_type": "markdown",
   "metadata": {},
   "source": [
    "## default parameter values"
   ]
  },
  {
   "cell_type": "raw",
   "metadata": {
    "ExecuteTime": {
     "end_time": "2020-03-18T18:34:59.939000Z",
     "start_time": "2020-03-18T18:34:39.077Z"
    }
   },
   "source": [
    "TC = 25\n",
    "E_PV = .57 # https://www.nature.com/articles/ngeo2807/ FROM [https://link.springer.com/article/10.1007/s11120-014-0067-8 ; https://nph.onlinelibrary.wiley.com/doi/abs/10.1111/j.1469-8137.1988.tb00282.x]\n",
    "E_BV = .65 # https://www.nature.com/articles/nature11205/\n",
    "\n",
    "g_P0 = 0\n",
    "r_P0 = 0\n",
    "m_P0 = 0\n",
    "a_P0 = 0\n",
    "\n",
    "g_B0 = 0\n",
    "r_B0 = 0\n",
    "m_B0 = 0\n",
    "\n",
    "e_P = 1\n",
    "e_B = 1"
   ]
  },
  {
   "cell_type": "code",
   "execution_count": 4,
   "metadata": {
    "ExecuteTime": {
     "end_time": "2020-03-18T18:56:51.886000Z",
     "start_time": "2020-03-18T18:56:24.120Z"
    }
   },
   "outputs": [
    {
     "data": {
      "text/plain": [
       "2-element Array{Tuple{Sym,Sym,Sym},1}:\n",
       " (0.0, 0.0, B)                                                                                                                                                                                                                      \n",
       " ((m_B0 + r_B0)/(e_B*g_B0), (e_P*g_P0 - m_P0 - r_P0)/a_P0, -e_B*(e_P*g_P0^2 - e_P*g_P0*r_P0 - g_P0*m_P0 - g_P0*r_P0 + m_P0*r_P0 + r_P0^2)*exp(3.85078219013237e-19*(E_B - E_P)/(20.0*TC + 5463.0))/(a_P0*(-e_B*r_B0 + m_B0 + r_B0)))"
      ]
     },
     "execution_count": 4,
     "metadata": {},
     "output_type": "execute_result"
    }
   ],
   "source": [
    "Ceq = Eq(C_eq,0)\n",
    "Peq = Eq(P_eq,0)\n",
    "Beq = Eq(B_eq,0)\n",
    "\n",
    "ss = solve([Ceq,Peq,Beq],[C,P,B])\n",
    "ss"
   ]
  },
  {
   "cell_type": "code",
   "execution_count": 5,
   "metadata": {
    "ExecuteTime": {
     "end_time": "2020-03-18T18:56:52.933000Z",
     "start_time": "2020-03-18T18:56:24.128Z"
    }
   },
   "outputs": [
    {
     "data": {
      "text/latex": [
       "\\[ \\left[ \\begin{array}{r}\\frac{m_{B0} + r_{B0}}{e_{B} g_{B0}}\\\\\\frac{e_{P} g_{P0} - m_{P0} - r_{P0}}{a_{P0}}\\\\- \\frac{e_{B} \\left(e_{P} g_{P0}^{2} - e_{P} g_{P0} r_{P0} - g_{P0} m_{P0} - g_{P0} r_{P0} + m_{P0} r_{P0} + r_{P0}^{2}\\right) e^{\\frac{3.85078219013237 \\cdot 10^{-19} \\left(E_{B} - E_{P}\\right)}{20.0 TC + 5463.0}}}{a_{P0} \\left(- e_{B} r_{B0} + m_{B0} + r_{B0}\\right)}\\end{array} \\right] \\]"
      ],
      "text/plain": [
       "3-element Array{Sym,1}:\n",
       "                                                                                                                                                 (m_B0 + r_B0)/(e_B*g_B0)\n",
       "                                                                                                                                            (e_P*g_P0 - m_P0 - r_P0)/a_P0\n",
       " -e_B*(e_P*g_P0^2 - e_P*g_P0*r_P0 - g_P0*m_P0 - g_P0*r_P0 + m_P0*r_P0 + r_P0^2)*exp(3.85078219013237e-19*(E_B - E_P)/(20.0*TC + 5463.0))/(a_P0*(-e_B*r_B0 + m_B0 + r_B0))"
      ]
     },
     "execution_count": 5,
     "metadata": {},
     "output_type": "execute_result"
    }
   ],
   "source": [
    "[ss[2][1],ss[2][2],ss[2][3]]"
   ]
  },
  {
   "cell_type": "code",
   "execution_count": 9,
   "metadata": {
    "ExecuteTime": {
     "end_time": "2020-03-18T19:16:40.091000Z",
     "start_time": "2020-03-18T19:16:39.851Z"
    }
   },
   "outputs": [
    {
     "data": {
      "text/plain": [
       "1-element Array{NTuple{5,Sym},1}:\n",
       " (g_P0*exp(-1.6e-19*E_P/(8.31*TC + 2269.8765)), (m_P0 + r_P0)/g_P0, r_P0*exp(-1.6e-19*E_P/(8.31*TC + 2269.8765)), m_P0*exp(-1.6e-19*E_P/(8.31*TC + 2269.8765)), a_P0*exp(-1.6e-19*E_P/(8.31*TC + 2269.8765)))"
      ]
     },
     "execution_count": 9,
     "metadata": {},
     "output_type": "execute_result"
    }
   ],
   "source": [
    "tP = solve(Eq(ss[2][3],0), [g_P,e_P,r_P,m_P,a_P])\n",
    "tP"
   ]
  },
  {
   "cell_type": "code",
   "execution_count": 15,
   "metadata": {
    "ExecuteTime": {
     "end_time": "2020-03-19T01:40:36.987000Z",
     "start_time": "2020-03-19T01:40:36.830Z"
    }
   },
   "outputs": [
    {
     "data": {
      "text/latex": [
       "\\[ \\left[ \\begin{array}{r}g_{P0} e^{- \\frac{1.6 \\cdot 10^{-19} E_{P}}{8.31 TC + 2269.8765}}\\\\\\frac{m_{P0} + r_{P0}}{g_{P0}}\\\\r_{P0} e^{- \\frac{1.6 \\cdot 10^{-19} E_{P}}{8.31 TC + 2269.8765}}\\\\m_{P0} e^{- \\frac{1.6 \\cdot 10^{-19} E_{P}}{8.31 TC + 2269.8765}}\\\\a_{P0} e^{- \\frac{1.6 \\cdot 10^{-19} E_{P}}{8.31 TC + 2269.8765}}\\end{array} \\right] \\]"
      ],
      "text/plain": [
       "5-element Array{Sym,1}:\n",
       " g_P0*exp(-1.6e-19*E_P/(8.31*TC + 2269.8765))\n",
       "                           (m_P0 + r_P0)/g_P0\n",
       " r_P0*exp(-1.6e-19*E_P/(8.31*TC + 2269.8765))\n",
       " m_P0*exp(-1.6e-19*E_P/(8.31*TC + 2269.8765))\n",
       " a_P0*exp(-1.6e-19*E_P/(8.31*TC + 2269.8765))"
      ]
     },
     "execution_count": 15,
     "metadata": {},
     "output_type": "execute_result"
    }
   ],
   "source": [
    "[tP[1][1],tP[1][2],tP[1][3],tP[1][4],tP[1][5]]"
   ]
  },
  {
   "cell_type": "code",
   "execution_count": null,
   "metadata": {},
   "outputs": [],
   "source": []
  }
 ],
 "metadata": {
  "kernelspec": {
   "display_name": "Julia 1.3.1",
   "language": "julia",
   "name": "julia-1.3"
  },
  "language_info": {
   "file_extension": ".jl",
   "mimetype": "application/julia",
   "name": "julia",
   "version": "1.3.1"
  },
  "latex_envs": {
   "LaTeX_envs_menu_present": true,
   "autoclose": true,
   "autocomplete": true,
   "bibliofile": "biblio.bib",
   "cite_by": "apalike",
   "current_citInitial": 1,
   "eqLabelWithNumbers": true,
   "eqNumInitial": 1,
   "hotkeys": {
    "equation": "Ctrl-E",
    "itemize": "Ctrl-I"
   },
   "labels_anchors": false,
   "latex_user_defs": false,
   "report_style_numbering": true,
   "user_envs_cfg": true
  },
  "toc": {
   "base_numbering": 1,
   "nav_menu": {},
   "number_sections": true,
   "sideBar": true,
   "skip_h1_title": false,
   "title_cell": "Table of Contents",
   "title_sidebar": "Contents",
   "toc_cell": false,
   "toc_position": {},
   "toc_section_display": true,
   "toc_window_display": true
  },
  "varInspector": {
   "cols": {
    "lenName": 16,
    "lenType": 16,
    "lenVar": 40
   },
   "kernels_config": {
    "python": {
     "delete_cmd_postfix": "",
     "delete_cmd_prefix": "del ",
     "library": "var_list.py",
     "varRefreshCmd": "print(var_dic_list())"
    },
    "r": {
     "delete_cmd_postfix": ") ",
     "delete_cmd_prefix": "rm(",
     "library": "var_list.r",
     "varRefreshCmd": "cat(var_dic_list()) "
    }
   },
   "types_to_exclude": [
    "module",
    "function",
    "builtin_function_or_method",
    "instance",
    "_Feature"
   ],
   "window_display": true
  }
 },
 "nbformat": 4,
 "nbformat_minor": 2
}
