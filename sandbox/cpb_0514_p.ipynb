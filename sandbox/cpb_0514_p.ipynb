{
 "cells": [
  {
   "cell_type": "markdown",
   "metadata": {
    "toc": true
   },
   "source": [
    "<h1>Table of Contents<span class=\"tocSkip\"></span></h1>\n",
    "<div class=\"toc\"><ul class=\"toc-item\"><li><span><a href=\"#given-equilibria-positions-(from-SymPy)\" data-toc-modified-id=\"given-equilibria-positions-(from-SymPy)-1\"><span class=\"toc-item-num\">1&nbsp;&nbsp;</span>given equilibria positions (from SymPy)</a></span></li><li><span><a href=\"#env\" data-toc-modified-id=\"env-2\"><span class=\"toc-item-num\">2&nbsp;&nbsp;</span>env</a></span><ul class=\"toc-item\"><li><span><a href=\"#discrepancy-data\" data-toc-modified-id=\"discrepancy-data-2.1\"><span class=\"toc-item-num\">2.1&nbsp;&nbsp;</span>discrepancy data</a></span></li><li><span><a href=\"#redo-Julia-SymPy-analytical-solutions\" data-toc-modified-id=\"redo-Julia-SymPy-analytical-solutions-2.2\"><span class=\"toc-item-num\">2.2&nbsp;&nbsp;</span>redo Julia-SymPy analytical solutions</a></span></li><li><span><a href=\"#plotting-custom-function\" data-toc-modified-id=\"plotting-custom-function-2.3\"><span class=\"toc-item-num\">2.3&nbsp;&nbsp;</span>plotting custom function</a></span></li></ul></li><li><span><a href=\"#non-coexisting-sample\" data-toc-modified-id=\"non-coexisting-sample-3\"><span class=\"toc-item-num\">3&nbsp;&nbsp;</span>non-coexisting sample</a></span></li></ul></div>"
   ]
  },
  {
   "cell_type": "markdown",
   "metadata": {},
   "source": [
    "# given equilibria positions (from SymPy)\n",
    "\n",
    "Sol | ....... C ....... | ....... P ....... | ..................... B .....................\n",
    "--- | --- | --- | ---\n",
    "(1) | 0 | 0 | 0\n",
    "(2) | $\\frac{m_B}{e_{BR}e_B g_B}$ | 0 | $\\frac{x}{g_B(e_{BR} - 1)}$\n",
    "(3) | $\\frac{e_P(e_{PR}g_P)^2}{a_P x}$ | $\\frac{e_{PR}e_Pg_P}{a_P}$ | 0\n",
    "(4) | $\\frac{m_B}{e_{BR}e_B g_B}$ | $\\frac{e_{PR}e_P g_P}{a_P}$ | $\\frac{a_P m_B x - e_{BR}e_B g_B e_P(e_{PR}g_P)^2}{a_P m_B g_B(e_{BR}-1)}$\n",
    "\n",
    "result expectation tip: only solution (3) & (4) is possible, and only solution 4 can create crashed system during integration\n",
    "\n",
    "# env"
   ]
  },
  {
   "cell_type": "code",
   "execution_count": 1,
   "metadata": {
    "ExecuteTime": {
     "end_time": "2020-05-15T15:38:29.999728Z",
     "start_time": "2020-05-15T15:38:28.811389Z"
    }
   },
   "outputs": [],
   "source": [
    "import sys\n",
    "import scipy as sc\n",
    "from scipy import integrate as itg\n",
    "import sympy as sp\n",
    "import pandas as pd\n",
    "import matplotlib.pyplot as plt\n",
    "sys.path.append('../code')\n",
    "import func as fc"
   ]
  },
  {
   "cell_type": "markdown",
   "metadata": {},
   "source": [
    "embedded pkg used:\n",
    "1. `scipy`: array format\n",
    "0. `scipy.integrate`: integration\n",
    "0. `sympy`: variables rearrangements\n",
    "0. `pandas`: dataframes and csv handling\n",
    "0. `matplotlib`: plotting\n",
    "\n",
    "embedded functions used:  \n",
    "1. `ebcData`: ode integration\n",
    "0. `ebcEqm`: model analytical calculation at system equilibrium\n",
    "0. `ebcRate`: instantaneous rate of change of carbon pools\n",
    "0. `ebcAlt`: summarize all possible equilibria (calculated from SymPy) in one dataframe"
   ]
  },
  {
   "cell_type": "markdown",
   "metadata": {},
   "source": [
    "## discrepancy data"
   ]
  },
  {
   "cell_type": "code",
   "execution_count": 2,
   "metadata": {
    "ExecuteTime": {
     "end_time": "2020-05-15T15:38:33.082675Z",
     "start_time": "2020-05-15T15:38:30.003506Z"
    }
   },
   "outputs": [
    {
     "data": {
      "text/plain": [
       "(1234321, 13)"
      ]
     },
     "execution_count": 2,
     "metadata": {},
     "output_type": "execute_result"
    }
   ],
   "source": [
    "dIs = pd.read_csv(\"../result/discrepancy_1e-12.csv\")\n",
    "dIs.shape"
   ]
  },
  {
   "cell_type": "markdown",
   "metadata": {},
   "source": [
    "## redo Julia-SymPy analytical solutions"
   ]
  },
  {
   "cell_type": "code",
   "execution_count": 3,
   "metadata": {
    "ExecuteTime": {
     "end_time": "2020-05-15T15:38:38.091082Z",
     "start_time": "2020-05-15T15:38:33.086960Z"
    }
   },
   "outputs": [
    {
     "data": {
      "image/png": "[encoded data removed]",
      "text/latex": [
       "$\\displaystyle \\left[ \\left( 0, \\  0, \\  0\\right), \\  \\left( \\frac{m_{B}}{e_{B} e_{BR} g_{B}}, \\  0, \\  \\frac{x}{e_{BR} g_{B} - g_{B}}\\right), \\  \\left( \\frac{m_{B}}{e_{B} e_{BR} g_{B}}, \\  \\frac{e_{P} e_{PR} g_{P}}{a_{P}}, \\  \\frac{a_{P} m_{B} x - e_{B} e_{BR} e_{P} e_{PR}^{2} g_{B} g_{P}^{2}}{a_{P} e_{BR} g_{B} m_{B} - a_{P} g_{B} m_{B}}\\right), \\  \\left( \\frac{e_{P} e_{PR}^{2} g_{P}^{2}}{a_{P} x}, \\  \\frac{e_{P} e_{PR} g_{P}}{a_{P}}, \\  0\\right)\\right]$"
      ],
      "text/plain": [
       "⎡                                              ⎛                              \n",
       "⎢           ⎛    m_B                x       ⎞  ⎜    m_B       e_P⋅e_PR⋅g_P  a_\n",
       "⎢(0, 0, 0), ⎜────────────, 0, ──────────────⎟, ⎜────────────, ────────────, ──\n",
       "⎣           ⎝e_B⋅e_BR⋅g_B     e_BR⋅g_B - g_B⎠  ⎝e_B⋅e_BR⋅g_B      a_P         \n",
       "\n",
       "                           2        2⎞  ⎛        2    2                 ⎞⎤\n",
       "P⋅m_B⋅x - e_B⋅e_BR⋅e_P⋅e_PR ⋅g_B⋅g_P ⎟  ⎜e_P⋅e_PR ⋅g_P   e_P⋅e_PR⋅g_P   ⎟⎥\n",
       "─────────────────────────────────────⎟, ⎜──────────────, ────────────, 0⎟⎥\n",
       "   a_P⋅e_BR⋅g_B⋅m_B - a_P⋅g_B⋅m_B    ⎠  ⎝    a_P⋅x           a_P        ⎠⎦"
      ]
     },
     "execution_count": 3,
     "metadata": {},
     "output_type": "execute_result"
    }
   ],
   "source": [
    "## env set-up\n",
    "sp.init_printing()\n",
    "C,P,B = sp.var(\"C,P,B\")\n",
    "x, e_PR,e_P,g_P,a_P, e_BR,e_B,g_B,m_B = sp.var(\"x e_PR e_P g_P a_P e_BR e_B g_B m_B\",positive=True)\n",
    "\n",
    "## equations\n",
    "dC = g_P*e_PR*(1-e_P)*P +a_P*P**2 +g_B*(e_BR*(1-e_B)-1)*C*B +m_B*B -x*C\n",
    "dP = g_P*e_PR*e_P*P -a_P*P**2\n",
    "dB = g_B*e_BR*e_B*C*B -m_B*B\n",
    "\n",
    "## analytical solving\n",
    "sp.solve([sp.Eq(dC,0),sp.Eq(dP,0),sp.Eq(dB,0)],[C,P,B])"
   ]
  },
  {
   "cell_type": "markdown",
   "metadata": {},
   "source": [
    "## plotting custom function"
   ]
  },
  {
   "cell_type": "markdown",
   "metadata": {},
   "source": [
    "# non-coexisting sample"
   ]
  },
  {
   "cell_type": "code",
   "execution_count": 4,
   "metadata": {
    "ExecuteTime": {
     "end_time": "2020-05-15T15:38:38.134835Z",
     "start_time": "2020-05-15T15:38:38.096912Z"
    }
   },
   "outputs": [
    {
     "data": {
      "text/plain": [
       "x               0.990000\n",
       "e_PR            0.875000\n",
       "e_P             0.630000\n",
       "g_P             0.259000\n",
       "a_P             0.400000\n",
       "e_BR            0.600000\n",
       "e_B             0.550000\n",
       "g_B             0.790000\n",
       "m_B             0.140000\n",
       "eqmC:num-ana   -0.455293\n",
       "eqmP:num-ana   -0.000066\n",
       "eqmB:num-ana    2.656000\n",
       "eqmA:num-ana    2.201642\n",
       "Name: 1210890, dtype: float64"
      ]
     },
     "execution_count": 4,
     "metadata": {},
     "output_type": "execute_result"
    }
   ],
   "source": [
    "sAm=dIs.loc[1210890,:];sAm0=sAm[0:9];sAm"
   ]
  },
  {
   "cell_type": "code",
   "execution_count": 5,
   "metadata": {
    "ExecuteTime": {
     "end_time": "2020-05-15T15:38:38.340677Z",
     "start_time": "2020-05-15T15:38:38.139042Z"
    }
   },
   "outputs": [
    {
     "ename": "ValueError",
     "evalue": "operands could not be broadcast together with shapes (2,) (3,) ",
     "output_type": "error",
     "traceback": [
      "\u001b[0;31m---------------------------------------------------------------------------\u001b[0m",
      "\u001b[0;31mValueError\u001b[0m                                Traceback (most recent call last)",
      "\u001b[0;32m<ipython-input-5-a84f55a90e7e>\u001b[0m in \u001b[0;36m<module>\u001b[0;34m()\u001b[0m\n\u001b[0;32m----> 1\u001b[0;31m \u001b[0mfc\u001b[0m\u001b[0;34m.\u001b[0m\u001b[0mebc7\u001b[0m\u001b[0;34m(\u001b[0m\u001b[0msc\u001b[0m\u001b[0;34m.\u001b[0m\u001b[0marray\u001b[0m\u001b[0;34m(\u001b[0m\u001b[0;34m[\u001b[0m\u001b[0;36m1\u001b[0m\u001b[0;34m,\u001b[0m\u001b[0;36m1\u001b[0m\u001b[0;34m,\u001b[0m\u001b[0;36m1\u001b[0m\u001b[0;34m]\u001b[0m\u001b[0;34m)\u001b[0m\u001b[0;34m,\u001b[0m\u001b[0;36m0\u001b[0m\u001b[0;34m,\u001b[0m\u001b[0;36m0\u001b[0m\u001b[0;34m,\u001b[0m\u001b[0;36m.875\u001b[0m\u001b[0;34m,\u001b[0m\u001b[0;36m.63\u001b[0m\u001b[0;34m,\u001b[0m\u001b[0;36m.259\u001b[0m\u001b[0;34m,\u001b[0m\u001b[0;36m.001\u001b[0m\u001b[0;34m,\u001b[0m\u001b[0;36m.6\u001b[0m\u001b[0;34m,\u001b[0m\u001b[0;36m.55\u001b[0m\u001b[0;34m,\u001b[0m\u001b[0;36m1.046\u001b[0m\u001b[0;34m,\u001b[0m\u001b[0;36m.14\u001b[0m\u001b[0;34m)\u001b[0m\u001b[0;34m\u001b[0m\u001b[0m\n\u001b[0m",
      "\u001b[0;32m/home/xxxxxx/Project/code/func.py\u001b[0m in \u001b[0;36mebc7\u001b[0;34m(Den, t, x, ePR, eP, gP, aP, eBR, eB, gB, mB)\u001b[0m\n\u001b[1;32m     33\u001b[0m \u001b[0;34m\u001b[0m\u001b[0m\n\u001b[1;32m     34\u001b[0m         \u001b[0;31m## rate calculation\u001b[0m\u001b[0;34m\u001b[0m\u001b[0;34m\u001b[0m\u001b[0m\n\u001b[0;32m---> 35\u001b[0;31m         \u001b[0mdC\u001b[0m \u001b[0;34m=\u001b[0m \u001b[0mgP\u001b[0m\u001b[0;34m*\u001b[0m\u001b[0mePR\u001b[0m\u001b[0;34m*\u001b[0m\u001b[0;34m(\u001b[0m\u001b[0;36m1\u001b[0m\u001b[0;34m-\u001b[0m\u001b[0meP\u001b[0m\u001b[0;34m)\u001b[0m\u001b[0;34m*\u001b[0m\u001b[0mP\u001b[0m \u001b[0;34m+\u001b[0m\u001b[0maP\u001b[0m\u001b[0;34m*\u001b[0m\u001b[0mP\u001b[0m\u001b[0;34m**\u001b[0m\u001b[0;36m2\u001b[0m \u001b[0;34m+\u001b[0m\u001b[0mgB\u001b[0m\u001b[0;34m*\u001b[0m\u001b[0;34m(\u001b[0m\u001b[0meBR\u001b[0m\u001b[0;34m*\u001b[0m\u001b[0;34m(\u001b[0m\u001b[0;36m1\u001b[0m\u001b[0;34m-\u001b[0m\u001b[0meB\u001b[0m\u001b[0;34m)\u001b[0m\u001b[0;34m-\u001b[0m\u001b[0;36m1\u001b[0m\u001b[0;34m)\u001b[0m\u001b[0;34m*\u001b[0m\u001b[0mC\u001b[0m\u001b[0;34m*\u001b[0m\u001b[0mB\u001b[0m \u001b[0;34m+\u001b[0m\u001b[0mmB\u001b[0m\u001b[0;34m*\u001b[0m\u001b[0mB\u001b[0m \u001b[0;34m-\u001b[0m\u001b[0mx\u001b[0m\u001b[0;34m*\u001b[0m\u001b[0mC\u001b[0m\u001b[0;34m\u001b[0m\u001b[0m\n\u001b[0m\u001b[1;32m     36\u001b[0m         \u001b[0mdP\u001b[0m \u001b[0;34m=\u001b[0m \u001b[0mgP\u001b[0m\u001b[0;34m*\u001b[0m\u001b[0mePR\u001b[0m\u001b[0;34m*\u001b[0m\u001b[0meP\u001b[0m\u001b[0;34m*\u001b[0m\u001b[0mP\u001b[0m \u001b[0;34m-\u001b[0m\u001b[0maP\u001b[0m\u001b[0;34m*\u001b[0m\u001b[0mP\u001b[0m\u001b[0;34m**\u001b[0m\u001b[0;36m2\u001b[0m\u001b[0;34m\u001b[0m\u001b[0m\n\u001b[1;32m     37\u001b[0m         \u001b[0mdB\u001b[0m \u001b[0;34m=\u001b[0m \u001b[0mgB\u001b[0m\u001b[0;34m*\u001b[0m\u001b[0meBR\u001b[0m\u001b[0;34m*\u001b[0m\u001b[0meB\u001b[0m\u001b[0;34m*\u001b[0m\u001b[0mC\u001b[0m\u001b[0;34m*\u001b[0m\u001b[0mB\u001b[0m \u001b[0;34m-\u001b[0m\u001b[0mmB\u001b[0m\u001b[0;34m*\u001b[0m\u001b[0mB\u001b[0m\u001b[0;34m\u001b[0m\u001b[0m\n",
      "\u001b[0;31mValueError\u001b[0m: operands could not be broadcast together with shapes (2,) (3,) "
     ]
    }
   ],
   "source": [
    "fc.ebc7(sc.array([1,1,1]),0,0,.875,.63,.259,.001,.6,.55,1.046,.14)"
   ]
  },
  {
   "cell_type": "code",
   "execution_count": null,
   "metadata": {},
   "outputs": [],
   "source": []
  }
 ],
 "metadata": {
  "kernelspec": {
   "display_name": "Python 3",
   "language": "python",
   "name": "python3"
  },
  "language_info": {
   "codemirror_mode": {
    "name": "ipython",
    "version": 2
   },
   "file_extension": ".py",
   "mimetype": "text/x-python",
   "name": "python",
   "nbconvert_exporter": "python",
   "pygments_lexer": "ipython2",
   "version": "2.7.17"
  },
  "toc": {
   "base_numbering": 1,
   "nav_menu": {},
   "number_sections": true,
   "sideBar": true,
   "skip_h1_title": false,
   "title_cell": "Table of Contents",
   "title_sidebar": "Contents",
   "toc_cell": true,
   "toc_position": {},
   "toc_section_display": true,
   "toc_window_display": true
  }
 },
 "nbformat": 4,
 "nbformat_minor": 2
}
