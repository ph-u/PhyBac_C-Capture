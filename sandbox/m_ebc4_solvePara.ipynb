{
 "cells": [
  {
   "cell_type": "markdown",
   "metadata": {
    "toc": true
   },
   "source": [
    "<h1>Table of Contents<span class=\"tocSkip\"></span></h1>\n",
    "<div class=\"toc\"><ul class=\"toc-item\"><li><span><a href=\"#housekeeping\" data-toc-modified-id=\"housekeeping-1\"><span class=\"toc-item-num\">1&nbsp;&nbsp;</span>housekeeping</a></span><ul class=\"toc-item\"><li><span><a href=\"#languages-&amp;-packages\" data-toc-modified-id=\"languages-&amp;-packages-1.1\"><span class=\"toc-item-num\">1.1&nbsp;&nbsp;</span>languages &amp; packages</a></span></li><li><span><a href=\"#env-set-up\" data-toc-modified-id=\"env-set-up-1.2\"><span class=\"toc-item-num\">1.2&nbsp;&nbsp;</span>env set-up</a></span></li><li><span><a href=\"#model-function\" data-toc-modified-id=\"model-function-1.3\"><span class=\"toc-item-num\">1.3&nbsp;&nbsp;</span>model function</a></span></li></ul></li><li><span><a href=\"#step-by-step-numerical-solve-via-SymPy\" data-toc-modified-id=\"step-by-step-numerical-solve-via-SymPy-2\"><span class=\"toc-item-num\">2&nbsp;&nbsp;</span>step-by-step numerical solve via SymPy</a></span></li></ul></div>"
   ]
  },
  {
   "cell_type": "markdown",
   "metadata": {},
   "source": [
    "# housekeeping\n",
    "This notebook is for analytically solving parameters in the set of ODEs for eco-bioelectric cell (EBC).\n",
    "\n",
    "## languages & packages\n",
    "Julia-lang 1.3.1: `PyCall` (1.91.2), `DataFrames` (0.20.0), `SymPy` (1.0.18)\n",
    "\n",
    "## env set-up"
   ]
  },
  {
   "cell_type": "code",
   "execution_count": 19,
   "metadata": {
    "ExecuteTime": {
     "end_time": "2020-03-12T15:57:47.846000Z",
     "start_time": "2020-03-12T15:57:46.455Z"
    }
   },
   "outputs": [
    {
     "ename": "UndefVarError",
     "evalue": "UndefVarError: init_printing not defined",
     "output_type": "error",
     "traceback": [
      "UndefVarError: init_printing not defined",
      "",
      "Stacktrace:",
      " [1] top-level scope at In[19]:5"
     ]
    }
   ],
   "source": [
    "using PyCall, DataFrames, SymPy\n",
    "mt = pyimport(\"math\")\n",
    "sc = pyimport(\"scipy\")\n",
    "itg = pyimport(\"scipy.integrate\")\n",
    "println()"
   ]
  },
  {
   "cell_type": "markdown",
   "metadata": {},
   "source": [
    "## model function\n",
    "![](graph/PBD_00.png)"
   ]
  },
  {
   "cell_type": "code",
   "execution_count": 4,
   "metadata": {
    "ExecuteTime": {
     "end_time": "2020-03-12T15:29:40.385000Z",
     "start_time": "2020-03-12T15:29:38.344Z"
    }
   },
   "outputs": [
    {
     "data": {
      "text/plain": [
       "ebc0 (generic function with 1 method)"
      ]
     },
     "execution_count": 4,
     "metadata": {},
     "output_type": "execute_result"
    }
   ],
   "source": [
    "function ebc0(popDen, t, gp,ep,Rp,mp, gc,ec,Rc,mc)\n",
    "    \n",
    "    ## population densities\n",
    "    P = popDen[:1]\n",
    "    M = popDen[:2]\n",
    "    C = popDen[:3]\n",
    "    \n",
    "    ## numerical adaptation to net growth\n",
    "    #if gp <1; gp = 1+gp;end\n",
    "    #if gc <1; gc = 1+gc;end\n",
    "    \n",
    "    ## fluctuation model\n",
    "    dp = P*(gp*ep - Rp - mp)\n",
    "    dm = P*(gp*(1-ep) + mp) + C*(gc*(1-ec)*M + mc)\n",
    "    dc = C*(gc*ec*M - Rc - mc)\n",
    "    \n",
    "    ## non-recoverable elimination\n",
    "    if P <=0; dp=0;end\n",
    "    if C <=0; dc=0;end\n",
    "    \n",
    "    return(sc.array([dp,dm,dc]))\n",
    "end"
   ]
  },
  {
   "cell_type": "markdown",
   "metadata": {},
   "source": [
    "# step-by-step numerical solve via SymPy\n",
    "This step-wise workflow is following CMEE [notes](https://nbviewer.jupyter.org/github/mhasoba/TheMulQuaBio/blob/master/notebooks/Appendix-Maths.ipynb) (last section) from Samraat on Jupyter math models  \n",
    "define variables"
   ]
  },
  {
   "cell_type": "code",
   "execution_count": 15,
   "metadata": {
    "ExecuteTime": {
     "end_time": "2020-03-12T15:48:47.153000Z",
     "start_time": "2020-03-12T15:48:46.686Z"
    }
   },
   "outputs": [
    {
     "data": {
      "text/plain": [
       "(mc,)"
      ]
     },
     "execution_count": 15,
     "metadata": {},
     "output_type": "execute_result"
    }
   ],
   "source": [
    "@vars P; @vars M; @vars C\n",
    "@vars gp; @vars ep; @vars Rp; @vars mp\n",
    "@vars gc; @vars ec; @vars Rc; @vars mc"
   ]
  },
  {
   "cell_type": "markdown",
   "metadata": {},
   "source": [
    "define SymPy ODE system"
   ]
  },
  {
   "cell_type": "code",
   "execution_count": 16,
   "metadata": {
    "ExecuteTime": {
     "end_time": "2020-03-12T15:48:51.507000Z",
     "start_time": "2020-03-12T15:48:50.893Z"
    }
   },
   "outputs": [
    {
     "data": {
      "text/plain": [
       "(P*(-Rp + ep*gp - mp), C*(M*gc*(1 - ec) + mc) + P*(gp*(1 - ep) + mp), C*(M*ec*gc - Rc - mc))"
      ]
     },
     "execution_count": 16,
     "metadata": {},
     "output_type": "execute_result"
    }
   ],
   "source": [
    "dp = P*(gp*ep - Rp - mp)\n",
    "dm = P*(gp*(1-ep) + mp) + C*(gc*(1-ec)*M + mc)\n",
    "dc = C*(gc*ec*M - Rc - mc)\n",
    "dp, dm, dc"
   ]
  },
  {
   "cell_type": "markdown",
   "metadata": {},
   "source": [
    "define eqm state"
   ]
  },
  {
   "cell_type": "code",
   "execution_count": 18,
   "metadata": {
    "ExecuteTime": {
     "end_time": "2020-03-12T15:57:09.144000Z",
     "start_time": "2020-03-12T15:57:09.125Z"
    }
   },
   "outputs": [
    {
     "data": {
      "text/plain": [
       "(Eq(P*(-Rp + ep*gp - mp), 0), Eq(C*(M*gc*(1 - ec) + mc) + P*(gp*(1 - ep) + mp), 0), Eq(C*(M*ec*gc - Rc - mc), 0))"
      ]
     },
     "execution_count": 18,
     "metadata": {},
     "output_type": "execute_result"
    }
   ],
   "source": [
    "p_eqm = Eq(dp, 0)\n",
    "m_eqm = Eq(dm, 0)\n",
    "c_eqm = Eq(dc, 0)\n",
    "p_eqm, m_eqm, c_eqm"
   ]
  },
  {
   "cell_type": "code",
   "execution_count": null,
   "metadata": {},
   "outputs": [],
   "source": []
  }
 ],
 "metadata": {
  "kernelspec": {
   "display_name": "Julia 1.3.1",
   "language": "julia",
   "name": "julia-1.3"
  },
  "language_info": {
   "file_extension": ".jl",
   "mimetype": "application/julia",
   "name": "julia",
   "version": "1.3.1"
  },
  "latex_envs": {
   "LaTeX_envs_menu_present": true,
   "autoclose": true,
   "autocomplete": true,
   "bibliofile": "biblio.bib",
   "cite_by": "apalike",
   "current_citInitial": 1,
   "eqLabelWithNumbers": true,
   "eqNumInitial": 1,
   "hotkeys": {
    "equation": "Ctrl-E",
    "itemize": "Ctrl-I"
   },
   "labels_anchors": false,
   "latex_user_defs": false,
   "report_style_numbering": true,
   "user_envs_cfg": true
  },
  "toc": {
   "base_numbering": 1,
   "nav_menu": {},
   "number_sections": true,
   "sideBar": true,
   "skip_h1_title": false,
   "title_cell": "Table of Contents",
   "title_sidebar": "Contents",
   "toc_cell": true,
   "toc_position": {},
   "toc_section_display": true,
   "toc_window_display": true
  },
  "varInspector": {
   "cols": {
    "lenName": 16,
    "lenType": 16,
    "lenVar": 40
   },
   "kernels_config": {
    "python": {
     "delete_cmd_postfix": "",
     "delete_cmd_prefix": "del ",
     "library": "var_list.py",
     "varRefreshCmd": "print(var_dic_list())"
    },
    "r": {
     "delete_cmd_postfix": ") ",
     "delete_cmd_prefix": "rm(",
     "library": "var_list.r",
     "varRefreshCmd": "cat(var_dic_list()) "
    }
   },
   "types_to_exclude": [
    "module",
    "function",
    "builtin_function_or_method",
    "instance",
    "_Feature"
   ],
   "window_display": true
  }
 },
 "nbformat": 4,
 "nbformat_minor": 4
}
