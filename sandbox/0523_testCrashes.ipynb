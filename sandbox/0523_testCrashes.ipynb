{
 "cells": [
  {
   "cell_type": "markdown",
   "metadata": {
    "toc": true
   },
   "source": [
    "<h1>Table of Contents<span class=\"tocSkip\"></span></h1>\n",
    "<div class=\"toc\"><ul class=\"toc-item\"><li><span><a href=\"#load-situations-&amp;-functions\" data-toc-modified-id=\"load-situations-&amp;-functions-1\"><span class=\"toc-item-num\">1&nbsp;&nbsp;</span>load situations &amp; functions</a></span></li><li><span><a href=\"#load-list-of-situation-resulting-R-integration-crashes\" data-toc-modified-id=\"load-list-of-situation-resulting-R-integration-crashes-2\"><span class=\"toc-item-num\">2&nbsp;&nbsp;</span>load list of situation resulting R integration crashes</a></span></li><li><span><a href=\"#run-scan,-test-for-possible-cpu/memory-overflow\" data-toc-modified-id=\"run-scan,-test-for-possible-cpu/memory-overflow-3\"><span class=\"toc-item-num\">3&nbsp;&nbsp;</span>run scan, test for possible cpu/memory overflow</a></span></li><li><span><a href=\"#result\" data-toc-modified-id=\"result-4\"><span class=\"toc-item-num\">4&nbsp;&nbsp;</span>result</a></span></li></ul></div>"
   ]
  },
  {
   "cell_type": "markdown",
   "metadata": {},
   "source": [
    "# load situations & functions"
   ]
  },
  {
   "cell_type": "code",
   "execution_count": 1,
   "metadata": {
    "ExecuteTime": {
     "end_time": "2020-05-23T09:41:34.176000+01:00",
     "start_time": "2020-05-23T08:40:34.169Z"
    }
   },
   "outputs": [
    {
     "data": {
      "text/html": [
       "<table class=\"data-frame\"><thead><tr><th></th><th>x</th><th>e_PR</th><th>e_P</th><th>g_P</th><th>a_P</th><th>e_BR</th><th>e_B</th><th>g_B</th><th>m_B</th></tr><tr><th></th><th>Float64</th><th>Float64</th><th>Float64</th><th>Float64</th><th>Float64</th><th>Float64</th><th>Float64</th><th>Float64</th><th>Float64</th></tr></thead><tbody><p>1,234,321 rows × 25 columns (omitted printing of 16 columns)</p><tr><th>1</th><td>0.0</td><td>0.875</td><td>0.63</td><td>0.259</td><td>0.001</td><td>0.6</td><td>0.55</td><td>0.707</td><td>0.14</td></tr><tr><th>2</th><td>0.0</td><td>0.875</td><td>0.63</td><td>0.259</td><td>0.001</td><td>0.6</td><td>0.55</td><td>0.79</td><td>0.14</td></tr><tr><th>3</th><td>0.0</td><td>0.875</td><td>0.63</td><td>0.259</td><td>0.001</td><td>0.6</td><td>0.55</td><td>0.873</td><td>0.14</td></tr><tr><th>4</th><td>0.0</td><td>0.875</td><td>0.63</td><td>0.259</td><td>0.001</td><td>0.6</td><td>0.55</td><td>0.956</td><td>0.14</td></tr><tr><th>5</th><td>0.0</td><td>0.875</td><td>0.63</td><td>0.259</td><td>0.001</td><td>0.6</td><td>0.55</td><td>1.039</td><td>0.14</td></tr><tr><th>6</th><td>0.0</td><td>0.875</td><td>0.63</td><td>0.259</td><td>0.001</td><td>0.6</td><td>0.55</td><td>1.122</td><td>0.14</td></tr><tr><th>7</th><td>0.0</td><td>0.875</td><td>0.63</td><td>0.259</td><td>0.001</td><td>0.6</td><td>0.55</td><td>1.205</td><td>0.14</td></tr><tr><th>8</th><td>0.0</td><td>0.875</td><td>0.63</td><td>0.259</td><td>0.001</td><td>0.6</td><td>0.55</td><td>1.288</td><td>0.14</td></tr><tr><th>9</th><td>0.0</td><td>0.875</td><td>0.63</td><td>0.259</td><td>0.001</td><td>0.6</td><td>0.55</td><td>1.371</td><td>0.14</td></tr><tr><th>10</th><td>0.0</td><td>0.875</td><td>0.63</td><td>0.259</td><td>0.001</td><td>0.6</td><td>0.55</td><td>1.454</td><td>0.14</td></tr><tr><th>11</th><td>0.0</td><td>0.875</td><td>0.63</td><td>0.259</td><td>0.001</td><td>0.6</td><td>0.55</td><td>1.537</td><td>0.14</td></tr><tr><th>12</th><td>0.0</td><td>0.875</td><td>0.63</td><td>0.259</td><td>0.001</td><td>0.6</td><td>0.55</td><td>1.62</td><td>0.14</td></tr><tr><th>13</th><td>0.0</td><td>0.875</td><td>0.63</td><td>0.259</td><td>0.001</td><td>0.6</td><td>0.55</td><td>1.703</td><td>0.14</td></tr><tr><th>14</th><td>0.0</td><td>0.875</td><td>0.63</td><td>0.259</td><td>0.001</td><td>0.6</td><td>0.55</td><td>1.786</td><td>0.14</td></tr><tr><th>15</th><td>0.0</td><td>0.875</td><td>0.63</td><td>0.259</td><td>0.001</td><td>0.6</td><td>0.55</td><td>1.869</td><td>0.14</td></tr><tr><th>16</th><td>0.0</td><td>0.875</td><td>0.63</td><td>0.259</td><td>0.001</td><td>0.6</td><td>0.55</td><td>1.952</td><td>0.14</td></tr><tr><th>17</th><td>0.0</td><td>0.875</td><td>0.63</td><td>0.259</td><td>0.001</td><td>0.6</td><td>0.55</td><td>2.035</td><td>0.14</td></tr><tr><th>18</th><td>0.0</td><td>0.875</td><td>0.63</td><td>0.259</td><td>0.001</td><td>0.6</td><td>0.55</td><td>2.12</td><td>0.14</td></tr><tr><th>19</th><td>0.0</td><td>0.875</td><td>0.63</td><td>0.259</td><td>0.001</td><td>0.6</td><td>0.55</td><td>2.201</td><td>0.14</td></tr><tr><th>20</th><td>0.0</td><td>0.875</td><td>0.63</td><td>0.259</td><td>0.001</td><td>0.6</td><td>0.55</td><td>2.285</td><td>0.14</td></tr><tr><th>21</th><td>0.0</td><td>0.875</td><td>0.63</td><td>0.259</td><td>0.001</td><td>0.6</td><td>0.55</td><td>2.367</td><td>0.14</td></tr><tr><th>22</th><td>0.0</td><td>0.875</td><td>0.63</td><td>0.259</td><td>0.001</td><td>0.6</td><td>0.55</td><td>2.451</td><td>0.14</td></tr><tr><th>23</th><td>0.0</td><td>0.875</td><td>0.63</td><td>0.259</td><td>0.001</td><td>0.6</td><td>0.55</td><td>2.533</td><td>0.14</td></tr><tr><th>24</th><td>0.0</td><td>0.875</td><td>0.63</td><td>0.259</td><td>0.001</td><td>0.6</td><td>0.55</td><td>2.617</td><td>0.14</td></tr><tr><th>25</th><td>0.0</td><td>0.875</td><td>0.63</td><td>0.259</td><td>0.001</td><td>0.6</td><td>0.55</td><td>2.7</td><td>0.14</td></tr><tr><th>26</th><td>0.0</td><td>0.875</td><td>0.63</td><td>0.259</td><td>0.001</td><td>0.6</td><td>0.55</td><td>2.783</td><td>0.14</td></tr><tr><th>27</th><td>0.0</td><td>0.875</td><td>0.63</td><td>0.259</td><td>0.001</td><td>0.6</td><td>0.55</td><td>2.865</td><td>0.14</td></tr><tr><th>28</th><td>0.0</td><td>0.875</td><td>0.63</td><td>0.259</td><td>0.001</td><td>0.6</td><td>0.55</td><td>2.95</td><td>0.14</td></tr><tr><th>29</th><td>0.0</td><td>0.875</td><td>0.63</td><td>0.259</td><td>0.001</td><td>0.6</td><td>0.55</td><td>3.031</td><td>0.14</td></tr><tr><th>30</th><td>0.0</td><td>0.875</td><td>0.63</td><td>0.259</td><td>0.001</td><td>0.6</td><td>0.55</td><td>3.115</td><td>0.14</td></tr><tr><th>&vellip;</th><td>&vellip;</td><td>&vellip;</td><td>&vellip;</td><td>&vellip;</td><td>&vellip;</td><td>&vellip;</td><td>&vellip;</td><td>&vellip;</td><td>&vellip;</td></tr></tbody></table>"
      ],
      "text/latex": [
       "\\begin{tabular}{r|cccccccccc}\n",
       "\t& x & e\\_PR & e\\_P & g\\_P & a\\_P & e\\_BR & e\\_B & g\\_B & m\\_B & \\\\\n",
       "\t\\hline\n",
       "\t& Float64 & Float64 & Float64 & Float64 & Float64 & Float64 & Float64 & Float64 & Float64 & \\\\\n",
       "\t\\hline\n",
       "\t1 & 0.0 & 0.875 & 0.63 & 0.259 & 0.001 & 0.6 & 0.55 & 0.707 & 0.14 & $\\dots$ \\\\\n",
       "\t2 & 0.0 & 0.875 & 0.63 & 0.259 & 0.001 & 0.6 & 0.55 & 0.79 & 0.14 & $\\dots$ \\\\\n",
       "\t3 & 0.0 & 0.875 & 0.63 & 0.259 & 0.001 & 0.6 & 0.55 & 0.873 & 0.14 & $\\dots$ \\\\\n",
       "\t4 & 0.0 & 0.875 & 0.63 & 0.259 & 0.001 & 0.6 & 0.55 & 0.956 & 0.14 & $\\dots$ \\\\\n",
       "\t5 & 0.0 & 0.875 & 0.63 & 0.259 & 0.001 & 0.6 & 0.55 & 1.039 & 0.14 & $\\dots$ \\\\\n",
       "\t6 & 0.0 & 0.875 & 0.63 & 0.259 & 0.001 & 0.6 & 0.55 & 1.122 & 0.14 & $\\dots$ \\\\\n",
       "\t7 & 0.0 & 0.875 & 0.63 & 0.259 & 0.001 & 0.6 & 0.55 & 1.205 & 0.14 & $\\dots$ \\\\\n",
       "\t8 & 0.0 & 0.875 & 0.63 & 0.259 & 0.001 & 0.6 & 0.55 & 1.288 & 0.14 & $\\dots$ \\\\\n",
       "\t9 & 0.0 & 0.875 & 0.63 & 0.259 & 0.001 & 0.6 & 0.55 & 1.371 & 0.14 & $\\dots$ \\\\\n",
       "\t10 & 0.0 & 0.875 & 0.63 & 0.259 & 0.001 & 0.6 & 0.55 & 1.454 & 0.14 & $\\dots$ \\\\\n",
       "\t11 & 0.0 & 0.875 & 0.63 & 0.259 & 0.001 & 0.6 & 0.55 & 1.537 & 0.14 & $\\dots$ \\\\\n",
       "\t12 & 0.0 & 0.875 & 0.63 & 0.259 & 0.001 & 0.6 & 0.55 & 1.62 & 0.14 & $\\dots$ \\\\\n",
       "\t13 & 0.0 & 0.875 & 0.63 & 0.259 & 0.001 & 0.6 & 0.55 & 1.703 & 0.14 & $\\dots$ \\\\\n",
       "\t14 & 0.0 & 0.875 & 0.63 & 0.259 & 0.001 & 0.6 & 0.55 & 1.786 & 0.14 & $\\dots$ \\\\\n",
       "\t15 & 0.0 & 0.875 & 0.63 & 0.259 & 0.001 & 0.6 & 0.55 & 1.869 & 0.14 & $\\dots$ \\\\\n",
       "\t16 & 0.0 & 0.875 & 0.63 & 0.259 & 0.001 & 0.6 & 0.55 & 1.952 & 0.14 & $\\dots$ \\\\\n",
       "\t17 & 0.0 & 0.875 & 0.63 & 0.259 & 0.001 & 0.6 & 0.55 & 2.035 & 0.14 & $\\dots$ \\\\\n",
       "\t18 & 0.0 & 0.875 & 0.63 & 0.259 & 0.001 & 0.6 & 0.55 & 2.12 & 0.14 & $\\dots$ \\\\\n",
       "\t19 & 0.0 & 0.875 & 0.63 & 0.259 & 0.001 & 0.6 & 0.55 & 2.201 & 0.14 & $\\dots$ \\\\\n",
       "\t20 & 0.0 & 0.875 & 0.63 & 0.259 & 0.001 & 0.6 & 0.55 & 2.285 & 0.14 & $\\dots$ \\\\\n",
       "\t21 & 0.0 & 0.875 & 0.63 & 0.259 & 0.001 & 0.6 & 0.55 & 2.367 & 0.14 & $\\dots$ \\\\\n",
       "\t22 & 0.0 & 0.875 & 0.63 & 0.259 & 0.001 & 0.6 & 0.55 & 2.451 & 0.14 & $\\dots$ \\\\\n",
       "\t23 & 0.0 & 0.875 & 0.63 & 0.259 & 0.001 & 0.6 & 0.55 & 2.533 & 0.14 & $\\dots$ \\\\\n",
       "\t24 & 0.0 & 0.875 & 0.63 & 0.259 & 0.001 & 0.6 & 0.55 & 2.617 & 0.14 & $\\dots$ \\\\\n",
       "\t25 & 0.0 & 0.875 & 0.63 & 0.259 & 0.001 & 0.6 & 0.55 & 2.7 & 0.14 & $\\dots$ \\\\\n",
       "\t26 & 0.0 & 0.875 & 0.63 & 0.259 & 0.001 & 0.6 & 0.55 & 2.783 & 0.14 & $\\dots$ \\\\\n",
       "\t27 & 0.0 & 0.875 & 0.63 & 0.259 & 0.001 & 0.6 & 0.55 & 2.865 & 0.14 & $\\dots$ \\\\\n",
       "\t28 & 0.0 & 0.875 & 0.63 & 0.259 & 0.001 & 0.6 & 0.55 & 2.95 & 0.14 & $\\dots$ \\\\\n",
       "\t29 & 0.0 & 0.875 & 0.63 & 0.259 & 0.001 & 0.6 & 0.55 & 3.031 & 0.14 & $\\dots$ \\\\\n",
       "\t30 & 0.0 & 0.875 & 0.63 & 0.259 & 0.001 & 0.6 & 0.55 & 3.115 & 0.14 & $\\dots$ \\\\\n",
       "\t$\\dots$ & $\\dots$ & $\\dots$ & $\\dots$ & $\\dots$ & $\\dots$ & $\\dots$ & $\\dots$ & $\\dots$ & $\\dots$ &  \\\\\n",
       "\\end{tabular}\n"
      ],
      "text/plain": [
       "1234321×25 DataFrame. Omitted printing of 19 columns\n",
       "│ Row     │ x       │ e_PR    │ e_P     │ g_P     │ a_P     │ e_BR    │\n",
       "│         │ \u001b[90mFloat64\u001b[39m │ \u001b[90mFloat64\u001b[39m │ \u001b[90mFloat64\u001b[39m │ \u001b[90mFloat64\u001b[39m │ \u001b[90mFloat64\u001b[39m │ \u001b[90mFloat64\u001b[39m │\n",
       "├─────────┼─────────┼─────────┼─────────┼─────────┼─────────┼─────────┤\n",
       "│ 1       │ 0.0     │ 0.875   │ 0.63    │ 0.259   │ 0.001   │ 0.6     │\n",
       "│ 2       │ 0.0     │ 0.875   │ 0.63    │ 0.259   │ 0.001   │ 0.6     │\n",
       "│ 3       │ 0.0     │ 0.875   │ 0.63    │ 0.259   │ 0.001   │ 0.6     │\n",
       "│ 4       │ 0.0     │ 0.875   │ 0.63    │ 0.259   │ 0.001   │ 0.6     │\n",
       "│ 5       │ 0.0     │ 0.875   │ 0.63    │ 0.259   │ 0.001   │ 0.6     │\n",
       "│ 6       │ 0.0     │ 0.875   │ 0.63    │ 0.259   │ 0.001   │ 0.6     │\n",
       "│ 7       │ 0.0     │ 0.875   │ 0.63    │ 0.259   │ 0.001   │ 0.6     │\n",
       "│ 8       │ 0.0     │ 0.875   │ 0.63    │ 0.259   │ 0.001   │ 0.6     │\n",
       "│ 9       │ 0.0     │ 0.875   │ 0.63    │ 0.259   │ 0.001   │ 0.6     │\n",
       "│ 10      │ 0.0     │ 0.875   │ 0.63    │ 0.259   │ 0.001   │ 0.6     │\n",
       "⋮\n",
       "│ 1234311 │ 1.0     │ 0.875   │ 0.63    │ 0.556   │ 0.4     │ 0.6     │\n",
       "│ 1234312 │ 1.0     │ 0.875   │ 0.63    │ 0.556   │ 0.4     │ 0.6     │\n",
       "│ 1234313 │ 1.0     │ 0.875   │ 0.63    │ 0.556   │ 0.4     │ 0.6     │\n",
       "│ 1234314 │ 1.0     │ 0.875   │ 0.63    │ 0.556   │ 0.4     │ 0.6     │\n",
       "│ 1234315 │ 1.0     │ 0.875   │ 0.63    │ 0.556   │ 0.4     │ 0.6     │\n",
       "│ 1234316 │ 1.0     │ 0.875   │ 0.63    │ 0.556   │ 0.4     │ 0.6     │\n",
       "│ 1234317 │ 1.0     │ 0.875   │ 0.63    │ 0.556   │ 0.4     │ 0.6     │\n",
       "│ 1234318 │ 1.0     │ 0.875   │ 0.63    │ 0.556   │ 0.4     │ 0.6     │\n",
       "│ 1234319 │ 1.0     │ 0.875   │ 0.63    │ 0.556   │ 0.4     │ 0.6     │\n",
       "│ 1234320 │ 1.0     │ 0.875   │ 0.63    │ 0.556   │ 0.4     │ 0.6     │\n",
       "│ 1234321 │ 1.0     │ 0.875   │ 0.63    │ 0.556   │ 0.4     │ 0.6     │"
      ]
     },
     "execution_count": 1,
     "metadata": {},
     "output_type": "execute_result"
    }
   ],
   "source": [
    "include(\"../code/func.jl\")\n",
    "aNA = CSV.read(\"../result/maxYield_ALL.csv\")"
   ]
  },
  {
   "cell_type": "markdown",
   "metadata": {},
   "source": [
    "# load list of situation resulting R integration crashes"
   ]
  },
  {
   "cell_type": "code",
   "execution_count": 24,
   "metadata": {
    "ExecuteTime": {
     "end_time": "2020-05-23T10:50:25.759000+01:00",
     "start_time": "2020-05-23T09:50:25.717Z"
    }
   },
   "outputs": [
    {
     "name": "stdout",
     "output_type": "stream",
     "text": [
      "\n"
     ]
    }
   ],
   "source": [
    "liNe = CSV.read(\"p_tmp/filL.csv\", header=false)\n",
    "println()"
   ]
  },
  {
   "cell_type": "markdown",
   "metadata": {},
   "source": [
    "# run scan, test for possible cpu/memory overflow"
   ]
  },
  {
   "cell_type": "code",
   "execution_count": 23,
   "metadata": {
    "ExecuteTime": {
     "end_time": "2020-05-23T10:43:53.720000+01:00",
     "start_time": "2020-05-23T09:04:37.037Z"
    }
   },
   "outputs": [
    {
     "name": "stdout",
     "output_type": "stream",
     "text": [
      "1.0K\n",
      "2.0K\n",
      "3.0K\n",
      "4.0K\n",
      "5.0K\n",
      "6.0K\n",
      "7.0K\n",
      "8.0K\n",
      "9.0K\n",
      "10.0K\n",
      "11.0K\n",
      "12.0K\n",
      "13.0K\n",
      "14.0K\n",
      "15.0K\n",
      "16.0K\n",
      "17.0K\n",
      "18.0K\n",
      "19.0K\n",
      "20.0K\n",
      "21.0K\n",
      "22.0K\n",
      "23.0K\n",
      "24.0K\n",
      "25.0K\n",
      "26.0K\n",
      "27.0K\n",
      "28.0K\n",
      "29.0K\n",
      "30.0K\n",
      "31.0K\n",
      "32.0K\n",
      "33.0K\n",
      " lsoda--  warning..internal t (=r1) and h (=r2) are\u0000\u0000\n",
      "       such that in the machine, t + h = t on the next step  \n",
      "       (h = step size). solver will continue anyway\u0000\u0000\n",
      "      in above,  r1 =  0.1601617833204D+03   r2 =  0.1259258401554D-13\n",
      " lsoda--  warning..internal t (=r1) and h (=r2) are\u0000\u0000\n",
      "       such that in the machine, t + h = t on the next step  \n",
      "       (h = step size). solver will continue anyway\u0000\u0000\n",
      "      in above,  r1 =  0.1601617833204D+03   r2 =  0.1259258401554D-13\n",
      " lsoda--  warning..internal t (=r1) and h (=r2) are\u0000\u0000\n",
      "       such that in the machine, t + h = t on the next step  \n",
      "       (h = step size). solver will continue anyway\u0000\u0000\n",
      "      in above,  r1 =  0.1601617833204D+03   r2 =  0.1259258401554D-13\n",
      " lsoda--  warning..internal t (=r1) and h (=r2) are\u0000\u0000\n",
      "       such that in the machine, t + h = t on the next step  \n",
      "       (h = step size). solver will continue anyway\u0000\u0000\n",
      "      in above,  r1 =  0.1601617833204D+03   r2 =  0.1259258401554D-13\n",
      " lsoda--  warning..internal t (=r1) and h (=r2) are\u0000\u0000\n",
      "       such that in the machine, t + h = t on the next step  \n",
      "       (h = step size). solver will continue anyway\u0000\u0000\n",
      "      in above,  r1 =  0.1601617833204D+03   r2 =  0.1022386058117D-13\n",
      " lsoda--  warning..internal t (=r1) and h (=r2) are\u0000\u0000\n",
      "       such that in the machine, t + h = t on the next step  \n",
      "       (h = step size). solver will continue anyway\u0000\u0000\n",
      "      in above,  r1 =  0.1601617833204D+03   r2 =  0.1022386058117D-13\n",
      " lsoda--  warning..internal t (=r1) and h (=r2) are\u0000\u0000\n",
      "       such that in the machine, t + h = t on the next step  \n",
      "       (h = step size). solver will continue anyway\u0000\u0000\n",
      "      in above,  r1 =  0.1601617833204D+03   r2 =  0.1022386058117D-13\n",
      " lsoda--  warning..internal t (=r1) and h (=r2) are\u0000\u0000\n",
      "       such that in the machine, t + h = t on the next step  \n",
      "       (h = step size). solver will continue anyway\u0000\u0000\n",
      "      in above,  r1 =  0.1601617833204D+03   r2 =  0.1022386058117D-13\n",
      " lsoda--  warning..internal t (=r1) and h (=r2) are\u0000\u0000\n",
      "       such that in the machine, t + h = t on the next step  \n",
      "       (h = step size). solver will continue anyway\u0000\u0000\n",
      "      in above,  r1 =  0.1601617833204D+03   r2 =  0.8300705006170D-14\n",
      " lsoda--  warning..internal t (=r1) and h (=r2) are\u0000\u0000\n",
      "       such that in the machine, t + h = t on the next step  \n",
      "       (h = step size). solver will continue anyway\u0000\u0000\n",
      "      in above,  r1 =  0.1601617833204D+03   r2 =  0.8300705006170D-14\n",
      " lsoda--  above warning has been issued i1 times.  \u0000\u0000\n",
      "       it will not be issued again for this problem\u0000\u0000\n",
      "      in above message,  i1 =        10\n"
     ]
    }
   ],
   "source": [
    "for i in 1:size(liNe)[1]\n",
    "    a = ebcData(1000,1e-12,aNA[liNe[i,1],:])\n",
    "    if i%1e3==0;println(string(i/1000)*\"K\");end\n",
    "    #plot(a)\n",
    "    #scatter!(repeat([1000], outer=16),Array(aNA[i,10:end]))\n",
    "end"
   ]
  },
  {
   "cell_type": "markdown",
   "metadata": {},
   "source": [
    "# result\n",
    "some situations did break integration engine but it is unrelated to machine resources breakdown"
   ]
  }
 ],
 "metadata": {
  "kernelspec": {
   "display_name": "Julia 1.3.1",
   "language": "julia",
   "name": "julia-1.3"
  },
  "language_info": {
   "file_extension": ".jl",
   "mimetype": "application/julia",
   "name": "julia",
   "version": "1.3.1"
  },
  "toc": {
   "base_numbering": 1,
   "nav_menu": {},
   "number_sections": true,
   "sideBar": true,
   "skip_h1_title": false,
   "title_cell": "Table of Contents",
   "title_sidebar": "Contents",
   "toc_cell": true,
   "toc_position": {},
   "toc_section_display": true,
   "toc_window_display": true
  }
 },
 "nbformat": 4,
 "nbformat_minor": 2
}
