{
 "cells": [
  {
   "cell_type": "markdown",
   "metadata": {
    "toc": true
   },
   "source": [
    "<h1>Table of Contents<span class=\"tocSkip\"></span></h1>\n",
    "<div class=\"toc\"><ul class=\"toc-item\"><li><span><a href=\"#env-details\" data-toc-modified-id=\"env-details-1\"><span class=\"toc-item-num\">1&nbsp;&nbsp;</span>env details</a></span></li><li><span><a href=\"#data-exploration\" data-toc-modified-id=\"data-exploration-2\"><span class=\"toc-item-num\">2&nbsp;&nbsp;</span>data exploration</a></span></li><li><span><a href=\"#data-mapping-from-different-angles\" data-toc-modified-id=\"data-mapping-from-different-angles-3\"><span class=\"toc-item-num\">3&nbsp;&nbsp;</span>data mapping from different angles</a></span></li></ul></div>"
   ]
  },
  {
   "cell_type": "markdown",
   "metadata": {},
   "source": [
    "# env details\n",
    "python pkg for parameter simulation: scipy (1.4.1), numpy (1.18.2)  \n",
    "Julia-lang check pkg version: using Pkg;Pkg.installed()  \n",
    "RCall (0.13.4), DataFrames (0.20.2), CSV (0.6.1), Plots (0.29.7)"
   ]
  },
  {
   "cell_type": "code",
   "execution_count": 1,
   "metadata": {
    "ExecuteTime": {
     "end_time": "2020-04-18T12:53:15.367000+01:00",
     "start_time": "2020-04-18T11:52:55.736Z"
    }
   },
   "outputs": [],
   "source": [
    "using RCall, DataFrames, CSV, Plots"
   ]
  },
  {
   "cell_type": "markdown",
   "metadata": {},
   "source": [
    "# data exploration"
   ]
  },
  {
   "cell_type": "code",
   "execution_count": 2,
   "metadata": {
    "ExecuteTime": {
     "end_time": "2020-04-18T12:53:34.950000+01:00",
     "start_time": "2020-04-18T11:52:55.741Z"
    },
    "scrolled": true
   },
   "outputs": [
    {
     "data": {
      "text/html": [
       "<table class=\"data-frame\"><thead><tr><th></th><th>variable</th><th>mean</th><th>min</th><th>median</th><th>max</th><th>nunique</th><th>nmissing</th><th>eltype</th></tr><tr><th></th><th>Symbol</th><th>Float64</th><th>Float64</th><th>Float64</th><th>Float64</th><th>Nothing</th><th>Nothing</th><th>DataType</th></tr></thead><tbody><p>13 rows × 8 columns</p><tr><th>1</th><td>x</td><td>0.466182</td><td>0.0</td><td>0.45</td><td>1.0</td><td></td><td></td><td>Float64</td></tr><tr><th>2</th><td>e_PR</td><td>0.563</td><td>0.563</td><td>0.563</td><td>0.563</td><td></td><td></td><td>Float64</td></tr><tr><th>3</th><td>e_P</td><td>0.63</td><td>0.63</td><td>0.63</td><td>0.63</td><td></td><td></td><td>Float64</td></tr><tr><th>4</th><td>g_P</td><td>0.41827</td><td>0.259</td><td>0.4373</td><td>0.556</td><td></td><td></td><td>Float64</td></tr><tr><th>5</th><td>a_P</td><td>0.184238</td><td>0.001</td><td>0.1606</td><td>0.4</td><td></td><td></td><td>Float64</td></tr><tr><th>6</th><td>e_BR</td><td>0.6</td><td>0.6</td><td>0.6</td><td>0.6</td><td></td><td></td><td>Float64</td></tr><tr><th>7</th><td>e_B</td><td>0.55</td><td>0.55</td><td>0.55</td><td>0.55</td><td></td><td></td><td>Float64</td></tr><tr><th>8</th><td>g_B</td><td>5.00411</td><td>1.046</td><td>5.1</td><td>8.414</td><td></td><td></td><td>Float64</td></tr><tr><th>9</th><td>m_B</td><td>0.14</td><td>0.14</td><td>0.14</td><td>0.14</td><td></td><td></td><td>Float64</td></tr><tr><th>10</th><td>eqmC</td><td>0.11049</td><td>0.05038</td><td>0.0832</td><td>0.4055</td><td></td><td></td><td>Float64</td></tr><tr><th>11</th><td>eqmP</td><td>16.1903</td><td>0.2297</td><td>0.826</td><td>197.2</td><td></td><td></td><td>Float64</td></tr><tr><th>12</th><td>eqmB</td><td>22.7824</td><td>0.05</td><td>0.908</td><td>363.8</td><td></td><td></td><td>Float64</td></tr><tr><th>13</th><td>eqmA</td><td>39.0847</td><td>0.332</td><td>1.848</td><td>561.5</td><td></td><td></td><td>Float64</td></tr></tbody></table>"
      ],
      "text/latex": [
       "\\begin{tabular}{r|cccccccc}\n",
       "\t& variable & mean & min & median & max & nunique & nmissing & eltype\\\\\n",
       "\t\\hline\n",
       "\t& Symbol & Float64 & Float64 & Float64 & Float64 & Nothing & Nothing & DataType\\\\\n",
       "\t\\hline\n",
       "\t1 & x & 0.466182 & 0.0 & 0.45 & 1.0 &  &  & Float64 \\\\\n",
       "\t2 & e\\_PR & 0.563 & 0.563 & 0.563 & 0.563 &  &  & Float64 \\\\\n",
       "\t3 & e\\_P & 0.63 & 0.63 & 0.63 & 0.63 &  &  & Float64 \\\\\n",
       "\t4 & g\\_P & 0.41827 & 0.259 & 0.4373 & 0.556 &  &  & Float64 \\\\\n",
       "\t5 & a\\_P & 0.184238 & 0.001 & 0.1606 & 0.4 &  &  & Float64 \\\\\n",
       "\t6 & e\\_BR & 0.6 & 0.6 & 0.6 & 0.6 &  &  & Float64 \\\\\n",
       "\t7 & e\\_B & 0.55 & 0.55 & 0.55 & 0.55 &  &  & Float64 \\\\\n",
       "\t8 & g\\_B & 5.00411 & 1.046 & 5.1 & 8.414 &  &  & Float64 \\\\\n",
       "\t9 & m\\_B & 0.14 & 0.14 & 0.14 & 0.14 &  &  & Float64 \\\\\n",
       "\t10 & eqmC & 0.11049 & 0.05038 & 0.0832 & 0.4055 &  &  & Float64 \\\\\n",
       "\t11 & eqmP & 16.1903 & 0.2297 & 0.826 & 197.2 &  &  & Float64 \\\\\n",
       "\t12 & eqmB & 22.7824 & 0.05 & 0.908 & 363.8 &  &  & Float64 \\\\\n",
       "\t13 & eqmA & 39.0847 & 0.332 & 1.848 & 561.5 &  &  & Float64 \\\\\n",
       "\\end{tabular}\n"
      ],
      "text/plain": [
       "13×8 DataFrame. Omitted printing of 1 columns\n",
       "│ Row │ variable │ mean     │ min     │ median  │ max     │ nunique │ nmissing │\n",
       "│     │ \u001b[90mSymbol\u001b[39m   │ \u001b[90mFloat64\u001b[39m  │ \u001b[90mFloat64\u001b[39m │ \u001b[90mFloat64\u001b[39m │ \u001b[90mFloat64\u001b[39m │ \u001b[90mNothing\u001b[39m │ \u001b[90mNothing\u001b[39m  │\n",
       "├─────┼──────────┼──────────┼─────────┼─────────┼─────────┼─────────┼──────────┤\n",
       "│ 1   │ x        │ 0.466182 │ 0.0     │ 0.45    │ 1.0     │         │          │\n",
       "│ 2   │ e_PR     │ 0.563    │ 0.563   │ 0.563   │ 0.563   │         │          │\n",
       "│ 3   │ e_P      │ 0.63     │ 0.63    │ 0.63    │ 0.63    │         │          │\n",
       "│ 4   │ g_P      │ 0.41827  │ 0.259   │ 0.4373  │ 0.556   │         │          │\n",
       "│ 5   │ a_P      │ 0.184238 │ 0.001   │ 0.1606  │ 0.4     │         │          │\n",
       "│ 6   │ e_BR     │ 0.6      │ 0.6     │ 0.6     │ 0.6     │         │          │\n",
       "│ 7   │ e_B      │ 0.55     │ 0.55    │ 0.55    │ 0.55    │         │          │\n",
       "│ 8   │ g_B      │ 5.00411  │ 1.046   │ 5.1     │ 8.414   │         │          │\n",
       "│ 9   │ m_B      │ 0.14     │ 0.14    │ 0.14    │ 0.14    │         │          │\n",
       "│ 10  │ eqmC     │ 0.11049  │ 0.05038 │ 0.0832  │ 0.4055  │         │          │\n",
       "│ 11  │ eqmP     │ 16.1903  │ 0.2297  │ 0.826   │ 197.2   │         │          │\n",
       "│ 12  │ eqmB     │ 22.7824  │ 0.05    │ 0.908   │ 363.8   │         │          │\n",
       "│ 13  │ eqmA     │ 39.0847  │ 0.332   │ 1.848   │ 561.5   │         │          │"
      ]
     },
     "execution_count": 2,
     "metadata": {},
     "output_type": "execute_result"
    }
   ],
   "source": [
    "#rAw = CSV.read(\"../result/maxYield_0.1.csv\")\n",
    "rAw = CSV.read(\"../result/maxYield_0.05.csv\")\n",
    "describe(rAw)"
   ]
  },
  {
   "cell_type": "code",
   "execution_count": 3,
   "metadata": {
    "ExecuteTime": {
     "end_time": "2020-04-18T12:53:37.167000+01:00",
     "start_time": "2020-04-18T11:52:55.747Z"
    }
   },
   "outputs": [
    {
     "data": {
      "text/plain": [
       "9-element Array{Any,1}:\n",
       "  [0.0, 0.01, 0.02, 0.03, 0.04, 0.05, 0.06, 0.07, 0.08, 0.09  …  0.91, 0.92, 0.93, 0.94, 0.95, 0.96, 0.97, 0.98, 0.99, 1.0]              \n",
       " 0.563                                                                                                                                   \n",
       " 0.63                                                                                                                                    \n",
       "  [0.259, 0.2888, 0.3184, 0.3481, 0.378, 0.4075, 0.4373, 0.467, 0.4966, 0.5264, 0.556]                                                   \n",
       "  [0.001, 0.0409, 0.0808, 0.1207, 0.1606, 0.2004, 0.2404, 0.2803, 0.3203, 0.36, 0.4]                                                     \n",
       " 0.6                                                                                                                                     \n",
       " 0.55                                                                                                                                    \n",
       "  [1.046, 1.169, 1.292, 1.415, 1.537, 1.66, 1.783, 1.906, 2.03, 2.152  …  7.312, 7.434, 7.56, 7.68, 7.805, 7.926, 8.05, 8.17, 8.3, 8.414]\n",
       " 0.14                                                                                                                                    "
      ]
     },
     "execution_count": 3,
     "metadata": {},
     "output_type": "execute_result"
    }
   ],
   "source": [
    "@rput rAw\n",
    "R\"\n",
    "u0 = vector(mode='list', length=9)\n",
    "for(i in 1:9){\n",
    "    u0[[i]] = unique(rAw[,i])\n",
    "};rm(i)\n",
    "\"\n",
    "@rget u0"
   ]
  },
  {
   "cell_type": "markdown",
   "metadata": {},
   "source": [
    "# data mapping from different angles"
   ]
  },
  {
   "cell_type": "code",
   "execution_count": 4,
   "metadata": {
    "ExecuteTime": {
     "end_time": "2020-04-18T12:53:37.623000+01:00",
     "start_time": "2020-04-18T11:52:55.752Z"
    }
   },
   "outputs": [
    {
     "name": "stdout",
     "output_type": "stream",
     "text": [
      "\n"
     ]
    }
   ],
   "source": [
    "aXis = [4 8 0 5] ## default x,y,z,t axis\n",
    "fiX = [u0[i] for i in 1:length(u0) if length(u0[i])==1]\n",
    "aMt = [[i0 i1] for i0 in 1:length(u0[aXis[4]]) for i1 in 1:length(u0[1])]\n",
    "println()"
   ]
  },
  {
   "cell_type": "code",
   "execution_count": null,
   "metadata": {
    "ExecuteTime": {
     "start_time": "2020-04-18T11:52:55.758Z"
    }
   },
   "outputs": [],
   "source": [
    "aXis[3] = 10 ## customed z axis\n",
    "aa = @animate for i0 in 1:length(aMt)\n",
    "                aMt0 = aMt[i0]\n",
    "                @rput aXis aMt0\n",
    "                R\"\n",
    "                ## extract necessary data\n",
    "                pp = rAw[which(rAw[,aXis[4]]==u0[[aXis[4]]][aMt0[1]] & rAw[,1]==u0[[1]][aMt0[2]]),]\n",
    "                \n",
    "                ## initialize matrix\n",
    "                mmR = unique(pp[,aXis[1]])\n",
    "                mmC = unique(pp[,aXis[2]])\n",
    "                mm = matrix(NA, nr=length(mmR), nc=length(mmC))\n",
    "                \n",
    "                ## map data from dataframe to matrix\n",
    "                for(i in 1:nrow(pp)){\n",
    "                    mm[which(mmR==pp[i,aXis[1]]),which(mmC==pp[i,aXis[2]])] <- pp[i,aXis[3]]\n",
    "                };rm(i)\n",
    "                \"\n",
    "                @rget mm mmR mmC\n",
    "                if size(mm)[1] > 0\n",
    "                    plot(mmR, mmC, mm, st=:surface,\n",
    "                    xlabel=names(rAw)[aXis[1]], ylabel=names(rAw)[aXis[2]], zlabel=names(rAw)[aXis[3]],\n",
    "                    title=\"Surface plot animation based on fixed parameters\\n ePR=\"*string(fiX[1])*\", eP=\"*string(fiX[2])*\", eBR=\"*string(fiX[3])*\", eB=\"*string(fiX[4])*\", mB=\"*string(fiX[5])*\",\\n x=\"*string(u0[1][aMt0[2]])*\", aP=\"*string(u0[aXis[4]][aMt0[1]]))\n",
    "                end\n",
    "            end\n",
    "gif(aa, \"gif/\"*string(names(rAw)[aXis[3]])*\".gif\", fps=15)"
   ]
  },
  {
   "cell_type": "code",
   "execution_count": null,
   "metadata": {
    "ExecuteTime": {
     "start_time": "2020-04-18T11:52:55.762Z"
    }
   },
   "outputs": [],
   "source": [
    "aXis[3] = 11 ## customed z axis\n",
    "aa = @animate for i0 in 1:length(aMt)\n",
    "                aMt0 = aMt[i0]\n",
    "                @rput aXis aMt0\n",
    "                R\"\n",
    "                ## extract necessary data\n",
    "                pp = rAw[which(rAw[,aXis[4]]==u0[[aXis[4]]][aMt0[1]] & rAw[,1]==u0[[1]][aMt0[2]]),]\n",
    "                \n",
    "                ## initialize matrix\n",
    "                mmR = unique(pp[,aXis[1]])\n",
    "                mmC = unique(pp[,aXis[2]])\n",
    "                mm = matrix(NA, nr=length(mmR), nc=length(mmC))\n",
    "                \n",
    "                ## map data from dataframe to matrix\n",
    "                for(i in 1:nrow(pp)){\n",
    "                    mm[which(mmR==pp[i,aXis[1]]),which(mmC==pp[i,aXis[2]])] <- pp[i,aXis[3]]\n",
    "                };rm(i)\n",
    "                \"\n",
    "                @rget mm mmR mmC\n",
    "                if size(mm)[1] > 0\n",
    "                    plot(mmR, mmC, mm, st=:surface,\n",
    "                    xlabel=names(rAw)[aXis[1]], ylabel=names(rAw)[aXis[2]], zlabel=names(rAw)[aXis[3]],\n",
    "                    title=\"Surface plot animation based on fixed parameters\\n ePR=\"*string(fiX[1])*\", eP=\"*string(fiX[2])*\", eBR=\"*string(fiX[3])*\", eB=\"*string(fiX[4])*\", mB=\"*string(fiX[5])*\",\\n x=\"*string(u0[1][aMt0[2]])*\", aP=\"*string(u0[aXis[4]][aMt0[1]]))\n",
    "                end\n",
    "            end\n",
    "gif(aa, \"gif/\"*string(names(rAw)[aXis[3]])*\".gif\", fps=15)"
   ]
  },
  {
   "cell_type": "code",
   "execution_count": null,
   "metadata": {
    "ExecuteTime": {
     "start_time": "2020-04-18T11:52:55.767Z"
    }
   },
   "outputs": [],
   "source": [
    "aXis[3] = 12 ## customed z axis\n",
    "aa = @animate for i0 in 1:length(aMt)\n",
    "                aMt0 = aMt[i0]\n",
    "                @rput aXis aMt0\n",
    "                R\"\n",
    "                ## extract necessary data\n",
    "                pp = rAw[which(rAw[,aXis[4]]==u0[[aXis[4]]][aMt0[1]] & rAw[,1]==u0[[1]][aMt0[2]]),]\n",
    "                \n",
    "                ## initialize matrix\n",
    "                mmR = unique(pp[,aXis[1]])\n",
    "                mmC = unique(pp[,aXis[2]])\n",
    "                mm = matrix(NA, nr=length(mmR), nc=length(mmC))\n",
    "                \n",
    "                ## map data from dataframe to matrix\n",
    "                for(i in 1:nrow(pp)){\n",
    "                    mm[which(mmR==pp[i,aXis[1]]),which(mmC==pp[i,aXis[2]])] <- pp[i,aXis[3]]\n",
    "                };rm(i)\n",
    "                \"\n",
    "                @rget mm mmR mmC\n",
    "                if size(mm)[1] > 0\n",
    "                    plot(mmR, mmC, mm, st=:surface,\n",
    "                    xlabel=names(rAw)[aXis[1]], ylabel=names(rAw)[aXis[2]], zlabel=names(rAw)[aXis[3]],\n",
    "                    title=\"Surface plot animation based on fixed parameters\\n ePR=\"*string(fiX[1])*\", eP=\"*string(fiX[2])*\", eBR=\"*string(fiX[3])*\", eB=\"*string(fiX[4])*\", mB=\"*string(fiX[5])*\",\\n x=\"*string(u0[1][aMt0[2]])*\", aP=\"*string(u0[aXis[4]][aMt0[1]]))\n",
    "                end\n",
    "            end\n",
    "gif(aa, \"gif/\"*string(names(rAw)[aXis[3]])*\".gif\", fps=15)"
   ]
  },
  {
   "cell_type": "code",
   "execution_count": null,
   "metadata": {
    "ExecuteTime": {
     "start_time": "2020-04-18T11:52:55.771Z"
    }
   },
   "outputs": [],
   "source": [
    "aXis[3] = 13 ## customed z axis\n",
    "aa = @animate for i0 in 1:length(aMt)\n",
    "                aMt0 = aMt[i0]\n",
    "                @rput aXis aMt0\n",
    "                R\"\n",
    "                ## extract necessary data\n",
    "                pp = rAw[which(rAw[,aXis[4]]==u0[[aXis[4]]][aMt0[1]] & rAw[,1]==u0[[1]][aMt0[2]]),]\n",
    "                \n",
    "                ## initialize matrix\n",
    "                mmR = unique(pp[,aXis[1]])\n",
    "                mmC = unique(pp[,aXis[2]])\n",
    "                mm = matrix(NA, nr=length(mmR), nc=length(mmC))\n",
    "                \n",
    "                ## map data from dataframe to matrix\n",
    "                for(i in 1:nrow(pp)){\n",
    "                    mm[which(mmR==pp[i,aXis[1]]),which(mmC==pp[i,aXis[2]])] <- pp[i,aXis[3]]\n",
    "                };rm(i)\n",
    "                \"\n",
    "                @rget mm mmR mmC\n",
    "                if size(mm)[1] > 0\n",
    "                    plot(mmR, mmC, mm, st=:surface,\n",
    "                    xlabel=names(rAw)[aXis[1]], ylabel=names(rAw)[aXis[2]], zlabel=names(rAw)[aXis[3]],\n",
    "                    title=\"Surface plot animation based on fixed parameters\\n ePR=\"*string(fiX[1])*\", eP=\"*string(fiX[2])*\", eBR=\"*string(fiX[3])*\", eB=\"*string(fiX[4])*\", mB=\"*string(fiX[5])*\",\\n x=\"*string(u0[1][aMt0[2]])*\", aP=\"*string(u0[aXis[4]][aMt0[1]]))\n",
    "                end\n",
    "            end\n",
    "gif(aa, \"gif/\"*string(names(rAw)[aXis[3]])*\".gif\", fps=15)"
   ]
  },
  {
   "cell_type": "code",
   "execution_count": null,
   "metadata": {
    "ExecuteTime": {
     "start_time": "2020-04-18T11:52:55.776Z"
    }
   },
   "outputs": [],
   "source": [
    "aXis[3] = 13 ## customed z axis\n",
    "aa = @animate for i0 in 1:length(aMt)\n",
    "                aMt0 = aMt[i0]\n",
    "                @rput aXis aMt0\n",
    "                R\"\n",
    "                ## extract necessary data\n",
    "                pp = rAw[which(rAw[,aXis[4]]==u0[[aXis[4]]][aMt0[1]] & rAw[,1]==u0[[1]][aMt0[2]]),]\n",
    "                \n",
    "                ## initialize matrix\n",
    "                mmR = unique(pp[,aXis[1]])\n",
    "                mmC = unique(pp[,aXis[2]])\n",
    "                mm = matrix(NA, nr=length(mmR), nc=length(mmC))\n",
    "                \n",
    "                ## map data from dataframe to matrix\n",
    "                for(i in 1:nrow(pp)){\n",
    "                    mm[which(mmR==pp[i,aXis[1]]),which(mmC==pp[i,aXis[2]])] <- pp[i,aXis[3]]\n",
    "                };rm(i)\n",
    "                \"\n",
    "                @rget mm mmR mmC\n",
    "                if size(mm)[1] > 0\n",
    "                    plot(mmR, mmC, mm, st=:surface,\n",
    "                    xlabel=names(rAw)[aXis[1]], ylabel=names(rAw)[aXis[2]], zlabel=names(rAw)[aXis[3]],\n",
    "                    title=\"Surface plot animation based on fixed parameters\\n ePR=\"*string(fiX[1])*\", eP=\"*string(fiX[2])*\", eBR=\"*string(fiX[3])*\", eB=\"*string(fiX[4])*\", mB=\"*string(fiX[5])*\",\\n x=\"*string(u0[1][aMt0[2]])*\", aP=\"*string(u0[aXis[4]][aMt0[1]]))\n",
    "                end\n",
    "            end\n",
    "gif(aa, \"gif/\"*string(names(rAw)[aXis[3]])*\".gif\", fps=15)"
   ]
  }
 ],
 "metadata": {
  "kernelspec": {
   "display_name": "Julia 1.3.1",
   "language": "julia",
   "name": "julia-1.3"
  },
  "language_info": {
   "file_extension": ".jl",
   "mimetype": "application/julia",
   "name": "julia",
   "version": "1.3.1"
  },
  "toc": {
   "base_numbering": 1,
   "nav_menu": {},
   "number_sections": true,
   "sideBar": true,
   "skip_h1_title": false,
   "title_cell": "Table of Contents",
   "title_sidebar": "Contents",
   "toc_cell": true,
   "toc_position": {},
   "toc_section_display": true,
   "toc_window_display": true
  }
 },
 "nbformat": 4,
 "nbformat_minor": 2
}
