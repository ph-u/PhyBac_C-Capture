{
 "cells": [
  {
   "cell_type": "markdown",
   "metadata": {
    "toc": true
   },
   "source": [
    "<h1>Table of Contents<span class=\"tocSkip\"></span></h1>\n",
    "<div class=\"toc\"><ul class=\"toc-item\"><li><span><a href=\"#Two-Species-Model\" data-toc-modified-id=\"Two-Species-Model-1\"><span class=\"toc-item-num\">1&nbsp;&nbsp;</span><a href=\"https://www.ucl.ac.uk/~ucess29/page2/MATH3506Chapters/Math3506Chapter3.pdf\" target=\"_blank\">Two Species Model</a></a></span><ul class=\"toc-item\"><li><span><a href=\"#Eco-bacterial-cell-first-attempt\" data-toc-modified-id=\"Eco-bacterial-cell-first-attempt-1.1\"><span class=\"toc-item-num\">1.1&nbsp;&nbsp;</span>Eco-bacterial cell first attempt</a></span><ul class=\"toc-item\"><li><span><a href=\"#Component-Equations\" data-toc-modified-id=\"Component-Equations-1.1.1\"><span class=\"toc-item-num\">1.1.1&nbsp;&nbsp;</span>Component Equations</a></span></li><li><span><a href=\"#Model\" data-toc-modified-id=\"Model-1.1.2\"><span class=\"toc-item-num\">1.1.2&nbsp;&nbsp;</span>Model</a></span></li></ul></li><li><span><a href=\"#Competitive-Lotka-Volterra-equations\" data-toc-modified-id=\"Competitive-Lotka-Volterra-equations-1.2\"><span class=\"toc-item-num\">1.2&nbsp;&nbsp;</span>Competitive <a href=\"https://en.wikipedia.org/wiki/Competitive_Lotka%E2%80%93Volterra_equations\" target=\"_blank\">Lotka-Volterra</a> equations</a></span></li><li><span><a href=\"#Adapted-LV-competition-equations-on-Eco-Bioelectric-cell\" data-toc-modified-id=\"Adapted-LV-competition-equations-on-Eco-Bioelectric-cell-1.3\"><span class=\"toc-item-num\">1.3&nbsp;&nbsp;</span>Adapted LV-competition equations on Eco-Bioelectric cell</a></span></li></ul></li><li><span><a href=\"#Logic-of-model\" data-toc-modified-id=\"Logic-of-model-2\"><span class=\"toc-item-num\">2&nbsp;&nbsp;</span>Logic of model</a></span></li><li><span><a href=\"#Expected-result\" data-toc-modified-id=\"Expected-result-3\"><span class=\"toc-item-num\">3&nbsp;&nbsp;</span>Expected result</a></span></li><li><span><a href=\"#Respective-analysis\" data-toc-modified-id=\"Respective-analysis-4\"><span class=\"toc-item-num\">4&nbsp;&nbsp;</span>Respective analysis</a></span></li><li><span><a href=\"#Discussion\" data-toc-modified-id=\"Discussion-5\"><span class=\"toc-item-num\">5&nbsp;&nbsp;</span>Discussion</a></span></li></ul></div>"
   ]
  },
  {
   "cell_type": "markdown",
   "metadata": {},
   "source": [
    "# [Two Species Model](https://www.ucl.ac.uk/~ucess29/page2/MATH3506Chapters/Math3506Chapter3.pdf)"
   ]
  },
  {
   "cell_type": "markdown",
   "metadata": {},
   "source": [
    "## Eco-bacterial cell first attempt"
   ]
  },
  {
   "cell_type": "markdown",
   "metadata": {},
   "source": [
    "### Component Equations"
   ]
  },
  {
   "cell_type": "markdown",
   "metadata": {},
   "source": [
    "pillar equation:\n",
    "\n",
    "\\begin{equation}\\label{eq:main}\n",
    "    dp/dt = r_p [p] - k_{p1} [p][q]\n",
    "\\end{equation}\n",
    "\n",
    "Term explanation:  \n",
    "$dp/dt$ : instantaneous rate of population growth of lineage p (sec$^{-1}$)  \n",
    "$r_p$ : rate of growth of lineage p (sec$^{-1}$)  \n",
    "$k_{p1}$ : hinder factor on growth rate exerted from q to p (sec$^{-1}$)  \n",
    "$[p]$ : lineage p population size (no unit)  \n",
    "$[q]$ : lineage q (interacting / competing lineage) population size (no unit)  \n",
    "\n",
    "This is the core equation describing the \"spatial competition\" situation between p & q, with p as the target population described.  Another exact equation (except position of p & q swapped) will be used to describe target population as q."
   ]
  },
  {
   "cell_type": "markdown",
   "metadata": {},
   "source": [
    "population growth rate:\n",
    "\n",
    "\\begin{align}\\label{eq:growth}\n",
    "    r_p & = \\dfrac{r_p|_{expt}}{P_p|_{expt}}\\cdot P_p \\nonumber\\\\\n",
    "        & = \\dfrac{r_p|_{expt}\\cdot t_p|_{expt}}{J_p|_{expt}}\\cdot\\dfrac{J_p}{t_p}\n",
    "\\end{align}\n",
    "\n",
    "Term explanation:  \n",
    "$r_p$ : rate of growth of lineage p (sec$^{-1}$)  \n",
    "$P_p$ : power gained by lineage p in model (W)  \n",
    "$J_p$ : energy gained by lineage p in model (J)  \n",
    "$t_p$ : hourly record of solar data (1 hour = 3600 sec) (sec)  \n",
    "$r_p|_{expt}$ : rate of growth of lineage p reported in literature (sec$^{-1}$)  \n",
    "$P_p|_{expt}$ : power gained by lineage p reported in literature (W)  \n",
    "$J_p|_{expt}$ : energy gained by lineage p reported in literature (J)  \n",
    "$t_p|_{expt}$ : time used in reported experiment to obtain $J_p|_{expt}$ (sec)  \n",
    "\n",
    "Growth rate used in model is an estimate from past literature assuming linear relationship between power gained (per cell) and growth rate."
   ]
  },
  {
   "cell_type": "markdown",
   "metadata": {},
   "source": [
    "\n",
    "\n",
    "\n",
    "\n",
    "\n",
    "\n",
    "\n",
    "\n",
    "\n",
    "\n",
    "\n",
    "\n",
    "\n",
    "\n",
    "competition coefficient:\n",
    "\n",
    "\\begin{align}\\label{eq:compete}\n",
    "    k_{p1} & = \\dfrac{P_q}{P_p + P_q}\\cdot r_p \\nonumber\\\\\n",
    "           & = \\dfrac{J_q J_p}{(J_p + J_q)\\cdot t_p}\\cdot \\dfrac{r_p|_{expt}\\cdot t_p|_{expt}}{J_p|_{expt}}\n",
    "\\end{align}\n",
    "\n",
    "Term explanation:  \n",
    "$k_{p1}$ : hinder factor on growth rate exerted from q to p (sec$^{-1}$)  \n",
    "$r_p$ : rate of growth of lineage p (sec$^{-1}$)  \n",
    "$P_p$ : power gained by lineage p in model (W)  \n",
    "$P_q$ : power gained by lineage q in model (W)  \n",
    "$J_p$ : energy gained by lineage p in model (J)  \n",
    "$J_q$ : energy gained by lineage q in model (J)  \n",
    "$t_p$ : hourly record of solar data (1 hour = 3600 sec) (sec)  \n",
    "$r_p|_{expt}$ : rate of growth of lineage p reported in literature (sec$^{-1}$)  \n",
    "$J_p|_{expt}$ : energy gained by lineage p reported in literature (J)  \n",
    "$t_p|_{expt}$ : time used in reported experiment to obtain $J_p|_{expt}$ (sec)  \n",
    "\n",
    "This equation was calculating how much hinder do the other competing lineage exert on the target population if only advantage can be gained by gaining more energy (per cell) within the same time period."
   ]
  },
  {
   "cell_type": "markdown",
   "metadata": {},
   "source": [
    "Overall equation (Eq.1+2+3):\n",
    "\\begin{align}\\label{eq:overall}\n",
    "    \\dfrac{dp}{dt} & = [p]\\cdot(r_p - k_{p1}[q]) \\nonumber\\\\\n",
    "                   & = [p]\\cdot r_p(1-\\dfrac{P_q}{P_p + P_q}\\cdot[q]) \\nonumber\\\\\n",
    "                   & = [p]\\cdot(\\dfrac{r_p|_{expt}\\cdot t_p|_{expt}}{J_p|_{expt}})\\cdot\\dfrac{J_p}{t_p}\\cdot(1-\\dfrac{J_q[q]}{J_p + J_q}) \\nonumber \\\\\n",
    "                   & = (\\dfrac{r_p|_{expt}\\cdot t_p|_{expt}}{J_p|_{expt}})(1-\\dfrac{J_q[q]}{J_p + J_q})(\\dfrac{J_p}{t_p})[p]\n",
    "\\end{align}\n",
    "\n",
    "This equation describes the instantaneous growth rate of lineage p ($\\dfrac{dp}{dt}$) by combining equations 1 to 3.  There are a constant coefficient ($\\dfrac{r_p|_{expt}\\cdot t_p|_{expt}}{J_p|_{expt}}$), a variable coefficient [$(1-\\dfrac{J_q[q]}{J_p+J_q})(\\dfrac{J_p}{t_p})$] and the target population [$p$]."
   ]
  },
  {
   "cell_type": "markdown",
   "metadata": {},
   "source": [
    "### Model"
   ]
  },
  {
   "cell_type": "code",
   "execution_count": 21,
   "metadata": {
    "ExecuteTime": {
     "end_time": "2020-01-18T12:05:32.043650Z",
     "start_time": "2020-01-18T12:05:31.987480Z"
    }
   },
   "outputs": [],
   "source": [
    "import scipy as sc\n",
    "import scipy.integrate as integrate\n",
    "import matplotlib.pylab as p\n",
    "import matplotlib.gridspec as gs"
   ]
  },
  {
   "cell_type": "code",
   "execution_count": 2,
   "metadata": {
    "ExecuteTime": {
     "end_time": "2020-01-18T11:46:57.207685Z",
     "start_time": "2020-01-18T11:46:57.194552Z"
    }
   },
   "outputs": [],
   "source": [
    "def ebc(pops,\n",
    "        Jp=1, Jq=1,\n",
    "        T_int=3600,\n",
    "        JpEXPT=8, RpEXPT=1, TpEXPT=50,\n",
    "        JqEXPT=8, RqEXPT=1, TqEXPT=50):\n",
    "    \"\"\"Competition model\"\"\"\n",
    "    p=pops[0]\n",
    "    q=pops[1]\n",
    "    \n",
    "    dpdt = (RpEXPT * TpEXPT / JpEXPT) * (1 - Jq * q / (Jp + Jq)) * (Jp / T_int) * p\n",
    "    dqdt = (RqEXPT * TqEXPT / JqEXPT) * (1 - Jp * p / (Jp + Jq)) * (Jq / T_int) * q\n",
    "    \n",
    "    return sc.array([dpdt, dqdt])"
   ]
  },
  {
   "cell_type": "code",
   "execution_count": 3,
   "metadata": {
    "ExecuteTime": {
     "end_time": "2020-01-18T11:46:58.099260Z",
     "start_time": "2020-01-18T11:46:57.213555Z"
    }
   },
   "outputs": [
    {
     "name": "stderr",
     "output_type": "stream",
     "text": [
      "/Applications/miniconda3/lib/python3.7/site-packages/ipykernel_launcher.py:1: DeprecationWarning: object of type <class 'float'> cannot be safely interpreted as an integer.\n",
      "  \"\"\"Entry point for launching an IPython kernel.\n",
      "/Applications/miniconda3/lib/python3.7/site-packages/ipykernel_launcher.py:11: RuntimeWarning: overflow encountered in double_scalars\n",
      "  # This is added back by InteractiveShellApp.init_path()\n",
      "/Applications/miniconda3/lib/python3.7/site-packages/ipykernel_launcher.py:10: RuntimeWarning: overflow encountered in double_scalars\n",
      "  # Remove the CWD from sys.path while we load stuff.\n",
      "No handles with labels found to put in legend.\n"
     ]
    },
    {
     "data": {
      "text/plain": [
       "Text(0.5, 1.0, 'Competition population dynamics')"
      ]
     },
     "execution_count": 3,
     "metadata": {},
     "output_type": "execute_result"
    },
    {
     "data": {
      "image/png": "[encoded data removed]",
      "text/plain": [
       "<Figure size 432x288 with 1 Axes>"
      ]
     },
     "metadata": {
      "needs_background": "light"
     },
     "output_type": "display_data"
    }
   ],
   "source": [
    "t=sc.linspace(0,1500,1e5) # timescale: start, end, interval\n",
    "\n",
    "pops, infodict=integrate.odeint(ebc, sc.array([10,10]), t, full_output=True) # modeling\n",
    "\n",
    "f1=p.figure(num=1);f1\n",
    "p.plot(pops[:,1],pops[:,0], 'r-')\n",
    "p.grid()\n",
    "p.legend(loc=\"best\")\n",
    "p.xlabel(\"Population density p\")\n",
    "p.ylabel(\"Population density q\")\n",
    "p.title(\"Competition population dynamics\")"
   ]
  },
  {
   "cell_type": "code",
   "execution_count": 4,
   "metadata": {
    "ExecuteTime": {
     "end_time": "2020-01-18T11:46:59.187420Z",
     "start_time": "2020-01-18T11:46:58.113485Z"
    }
   },
   "outputs": [
    {
     "name": "stderr",
     "output_type": "stream",
     "text": [
      "/Applications/miniconda3/lib/python3.7/site-packages/ipykernel_launcher.py:1: DeprecationWarning: object of type <class 'float'> cannot be safely interpreted as an integer.\n",
      "  \"\"\"Entry point for launching an IPython kernel.\n",
      "/Applications/miniconda3/lib/python3.7/site-packages/ipykernel_launcher.py:11: RuntimeWarning: overflow encountered in double_scalars\n",
      "  # This is added back by InteractiveShellApp.init_path()\n",
      "/Applications/miniconda3/lib/python3.7/site-packages/ipykernel_launcher.py:10: RuntimeWarning: overflow encountered in double_scalars\n",
      "  # Remove the CWD from sys.path while we load stuff.\n"
     ]
    },
    {
     "data": {
      "text/plain": [
       "Text(0.5, 1.0, 'Competition population dynamics')"
      ]
     },
     "execution_count": 4,
     "metadata": {},
     "output_type": "execute_result"
    },
    {
     "data": {
      "image/png": "[encoded data removed]",
      "text/plain": [
       "<Figure size 432x288 with 1 Axes>"
      ]
     },
     "metadata": {
      "needs_background": "light"
     },
     "output_type": "display_data"
    }
   ],
   "source": [
    "t=sc.linspace(0,1500,1e5) # timescale: start, end, interval\n",
    "\n",
    "pops, infodict=integrate.odeint(ebc, sc.array([10,10]), t, full_output=True) # modeling\n",
    "#pops # show population py-listZ\n",
    "\n",
    "f1=p.figure(num=1);f1\n",
    "p.plot(t,pops[:,0], 'r-', label=\"lineage p density\")\n",
    "p.plot(t,pops[:,1], 'b-', label=\"lineage q density\")\n",
    "p.grid()\n",
    "p.legend(loc=\"best\")\n",
    "p.xlabel(\"Time (sec)\")\n",
    "p.ylabel(\"Population density\")\n",
    "p.title(\"Competition population dynamics\")"
   ]
  },
  {
   "cell_type": "markdown",
   "metadata": {},
   "source": [
    "parameter | raw unit | unit use in model | meaning | ref\n",
    "--- | --- | --- | --- | ---\n",
    "$r_p|_{expt}$ | hour$^{-1}$ | sec$^{-1}$ | population growth rate in lineage p in a growth rate experiment | zavvrel2017phenotypic\n",
    "$J_p|_{expt}$ | NA | J | expected energy gained per lineage p cell in a growth rate experiment | NA\n",
    "$t_p|_{expt}$ | hour | sec | reported time to optain $r_p|_{expt}$ | zavvrel2017phenotypic\n",
    "$r_q|_{expt}$ | hour$^{-1}$ | sec$^{-1}$ | population growth rate in a lineage q growth rate experiment | billi1998method\n",
    "$J_q|_{expt}$ | NA | J | expected energy gained per lineage q cell in a growth rate experiment | NA\n",
    "$t_q|_{expt}$ | hour | sec | reported time to optain $r_q|_{expt}$ | billi1998method\n",
    "$size_p|_{expt}$ | $\\mu$m | m | mean cell size for lineage p | zavvrel2017phenotypic\n",
    "$size_q|_{expt}$ | $\\mu$m | m | mean cell size for lineage q | [microbewiki](https://microbewiki.kenyon.edu/index.php/Chroococcidiopsis#Cell_Structure.2C_Metabolism_and_Life_Cycle)\n",
    "$size_m|_{expt}$ | cm | m | size for button mushroom pileus | [wikipedia](https://en.wikipedia.org/wiki/Agaricus_bisporus#Description)"
   ]
  },
  {
   "cell_type": "markdown",
   "metadata": {},
   "source": [
    "## Competitive [Lotka-Volterra](https://en.wikipedia.org/wiki/Competitive_Lotka–Volterra_equations) equations"
   ]
  },
  {
   "cell_type": "code",
   "execution_count": 5,
   "metadata": {
    "ExecuteTime": {
     "end_time": "2020-01-18T11:46:59.205006Z",
     "start_time": "2020-01-18T11:46:59.193816Z"
    }
   },
   "outputs": [],
   "source": [
    "def LV_comp(pops, r1=2, r2=1, a12=1, a21=1, K1=100, K2=100, t=0):\n",
    "    \"\"\"Competitive Lotka-Volterra equations\"\"\"\n",
    "    x1=pops[0]\n",
    "    x2=pops[1]\n",
    "    dx1dt=r1*x1*(1-(x1+a12*x2)/K1)\n",
    "    dx2dt=r2*x2*(1-(x2+a21*x1)/K2)\n",
    "    return(sc.array([dx1dt,dx2dt]))"
   ]
  },
  {
   "cell_type": "code",
   "execution_count": 6,
   "metadata": {
    "ExecuteTime": {
     "end_time": "2020-01-18T11:46:59.767206Z",
     "start_time": "2020-01-18T11:46:59.210578Z"
    }
   },
   "outputs": [
    {
     "name": "stderr",
     "output_type": "stream",
     "text": [
      "/Applications/miniconda3/lib/python3.7/site-packages/ipykernel_launcher.py:1: DeprecationWarning: object of type <class 'float'> cannot be safely interpreted as an integer.\n",
      "  \"\"\"Entry point for launching an IPython kernel.\n",
      "No handles with labels found to put in legend.\n"
     ]
    },
    {
     "data": {
      "text/plain": [
       "Text(0.5, 1.0, 'Competition population dynamics')"
      ]
     },
     "execution_count": 6,
     "metadata": {},
     "output_type": "execute_result"
    },
    {
     "data": {
      "image/png": "[encoded data removed]",
      "text/plain": [
       "<Figure size 432x288 with 1 Axes>"
      ]
     },
     "metadata": {
      "needs_background": "light"
     },
     "output_type": "display_data"
    }
   ],
   "source": [
    "t=sc.linspace(0,1500,1e5) # timescale: start, end, interval\n",
    "\n",
    "pops, infodict=integrate.odeint(LV_comp, sc.array([10,10]), t, full_output=True) # modeling\n",
    "\n",
    "f1=p.figure(num=1);f1\n",
    "p.plot(pops[:,1],pops[:,0], 'r-')\n",
    "p.grid()\n",
    "p.legend(loc=\"best\")\n",
    "p.xlabel(\"Population density p\")\n",
    "p.ylabel(\"Population density q\")\n",
    "p.title(\"Competition population dynamics\")"
   ]
  },
  {
   "cell_type": "code",
   "execution_count": 7,
   "metadata": {
    "ExecuteTime": {
     "end_time": "2020-01-18T11:47:00.840897Z",
     "start_time": "2020-01-18T11:46:59.780796Z"
    }
   },
   "outputs": [
    {
     "name": "stderr",
     "output_type": "stream",
     "text": [
      "/Applications/miniconda3/lib/python3.7/site-packages/ipykernel_launcher.py:1: DeprecationWarning: object of type <class 'float'> cannot be safely interpreted as an integer.\n",
      "  \"\"\"Entry point for launching an IPython kernel.\n"
     ]
    },
    {
     "data": {
      "text/plain": [
       "Text(0.5, 1.0, 'Competition population dynamics')"
      ]
     },
     "execution_count": 7,
     "metadata": {},
     "output_type": "execute_result"
    },
    {
     "data": {
      "image/png": "[encoded data removed]",
      "text/plain": [
       "<Figure size 432x288 with 1 Axes>"
      ]
     },
     "metadata": {
      "needs_background": "light"
     },
     "output_type": "display_data"
    }
   ],
   "source": [
    "t=sc.linspace(0,150,1e5) # timescale: start, end, interval\n",
    "\n",
    "pops, infodict=integrate.odeint(LV_comp, sc.array([10,10]), t, full_output=True) # modeling\n",
    "#pops # show population py-listZ\n",
    "\n",
    "f1=p.figure(num=1);f1\n",
    "p.plot(t,pops[:,0], 'r-', label=\"lineage p density\")\n",
    "p.plot(t,pops[:,1], 'b-', label=\"lineage q density\")\n",
    "p.grid()\n",
    "p.legend(loc=\"best\")\n",
    "p.xlabel(\"Time (sec)\")\n",
    "p.ylabel(\"Population density\")\n",
    "p.title(\"Competition population dynamics\")"
   ]
  },
  {
   "cell_type": "markdown",
   "metadata": {},
   "source": [
    "Overall equation:\n",
    "\\begin{equation}\n",
    "    \\dfrac{dp}{dt} = r_p \\cdot p \\cdot(\\dfrac{p + h_{pq}\\cdot q}{K_p})\n",
    "\\end{equation}\n",
    "Another equation with position $p$ & $q$ swapped will be added in the model.\n",
    "\n",
    "Term explanation:  \n",
    "$dp/dt$ : instantaneous rate of growth of lineage p (sec$^{-1}$)  \n",
    "$r_p$ : rate of growth of lineage $p$ from literature (time$^{-1}$)  \n",
    "$h_{pq}$ : growth hinder coefficient exerted by $q$ on $p$ (no unit)  \n",
    "$K_p$ : carrying capacity of environment for lineage $p$ (no unit)  \n",
    "$p$ : population of lineage $p$ (no unit)  \n",
    "$q$ : population of lineage $q$ (no unit)"
   ]
  },
  {
   "cell_type": "markdown",
   "metadata": {},
   "source": [
    "parameter | unit | meaning | intended obtain method | ref\n",
    "--- | --- | --- | --- | ---\n",
    "$r_p$ | sec$^{-1}$ | reported growth rate of $p$ | literature | zavvrel2017phenotypic & billi1998method\n",
    "$h_{pq}$ | no unit | how much growth of p hindered by q | solar energy gain ratio between $p$ & $q$ | NA\n",
    "$K_p$ | no unit | carrying capacity of lineage p | $\\dfrac{\\text{pileus surface area}}{\\text{flat cell surface area of p}}$ | NA\n",
    "$p$ | NA | population size of lineage p | model | NA\n",
    "$q$ | NA | population size of lineage q | model | NA"
   ]
  },
  {
   "cell_type": "markdown",
   "metadata": {},
   "source": [
    "## Adapted LV-competition equations on Eco-Bioelectric cell"
   ]
  },
  {
   "cell_type": "code",
   "execution_count": 39,
   "metadata": {
    "ExecuteTime": {
     "end_time": "2020-01-18T12:18:58.755321Z",
     "start_time": "2020-01-18T12:18:58.741253Z"
    }
   },
   "outputs": [],
   "source": [
    "def ebc_LVc(pops, t=0):\n",
    "    \"\"\"Competitive Lotka-Volterra equations\"\"\"\n",
    "    p=pops[0]\n",
    "    q=pops[1]\n",
    "    \n",
    "    hpq=Jq/(Jp+Jq)\n",
    "    hqp=1-hpq\n",
    "    \n",
    "    dpdt=rp*p*(1-(p+hpq*q)/Kp)\n",
    "    dqdt=rq*q*(1-(q+hqp*p)/Kq)\n",
    "    \n",
    "    return(sc.array([dpdt,dqdt]))"
   ]
  },
  {
   "cell_type": "code",
   "execution_count": 53,
   "metadata": {
    "ExecuteTime": {
     "end_time": "2020-01-18T12:33:26.590070Z",
     "start_time": "2020-01-18T12:33:25.087010Z"
    }
   },
   "outputs": [
    {
     "name": "stderr",
     "output_type": "stream",
     "text": [
      "/Applications/miniconda3/lib/python3.7/site-packages/ipykernel_launcher.py:1: DeprecationWarning: object of type <class 'float'> cannot be safely interpreted as an integer.\n",
      "  \"\"\"Entry point for launching an IPython kernel.\n"
     ]
    },
    {
     "data": {
      "text/plain": [
       "Text(0.5, 1.0, 'Competition population dynamics')"
      ]
     },
     "execution_count": 53,
     "metadata": {},
     "output_type": "execute_result"
    },
    {
     "data": {
      "image/png": "[encoded data removed]",
      "text/plain": [
       "<Figure size 1152x936 with 3 Axes>"
      ]
     },
     "metadata": {
      "needs_background": "light"
     },
     "output_type": "display_data"
    }
   ],
   "source": [
    "t=sc.linspace(0,150,1e5) # timescale: start, end, interval\n",
    "pops=sc.array([10,5]) # initial population: [p,q]\n",
    "\n",
    "## parameters\n",
    "rp=1.04\n",
    "rq=1.01\n",
    "Jp=194\n",
    "Jq=122\n",
    "Kp=100\n",
    "Kq=200\n",
    "\n",
    "#################################################################################################################\n",
    "\n",
    "pops, infodict=integrate.odeint(ebc_LVc, pops, t, full_output=True) # modeling\n",
    "#pops # show population py-listZ\n",
    "\n",
    "ptsp=gs.GridSpec(2,2)\n",
    "\n",
    "f1=p.figure(figsize=(16,13))\n",
    "\n",
    "ax=p.subplot(ptsp[1,:])\n",
    "p.plot(t,pops[:,0]/(pops[:,0]+pops[:,1])*100, 'r-')\n",
    "p.grid()\n",
    "p.xlabel(\"Time (sec)\")\n",
    "p.ylabel(\"Population percentage (%)\")\n",
    "p.title(\"Competition population dynamics, p/(p+q)\")\n",
    "p.ylim(0,100)\n",
    "\n",
    "ax=p.subplot(ptsp[0,1])\n",
    "p.plot(pops[:,0],pops[:,1], 'r-')\n",
    "p.grid()\n",
    "p.xlabel(\"lineage p\")\n",
    "p.ylabel(\"lineage q\")\n",
    "p.title(\"Population size comparison\")\n",
    "p.xlim(0,Kp)\n",
    "p.ylim(0,Kq)\n",
    "\n",
    "ax=p.subplot(ptsp[0,0])\n",
    "p.plot(t,pops[:,0], 'g-', label=\"lineage p density\")\n",
    "p.plot(t,pops[:,1], 'b-', label=\"lineage q density\")\n",
    "p.grid()\n",
    "p.legend(loc=\"best\")\n",
    "p.xlabel(\"Time (sec)\")\n",
    "p.ylabel(\"Population density\")\n",
    "p.title(\"Competition population dynamics\")"
   ]
  },
  {
   "cell_type": "markdown",
   "metadata": {},
   "source": [
    "Overall equation:\n",
    "\\begin{align}\n",
    "    \\dfrac{dp}{dt} & = r_p \\cdot p \\cdot(\\dfrac{p + h_{pq}\\cdot q}{K_p}) \\nonumber\\\\\n",
    "                   & = r_p \\cdot p \\cdot K_p^{-1}\\cdot(p + \\dfrac{J_q}{J_p + J_q}\\cdot q)\n",
    "\\end{align}\n",
    "Another equation with position $p$ & $q$ swapped will be added in the model.\n",
    "\n",
    "Term explanation:  \n",
    "$dp/dt$ : instantaneous rate of growth of lineage p (sec$^{-1}$)  \n",
    "$r_p$ : rate of growth of lineage $p$ from literature (time$^{-1}$)  \n",
    "$h_{pq}$ : growth hinder coefficient exerted by $q$ on $p$ (no unit)  \n",
    "$K_p$ : carrying capacity of environment for lineage $p$ (no unit)  \n",
    "$p$ : population of lineage $p$ (no unit)  \n",
    "$q$ : population of lineage $q$ (no unit)"
   ]
  },
  {
   "cell_type": "markdown",
   "metadata": {},
   "source": [
    "parameter | unit | meaning | intended obtain method | ref\n",
    "--- | --- | --- | --- | ---\n",
    "$r_p$ | sec$^{-1}$ | reported growth rate of $p$ | literature | zavvrel2017phenotypic & billi1998method\n",
    "$h_{pq}$ | no unit | how much growth of p hindered by q | solar energy gain ratio between $p$ & $q$ | NA\n",
    "$K_p$ | no unit | carrying capacity of lineage p | $\\dfrac{\\text{pileus surface area}}{\\text{flat cell surface area of p}}$ | NA\n",
    "$p$ | NA | population size of lineage p | model | NA\n",
    "$q$ | NA | population size of lineage q | model | NA"
   ]
  },
  {
   "cell_type": "markdown",
   "metadata": {},
   "source": [
    "# Logic of model\n",
    "Cyanobacteria lineage p & q was occupying x% and (100-x)% of the button mushroom pileus.  Due to the differences between energy gain, which affect energy available for growth, one lineage maybe having a larger advantage over the other in a particular season.  This effect is reflected by the population growth hinder on the other lineage.  As seasonal irradiation is fluctuating with an annual cycle, respective populations are expected also to follow the cycle with a small response time lag.  \n",
    "\n",
    "In the model, $r_p$ and $r_q$ determine initial start of the population dynamics.  However when dominance of fast-grower getting closer to carrying capacity, the slow-glower starts a population comeback (as long as the lineage was not completely eliminated during the initiation phase) and the final equilibrium position is shaped by the balance between growth rate $\\times$ carrying capacity between lineages.  Initial population is independent of the final equilibrium position."
   ]
  },
  {
   "cell_type": "markdown",
   "metadata": {},
   "source": [
    "# Expected result"
   ]
  },
  {
   "cell_type": "code",
   "execution_count": 10,
   "metadata": {
    "ExecuteTime": {
     "end_time": "2020-01-18T11:47:01.931162Z",
     "start_time": "2020-01-18T11:47:01.518940Z"
    }
   },
   "outputs": [
    {
     "data": {
      "text/plain": [
       "(0, 100)"
      ]
     },
     "execution_count": 10,
     "metadata": {},
     "output_type": "execute_result"
    },
    {
     "data": {
      "image/png": "[encoded data removed]",
      "text/plain": [
       "<Figure size 432x288 with 1 Axes>"
      ]
     },
     "metadata": {
      "needs_background": "light"
     },
     "output_type": "display_data"
    }
   ],
   "source": [
    "import math as m\n",
    "import numpy as np\n",
    "\n",
    "seqY=np.arange(40,400,5).tolist()\n",
    "seqP=list(range(len(seqY)))\n",
    "for i in range(5,len(seqP)):\n",
    "    seqY[i]=m.sin(seqP[i])*5+70\n",
    "    \n",
    "LL=[seqP,seqY]\n",
    "f2=p.figure\n",
    "p.plot(LL[0],LL[1])\n",
    "p.grid()\n",
    "p.xlabel(\"Time unit\")\n",
    "p.ylabel(\"Space occupied by lineage p (%)\")\n",
    "p.ylim(0,100)"
   ]
  },
  {
   "cell_type": "markdown",
   "metadata": {},
   "source": [
    "# Respective analysis\n",
    "Simulate and plot model results with values chose from a uniform distribution around mean as the parameter value obtained from literature (model run 1k times)\n",
    "\n",
    "Test whether the model is [numerically stable](https://en.wikipedia.org/wiki/Numerical_analysis):  \n",
    "If 95% confidence interval (CI) of the plot give positive coexistence status (no lineage dominant the system)\n",
    "\n",
    "Test whether result is significant:\n",
    "use the lower boundary of the 95% CI and calculate electricity generation (power, in unit Watt); then calculate number of button mushrooms needed to generate comparable power output with a commercial solar panel\n",
    "\n",
    "# Discussion\n",
    "also calculate carbon sequestration ability for the boundaries of 95% CI in kgC/sec (kilogram of carbon per second)"
   ]
  },
  {
   "cell_type": "code",
   "execution_count": null,
   "metadata": {},
   "outputs": [],
   "source": []
  }
 ],
 "metadata": {
  "author": "m",
  "kernelspec": {
   "display_name": "Python 3",
   "language": "python",
   "name": "python3"
  },
  "language_info": {
   "codemirror_mode": {
    "name": "ipython",
    "version": 3
   },
   "file_extension": ".py",
   "mimetype": "text/x-python",
   "name": "python",
   "nbconvert_exporter": "python",
   "pygments_lexer": "ipython3",
   "version": "3.7.3"
  },
  "latex_envs": {
   "LaTeX_envs_menu_present": true,
   "autoclose": true,
   "autocomplete": true,
   "bibliofile": "biblio.bib",
   "cite_by": "apalike",
   "current_citInitial": 1,
   "eqLabelWithNumbers": true,
   "eqNumInitial": 1,
   "hotkeys": {
    "equation": "Ctrl-E",
    "itemize": "Ctrl-I"
   },
   "labels_anchors": false,
   "latex_user_defs": false,
   "report_style_numbering": true,
   "user_envs_cfg": true
  },
  "toc": {
   "base_numbering": 1,
   "nav_menu": {},
   "number_sections": true,
   "sideBar": true,
   "skip_h1_title": false,
   "title_cell": "Table of Contents",
   "title_sidebar": "Contents",
   "toc_cell": true,
   "toc_position": {
    "height": "calc(100% - 180px)",
    "left": "10px",
    "top": "150px",
    "width": "248px"
   },
   "toc_section_display": true,
   "toc_window_display": true
  },
  "varInspector": {
   "cols": {
    "lenName": 16,
    "lenType": 16,
    "lenVar": 40
   },
   "kernels_config": {
    "python": {
     "delete_cmd_postfix": "",
     "delete_cmd_prefix": "del ",
     "library": "var_list.py",
     "varRefreshCmd": "print(var_dic_list())"
    },
    "r": {
     "delete_cmd_postfix": ") ",
     "delete_cmd_prefix": "rm(",
     "library": "var_list.r",
     "varRefreshCmd": "cat(var_dic_list()) "
    }
   },
   "position": {
    "height": "898px",
    "left": "1411px",
    "right": "20px",
    "top": "75px",
    "width": "253px"
   },
   "types_to_exclude": [
    "module",
    "function",
    "builtin_function_or_method",
    "instance",
    "_Feature"
   ],
   "window_display": true
  }
 },
 "nbformat": 4,
 "nbformat_minor": 2
}
