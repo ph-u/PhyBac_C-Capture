{
 "cells": [
  {
   "cell_type": "markdown",
   "metadata": {
    "toc": true
   },
   "source": [
    "<h1>Table of Contents<span class=\"tocSkip\"></span></h1>\n",
    "<div class=\"toc\"><ul class=\"toc-item\"><li><span><a href=\"#Aims\" data-toc-modified-id=\"Aims-1\"><span class=\"toc-item-num\">1&nbsp;&nbsp;</span>Aims</a></span></li><li><span><a href=\"#Adapted-Lotka-Volterra-equations-(ver-2)\" data-toc-modified-id=\"Adapted-Lotka-Volterra-equations-(ver-2)-2\"><span class=\"toc-item-num\">2&nbsp;&nbsp;</span>Adapted Lotka-Volterra equations (ver 2)</a></span><ul class=\"toc-item\"><li><span><a href=\"#model\" data-toc-modified-id=\"model-2.1\"><span class=\"toc-item-num\">2.1&nbsp;&nbsp;</span>model</a></span></li><li><span><a href=\"#parameter-explanation\" data-toc-modified-id=\"parameter-explanation-2.2\"><span class=\"toc-item-num\">2.2&nbsp;&nbsp;</span>parameter explanation</a></span></li></ul></li><li><span><a href=\"#Single-parameter-effect\" data-toc-modified-id=\"Single-parameter-effect-3\"><span class=\"toc-item-num\">3&nbsp;&nbsp;</span>Single parameter effect</a></span></li><li><span><a href=\"#Two-parameter-effect\" data-toc-modified-id=\"Two-parameter-effect-4\"><span class=\"toc-item-num\">4&nbsp;&nbsp;</span>Two parameter effect</a></span></li><li><span><a href=\"#Three-parameter-effect\" data-toc-modified-id=\"Three-parameter-effect-5\"><span class=\"toc-item-num\">5&nbsp;&nbsp;</span>Three parameter effect</a></span></li><li><span><a href=\"#Random-parameter-effect\" data-toc-modified-id=\"Random-parameter-effect-6\"><span class=\"toc-item-num\">6&nbsp;&nbsp;</span>Random parameter effect</a></span></li><li><span><a href=\"#Conclusion\" data-toc-modified-id=\"Conclusion-7\"><span class=\"toc-item-num\">7&nbsp;&nbsp;</span>Conclusion</a></span></li></ul></div>"
   ]
  },
  {
   "cell_type": "code",
   "execution_count": 1,
   "metadata": {
    "ExecuteTime": {
     "end_time": "2020-02-03T18:56:06.017000Z",
     "start_time": "2020-02-03T18:55:33.843Z"
    }
   },
   "outputs": [
    {
     "data": {
      "text/plain": [
       "PyObject <module 'scipy.integrate' from '/Users/Ho_Pok_Man/.julia/conda/3/lib/python3.7/site-packages/scipy/integrate/__init__.py'>"
      ]
     },
     "execution_count": 1,
     "metadata": {},
     "output_type": "execute_result"
    }
   ],
   "source": [
    "using RCall, PyCall, Plots, DataFrames\n",
    "spy = pyimport(\"scipy\")\n",
    "itg = pyimport(\"scipy.integrate\")"
   ]
  },
  {
   "cell_type": "markdown",
   "metadata": {},
   "source": [
    "# Aims"
   ]
  },
  {
   "cell_type": "markdown",
   "metadata": {},
   "source": [
    "1. try Julia 1.3.1 language (R, Python and Julia in single script)  \n",
    "2. Model exploration  \n",
    "3. report expected model behaviour with graphs"
   ]
  },
  {
   "cell_type": "markdown",
   "metadata": {},
   "source": [
    "# Adapted Lotka-Volterra equations (ver 2)"
   ]
  },
  {
   "cell_type": "markdown",
   "metadata": {},
   "source": [
    "## model"
   ]
  },
  {
   "cell_type": "code",
   "execution_count": 2,
   "metadata": {
    "ExecuteTime": {
     "end_time": "2020-02-03T18:56:14.055000Z",
     "start_time": "2020-02-03T18:55:35.348Z"
    }
   },
   "outputs": [
    {
     "data": {
      "text/plain": [
       "ebc_LVc (generic function with 2 methods)"
      ]
     },
     "execution_count": 2,
     "metadata": {},
     "output_type": "execute_result"
    }
   ],
   "source": [
    "function ebc_LVc(pops, t=0) # preset: rp, rq, Kp, Kq, Tk\n",
    "    \n",
    "    p = pops[:1]\n",
    "    q = pops[:2]\n",
    "    \n",
    "    hpq = (Jq-Tk)*q/(Jp*p+Jq*q-Tk*(p+q))\n",
    "    hqp = 1-hpq\n",
    "    \n",
    "    dpdt = rp*p*(1-(p+hpq*q)/Kp)\n",
    "    dqdt = rq*q*(1-(q+hqp*p)/Kq)\n",
    "\n",
    "    return (dpdt, dqdt)\n",
    "end"
   ]
  },
  {
   "cell_type": "markdown",
   "metadata": {
    "ExecuteTime": {
     "end_time": "2020-02-03T18:45:31.562000Z",
     "start_time": "2020-02-03T18:45:23.913Z"
    }
   },
   "source": [
    "## parameter explanation"
   ]
  },
  {
   "cell_type": "markdown",
   "metadata": {},
   "source": [
    "parameter | notation | detailed explanation\n",
    "--- | --- | ---\n",
    "time | t | time (continuous)\n",
    "population $p$ | p | population size from lineage $p$ at time t\n",
    "population $q$ | q | population size from lineage $q$ at time t\n",
    "growth rate of $p$ | rp | instantaneous growth rate of lineage $p$ at time t\n",
    "growth rate of $q$ | rq | instantaneous growth rate of lineage $q$ at time t\n",
    "carrying capacity of $p$ | Kp | carrying capacity of lineage $p$ in system\n",
    "carrying capacity of $q$ | Kq | carrying capacity of lineage $q$ in system\n",
    "temperature loss per cell | Tk | assumed average instantaneous energy loss per cell due to environmental temperature"
   ]
  },
  {
   "cell_type": "markdown",
   "metadata": {},
   "source": [
    "# Single parameter effect"
   ]
  },
  {
   "cell_type": "markdown",
   "metadata": {},
   "source": [
    "# Two parameter effect"
   ]
  },
  {
   "cell_type": "markdown",
   "metadata": {},
   "source": [
    "# Three parameter effect"
   ]
  },
  {
   "cell_type": "markdown",
   "metadata": {},
   "source": [
    "# Random parameter effect"
   ]
  },
  {
   "cell_type": "markdown",
   "metadata": {},
   "source": [
    "# Conclusion"
   ]
  },
  {
   "cell_type": "code",
   "execution_count": null,
   "metadata": {},
   "outputs": [],
   "source": []
  }
 ],
 "metadata": {
  "kernelspec": {
   "display_name": "Julia 1.3.1",
   "language": "julia",
   "name": "julia-1.3"
  },
  "language_info": {
   "file_extension": ".jl",
   "mimetype": "application/julia",
   "name": "julia",
   "version": "1.3.1"
  },
  "latex_envs": {
   "LaTeX_envs_menu_present": true,
   "autoclose": true,
   "autocomplete": true,
   "bibliofile": "biblio.bib",
   "cite_by": "apalike",
   "current_citInitial": 1,
   "eqLabelWithNumbers": true,
   "eqNumInitial": 1,
   "hotkeys": {
    "equation": "Ctrl-E",
    "itemize": "Ctrl-I"
   },
   "labels_anchors": false,
   "latex_user_defs": false,
   "report_style_numbering": true,
   "user_envs_cfg": true
  },
  "toc": {
   "base_numbering": 1,
   "nav_menu": {},
   "number_sections": true,
   "sideBar": true,
   "skip_h1_title": false,
   "title_cell": "Table of Contents",
   "title_sidebar": "Contents",
   "toc_cell": true,
   "toc_position": {
    "height": "calc(100% - 180px)",
    "left": "10px",
    "top": "150px",
    "width": "165px"
   },
   "toc_section_display": true,
   "toc_window_display": false
  },
  "varInspector": {
   "cols": {
    "lenName": 16,
    "lenType": 16,
    "lenVar": 40
   },
   "kernels_config": {
    "python": {
     "delete_cmd_postfix": "",
     "delete_cmd_prefix": "del ",
     "library": "var_list.py",
     "varRefreshCmd": "print(var_dic_list())"
    },
    "r": {
     "delete_cmd_postfix": ") ",
     "delete_cmd_prefix": "rm(",
     "library": "var_list.r",
     "varRefreshCmd": "cat(var_dic_list()) "
    }
   },
   "types_to_exclude": [
    "module",
    "function",
    "builtin_function_or_method",
    "instance",
    "_Feature"
   ],
   "window_display": true
  }
 },
 "nbformat": 4,
 "nbformat_minor": 2
}
