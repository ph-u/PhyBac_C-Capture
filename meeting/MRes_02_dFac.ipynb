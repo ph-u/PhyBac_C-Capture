{
 "cells": [
  {
   "cell_type": "markdown",
   "metadata": {
    "toc": true
   },
   "source": [
    "<h1>Table of Contents<span class=\"tocSkip\"></span></h1>\n",
    "<div class=\"toc\"><ul class=\"toc-item\"><li><span><a href=\"#Other-information\" data-toc-modified-id=\"Other-information-1\"><span class=\"toc-item-num\">1&nbsp;&nbsp;</span>Other information</a></span></li><li><span><a href=\"#Model-environment-set-up\" data-toc-modified-id=\"Model-environment-set-up-2\"><span class=\"toc-item-num\">2&nbsp;&nbsp;</span>Model environment set up</a></span><ul class=\"toc-item\"><li><span><a href=\"#abiotic-factors:-solar,-temperature-cycles\" data-toc-modified-id=\"abiotic-factors:-solar,-temperature-cycles-2.1\"><span class=\"toc-item-num\">2.1&nbsp;&nbsp;</span>abiotic factors: solar, temperature cycles</a></span></li><li><span><a href=\"#ODE-model:-Generalised-Logistic\" data-toc-modified-id=\"ODE-model:-Generalised-Logistic-2.2\"><span class=\"toc-item-num\">2.2&nbsp;&nbsp;</span>ODE model: Generalised Logistic</a></span></li><li><span><a href=\"#default-parameters\" data-toc-modified-id=\"default-parameters-2.3\"><span class=\"toc-item-num\">2.3&nbsp;&nbsp;</span>default parameters</a></span></li><li><span><a href=\"#test-parameter-ranges\" data-toc-modified-id=\"test-parameter-ranges-2.4\"><span class=\"toc-item-num\">2.4&nbsp;&nbsp;</span>test parameter ranges</a></span></li></ul></li></ul></div>"
   ]
  },
  {
   "cell_type": "markdown",
   "metadata": {},
   "source": [
    "# Other information\n",
    "[main notebook](https://nbviewer.jupyter.org/github/ph-u/Project/blob/master/meeting/MRes_02.ipynb)\n",
    "[single Factor trial](https://nbviewer.jupyter.org/github/ph-u/Project/blob/master/meeting/MRes_02_sFac.ipynb)\n",
    "# Model environment set up"
   ]
  },
  {
   "cell_type": "code",
   "execution_count": 1,
   "metadata": {
    "ExecuteTime": {
     "end_time": "2020-02-06T00:25:22.276000Z",
     "start_time": "2020-02-06T00:24:41.179Z"
    }
   },
   "outputs": [
    {
     "data": {
      "text/plain": [
       "RObject{StrSxp}\n",
       " [1] \"#000000\" \"#E69F00\" \"#56B4E9\" \"#009E73\" \"#0072B2\" \"#D55E00\" \"#CC79A7\"\n",
       " [8] \"#e79f00\" \"#9ad0f3\" \"#F0E442\" \"#999999\" \"#cccccc\" \"#6633ff\" \"#00FFCC\"\n",
       "[15] \"#0066cc\"\n"
      ]
     },
     "execution_count": 1,
     "metadata": {},
     "output_type": "execute_result"
    }
   ],
   "source": [
    "using RCall, PyCall, Plots, ProgressMeter, DataFrames\n",
    "mt = pyimport(\"math\")\n",
    "sc = pyimport(\"scipy\")\n",
    "itg = pyimport(\"scipy.integrate\")\n",
    "R\"cbp<-c('#000000', '#E69F00', '#56B4E9', '#009E73', '#0072B2', '#D55E00', '#CC79A7', '#e79f00', '#9ad0f3', '#F0E442', '#999999', '#cccccc', '#6633ff', '#00FFCC', '#0066cc')\""
   ]
  },
  {
   "cell_type": "markdown",
   "metadata": {},
   "source": [
    "## abiotic factors: solar, temperature cycles"
   ]
  },
  {
   "cell_type": "code",
   "execution_count": 2,
   "metadata": {
    "ExecuteTime": {
     "end_time": "2020-02-06T00:25:35.333000Z",
     "start_time": "2020-02-06T00:25:05.903Z"
    }
   },
   "outputs": [
    {
     "data": {
      "text/plain": [
       "solar_al (generic function with 1 method)"
      ]
     },
     "execution_count": 2,
     "metadata": {},
     "output_type": "execute_result"
    }
   ],
   "source": [
    "function solar_dy(t, flux)\n",
    "    S_dy = flux * mt.sin(2 * mt.pi / (24) * t)\n",
    "    # add daily fluctuation (unit = hr)\n",
    "    return (S_dy)\n",
    "end\n",
    "function solar_yr(t, flux)\n",
    "    S_yr = flux * mt.sin(2 * mt.pi / (365.25 * 24) * t)\n",
    "    # add seasonal fluctuation (unit = hr)\n",
    "    return (S_yr)\n",
    "end\n",
    "function solar_sc(t, flux)\n",
    "    S_sc = flux * mt.sin(2 * mt.pi / (11.8 * 365.25 * 24) * t)\n",
    "    # add solar cycle fluctuation (unit = hr)\n",
    "    return (S_sc)\n",
    "end\n",
    "function solar_al(t, base, f_sc, f_yr, f_dy)\n",
    "    S_al = solar_sc(t, f_sc) + solar_yr(t, f_yr) + solar_dy(t, f_dy) + base\n",
    "    ## three cycles additive effect\n",
    "    return (S_al)\n",
    "end"
   ]
  },
  {
   "cell_type": "markdown",
   "metadata": {},
   "source": [
    "## ODE model: Generalised Logistic\n",
    "modified a bit in order also to plot solar cycle"
   ]
  },
  {
   "cell_type": "code",
   "execution_count": 3,
   "metadata": {
    "ExecuteTime": {
     "end_time": "2020-02-06T00:25:52.918000Z",
     "start_time": "2020-02-06T00:25:52.734Z"
    }
   },
   "outputs": [
    {
     "data": {
      "text/plain": [
       "ebc_GLc (generic function with 1 method)"
      ]
     },
     "execution_count": 3,
     "metadata": {},
     "output_type": "execute_result"
    }
   ],
   "source": [
    "function ebc_GLc(pops, t, Tk, TbS, TbT, CharP, CharQ)\n",
    "    \n",
    "    ## characteristics segregation\n",
    "    p = pops[:1] # population of p\n",
    "    q = pops[:2] # population of q\n",
    "    rp=CharP[:1]+1; kp=CharP[:2]; Jfp=CharP[:3]; Tkp=CharP[:4]\n",
    "    rq=CharQ[:1]+1; kq=CharQ[:2]; Jfq=CharQ[:3]; Tkq=CharQ[:4]\n",
    "    \n",
    "    ## abiotic factors\n",
    "    SS = solar_al(t, TbS[:1], TbS[:2], TbS[:3], TbS[:4]) ## solar budget\n",
    "    ST = solar_al(t, TbT[:1], TbT[:2], TbT[:3], TbT[:4]) ## temperature threat level\n",
    "    \n",
    "    ## energy budget\n",
    "    Jp = SS*Jfp\n",
    "    Jq = SS*Jfq\n",
    "    # assume solar spectrum unchange throughout the day\n",
    "    \n",
    "    ## p & q filling up the space, so hpq + hqp = 1\n",
    "    hpq = Jp*p/(Jp*p +Jq*q) # hindrance from q on p\n",
    "    hqp = 1-hpq # hindrance from p on q\n",
    "    \n",
    "    ## thermal kill ratio\n",
    "    if ST < Tk # assume if temperature lower than threshold, fixed ratio of population die\n",
    "        TRp = Tkp\n",
    "        TRq = TKq\n",
    "    else\n",
    "        TRp = 0\n",
    "        TRq = 0\n",
    "    end\n",
    "    \n",
    "    ## ODEs\n",
    "    dpdt = p*(rp*kp -rp*p -rp*hpq*q -TRp) # +growth*carrying -intra-competition -hinder by q -thermal stress (when applicable)\n",
    "    dqdt = q*(rq*kq -rq*q -rq*hqp*p -TRq) # +growth*carrying -intra-competition -hinder by p -thermal stress (when applicable)\n",
    "    \n",
    "    return (dpdt, dqdt, SS-TbS[:1]+.5)\n",
    "end"
   ]
  },
  {
   "cell_type": "markdown",
   "metadata": {},
   "source": [
    "## default parameters"
   ]
  },
  {
   "cell_type": "code",
   "execution_count": 4,
   "metadata": {
    "ExecuteTime": {
     "end_time": "2020-02-06T00:26:30.157000Z",
     "start_time": "2020-02-06T00:26:27.718Z"
    }
   },
   "outputs": [
    {
     "name": "stdout",
     "output_type": "stream",
     "text": [
      "\n"
     ]
    }
   ],
   "source": [
    "## unknown reason, must reload for every simulation\n",
    "pops = sc.array([.5, .3, 0]) # initial population p, q\n",
    "\n",
    "t = sc.linspace(0, 10, 10000) # time series (hours)\n",
    "\n",
    "Tk = 5 # thermal kill activation threshold\n",
    "\n",
    "TbS = sc.array([1500, 1, 100, 30]) # solar: mean per unit time energy, solar cycle amplitude, annual amplitude, daily amplitude\n",
    "\n",
    "TbT = sc.array([15, 0, 10, 3]) # temperature: mean per unit time, solar cycle amplitude, annual amplitude, daily amplitude\n",
    "\n",
    "CharP = sc.array([.04, .7, .3, .1]) # p characteristics: net growth rate, carrying cap ratio, energy extraction fraction, thermal sensitive fraction\n",
    "\n",
    "CharQ = sc.array([.04, .7, .3, .1]) # q characteristics: net growth rate, carrying cap ratio, energy extraction fraction, thermal sensitive fraction\n",
    "\n",
    "println()"
   ]
  },
  {
   "cell_type": "markdown",
   "metadata": {},
   "source": [
    "## test parameter ranges"
   ]
  },
  {
   "cell_type": "code",
   "execution_count": null,
   "metadata": {},
   "outputs": [],
   "source": [
    "## parameter test trial dump\n",
    "ppdef = [.9, .8, .7, .6, .5, .4, .3, .2, .1]\n",
    "rpdef = [.07, .06, .05, .04, .03, .02, .01]\n",
    "kpdef = [1., .9, .8, .7, .6, .5, .4]\n",
    "jpdef = [.7, .6, .4, .3, .2, .1, .05]\n",
    "tpdef = [.6, .5, .3, .1, .05, .02, .01]\n",
    "\n",
    "println()"
   ]
  }
 ],
 "metadata": {
  "kernelspec": {
   "display_name": "Julia 1.3.1",
   "language": "julia",
   "name": "julia-1.3"
  },
  "language_info": {
   "file_extension": ".jl",
   "mimetype": "application/julia",
   "name": "julia",
   "version": "1.3.1"
  },
  "latex_envs": {
   "LaTeX_envs_menu_present": true,
   "autoclose": true,
   "autocomplete": true,
   "bibliofile": "biblio.bib",
   "cite_by": "apalike",
   "current_citInitial": 1,
   "eqLabelWithNumbers": true,
   "eqNumInitial": 1,
   "hotkeys": {
    "equation": "Ctrl-E",
    "itemize": "Ctrl-I"
   },
   "labels_anchors": false,
   "latex_user_defs": false,
   "report_style_numbering": true,
   "user_envs_cfg": true
  },
  "toc": {
   "base_numbering": 1,
   "nav_menu": {},
   "number_sections": true,
   "sideBar": true,
   "skip_h1_title": false,
   "title_cell": "Table of Contents",
   "title_sidebar": "Contents",
   "toc_cell": true,
   "toc_position": {},
   "toc_section_display": true,
   "toc_window_display": true
  },
  "varInspector": {
   "cols": {
    "lenName": 16,
    "lenType": 16,
    "lenVar": 40
   },
   "kernels_config": {
    "python": {
     "delete_cmd_postfix": "",
     "delete_cmd_prefix": "del ",
     "library": "var_list.py",
     "varRefreshCmd": "print(var_dic_list())"
    },
    "r": {
     "delete_cmd_postfix": ") ",
     "delete_cmd_prefix": "rm(",
     "library": "var_list.r",
     "varRefreshCmd": "cat(var_dic_list()) "
    }
   },
   "types_to_exclude": [
    "module",
    "function",
    "builtin_function_or_method",
    "instance",
    "_Feature"
   ],
   "window_display": true
  }
 },
 "nbformat": 4,
 "nbformat_minor": 2
}
