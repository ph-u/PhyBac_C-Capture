{
 "cells": [
  {
   "cell_type": "markdown",
   "metadata": {
    "toc": true
   },
   "source": [
    "<h1>Table of Contents<span class=\"tocSkip\"></span></h1>\n",
    "<div class=\"toc\"><ul class=\"toc-item\"><li><span><a href=\"#housekeeping\" data-toc-modified-id=\"housekeeping-1\"><span class=\"toc-item-num\">1&nbsp;&nbsp;</span>housekeeping</a></span><ul class=\"toc-item\"><li><span><a href=\"#languages-&amp;-packages\" data-toc-modified-id=\"languages-&amp;-packages-1.1\"><span class=\"toc-item-num\">1.1&nbsp;&nbsp;</span>languages &amp; packages</a></span></li><li><span><a href=\"#env-set-up\" data-toc-modified-id=\"env-set-up-1.2\"><span class=\"toc-item-num\">1.2&nbsp;&nbsp;</span>env set-up</a></span></li><li><span><a href=\"#model-function\" data-toc-modified-id=\"model-function-1.3\"><span class=\"toc-item-num\">1.3&nbsp;&nbsp;</span>model function</a></span></li></ul></li><li><span><a href=\"#step-by-step-numerical-solve-via-SymPy\" data-toc-modified-id=\"step-by-step-numerical-solve-via-SymPy-2\"><span class=\"toc-item-num\">2&nbsp;&nbsp;</span>step-by-step numerical solve via SymPy</a></span><ul class=\"toc-item\"><li><span><a href=\"#environmental-preparation\" data-toc-modified-id=\"environmental-preparation-2.1\"><span class=\"toc-item-num\">2.1&nbsp;&nbsp;</span>environmental preparation</a></span></li><li><span><a href=\"#solve-each-parameter-in-each-equation\" data-toc-modified-id=\"solve-each-parameter-in-each-equation-2.2\"><span class=\"toc-item-num\">2.2&nbsp;&nbsp;</span>solve each parameter in each equation</a></span><ul class=\"toc-item\"><li><span><a href=\"#$g_p$:-in-$dp$-&amp;-$dm$\" data-toc-modified-id=\"$g_p$:-in-$dp$-&amp;-$dm$-2.2.1\"><span class=\"toc-item-num\">2.2.1&nbsp;&nbsp;</span>$g_p$: in $dp$ &amp; $dm$</a></span><ul class=\"toc-item\"><li><span><a href=\"#per-equation\" data-toc-modified-id=\"per-equation-2.2.1.1\"><span class=\"toc-item-num\">2.2.1.1&nbsp;&nbsp;</span>per equation</a></span></li><li><span><a href=\"#when-per-equation-values-equal\" data-toc-modified-id=\"when-per-equation-values-equal-2.2.1.2\"><span class=\"toc-item-num\">2.2.1.2&nbsp;&nbsp;</span>when per equation values equal</a></span></li></ul></li><li><span><a href=\"#$e_p$:-in-$dp$-&amp;-$dm$\" data-toc-modified-id=\"$e_p$:-in-$dp$-&amp;-$dm$-2.2.2\"><span class=\"toc-item-num\">2.2.2&nbsp;&nbsp;</span>$e_p$: in $dp$ &amp; $dm$</a></span><ul class=\"toc-item\"><li><span><a href=\"#per-equation\" data-toc-modified-id=\"per-equation-2.2.2.1\"><span class=\"toc-item-num\">2.2.2.1&nbsp;&nbsp;</span>per equation</a></span></li><li><span><a href=\"#when-per-equation-values-equal\" data-toc-modified-id=\"when-per-equation-values-equal-2.2.2.2\"><span class=\"toc-item-num\">2.2.2.2&nbsp;&nbsp;</span>when per equation values equal</a></span></li></ul></li><li><span><a href=\"#$R_p$:-in-$dp$\" data-toc-modified-id=\"$R_p$:-in-$dp$-2.2.3\"><span class=\"toc-item-num\">2.2.3&nbsp;&nbsp;</span>$R_p$: in $dp$</a></span></li><li><span><a href=\"#$m_p$:-in-$dp$-&amp;-$dm$\" data-toc-modified-id=\"$m_p$:-in-$dp$-&amp;-$dm$-2.2.4\"><span class=\"toc-item-num\">2.2.4&nbsp;&nbsp;</span>$m_p$: in $dp$ &amp; $dm$</a></span><ul class=\"toc-item\"><li><span><a href=\"#per-equation\" data-toc-modified-id=\"per-equation-2.2.4.1\"><span class=\"toc-item-num\">2.2.4.1&nbsp;&nbsp;</span>per equation</a></span></li><li><span><a href=\"#when-per-equation-values-equal\" data-toc-modified-id=\"when-per-equation-values-equal-2.2.4.2\"><span class=\"toc-item-num\">2.2.4.2&nbsp;&nbsp;</span>when per equation values equal</a></span></li></ul></li><li><span><a href=\"#$g_c$:-in-$dc$-&amp;-$dm$\" data-toc-modified-id=\"$g_c$:-in-$dc$-&amp;-$dm$-2.2.5\"><span class=\"toc-item-num\">2.2.5&nbsp;&nbsp;</span>$g_c$: in $dc$ &amp; $dm$</a></span><ul class=\"toc-item\"><li><span><a href=\"#per-equation\" data-toc-modified-id=\"per-equation-2.2.5.1\"><span class=\"toc-item-num\">2.2.5.1&nbsp;&nbsp;</span>per equation</a></span></li><li><span><a href=\"#when-per-equation-values-equal\" data-toc-modified-id=\"when-per-equation-values-equal-2.2.5.2\"><span class=\"toc-item-num\">2.2.5.2&nbsp;&nbsp;</span>when per equation values equal</a></span></li></ul></li><li><span><a href=\"#$e_c$:-in-$dc$-&amp;-$dm$\" data-toc-modified-id=\"$e_c$:-in-$dc$-&amp;-$dm$-2.2.6\"><span class=\"toc-item-num\">2.2.6&nbsp;&nbsp;</span>$e_c$: in $dc$ &amp; $dm$</a></span><ul class=\"toc-item\"><li><span><a href=\"#per-equation\" data-toc-modified-id=\"per-equation-2.2.6.1\"><span class=\"toc-item-num\">2.2.6.1&nbsp;&nbsp;</span>per equation</a></span></li><li><span><a href=\"#when-per-equation-values-equal\" data-toc-modified-id=\"when-per-equation-values-equal-2.2.6.2\"><span class=\"toc-item-num\">2.2.6.2&nbsp;&nbsp;</span>when per equation values equal</a></span></li></ul></li><li><span><a href=\"#$R_c$:-in-$dc$\" data-toc-modified-id=\"$R_c$:-in-$dc$-2.2.7\"><span class=\"toc-item-num\">2.2.7&nbsp;&nbsp;</span>$R_c$: in $dc$</a></span></li><li><span><a href=\"#$m_c$:-in-$dc$-&amp;-$dm$\" data-toc-modified-id=\"$m_c$:-in-$dc$-&amp;-$dm$-2.2.8\"><span class=\"toc-item-num\">2.2.8&nbsp;&nbsp;</span>$m_c$: in $dc$ &amp; $dm$</a></span><ul class=\"toc-item\"><li><span><a href=\"#per-equation\" data-toc-modified-id=\"per-equation-2.2.8.1\"><span class=\"toc-item-num\">2.2.8.1&nbsp;&nbsp;</span>per equation</a></span></li><li><span><a href=\"#when-per-equation-values-equal\" data-toc-modified-id=\"when-per-equation-values-equal-2.2.8.2\"><span class=\"toc-item-num\">2.2.8.2&nbsp;&nbsp;</span>when per equation values equal</a></span></li></ul></li></ul></li></ul></li><li><span><a href=\"#solve-all-parameters-in-one-go\" data-toc-modified-id=\"solve-all-parameters-in-one-go-3\"><span class=\"toc-item-num\">3&nbsp;&nbsp;</span>solve all parameters in one go</a></span></li></ul></div>"
   ]
  },
  {
   "cell_type": "markdown",
   "metadata": {},
   "source": [
    "# housekeeping\n",
    "This notebook is for analytically solving parameters in the set of ODEs for eco-bioelectric cell (EBC).\n",
    "\n",
    "## languages & packages\n",
    "Julia-lang 1.3.1: `PyCall` (1.91.2), `DataFrames` (0.20.0), `SymPy` (1.0.18)\n",
    "\n",
    "## env set-up"
   ]
  },
  {
   "cell_type": "code",
   "execution_count": 1,
   "metadata": {
    "ExecuteTime": {
     "end_time": "2020-03-13T00:45:12.439000Z",
     "start_time": "2020-03-13T00:44:38.390Z"
    }
   },
   "outputs": [
    {
     "name": "stdout",
     "output_type": "stream",
     "text": [
      "\n"
     ]
    }
   ],
   "source": [
    "using PyCall, DataFrames, SymPy\n",
    "mt = pyimport(\"math\")\n",
    "sc = pyimport(\"scipy\")\n",
    "itg = pyimport(\"scipy.integrate\")\n",
    "sympy.init_printing() ## use other py3 function not implemented in native Julia-lang\n",
    "println()"
   ]
  },
  {
   "cell_type": "markdown",
   "metadata": {},
   "source": [
    "## model function\n",
    "![](graph/PBD_00.png)"
   ]
  },
  {
   "cell_type": "code",
   "execution_count": 2,
   "metadata": {
    "ExecuteTime": {
     "end_time": "2020-03-13T00:45:19.431000Z",
     "start_time": "2020-03-13T00:44:38.923Z"
    }
   },
   "outputs": [
    {
     "data": {
      "text/plain": [
       "ebc0 (generic function with 1 method)"
      ]
     },
     "execution_count": 2,
     "metadata": {},
     "output_type": "execute_result"
    }
   ],
   "source": [
    "function ebc0(popDen, t, gp,ep,Rp,mp, gc,ec,Rc,mc)\n",
    "    \n",
    "    ## population densities\n",
    "    P = popDen[:1]\n",
    "    M = popDen[:2]\n",
    "    C = popDen[:3]\n",
    "    \n",
    "    ## numerical adaptation to net growth\n",
    "    #if gp <1; gp = 1+gp;end\n",
    "    #if gc <1; gc = 1+gc;end\n",
    "    \n",
    "    ## fluctuation model\n",
    "    dp = P*(gp*ep - Rp - mp)\n",
    "    dm = P*(gp*(1-ep) + mp) + C*(gc*(1-ec)*M + mc)\n",
    "    dc = C*(gc*ec*M - Rc - mc)\n",
    "    \n",
    "    ## non-recoverable elimination\n",
    "    if P <=0; dp=0;end\n",
    "    if C <=0; dc=0;end\n",
    "    \n",
    "    return(sc.array([dp,dm,dc]))\n",
    "end"
   ]
  },
  {
   "cell_type": "markdown",
   "metadata": {},
   "source": [
    "# step-by-step numerical solve via SymPy\n",
    "This step-wise workflow is following CMEE [notes](https://nbviewer.jupyter.org/github/mhasoba/TheMulQuaBio/blob/master/notebooks/Appendix-Maths.ipynb) (last section) from Samraat on Jupyter math models\n",
    "## environmental preparation\n",
    "define variables"
   ]
  },
  {
   "cell_type": "code",
   "execution_count": 3,
   "metadata": {
    "ExecuteTime": {
     "end_time": "2020-03-13T00:45:23.127000Z",
     "start_time": "2020-03-13T00:44:39.439Z"
    }
   },
   "outputs": [
    {
     "data": {
      "text/plain": [
       "(mc,)"
      ]
     },
     "execution_count": 3,
     "metadata": {},
     "output_type": "execute_result"
    }
   ],
   "source": [
    "@vars P; @vars M; @vars C\n",
    "@vars gp; @vars ep; @vars Rp; @vars mp\n",
    "@vars gc; @vars ec; @vars Rc; @vars mc"
   ]
  },
  {
   "cell_type": "markdown",
   "metadata": {},
   "source": [
    "define SymPy ODE system"
   ]
  },
  {
   "cell_type": "code",
   "execution_count": 4,
   "metadata": {
    "ExecuteTime": {
     "end_time": "2020-03-13T00:45:24.335000Z",
     "start_time": "2020-03-13T00:44:39.963Z"
    }
   },
   "outputs": [
    {
     "data": {
      "text/plain": [
       "(P*(-Rp + ep*gp - mp), C*(M*gc*(1 - ec) + mc) + P*(gp*(1 - ep) + mp), C*(M*ec*gc - Rc - mc))"
      ]
     },
     "execution_count": 4,
     "metadata": {},
     "output_type": "execute_result"
    }
   ],
   "source": [
    "dp = P*(gp*ep - Rp - mp)\n",
    "dm = P*(gp*(1-ep) + mp) + C*(gc*(1-ec)*M + mc)\n",
    "dc = C*(gc*ec*M - Rc - mc)\n",
    "dp, dm, dc"
   ]
  },
  {
   "cell_type": "code",
   "execution_count": 5,
   "metadata": {
    "ExecuteTime": {
     "end_time": "2020-03-13T00:45:27.498000Z",
     "start_time": "2020-03-13T00:44:39.967Z"
    }
   },
   "outputs": [
    {
     "data": {
      "text/latex": [
       "\\begin{equation*}P \\left(- Rp + ep gp - mp\\right)\\end{equation*}"
      ],
      "text/plain": [
       "P⋅(-Rp + ep⋅gp - mp)"
      ]
     },
     "execution_count": 5,
     "metadata": {},
     "output_type": "execute_result"
    }
   ],
   "source": [
    "dp"
   ]
  },
  {
   "cell_type": "code",
   "execution_count": 6,
   "metadata": {
    "ExecuteTime": {
     "end_time": "2020-03-13T00:45:27.521000Z",
     "start_time": "2020-03-13T00:44:39.971Z"
    }
   },
   "outputs": [
    {
     "data": {
      "text/latex": [
       "\\begin{equation*}C \\left(M gc \\left(1 - ec\\right) + mc\\right) + P \\left(gp \\left(1 - ep\\right) + mp\\right)\\end{equation*}"
      ],
      "text/plain": [
       "C⋅(M⋅gc⋅(1 - ec) + mc) + P⋅(gp⋅(1 - ep) + mp)"
      ]
     },
     "execution_count": 6,
     "metadata": {},
     "output_type": "execute_result"
    }
   ],
   "source": [
    "dm"
   ]
  },
  {
   "cell_type": "code",
   "execution_count": 7,
   "metadata": {
    "ExecuteTime": {
     "end_time": "2020-03-13T00:45:27.540000Z",
     "start_time": "2020-03-13T00:44:39.974Z"
    }
   },
   "outputs": [
    {
     "data": {
      "text/latex": [
       "\\begin{equation*}C \\left(M ec gc - Rc - mc\\right)\\end{equation*}"
      ],
      "text/plain": [
       "C⋅(M⋅ec⋅gc - Rc - mc)"
      ]
     },
     "execution_count": 7,
     "metadata": {},
     "output_type": "execute_result"
    }
   ],
   "source": [
    "dc"
   ]
  },
  {
   "cell_type": "markdown",
   "metadata": {},
   "source": [
    "define eqm state"
   ]
  },
  {
   "cell_type": "code",
   "execution_count": 8,
   "metadata": {
    "ExecuteTime": {
     "end_time": "2020-03-13T00:45:27.734000Z",
     "start_time": "2020-03-13T00:44:40.521Z"
    }
   },
   "outputs": [
    {
     "data": {
      "text/plain": [
       "(Eq(P*(-Rp + ep*gp - mp), 0), Eq(C*(M*gc*(1 - ec) + mc) + P*(gp*(1 - ep) + mp), 0), Eq(C*(M*ec*gc - Rc - mc), 0))"
      ]
     },
     "execution_count": 8,
     "metadata": {},
     "output_type": "execute_result"
    }
   ],
   "source": [
    "p_eqm = Eq(dp, 0)\n",
    "m_eqm = Eq(dm, 0)\n",
    "c_eqm = Eq(dc, 0)\n",
    "p_eqm, m_eqm, c_eqm"
   ]
  },
  {
   "cell_type": "code",
   "execution_count": 9,
   "metadata": {
    "ExecuteTime": {
     "end_time": "2020-03-13T00:45:27.750000Z",
     "start_time": "2020-03-13T00:44:40.524Z"
    }
   },
   "outputs": [
    {
     "data": {
      "text/latex": [
       "\\begin{equation*}P \\left(- Rp + ep gp - mp\\right) = 0\\end{equation*}"
      ],
      "text/plain": [
       "P⋅(-Rp + ep⋅gp - mp) = 0"
      ]
     },
     "execution_count": 9,
     "metadata": {},
     "output_type": "execute_result"
    }
   ],
   "source": [
    "p_eqm"
   ]
  },
  {
   "cell_type": "code",
   "execution_count": 10,
   "metadata": {
    "ExecuteTime": {
     "end_time": "2020-03-13T00:45:27.771000Z",
     "start_time": "2020-03-13T00:44:40.529Z"
    }
   },
   "outputs": [
    {
     "data": {
      "text/latex": [
       "\\begin{equation*}C \\left(M gc \\left(1 - ec\\right) + mc\\right) + P \\left(gp \\left(1 - ep\\right) + mp\\right) = 0\\end{equation*}"
      ],
      "text/plain": [
       "C⋅(M⋅gc⋅(1 - ec) + mc) + P⋅(gp⋅(1 - ep) + mp) = 0"
      ]
     },
     "execution_count": 10,
     "metadata": {},
     "output_type": "execute_result"
    }
   ],
   "source": [
    "m_eqm"
   ]
  },
  {
   "cell_type": "code",
   "execution_count": 11,
   "metadata": {
    "ExecuteTime": {
     "end_time": "2020-03-13T00:45:27.794000Z",
     "start_time": "2020-03-13T00:44:40.533Z"
    }
   },
   "outputs": [
    {
     "data": {
      "text/latex": [
       "\\begin{equation*}C \\left(M ec gc - Rc - mc\\right) = 0\\end{equation*}"
      ],
      "text/plain": [
       "C⋅(M⋅ec⋅gc - Rc - mc) = 0"
      ]
     },
     "execution_count": 11,
     "metadata": {},
     "output_type": "execute_result"
    }
   ],
   "source": [
    "c_eqm"
   ]
  },
  {
   "cell_type": "markdown",
   "metadata": {},
   "source": [
    "## solve each parameter in each equation\n",
    "### $g_p$: in $dp$ & $dm$\n",
    "#### per equation"
   ]
  },
  {
   "cell_type": "code",
   "execution_count": 12,
   "metadata": {
    "ExecuteTime": {
     "end_time": "2020-03-13T00:45:30.827000Z",
     "start_time": "2020-03-13T00:44:41.045Z"
    }
   },
   "outputs": [
    {
     "data": {
      "text/plain": [
       "(Sym[(Rp + mp)/ep], Sym[(-C*M*ec*gc + C*M*gc + C*mc + P*mp)/(P*(ep - 1))])"
      ]
     },
     "execution_count": 12,
     "metadata": {},
     "output_type": "execute_result"
    }
   ],
   "source": [
    "gp_p = solve(p_eqm, gp)\n",
    "gp_m = solve(m_eqm, gp)\n",
    "gp_p, gp_m"
   ]
  },
  {
   "cell_type": "code",
   "execution_count": 13,
   "metadata": {
    "ExecuteTime": {
     "end_time": "2020-03-13T00:45:32.968000Z",
     "start_time": "2020-03-13T00:44:41.049Z"
    }
   },
   "outputs": [
    {
     "data": {
      "text/latex": [
       "\\[ \\left[ \\begin{array}{r}\\frac{Rp + mp}{ep}\\end{array} \\right] \\]"
      ],
      "text/plain": [
       "1-element Array{Sym,1}:\n",
       " (Rp + mp)/ep"
      ]
     },
     "execution_count": 13,
     "metadata": {},
     "output_type": "execute_result"
    }
   ],
   "source": [
    "gp_p"
   ]
  },
  {
   "cell_type": "code",
   "execution_count": 14,
   "metadata": {
    "ExecuteTime": {
     "end_time": "2020-03-13T00:45:32.992000Z",
     "start_time": "2020-03-13T00:44:41.053Z"
    }
   },
   "outputs": [
    {
     "data": {
      "text/latex": [
       "\\[ \\left[ \\begin{array}{r}\\frac{- C M ec gc + C M gc + C mc + P mp}{P \\left(ep - 1\\right)}\\end{array} \\right] \\]"
      ],
      "text/plain": [
       "1-element Array{Sym,1}:\n",
       " (-C*M*ec*gc + C*M*gc + C*mc + P*mp)/(P*(ep - 1))"
      ]
     },
     "execution_count": 14,
     "metadata": {},
     "output_type": "execute_result"
    }
   ],
   "source": [
    "gp_m"
   ]
  },
  {
   "cell_type": "markdown",
   "metadata": {},
   "source": [
    "#### when per equation values equal"
   ]
  },
  {
   "cell_type": "code",
   "execution_count": 15,
   "metadata": {
    "ExecuteTime": {
     "end_time": "2020-03-13T00:45:43.973000Z",
     "start_time": "2020-03-13T00:44:41.573Z"
    }
   },
   "outputs": [
    {
     "data": {
      "text/html": [
       "<table class=\"data-frame\"><thead><tr><th></th><th>var</th><th>value</th></tr><tr><th></th><th>String</th><th>Array…</th></tr></thead><tbody><p>11 rows × 2 columns</p><tr><th>1</th><td>P</td><td>[C*ep*(M*ec*gc - M*gc - mc)/(-Rp*ep + Rp + mp)]</td></tr><tr><th>2</th><td>M</td><td>[(C*ep*mc - P*Rp*ep + P*Rp + P*mp)/(C*ep*gc*(ec - 1))]</td></tr><tr><th>3</th><td>C</td><td>[P*(Rp*ep - Rp - mp)/(ep*(-M*ec*gc + M*gc + mc))]</td></tr><tr><th>4</th><td>gp</td><td>[]</td></tr><tr><th>5</th><td>ep</td><td>[P*(Rp + mp)/(C*M*ec*gc - C*M*gc - C*mc + P*Rp)]</td></tr><tr><th>6</th><td>Rp</td><td>[(-C*M*ec*ep*gc + C*M*ep*gc + C*ep*mc + P*mp)/(P*(ep - 1))]</td></tr><tr><th>7</th><td>mp</td><td>[(C*M*ec*ep*gc - C*M*ep*gc - C*ep*mc + P*Rp*(ep - 1))/P]</td></tr><tr><th>8</th><td>gc</td><td>[(C*ep*mc - P*Rp*ep + P*Rp + P*mp)/(C*M*ep*(ec - 1))]</td></tr><tr><th>9</th><td>ec</td><td>[(C*M*ep*gc + C*ep*mc - P*Rp*ep + P*(Rp + mp))/(C*M*ep*gc)]</td></tr><tr><th>10</th><td>Rc</td><td>[]</td></tr><tr><th>11</th><td>mc</td><td>[(C*M*ep*gc*(ec - 1) + P*Rp*ep - P*(Rp + mp))/(C*ep)]</td></tr></tbody></table>"
      ],
      "text/latex": [
       "\\begin{tabular}{r|cc}\n",
       "\t& var & value\\\\\n",
       "\t\\hline\n",
       "\t& String & Array…\\\\\n",
       "\t\\hline\n",
       "\t1 & P & [C*ep*(M*ec*gc - M*gc - mc)/(-Rp*ep + Rp + mp)] \\\\\n",
       "\t2 & M & [(C*ep*mc - P*Rp*ep + P*Rp + P*mp)/(C*ep*gc*(ec - 1))] \\\\\n",
       "\t3 & C & [P*(Rp*ep - Rp - mp)/(ep*(-M*ec*gc + M*gc + mc))] \\\\\n",
       "\t4 & gp & [] \\\\\n",
       "\t5 & ep & [P*(Rp + mp)/(C*M*ec*gc - C*M*gc - C*mc + P*Rp)] \\\\\n",
       "\t6 & Rp & [(-C*M*ec*ep*gc + C*M*ep*gc + C*ep*mc + P*mp)/(P*(ep - 1))] \\\\\n",
       "\t7 & mp & [(C*M*ec*ep*gc - C*M*ep*gc - C*ep*mc + P*Rp*(ep - 1))/P] \\\\\n",
       "\t8 & gc & [(C*ep*mc - P*Rp*ep + P*Rp + P*mp)/(C*M*ep*(ec - 1))] \\\\\n",
       "\t9 & ec & [(C*M*ep*gc + C*ep*mc - P*Rp*ep + P*(Rp + mp))/(C*M*ep*gc)] \\\\\n",
       "\t10 & Rc & [] \\\\\n",
       "\t11 & mc & [(C*M*ep*gc*(ec - 1) + P*Rp*ep - P*(Rp + mp))/(C*ep)] \\\\\n",
       "\\end{tabular}\n"
      ],
      "text/plain": [
       "11×2 DataFrame\n",
       "│ Row │ var    │ value                                                       │\n",
       "│     │ \u001b[90mString\u001b[39m │ \u001b[90mArray{Any,1}\u001b[39m                                                │\n",
       "├─────┼────────┼─────────────────────────────────────────────────────────────┤\n",
       "│ 1   │ P      │ [C*ep*(M*ec*gc - M*gc - mc)/(-Rp*ep + Rp + mp)]             │\n",
       "│ 2   │ M      │ [(C*ep*mc - P*Rp*ep + P*Rp + P*mp)/(C*ep*gc*(ec - 1))]      │\n",
       "│ 3   │ C      │ [P*(Rp*ep - Rp - mp)/(ep*(-M*ec*gc + M*gc + mc))]           │\n",
       "│ 4   │ gp     │ []                                                          │\n",
       "│ 5   │ ep     │ [P*(Rp + mp)/(C*M*ec*gc - C*M*gc - C*mc + P*Rp)]            │\n",
       "│ 6   │ Rp     │ [(-C*M*ec*ep*gc + C*M*ep*gc + C*ep*mc + P*mp)/(P*(ep - 1))] │\n",
       "│ 7   │ mp     │ [(C*M*ec*ep*gc - C*M*ep*gc - C*ep*mc + P*Rp*(ep - 1))/P]    │\n",
       "│ 8   │ gc     │ [(C*ep*mc - P*Rp*ep + P*Rp + P*mp)/(C*M*ep*(ec - 1))]       │\n",
       "│ 9   │ ec     │ [(C*M*ep*gc + C*ep*mc - P*Rp*ep + P*(Rp + mp))/(C*M*ep*gc)] │\n",
       "│ 10  │ Rc     │ []                                                          │\n",
       "│ 11  │ mc     │ [(C*M*ep*gc*(ec - 1) + P*Rp*ep - P*(Rp + mp))/(C*ep)]       │"
      ]
     },
     "execution_count": 15,
     "metadata": {},
     "output_type": "execute_result"
    }
   ],
   "source": [
    "tmp0 = gp_p[1] ## change type back to Sym\n",
    "tmp1 = gp_m[1]\n",
    "tmp = Eq(tmp0, tmp1)\n",
    "DataFrame(\n",
    "    var=[\"P\",\"M\",\"C\",\"gp\",\"ep\",\"Rp\",\"mp\",\"gc\",\"ec\",\"Rc\",\"mc\"],\n",
    "    value=[solve(tmp,P), solve(tmp,M), solve(tmp,C),\n",
    "        solve(tmp,gp), solve(tmp,ep), solve(tmp,Rp), solve(tmp,mp),\n",
    "        solve(tmp,gc), solve(tmp,ec), solve(tmp,Rc), solve(tmp,mc)])"
   ]
  },
  {
   "cell_type": "markdown",
   "metadata": {},
   "source": [
    "### $e_p$: in $dp$ & $dm$\n",
    "#### per equation"
   ]
  },
  {
   "cell_type": "code",
   "execution_count": 16,
   "metadata": {
    "ExecuteTime": {
     "end_time": "2020-03-13T00:45:44.263000Z",
     "start_time": "2020-03-13T00:44:42.063Z"
    }
   },
   "outputs": [
    {
     "data": {
      "text/plain": [
       "(Sym[(Rp + mp)/gp], Sym[(C*(-M*ec*gc + M*gc + mc) + P*gp + P*mp)/(P*gp)])"
      ]
     },
     "execution_count": 16,
     "metadata": {},
     "output_type": "execute_result"
    }
   ],
   "source": [
    "ep_p = solve(p_eqm, ep)\n",
    "ep_m = solve(m_eqm, ep)\n",
    "ep_p, ep_m"
   ]
  },
  {
   "cell_type": "code",
   "execution_count": 17,
   "metadata": {
    "ExecuteTime": {
     "end_time": "2020-03-13T00:45:44.276000Z",
     "start_time": "2020-03-13T00:44:42.067Z"
    }
   },
   "outputs": [
    {
     "data": {
      "text/latex": [
       "\\[ \\left[ \\begin{array}{r}\\frac{Rp + mp}{gp}\\end{array} \\right] \\]"
      ],
      "text/plain": [
       "1-element Array{Sym,1}:\n",
       " (Rp + mp)/gp"
      ]
     },
     "execution_count": 17,
     "metadata": {},
     "output_type": "execute_result"
    }
   ],
   "source": [
    "ep_p"
   ]
  },
  {
   "cell_type": "code",
   "execution_count": 18,
   "metadata": {
    "ExecuteTime": {
     "end_time": "2020-03-13T00:45:44.308000Z",
     "start_time": "2020-03-13T00:44:42.072Z"
    }
   },
   "outputs": [
    {
     "data": {
      "text/latex": [
       "\\[ \\left[ \\begin{array}{r}\\frac{C \\left(- M ec gc + M gc + mc\\right) + P gp + P mp}{P gp}\\end{array} \\right] \\]"
      ],
      "text/plain": [
       "1-element Array{Sym,1}:\n",
       " (C*(-M*ec*gc + M*gc + mc) + P*gp + P*mp)/(P*gp)"
      ]
     },
     "execution_count": 18,
     "metadata": {},
     "output_type": "execute_result"
    }
   ],
   "source": [
    "ep_m"
   ]
  },
  {
   "cell_type": "markdown",
   "metadata": {},
   "source": [
    "#### when per equation values equal"
   ]
  },
  {
   "cell_type": "code",
   "execution_count": 19,
   "metadata": {
    "ExecuteTime": {
     "end_time": "2020-03-13T00:45:47.057000Z",
     "start_time": "2020-03-13T00:44:42.575Z"
    }
   },
   "outputs": [
    {
     "data": {
      "text/html": [
       "<table class=\"data-frame\"><thead><tr><th></th><th>var</th><th>value</th></tr><tr><th></th><th>String</th><th>Array…</th></tr></thead><tbody><p>11 rows × 2 columns</p><tr><th>1</th><td>P</td><td>[C*(-M*ec*gc + M*gc + mc)/(Rp - gp)]</td></tr><tr><th>2</th><td>M</td><td>[(C*mc - P*Rp + P*gp)/(C*gc*(ec - 1))]</td></tr><tr><th>3</th><td>C</td><td>[P*(Rp - gp)/(-M*ec*gc + M*gc + mc)]</td></tr><tr><th>4</th><td>gp</td><td>[(C*M*ec*gc - C*M*gc - C*mc + P*Rp)/P]</td></tr><tr><th>5</th><td>ep</td><td>[]</td></tr><tr><th>6</th><td>Rp</td><td>[(-C*M*ec*gc + C*M*gc + C*mc + P*gp)/P]</td></tr><tr><th>7</th><td>mp</td><td>[]</td></tr><tr><th>8</th><td>gc</td><td>[(C*mc - P*Rp + P*gp)/(C*M*(ec - 1))]</td></tr><tr><th>9</th><td>ec</td><td>[(C*M*gc + C*mc + P*(-Rp + gp))/(C*M*gc)]</td></tr><tr><th>10</th><td>Rc</td><td>[]</td></tr><tr><th>11</th><td>mc</td><td>[(C*M*gc*(ec - 1) + P*Rp - P*gp)/C]</td></tr></tbody></table>"
      ],
      "text/latex": [
       "\\begin{tabular}{r|cc}\n",
       "\t& var & value\\\\\n",
       "\t\\hline\n",
       "\t& String & Array…\\\\\n",
       "\t\\hline\n",
       "\t1 & P & [C*(-M*ec*gc + M*gc + mc)/(Rp - gp)] \\\\\n",
       "\t2 & M & [(C*mc - P*Rp + P*gp)/(C*gc*(ec - 1))] \\\\\n",
       "\t3 & C & [P*(Rp - gp)/(-M*ec*gc + M*gc + mc)] \\\\\n",
       "\t4 & gp & [(C*M*ec*gc - C*M*gc - C*mc + P*Rp)/P] \\\\\n",
       "\t5 & ep & [] \\\\\n",
       "\t6 & Rp & [(-C*M*ec*gc + C*M*gc + C*mc + P*gp)/P] \\\\\n",
       "\t7 & mp & [] \\\\\n",
       "\t8 & gc & [(C*mc - P*Rp + P*gp)/(C*M*(ec - 1))] \\\\\n",
       "\t9 & ec & [(C*M*gc + C*mc + P*(-Rp + gp))/(C*M*gc)] \\\\\n",
       "\t10 & Rc & [] \\\\\n",
       "\t11 & mc & [(C*M*gc*(ec - 1) + P*Rp - P*gp)/C] \\\\\n",
       "\\end{tabular}\n"
      ],
      "text/plain": [
       "11×2 DataFrame\n",
       "│ Row │ var    │ value                                     │\n",
       "│     │ \u001b[90mString\u001b[39m │ \u001b[90mArray{Any,1}\u001b[39m                              │\n",
       "├─────┼────────┼───────────────────────────────────────────┤\n",
       "│ 1   │ P      │ [C*(-M*ec*gc + M*gc + mc)/(Rp - gp)]      │\n",
       "│ 2   │ M      │ [(C*mc - P*Rp + P*gp)/(C*gc*(ec - 1))]    │\n",
       "│ 3   │ C      │ [P*(Rp - gp)/(-M*ec*gc + M*gc + mc)]      │\n",
       "│ 4   │ gp     │ [(C*M*ec*gc - C*M*gc - C*mc + P*Rp)/P]    │\n",
       "│ 5   │ ep     │ []                                        │\n",
       "│ 6   │ Rp     │ [(-C*M*ec*gc + C*M*gc + C*mc + P*gp)/P]   │\n",
       "│ 7   │ mp     │ []                                        │\n",
       "│ 8   │ gc     │ [(C*mc - P*Rp + P*gp)/(C*M*(ec - 1))]     │\n",
       "│ 9   │ ec     │ [(C*M*gc + C*mc + P*(-Rp + gp))/(C*M*gc)] │\n",
       "│ 10  │ Rc     │ []                                        │\n",
       "│ 11  │ mc     │ [(C*M*gc*(ec - 1) + P*Rp - P*gp)/C]       │"
      ]
     },
     "execution_count": 19,
     "metadata": {},
     "output_type": "execute_result"
    }
   ],
   "source": [
    "tmp0 = ep_p[1] ## change type back to Sym\n",
    "tmp1 = ep_m[1]\n",
    "tmp = Eq(tmp0, tmp1)\n",
    "DataFrame(\n",
    "    var=[\"P\",\"M\",\"C\",\"gp\",\"ep\",\"Rp\",\"mp\",\"gc\",\"ec\",\"Rc\",\"mc\"],\n",
    "    value=[solve(tmp,P), solve(tmp,M), solve(tmp,C),\n",
    "        solve(tmp,gp), solve(tmp,ep), solve(tmp,Rp), solve(tmp,mp),\n",
    "        solve(tmp,gc), solve(tmp,ec), solve(tmp,Rc), solve(tmp,mc)])"
   ]
  },
  {
   "cell_type": "markdown",
   "metadata": {},
   "source": [
    "### $R_p$: in $dp$"
   ]
  },
  {
   "cell_type": "code",
   "execution_count": 20,
   "metadata": {
    "ExecuteTime": {
     "end_time": "2020-03-13T00:45:47.121000Z",
     "start_time": "2020-03-13T00:44:43.108Z"
    }
   },
   "outputs": [
    {
     "data": {
      "text/latex": [
       "\\[ \\left[ \\begin{array}{r}ep gp - mp\\end{array} \\right] \\]"
      ],
      "text/plain": [
       "1-element Array{Sym,1}:\n",
       " ep*gp - mp"
      ]
     },
     "execution_count": 20,
     "metadata": {},
     "output_type": "execute_result"
    }
   ],
   "source": [
    "rp_p = solve(p_eqm, Rp)\n",
    "rp_p"
   ]
  },
  {
   "cell_type": "markdown",
   "metadata": {},
   "source": [
    "### $m_p$: in $dp$ & $dm$\n",
    "#### per equation"
   ]
  },
  {
   "cell_type": "code",
   "execution_count": 21,
   "metadata": {
    "ExecuteTime": {
     "end_time": "2020-03-13T00:45:47.353000Z",
     "start_time": "2020-03-13T00:44:43.599Z"
    }
   },
   "outputs": [
    {
     "data": {
      "text/plain": [
       "(Sym[-Rp + ep*gp], Sym[(C*M*ec*gc - C*M*gc - C*mc + P*gp*(ep - 1))/P])"
      ]
     },
     "execution_count": 21,
     "metadata": {},
     "output_type": "execute_result"
    }
   ],
   "source": [
    "mp_p = solve(p_eqm, mp)\n",
    "mp_m = solve(m_eqm, mp)\n",
    "mp_p, mp_m"
   ]
  },
  {
   "cell_type": "code",
   "execution_count": 22,
   "metadata": {
    "ExecuteTime": {
     "end_time": "2020-03-13T00:45:47.376000Z",
     "start_time": "2020-03-13T00:44:43.602Z"
    }
   },
   "outputs": [
    {
     "data": {
      "text/latex": [
       "\\[ \\left[ \\begin{array}{r}- Rp + ep gp\\end{array} \\right] \\]"
      ],
      "text/plain": [
       "1-element Array{Sym,1}:\n",
       " -Rp + ep*gp"
      ]
     },
     "execution_count": 22,
     "metadata": {},
     "output_type": "execute_result"
    }
   ],
   "source": [
    "mp_p"
   ]
  },
  {
   "cell_type": "code",
   "execution_count": 23,
   "metadata": {
    "ExecuteTime": {
     "end_time": "2020-03-13T00:45:47.392000Z",
     "start_time": "2020-03-13T00:44:43.605Z"
    }
   },
   "outputs": [
    {
     "data": {
      "text/latex": [
       "\\[ \\left[ \\begin{array}{r}\\frac{C M ec gc - C M gc - C mc + P gp \\left(ep - 1\\right)}{P}\\end{array} \\right] \\]"
      ],
      "text/plain": [
       "1-element Array{Sym,1}:\n",
       " (C*M*ec*gc - C*M*gc - C*mc + P*gp*(ep - 1))/P"
      ]
     },
     "execution_count": 23,
     "metadata": {},
     "output_type": "execute_result"
    }
   ],
   "source": [
    "mp_m"
   ]
  },
  {
   "cell_type": "markdown",
   "metadata": {},
   "source": [
    "#### when per equation values equal"
   ]
  },
  {
   "cell_type": "code",
   "execution_count": 24,
   "metadata": {
    "ExecuteTime": {
     "end_time": "2020-03-13T00:45:49.191000Z",
     "start_time": "2020-03-13T00:44:44.127Z"
    }
   },
   "outputs": [
    {
     "data": {
      "text/html": [
       "<table class=\"data-frame\"><thead><tr><th></th><th>var</th><th>value</th></tr><tr><th></th><th>String</th><th>Array…</th></tr></thead><tbody><p>11 rows × 2 columns</p><tr><th>1</th><td>P</td><td>[C*(-M*ec*gc + M*gc + mc)/(Rp - gp)]</td></tr><tr><th>2</th><td>M</td><td>[(C*mc - P*Rp + P*gp)/(C*gc*(ec - 1))]</td></tr><tr><th>3</th><td>C</td><td>[P*(Rp - gp)/(-M*ec*gc + M*gc + mc)]</td></tr><tr><th>4</th><td>gp</td><td>[(C*M*ec*gc - C*M*gc - C*mc + P*Rp)/P]</td></tr><tr><th>5</th><td>ep</td><td>[]</td></tr><tr><th>6</th><td>Rp</td><td>[(-C*M*ec*gc + C*M*gc + C*mc + P*gp)/P]</td></tr><tr><th>7</th><td>mp</td><td>[]</td></tr><tr><th>8</th><td>gc</td><td>[(C*mc - P*Rp + P*gp)/(C*M*(ec - 1))]</td></tr><tr><th>9</th><td>ec</td><td>[(C*M*gc + C*mc + P*(-Rp + gp))/(C*M*gc)]</td></tr><tr><th>10</th><td>Rc</td><td>[]</td></tr><tr><th>11</th><td>mc</td><td>[(C*M*gc*(ec - 1) + P*Rp - P*gp)/C]</td></tr></tbody></table>"
      ],
      "text/latex": [
       "\\begin{tabular}{r|cc}\n",
       "\t& var & value\\\\\n",
       "\t\\hline\n",
       "\t& String & Array…\\\\\n",
       "\t\\hline\n",
       "\t1 & P & [C*(-M*ec*gc + M*gc + mc)/(Rp - gp)] \\\\\n",
       "\t2 & M & [(C*mc - P*Rp + P*gp)/(C*gc*(ec - 1))] \\\\\n",
       "\t3 & C & [P*(Rp - gp)/(-M*ec*gc + M*gc + mc)] \\\\\n",
       "\t4 & gp & [(C*M*ec*gc - C*M*gc - C*mc + P*Rp)/P] \\\\\n",
       "\t5 & ep & [] \\\\\n",
       "\t6 & Rp & [(-C*M*ec*gc + C*M*gc + C*mc + P*gp)/P] \\\\\n",
       "\t7 & mp & [] \\\\\n",
       "\t8 & gc & [(C*mc - P*Rp + P*gp)/(C*M*(ec - 1))] \\\\\n",
       "\t9 & ec & [(C*M*gc + C*mc + P*(-Rp + gp))/(C*M*gc)] \\\\\n",
       "\t10 & Rc & [] \\\\\n",
       "\t11 & mc & [(C*M*gc*(ec - 1) + P*Rp - P*gp)/C] \\\\\n",
       "\\end{tabular}\n"
      ],
      "text/plain": [
       "11×2 DataFrame\n",
       "│ Row │ var    │ value                                     │\n",
       "│     │ \u001b[90mString\u001b[39m │ \u001b[90mArray{Any,1}\u001b[39m                              │\n",
       "├─────┼────────┼───────────────────────────────────────────┤\n",
       "│ 1   │ P      │ [C*(-M*ec*gc + M*gc + mc)/(Rp - gp)]      │\n",
       "│ 2   │ M      │ [(C*mc - P*Rp + P*gp)/(C*gc*(ec - 1))]    │\n",
       "│ 3   │ C      │ [P*(Rp - gp)/(-M*ec*gc + M*gc + mc)]      │\n",
       "│ 4   │ gp     │ [(C*M*ec*gc - C*M*gc - C*mc + P*Rp)/P]    │\n",
       "│ 5   │ ep     │ []                                        │\n",
       "│ 6   │ Rp     │ [(-C*M*ec*gc + C*M*gc + C*mc + P*gp)/P]   │\n",
       "│ 7   │ mp     │ []                                        │\n",
       "│ 8   │ gc     │ [(C*mc - P*Rp + P*gp)/(C*M*(ec - 1))]     │\n",
       "│ 9   │ ec     │ [(C*M*gc + C*mc + P*(-Rp + gp))/(C*M*gc)] │\n",
       "│ 10  │ Rc     │ []                                        │\n",
       "│ 11  │ mc     │ [(C*M*gc*(ec - 1) + P*Rp - P*gp)/C]       │"
      ]
     },
     "execution_count": 24,
     "metadata": {},
     "output_type": "execute_result"
    }
   ],
   "source": [
    "tmp0 = mp_p[1] ## change type back to Sym\n",
    "tmp1 = mp_m[1]\n",
    "tmp = Eq(tmp0, tmp1)\n",
    "DataFrame(\n",
    "    var=[\"P\",\"M\",\"C\",\"gp\",\"ep\",\"Rp\",\"mp\",\"gc\",\"ec\",\"Rc\",\"mc\"],\n",
    "    value=[solve(tmp,P), solve(tmp,M), solve(tmp,C),\n",
    "        solve(tmp,gp), solve(tmp,ep), solve(tmp,Rp), solve(tmp,mp),\n",
    "        solve(tmp,gc), solve(tmp,ec), solve(tmp,Rc), solve(tmp,mc)])"
   ]
  },
  {
   "cell_type": "markdown",
   "metadata": {},
   "source": [
    "### $g_c$: in $dc$ & $dm$\n",
    "#### per equation"
   ]
  },
  {
   "cell_type": "code",
   "execution_count": 25,
   "metadata": {
    "ExecuteTime": {
     "end_time": "2020-03-13T00:45:49.477000Z",
     "start_time": "2020-03-13T00:44:44.636Z"
    }
   },
   "outputs": [
    {
     "data": {
      "text/plain": [
       "(Sym[(Rc + mc)/(M*ec)], Sym[(C*mc - P*ep*gp + P*gp + P*mp)/(C*M*(ec - 1))])"
      ]
     },
     "execution_count": 25,
     "metadata": {},
     "output_type": "execute_result"
    }
   ],
   "source": [
    "gc_c = solve(c_eqm, gc)\n",
    "gc_m = solve(m_eqm, gc)\n",
    "gc_c, gc_m"
   ]
  },
  {
   "cell_type": "code",
   "execution_count": 26,
   "metadata": {
    "ExecuteTime": {
     "end_time": "2020-03-13T00:45:49.490000Z",
     "start_time": "2020-03-13T00:44:44.641Z"
    }
   },
   "outputs": [
    {
     "data": {
      "text/latex": [
       "\\[ \\left[ \\begin{array}{r}\\frac{Rc + mc}{M ec}\\end{array} \\right] \\]"
      ],
      "text/plain": [
       "1-element Array{Sym,1}:\n",
       " (Rc + mc)/(M*ec)"
      ]
     },
     "execution_count": 26,
     "metadata": {},
     "output_type": "execute_result"
    }
   ],
   "source": [
    "gc_c"
   ]
  },
  {
   "cell_type": "code",
   "execution_count": 27,
   "metadata": {
    "ExecuteTime": {
     "end_time": "2020-03-13T00:45:49.506000Z",
     "start_time": "2020-03-13T00:44:44.645Z"
    }
   },
   "outputs": [
    {
     "data": {
      "text/latex": [
       "\\[ \\left[ \\begin{array}{r}\\frac{C mc - P ep gp + P gp + P mp}{C M \\left(ec - 1\\right)}\\end{array} \\right] \\]"
      ],
      "text/plain": [
       "1-element Array{Sym,1}:\n",
       " (C*mc - P*ep*gp + P*gp + P*mp)/(C*M*(ec - 1))"
      ]
     },
     "execution_count": 27,
     "metadata": {},
     "output_type": "execute_result"
    }
   ],
   "source": [
    "gc_m"
   ]
  },
  {
   "cell_type": "markdown",
   "metadata": {},
   "source": [
    "#### when per equation values equal"
   ]
  },
  {
   "cell_type": "code",
   "execution_count": 28,
   "metadata": {
    "ExecuteTime": {
     "end_time": "2020-03-13T00:45:52.906000Z",
     "start_time": "2020-03-13T00:44:45.137Z"
    }
   },
   "outputs": [
    {
     "data": {
      "text/html": [
       "<table class=\"data-frame\"><thead><tr><th></th><th>var</th><th>value</th></tr><tr><th></th><th>String</th><th>Array…</th></tr></thead><tbody><p>11 rows × 2 columns</p><tr><th>1</th><td>P</td><td>[C*(Rc*ec - Rc - mc)/(ec*(-ep*gp + gp + mp))]</td></tr><tr><th>2</th><td>M</td><td>[]</td></tr><tr><th>3</th><td>C</td><td>[P*ec*(ep*gp - gp - mp)/(-Rc*ec + Rc + mc)]</td></tr><tr><th>4</th><td>gp</td><td>[(-C*Rc*ec + C*Rc + C*mc + P*ec*mp)/(P*ec*(ep - 1))]</td></tr><tr><th>5</th><td>ep</td><td>[(-C*Rc*ec + C*(Rc + mc) + P*ec*gp + P*ec*mp)/(P*ec*gp)]</td></tr><tr><th>6</th><td>Rp</td><td>[]</td></tr><tr><th>7</th><td>mp</td><td>[(C*Rc*ec - C*(Rc + mc) + P*ec*gp*(ep - 1))/(P*ec)]</td></tr><tr><th>8</th><td>gc</td><td>[]</td></tr><tr><th>9</th><td>ec</td><td>[C*(Rc + mc)/(C*Rc + P*ep*gp - P*gp - P*mp)]</td></tr><tr><th>10</th><td>Rc</td><td>[(C*mc - P*ec*ep*gp + P*ec*gp + P*ec*mp)/(C*(ec - 1))]</td></tr><tr><th>11</th><td>mc</td><td>[(C*Rc*(ec - 1) + P*ec*ep*gp - P*ec*gp - P*ec*mp)/C]</td></tr></tbody></table>"
      ],
      "text/latex": [
       "\\begin{tabular}{r|cc}\n",
       "\t& var & value\\\\\n",
       "\t\\hline\n",
       "\t& String & Array…\\\\\n",
       "\t\\hline\n",
       "\t1 & P & [C*(Rc*ec - Rc - mc)/(ec*(-ep*gp + gp + mp))] \\\\\n",
       "\t2 & M & [] \\\\\n",
       "\t3 & C & [P*ec*(ep*gp - gp - mp)/(-Rc*ec + Rc + mc)] \\\\\n",
       "\t4 & gp & [(-C*Rc*ec + C*Rc + C*mc + P*ec*mp)/(P*ec*(ep - 1))] \\\\\n",
       "\t5 & ep & [(-C*Rc*ec + C*(Rc + mc) + P*ec*gp + P*ec*mp)/(P*ec*gp)] \\\\\n",
       "\t6 & Rp & [] \\\\\n",
       "\t7 & mp & [(C*Rc*ec - C*(Rc + mc) + P*ec*gp*(ep - 1))/(P*ec)] \\\\\n",
       "\t8 & gc & [] \\\\\n",
       "\t9 & ec & [C*(Rc + mc)/(C*Rc + P*ep*gp - P*gp - P*mp)] \\\\\n",
       "\t10 & Rc & [(C*mc - P*ec*ep*gp + P*ec*gp + P*ec*mp)/(C*(ec - 1))] \\\\\n",
       "\t11 & mc & [(C*Rc*(ec - 1) + P*ec*ep*gp - P*ec*gp - P*ec*mp)/C] \\\\\n",
       "\\end{tabular}\n"
      ],
      "text/plain": [
       "11×2 DataFrame\n",
       "│ Row │ var    │ value                                                    │\n",
       "│     │ \u001b[90mString\u001b[39m │ \u001b[90mArray{Any,1}\u001b[39m                                             │\n",
       "├─────┼────────┼──────────────────────────────────────────────────────────┤\n",
       "│ 1   │ P      │ [C*(Rc*ec - Rc - mc)/(ec*(-ep*gp + gp + mp))]            │\n",
       "│ 2   │ M      │ []                                                       │\n",
       "│ 3   │ C      │ [P*ec*(ep*gp - gp - mp)/(-Rc*ec + Rc + mc)]              │\n",
       "│ 4   │ gp     │ [(-C*Rc*ec + C*Rc + C*mc + P*ec*mp)/(P*ec*(ep - 1))]     │\n",
       "│ 5   │ ep     │ [(-C*Rc*ec + C*(Rc + mc) + P*ec*gp + P*ec*mp)/(P*ec*gp)] │\n",
       "│ 6   │ Rp     │ []                                                       │\n",
       "│ 7   │ mp     │ [(C*Rc*ec - C*(Rc + mc) + P*ec*gp*(ep - 1))/(P*ec)]      │\n",
       "│ 8   │ gc     │ []                                                       │\n",
       "│ 9   │ ec     │ [C*(Rc + mc)/(C*Rc + P*ep*gp - P*gp - P*mp)]             │\n",
       "│ 10  │ Rc     │ [(C*mc - P*ec*ep*gp + P*ec*gp + P*ec*mp)/(C*(ec - 1))]   │\n",
       "│ 11  │ mc     │ [(C*Rc*(ec - 1) + P*ec*ep*gp - P*ec*gp - P*ec*mp)/C]     │"
      ]
     },
     "execution_count": 28,
     "metadata": {},
     "output_type": "execute_result"
    }
   ],
   "source": [
    "tmp0 = gc_c[1] ## change type back to Sym\n",
    "tmp1 = gc_m[1]\n",
    "tmp = Eq(tmp0, tmp1)\n",
    "DataFrame(\n",
    "    var=[\"P\",\"M\",\"C\",\"gp\",\"ep\",\"Rp\",\"mp\",\"gc\",\"ec\",\"Rc\",\"mc\"],\n",
    "    value=[solve(tmp,P), solve(tmp,M), solve(tmp,C),\n",
    "        solve(tmp,gp), solve(tmp,ep), solve(tmp,Rp), solve(tmp,mp),\n",
    "        solve(tmp,gc), solve(tmp,ec), solve(tmp,Rc), solve(tmp,mc)])"
   ]
  },
  {
   "cell_type": "markdown",
   "metadata": {},
   "source": [
    "### $e_c$: in $dc$ & $dm$\n",
    "#### per equation"
   ]
  },
  {
   "cell_type": "code",
   "execution_count": 29,
   "metadata": {
    "ExecuteTime": {
     "end_time": "2020-03-13T00:45:53.179000Z",
     "start_time": "2020-03-13T00:44:45.627Z"
    }
   },
   "outputs": [
    {
     "data": {
      "text/plain": [
       "(Sym[(Rc + mc)/(M*gc)], Sym[(C*M*gc + C*mc + P*(-ep*gp + gp + mp))/(C*M*gc)])"
      ]
     },
     "execution_count": 29,
     "metadata": {},
     "output_type": "execute_result"
    }
   ],
   "source": [
    "ec_c = solve(c_eqm, ec)\n",
    "ec_m = solve(m_eqm, ec)\n",
    "ec_c, ec_m"
   ]
  },
  {
   "cell_type": "code",
   "execution_count": 30,
   "metadata": {
    "ExecuteTime": {
     "end_time": "2020-03-13T00:45:53.248000Z",
     "start_time": "2020-03-13T00:44:45.631Z"
    }
   },
   "outputs": [
    {
     "data": {
      "text/latex": [
       "\\[ \\left[ \\begin{array}{r}\\frac{Rc + mc}{M gc}\\end{array} \\right] \\]"
      ],
      "text/plain": [
       "1-element Array{Sym,1}:\n",
       " (Rc + mc)/(M*gc)"
      ]
     },
     "execution_count": 30,
     "metadata": {},
     "output_type": "execute_result"
    }
   ],
   "source": [
    "ec_c"
   ]
  },
  {
   "cell_type": "code",
   "execution_count": 31,
   "metadata": {
    "ExecuteTime": {
     "end_time": "2020-03-13T00:45:53.287000Z",
     "start_time": "2020-03-13T00:44:45.635Z"
    }
   },
   "outputs": [
    {
     "data": {
      "text/latex": [
       "\\[ \\left[ \\begin{array}{r}\\frac{C M gc + C mc + P \\left(- ep gp + gp + mp\\right)}{C M gc}\\end{array} \\right] \\]"
      ],
      "text/plain": [
       "1-element Array{Sym,1}:\n",
       " (C*M*gc + C*mc + P*(-ep*gp + gp + mp))/(C*M*gc)"
      ]
     },
     "execution_count": 31,
     "metadata": {},
     "output_type": "execute_result"
    }
   ],
   "source": [
    "ec_m"
   ]
  },
  {
   "cell_type": "markdown",
   "metadata": {},
   "source": [
    "#### when per equation values equal"
   ]
  },
  {
   "cell_type": "code",
   "execution_count": 32,
   "metadata": {
    "ExecuteTime": {
     "end_time": "2020-03-13T00:45:55.491000Z",
     "start_time": "2020-03-13T00:44:46.137Z"
    }
   },
   "outputs": [
    {
     "data": {
      "text/html": [
       "<table class=\"data-frame\"><thead><tr><th></th><th>var</th><th>value</th></tr><tr><th></th><th>String</th><th>Array…</th></tr></thead><tbody><p>11 rows × 2 columns</p><tr><th>1</th><td>P</td><td>[C*(-M*gc + Rc)/(-ep*gp + gp + mp)]</td></tr><tr><th>2</th><td>M</td><td>[(C*Rc + P*ep*gp - P*gp - P*mp)/(C*gc)]</td></tr><tr><th>3</th><td>C</td><td>[P*(ep*gp - gp - mp)/(M*gc - Rc)]</td></tr><tr><th>4</th><td>gp</td><td>[(C*M*gc - C*Rc + P*mp)/(P*(ep - 1))]</td></tr><tr><th>5</th><td>ep</td><td>[(C*(M*gc - Rc) + P*gp + P*mp)/(P*gp)]</td></tr><tr><th>6</th><td>Rp</td><td>[]</td></tr><tr><th>7</th><td>mp</td><td>[(-C*M*gc + C*Rc + P*gp*(ep - 1))/P]</td></tr><tr><th>8</th><td>gc</td><td>[(C*Rc + P*ep*gp - P*gp - P*mp)/(C*M)]</td></tr><tr><th>9</th><td>ec</td><td>[]</td></tr><tr><th>10</th><td>Rc</td><td>[(C*M*gc - P*ep*gp + P*gp + P*mp)/C]</td></tr><tr><th>11</th><td>mc</td><td>[]</td></tr></tbody></table>"
      ],
      "text/latex": [
       "\\begin{tabular}{r|cc}\n",
       "\t& var & value\\\\\n",
       "\t\\hline\n",
       "\t& String & Array…\\\\\n",
       "\t\\hline\n",
       "\t1 & P & [C*(-M*gc + Rc)/(-ep*gp + gp + mp)] \\\\\n",
       "\t2 & M & [(C*Rc + P*ep*gp - P*gp - P*mp)/(C*gc)] \\\\\n",
       "\t3 & C & [P*(ep*gp - gp - mp)/(M*gc - Rc)] \\\\\n",
       "\t4 & gp & [(C*M*gc - C*Rc + P*mp)/(P*(ep - 1))] \\\\\n",
       "\t5 & ep & [(C*(M*gc - Rc) + P*gp + P*mp)/(P*gp)] \\\\\n",
       "\t6 & Rp & [] \\\\\n",
       "\t7 & mp & [(-C*M*gc + C*Rc + P*gp*(ep - 1))/P] \\\\\n",
       "\t8 & gc & [(C*Rc + P*ep*gp - P*gp - P*mp)/(C*M)] \\\\\n",
       "\t9 & ec & [] \\\\\n",
       "\t10 & Rc & [(C*M*gc - P*ep*gp + P*gp + P*mp)/C] \\\\\n",
       "\t11 & mc & [] \\\\\n",
       "\\end{tabular}\n"
      ],
      "text/plain": [
       "11×2 DataFrame\n",
       "│ Row │ var    │ value                                   │\n",
       "│     │ \u001b[90mString\u001b[39m │ \u001b[90mArray{Any,1}\u001b[39m                            │\n",
       "├─────┼────────┼─────────────────────────────────────────┤\n",
       "│ 1   │ P      │ [C*(-M*gc + Rc)/(-ep*gp + gp + mp)]     │\n",
       "│ 2   │ M      │ [(C*Rc + P*ep*gp - P*gp - P*mp)/(C*gc)] │\n",
       "│ 3   │ C      │ [P*(ep*gp - gp - mp)/(M*gc - Rc)]       │\n",
       "│ 4   │ gp     │ [(C*M*gc - C*Rc + P*mp)/(P*(ep - 1))]   │\n",
       "│ 5   │ ep     │ [(C*(M*gc - Rc) + P*gp + P*mp)/(P*gp)]  │\n",
       "│ 6   │ Rp     │ []                                      │\n",
       "│ 7   │ mp     │ [(-C*M*gc + C*Rc + P*gp*(ep - 1))/P]    │\n",
       "│ 8   │ gc     │ [(C*Rc + P*ep*gp - P*gp - P*mp)/(C*M)]  │\n",
       "│ 9   │ ec     │ []                                      │\n",
       "│ 10  │ Rc     │ [(C*M*gc - P*ep*gp + P*gp + P*mp)/C]    │\n",
       "│ 11  │ mc     │ []                                      │"
      ]
     },
     "execution_count": 32,
     "metadata": {},
     "output_type": "execute_result"
    }
   ],
   "source": [
    "tmp0 = ec_c[1] ## change type back to Sym\n",
    "tmp1 = ec_m[1]\n",
    "tmp = Eq(tmp0, tmp1)\n",
    "DataFrame(\n",
    "    var=[\"P\",\"M\",\"C\",\"gp\",\"ep\",\"Rp\",\"mp\",\"gc\",\"ec\",\"Rc\",\"mc\"],\n",
    "    value=[solve(tmp,P), solve(tmp,M), solve(tmp,C),\n",
    "        solve(tmp,gp), solve(tmp,ep), solve(tmp,Rp), solve(tmp,mp),\n",
    "        solve(tmp,gc), solve(tmp,ec), solve(tmp,Rc), solve(tmp,mc)])"
   ]
  },
  {
   "cell_type": "markdown",
   "metadata": {},
   "source": [
    "### $R_c$: in $dc$"
   ]
  },
  {
   "cell_type": "code",
   "execution_count": 33,
   "metadata": {
    "ExecuteTime": {
     "end_time": "2020-03-13T00:45:55.573000Z",
     "start_time": "2020-03-13T00:44:46.634Z"
    }
   },
   "outputs": [
    {
     "data": {
      "text/latex": [
       "\\[ \\left[ \\begin{array}{r}M ec gc - mc\\end{array} \\right] \\]"
      ],
      "text/plain": [
       "1-element Array{Sym,1}:\n",
       " M*ec*gc - mc"
      ]
     },
     "execution_count": 33,
     "metadata": {},
     "output_type": "execute_result"
    }
   ],
   "source": [
    "rc_c = solve(c_eqm, Rc)\n",
    "rc_c"
   ]
  },
  {
   "cell_type": "markdown",
   "metadata": {},
   "source": [
    "### $m_c$: in $dc$ & $dm$\n",
    "#### per equation"
   ]
  },
  {
   "cell_type": "code",
   "execution_count": 34,
   "metadata": {
    "ExecuteTime": {
     "end_time": "2020-03-13T00:45:55.774000Z",
     "start_time": "2020-03-13T00:44:47.114Z"
    }
   },
   "outputs": [
    {
     "data": {
      "text/plain": [
       "(Sym[M*ec*gc - Rc], Sym[(C*M*gc*(ec - 1) + P*ep*gp - P*gp - P*mp)/C])"
      ]
     },
     "execution_count": 34,
     "metadata": {},
     "output_type": "execute_result"
    }
   ],
   "source": [
    "mc_c = solve(c_eqm, mc)\n",
    "mc_m = solve(m_eqm, mc)\n",
    "mc_c, mc_m"
   ]
  },
  {
   "cell_type": "code",
   "execution_count": 35,
   "metadata": {
    "ExecuteTime": {
     "end_time": "2020-03-13T00:45:55.791000Z",
     "start_time": "2020-03-13T00:44:47.118Z"
    }
   },
   "outputs": [
    {
     "data": {
      "text/latex": [
       "\\[ \\left[ \\begin{array}{r}M ec gc - Rc\\end{array} \\right] \\]"
      ],
      "text/plain": [
       "1-element Array{Sym,1}:\n",
       " M*ec*gc - Rc"
      ]
     },
     "execution_count": 35,
     "metadata": {},
     "output_type": "execute_result"
    }
   ],
   "source": [
    "mc_c"
   ]
  },
  {
   "cell_type": "code",
   "execution_count": 36,
   "metadata": {
    "ExecuteTime": {
     "end_time": "2020-03-13T00:45:55.814000Z",
     "start_time": "2020-03-13T00:44:47.122Z"
    }
   },
   "outputs": [
    {
     "data": {
      "text/latex": [
       "\\[ \\left[ \\begin{array}{r}\\frac{C M gc \\left(ec - 1\\right) + P ep gp - P gp - P mp}{C}\\end{array} \\right] \\]"
      ],
      "text/plain": [
       "1-element Array{Sym,1}:\n",
       " (C*M*gc*(ec - 1) + P*ep*gp - P*gp - P*mp)/C"
      ]
     },
     "execution_count": 36,
     "metadata": {},
     "output_type": "execute_result"
    }
   ],
   "source": [
    "mc_m"
   ]
  },
  {
   "cell_type": "markdown",
   "metadata": {},
   "source": [
    "#### when per equation values equal"
   ]
  },
  {
   "cell_type": "code",
   "execution_count": 37,
   "metadata": {
    "ExecuteTime": {
     "end_time": "2020-03-13T00:45:57.599000Z",
     "start_time": "2020-03-13T00:44:47.608Z"
    },
    "scrolled": true
   },
   "outputs": [
    {
     "data": {
      "text/html": [
       "<table class=\"data-frame\"><thead><tr><th></th><th>var</th><th>value</th></tr><tr><th></th><th>String</th><th>Array…</th></tr></thead><tbody><p>11 rows × 2 columns</p><tr><th>1</th><td>P</td><td>[C*(-M*gc + Rc)/(-ep*gp + gp + mp)]</td></tr><tr><th>2</th><td>M</td><td>[(C*Rc + P*(ep*gp - gp - mp))/(C*gc)]</td></tr><tr><th>3</th><td>C</td><td>[P*(ep*gp - gp - mp)/(M*gc - Rc)]</td></tr><tr><th>4</th><td>gp</td><td>[(C*M*gc - C*Rc + P*mp)/(P*(ep - 1))]</td></tr><tr><th>5</th><td>ep</td><td>[(C*(M*gc - Rc) + P*gp + P*mp)/(P*gp)]</td></tr><tr><th>6</th><td>Rp</td><td>[]</td></tr><tr><th>7</th><td>mp</td><td>[(-C*M*gc + C*Rc + P*gp*(ep - 1))/P]</td></tr><tr><th>8</th><td>gc</td><td>[(C*Rc + P*(ep*gp - gp - mp))/(C*M)]</td></tr><tr><th>9</th><td>ec</td><td>[]</td></tr><tr><th>10</th><td>Rc</td><td>[(C*M*gc - P*ep*gp + P*gp + P*mp)/C]</td></tr><tr><th>11</th><td>mc</td><td>[]</td></tr></tbody></table>"
      ],
      "text/latex": [
       "\\begin{tabular}{r|cc}\n",
       "\t& var & value\\\\\n",
       "\t\\hline\n",
       "\t& String & Array…\\\\\n",
       "\t\\hline\n",
       "\t1 & P & [C*(-M*gc + Rc)/(-ep*gp + gp + mp)] \\\\\n",
       "\t2 & M & [(C*Rc + P*(ep*gp - gp - mp))/(C*gc)] \\\\\n",
       "\t3 & C & [P*(ep*gp - gp - mp)/(M*gc - Rc)] \\\\\n",
       "\t4 & gp & [(C*M*gc - C*Rc + P*mp)/(P*(ep - 1))] \\\\\n",
       "\t5 & ep & [(C*(M*gc - Rc) + P*gp + P*mp)/(P*gp)] \\\\\n",
       "\t6 & Rp & [] \\\\\n",
       "\t7 & mp & [(-C*M*gc + C*Rc + P*gp*(ep - 1))/P] \\\\\n",
       "\t8 & gc & [(C*Rc + P*(ep*gp - gp - mp))/(C*M)] \\\\\n",
       "\t9 & ec & [] \\\\\n",
       "\t10 & Rc & [(C*M*gc - P*ep*gp + P*gp + P*mp)/C] \\\\\n",
       "\t11 & mc & [] \\\\\n",
       "\\end{tabular}\n"
      ],
      "text/plain": [
       "11×2 DataFrame\n",
       "│ Row │ var    │ value                                  │\n",
       "│     │ \u001b[90mString\u001b[39m │ \u001b[90mArray{Any,1}\u001b[39m                           │\n",
       "├─────┼────────┼────────────────────────────────────────┤\n",
       "│ 1   │ P      │ [C*(-M*gc + Rc)/(-ep*gp + gp + mp)]    │\n",
       "│ 2   │ M      │ [(C*Rc + P*(ep*gp - gp - mp))/(C*gc)]  │\n",
       "│ 3   │ C      │ [P*(ep*gp - gp - mp)/(M*gc - Rc)]      │\n",
       "│ 4   │ gp     │ [(C*M*gc - C*Rc + P*mp)/(P*(ep - 1))]  │\n",
       "│ 5   │ ep     │ [(C*(M*gc - Rc) + P*gp + P*mp)/(P*gp)] │\n",
       "│ 6   │ Rp     │ []                                     │\n",
       "│ 7   │ mp     │ [(-C*M*gc + C*Rc + P*gp*(ep - 1))/P]   │\n",
       "│ 8   │ gc     │ [(C*Rc + P*(ep*gp - gp - mp))/(C*M)]   │\n",
       "│ 9   │ ec     │ []                                     │\n",
       "│ 10  │ Rc     │ [(C*M*gc - P*ep*gp + P*gp + P*mp)/C]   │\n",
       "│ 11  │ mc     │ []                                     │"
      ]
     },
     "execution_count": 37,
     "metadata": {},
     "output_type": "execute_result"
    }
   ],
   "source": [
    "tmp0 = mc_c[1] ## change type back to Sym\n",
    "tmp1 = mc_m[1]\n",
    "tmp = Eq(tmp0, tmp1)\n",
    "DataFrame(\n",
    "    var=[\"P\",\"M\",\"C\",\"gp\",\"ep\",\"Rp\",\"mp\",\"gc\",\"ec\",\"Rc\",\"mc\"],\n",
    "    value=[solve(tmp,P), solve(tmp,M), solve(tmp,C),\n",
    "        solve(tmp,gp), solve(tmp,ep), solve(tmp,Rp), solve(tmp,mp),\n",
    "        solve(tmp,gc), solve(tmp,ec), solve(tmp,Rc), solve(tmp,mc)])"
   ]
  },
  {
   "cell_type": "markdown",
   "metadata": {},
   "source": [
    "# solve all parameters in one go\n",
    "summary: there's no co-existence equilibrium position"
   ]
  },
  {
   "cell_type": "code",
   "execution_count": 38,
   "metadata": {
    "ExecuteTime": {
     "end_time": "2020-03-13T00:46:12.813000Z",
     "start_time": "2020-03-13T00:44:48.103Z"
    }
   },
   "outputs": [
    {
     "data": {
      "text/plain": [
       "3-element Array{NTuple{11,Sym},1}:\n",
       " (0, mc/(gc*(ec - 1)), C, gp, ep, Rp, mp, gc, ec, mc/(ec - 1), mc)                                        \n",
       " (P, M, 0, gp, (gp + mp)/gp, gp, mp, gc, ec, Rc, mc)                                                      \n",
       " (P, (Rc + mc)/(ec*gc), -P*ec*(ep*gp - gp - mp)/(Rc*ec - Rc - mc), gp, ep, ep*gp - mp, mp, gc, ec, Rc, mc)"
      ]
     },
     "execution_count": 38,
     "metadata": {},
     "output_type": "execute_result"
    }
   ],
   "source": [
    "solve([p_eqm, m_eqm, c_eqm],\n",
    "    [P,M,C, gp,ep,Rp,mp, gc,ec,Rc,mc])"
   ]
  }
 ],
 "metadata": {
  "kernelspec": {
   "display_name": "Julia 1.3.1",
   "language": "julia",
   "name": "julia-1.3"
  },
  "language_info": {
   "file_extension": ".jl",
   "mimetype": "application/julia",
   "name": "julia",
   "version": "1.3.1"
  },
  "latex_envs": {
   "LaTeX_envs_menu_present": true,
   "autoclose": true,
   "autocomplete": true,
   "bibliofile": "biblio.bib",
   "cite_by": "apalike",
   "current_citInitial": 1,
   "eqLabelWithNumbers": true,
   "eqNumInitial": 1,
   "hotkeys": {
    "equation": "Ctrl-E",
    "itemize": "Ctrl-I"
   },
   "labels_anchors": false,
   "latex_user_defs": false,
   "report_style_numbering": true,
   "user_envs_cfg": true
  },
  "toc": {
   "base_numbering": 1,
   "nav_menu": {},
   "number_sections": true,
   "sideBar": true,
   "skip_h1_title": false,
   "title_cell": "Table of Contents",
   "title_sidebar": "Contents",
   "toc_cell": true,
   "toc_position": {},
   "toc_section_display": true,
   "toc_window_display": true
  },
  "varInspector": {
   "cols": {
    "lenName": 16,
    "lenType": 16,
    "lenVar": 40
   },
   "kernels_config": {
    "python": {
     "delete_cmd_postfix": "",
     "delete_cmd_prefix": "del ",
     "library": "var_list.py",
     "varRefreshCmd": "print(var_dic_list())"
    },
    "r": {
     "delete_cmd_postfix": ") ",
     "delete_cmd_prefix": "rm(",
     "library": "var_list.r",
     "varRefreshCmd": "cat(var_dic_list()) "
    }
   },
   "types_to_exclude": [
    "module",
    "function",
    "builtin_function_or_method",
    "instance",
    "_Feature"
   ],
   "window_display": true
  }
 },
 "nbformat": 4,
 "nbformat_minor": 4
}
