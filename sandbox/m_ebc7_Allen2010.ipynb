{
 "cells": [
  {
   "cell_type": "markdown",
   "metadata": {
    "toc": true
   },
   "source": [
    "<h1>Table of Contents<span class=\"tocSkip\"></span></h1>\n",
    "<div class=\"toc\"><ul class=\"toc-item\"><li><span><a href=\"#Equations-from-a-reference-paper\" data-toc-modified-id=\"Equations-from-a-reference-paper-1\"><span class=\"toc-item-num\">1&nbsp;&nbsp;</span>Equations from a reference paper</a></span><ul class=\"toc-item\"><li><span><a href=\"#gross-primary-productivity-(GPP)\" data-toc-modified-id=\"gross-primary-productivity-(GPP)-1.1\"><span class=\"toc-item-num\">1.1&nbsp;&nbsp;</span>gross primary productivity (GPP)</a></span></li><li><span><a href=\"#Net-primary-productivity-(NPP)\" data-toc-modified-id=\"Net-primary-productivity-(NPP)-1.2\"><span class=\"toc-item-num\">1.2&nbsp;&nbsp;</span>Net primary productivity (NPP)</a></span></li><li><span><a href=\"#heterotroph-respiration-(HR)\" data-toc-modified-id=\"heterotroph-respiration-(HR)-1.3\"><span class=\"toc-item-num\">1.3&nbsp;&nbsp;</span>heterotroph respiration (HR)</a></span></li><li><span><a href=\"#ecosystem-respiration-(ER)\" data-toc-modified-id=\"ecosystem-respiration-(ER)-1.4\"><span class=\"toc-item-num\">1.4&nbsp;&nbsp;</span>ecosystem respiration (ER)</a></span></li><li><span><a href=\"#ecosystem-carbon-sequestration-ability-/-metabolic-balance\" data-toc-modified-id=\"ecosystem-carbon-sequestration-ability-/-metabolic-balance-1.5\"><span class=\"toc-item-num\">1.5&nbsp;&nbsp;</span>ecosystem carbon sequestration ability / metabolic balance</a></span></li></ul></li><li><span><a href=\"#Model-adaptation\" data-toc-modified-id=\"Model-adaptation-2\"><span class=\"toc-item-num\">2&nbsp;&nbsp;</span>Model adaptation</a></span><ul class=\"toc-item\"><li><span><a href=\"#assumptions\" data-toc-modified-id=\"assumptions-2.1\"><span class=\"toc-item-num\">2.1&nbsp;&nbsp;</span>assumptions</a></span></li><li><span><a href=\"#visualization\" data-toc-modified-id=\"visualization-2.2\"><span class=\"toc-item-num\">2.2&nbsp;&nbsp;</span>visualization</a></span></li><li><span><a href=\"#equations\" data-toc-modified-id=\"equations-2.3\"><span class=\"toc-item-num\">2.3&nbsp;&nbsp;</span>equations</a></span></li><li><span><a href=\"#term-justifications\" data-toc-modified-id=\"term-justifications-2.4\"><span class=\"toc-item-num\">2.4&nbsp;&nbsp;</span>term justifications</a></span></li></ul></li><li><span><a href=\"#model-eqm\" data-toc-modified-id=\"model-eqm-3\"><span class=\"toc-item-num\">3&nbsp;&nbsp;</span>model eqm</a></span></li></ul></div>"
   ]
  },
  {
   "cell_type": "markdown",
   "metadata": {},
   "source": [
    "# Equations from a reference paper\n",
    "[Allen et al, 2010](https://www.sciencedirect.com/science/article/pii/B9780123850058000071): phytoplankton + heterotroph + methanogens"
   ]
  },
  {
   "cell_type": "markdown",
   "metadata": {},
   "source": [
    "## gross primary productivity (GPP)\n",
    "\\begin{equation*}\n",
    "GPP = P_0e^{-E_P/kT}\\dfrac{\\sum_{p=1}^{N_P}M_p^{0.75}}{V}\n",
    "\\end{equation*}\n",
    "term | unit | suggested value | meaning\n",
    "--- | --- | --- | ---\n",
    "GPP | gC sec$^{-1}$ | NA | gross primary productivity\n",
    "$P_0$ | sec$^{-1}$ | NA | phytoplankton normalization constant\n",
    "$E_P$ | eV | 0.45 | activation energy of photosynthesis, i.e. RUBISCO enzyme; if assume C$_3$ plants: 0.32 (Allen et al, 2005)\n",
    "$k$ | eV K$^{-1}$ | $8.62\\cdot10^{-5}$ | Boltzmann's constant\n",
    "$T$ | K | NA | temperature\n",
    "$N_P$ | NA | NA | phytoplankton population / lineage number\n",
    "$M_p$ | gC m$^{-3}$ | NA | instantaneous phytoplankton biomass per unit volume\n",
    "$V$ | m$^3$ | NA | volume"
   ]
  },
  {
   "cell_type": "markdown",
   "metadata": {},
   "source": [
    "## Net primary productivity (NPP)\n",
    "\\begin{align*}\n",
    "NPP = GPP - AR &= \\varepsilon GPP\\text{ ; which $AR$ = autotroph respiration}\\\\\n",
    "&= \\varepsilon P_0e^{-E_P/kT}\\dfrac{\\sum_{p=1}^{N_P}M_p^{0.75}}{V}\n",
    "\\end{align*}\n",
    "term | unit | suggested value | meaning\n",
    "--- | --- | --- | ---\n",
    "$\\varepsilon$ | no | NA | fraction of carbon (grams) incorporated into organic carbon"
   ]
  },
  {
   "cell_type": "markdown",
   "metadata": {},
   "source": [
    "## heterotroph respiration (HR)\n",
    "\\begin{equation*}\n",
    "HR = R_0e^{-E_R/kT}\\dfrac{\\sum_{R=1}^{N_R}M_R^{0.75}}{V}\n",
    "\\end{equation*}\n",
    "term | unit | suggested value | meaning\n",
    "--- | --- | --- | ---\n",
    "HR | gC sec$^{-1}$ | NA | Heterotroph respiration\n",
    "$R_0$ | sec$^{-1}$ | NA | heterotroph normalization constant\n",
    "$E_R$ | eV | 0.65 | activation energy of respiration\n",
    "$N_R$ | NA | NA | heterotroph population / lineage number\n",
    "$M_R$ | gC m$^{-3}$ | NA | instantaneous heterotroph biomass per unit volume"
   ]
  },
  {
   "cell_type": "markdown",
   "metadata": {},
   "source": [
    "## ecosystem respiration (ER)\n",
    "\\begin{align*}\n",
    "ER = HR + AR &= R_0e^{-E_R/kT}\\dfrac{\\sum_{R=1}^{N_R}M_R^{0.75}}{V} + (1-\\varepsilon) P_0e^{-E_P/kT}\\dfrac{\\sum_{p=1}^{N_P}M_p^{0.75}}{V}\\\\\n",
    "&= \\dfrac{1}{Ve^{1/kT}}\\Big(R_0e^{E_R}\\sum_{R=1}^{N_R}M_R^{0.75} + (1-\\varepsilon) P_0e^{E_P}\\sum_{P=1}^{N_P}M_P^{0.75}\\Big)\n",
    "\\end{align*}\n",
    "term | unit | suggested value | meaning\n",
    "--- | --- | --- | ---\n",
    "$ER$ | gC sec$^{-1}$ | NA | respiration total from environment"
   ]
  },
  {
   "cell_type": "markdown",
   "metadata": {},
   "source": [
    "## ecosystem carbon sequestration ability / metabolic balance\n",
    "\\begin{align*}\n",
    "ER/GPP &= \\dfrac{1}{Ve^{1/kT}}\\Big(R_0e^{E_R}\\sum_{R=1}^{N_R}M_R^{0.75} + (1-\\varepsilon) P_0e^{E_P}\\sum_{P=1}^{N_P}M_P^{0.75}\\Big)\\cdot\\dfrac{Ve^{E_P/kT}}{P_0\\sum_{p=1}^{N_P}M_p^{0.75}}\\\\\n",
    "&= \\dfrac{[R_0e^{E_R}\\sum_{R=1}^{N_R}M_R^{0.75} + (1-\\varepsilon) P_0e^{E_P}\\sum_{P=1}^{N_P}M_P^{0.75}]e^{E_P}}{P_0\\sum_{p=1}^{N_P}M_p^{0.75}}\\\\\n",
    "&= \\dfrac{R_0e^{E_P+E_R}\\sum_{R=1}^{N_R}M_R^{0.75}}{P_0\\sum_{p=1}^{N_P}M_p^{0.75}} + (1-\\varepsilon)e^{2E_P}\n",
    "\\end{align*}"
   ]
  },
  {
   "cell_type": "markdown",
   "metadata": {},
   "source": [
    "# Model adaptation\n",
    "Players | term included | meaning | +/- [equation]\n",
    "--- | --- | --- | ---\n",
    "P | $\\varepsilon_PNPP$ | net primary productivity into biomass (respiration included) | + [P]\n",
    "C,P | $(1-\\varepsilon_P)NPP$ | net primary productivity leaked | + [C]; - [P]\n",
    "C,P | $a_PP$ | intraspecific interference kill | + [C]; - [P]\n",
    "C,P | $m_PP$ | biomass death | + [C]; - [P]\n",
    "C | HR | heterotroph respiration | - [C]\n",
    "C,B | $\\varepsilon_{B}[C]$ | from carbon pool into biomass | - [C]; + [B]\n",
    "C,B | $m_BB$ | biomass death | + [C]; - [B]"
   ]
  },
  {
   "cell_type": "markdown",
   "metadata": {},
   "source": [
    "## assumptions\n",
    "1. SI unit volume system considered (1 m$^3$): i.e. V =1\n",
    "2. individuals of phytoplankton & bacteria lineage have same metabolic rate: i.e. $\\sum_{i=1}^{N_i}M_i^{0.75}\\rightarrow N_iM_i^{0.75}$"
   ]
  },
  {
   "cell_type": "markdown",
   "metadata": {},
   "source": [
    "## visualization\n",
    "![](graph/ebc7.png)"
   ]
  },
  {
   "cell_type": "markdown",
   "metadata": {},
   "source": [
    "## equations\n",
    "\\begin{equation}\\left\\{\\begin{array}{rl}\n",
    "C'(t) &= (1-\\varepsilon_P)\\varepsilon_{PR}P_0e^{-E_P/kT}P^{0.75} +a_PP^2 -B_0e^{-E_B/kT}B^{0.75} -g_B\\varepsilon_{B}CB +m_BB\\\\\n",
    "P'(t) &= \\varepsilon_P\\varepsilon_{PR}P_0e^{-E_P/kT}P^{0.75} -a_PP^2\\\\\n",
    "B'(t) &= g_B\\varepsilon_{B}CB -m_BB\n",
    "\\end{array}\\right.\\end{equation}"
   ]
  },
  {
   "cell_type": "markdown",
   "metadata": {},
   "source": [
    "term | unit | suggested value | meaning\n",
    "--- | --- | --- | ---\n",
    "C | gC m$^{-3}$ | // | density of organic carbon\n",
    "P | gC m$^{-3}$ | // | density of phytoplanktonic biomass carbon\n",
    "B | gC m$^{-3}$ | // | density of detritivorous biomass carbon\n",
    "$\\varepsilon_P$ | no | data | absorption efficiency to biomass from leakage in phytoplankton\n",
    "$\\varepsilon_B$ | no | data | incorporation efficiency to biomass in detritivores\n",
    "$\\varepsilon_{PR}$ | no | 1-AR/GPP | fraction of C not respired inside phytoplankton cell, not into the system\n",
    "$P_0$ | sec$^{-1}$ | data | primary productivity normalization constant\n",
    "$B_0$ | sec$^{-1}$ | data | detritivore respiration normalization constant\n",
    "$E_P$ | eV | 0.45 | activation energy of photosynthesis, empirical measurement from [Allen et al, 2010](https://www.sciencedirect.com/science/article/pii/B9780123850058000071)\n",
    "$E_B$ | eV | 0.65 | activation energy of respiration, empirical measurement from [Allen et al, 2010](https://www.sciencedirect.com/science/article/pii/B9780123850058000071)\n",
    "$k$ | eV K$^{-1}$ | $8.62\\cdot10^{-5}$ | Boltzmann's constant\n",
    "$T$ | K | NA | temperature\n",
    "$a_P$ | m$^3$/(gC sec) | data | rate of phytoplankton intraspecific interference per gram C per unit volume\n",
    "$g_B$ | m$^3$/(gC sec) | data | rate of detritivore incorporation per gram C per unit volume\n",
    "$m_B$ | sec$^{-1}$ | data | death rate of detritivore"
   ]
  },
  {
   "cell_type": "markdown",
   "metadata": {},
   "source": [
    "## term justifications\n",
    "1. Implicitly addressed phytoplanktonic respiration because this respired fraction has never actually go into this CPB model system; the implicit term embedded into $\\varepsilon_{PR}$ variable\n",
    "0. within fraction of CO$_2$ incorporated as organic carbon (org-C), some fraction was leaked out (1-$\\varepsilon_P$) as dissolved org-C (DOC); the others remain\n",
    "0. according to \"Metabolic Theory of Ecology\" (MTE), metabolism is correlated to biomass by a default scaling factor of 0.75\n",
    "0. $a_P$ is intraspecific interference: triggered when population interacts with itself, causing death in both parties\n",
    "0. $g_B\\varepsilon_BCB$ is describing a similar situation as the interference, except it is between org-C and detritivores.  There's an encounter rate ($g_B$) and fraction of encountered pair is incoporated into detritivore biomass ($\\varepsilon_B$)\n",
    "0. $m_B$ is a density-independent death rate of detritivore, assuming detritivores never can achieve the density-hindrance stage"
   ]
  },
  {
   "cell_type": "markdown",
   "metadata": {},
   "source": [
    "# model eqm"
   ]
  },
  {
   "cell_type": "code",
   "execution_count": 1,
   "metadata": {
    "ExecuteTime": {
     "end_time": "2020-03-23T23:45:14.565000Z",
     "start_time": "2020-03-23T23:45:01.851Z"
    }
   },
   "outputs": [
    {
     "name": "stdout",
     "output_type": "stream",
     "text": [
      "\n"
     ]
    }
   ],
   "source": [
    "using PyCall, DataFrames, SymPy\n",
    "mt = pyimport(\"math\")\n",
    "sc = pyimport(\"scipy\")\n",
    "cst = pyimport(\"scipy.constants\")\n",
    "sympy.init_printing() ## use other py3 function not implemented in native Julia-lang, http://mth229.github.io/symbolic.html\n",
    "println()"
   ]
  },
  {
   "cell_type": "code",
   "execution_count": 2,
   "metadata": {
    "ExecuteTime": {
     "end_time": "2020-03-23T23:45:20.081000Z",
     "start_time": "2020-03-23T23:45:01.858Z"
    }
   },
   "outputs": [
    {
     "data": {
      "text/plain": [
       "(k, E_P, E_B, x, T, e_P, e_S, P_0, a_P, B_0, g_B, e_B, m_B)"
      ]
     },
     "execution_count": 2,
     "metadata": {},
     "output_type": "execute_result"
    }
   ],
   "source": [
    "@vars C P B\n",
    "k,E_P,E_B,x,T, e_P,e_S,P_0,a_P, B_0,g_B,e_B,m_B = symbols(\"k E_P E_B x T e_P e_S P_0 a_P B_0 g_B e_B m_B\")\n",
    "# k = 8.62e-5\n",
    "# E_P = .45\n",
    "# E_B = .65\n",
    "# x = .75"
   ]
  },
  {
   "cell_type": "code",
   "execution_count": 3,
   "metadata": {
    "ExecuteTime": {
     "end_time": "2020-03-23T23:45:21.277000Z",
     "start_time": "2020-03-23T23:45:01.865Z"
    },
    "scrolled": true
   },
   "outputs": [
    {
     "data": {
      "text/latex": [
       "\\begin{equation*}B C e_{B} g_{B} - B m_{B}\\end{equation*}"
      ],
      "text/plain": [
       "B⋅C⋅e_B⋅g_B - B⋅m_B"
      ]
     },
     "execution_count": 3,
     "metadata": {},
     "output_type": "execute_result"
    }
   ],
   "source": [
    "Ct = (1-e_P)*e_S*P_0*exp(-E_P/(k*T))*P^x +a_P*P^2 -B_0*exp(-E_B/(k*T))*B^x -g_B*e_B*C*B +m_B*B\n",
    "Pt = e_P*e_S*P_0*exp(-E_P/(k*T))*P^x -a_P*P^2\n",
    "Bt = g_B*e_B*C*B -m_B*B"
   ]
  },
  {
   "cell_type": "code",
   "execution_count": 4,
   "metadata": {
    "ExecuteTime": {
     "end_time": "2020-03-23T23:45:21.426000Z",
     "start_time": "2020-03-23T23:45:01.873Z"
    }
   },
   "outputs": [
    {
     "data": {
      "text/latex": [
       "\\begin{equation*}- B C e_{B} g_{B} + B m_{B} - B^{x} B_{0} e^{- \\frac{E_{B}}{T k}} + P^{2} a_{P} + P^{x} P_{0} e_{S} \\left(1 - e_{P}\\right) e^{- \\frac{E_{P}}{T k}} = 0\\end{equation*}"
      ],
      "text/plain": [
       "                              -E_B                                  -E_P     \n",
       "                              ─────                                 ─────    \n",
       "                        x      T⋅k     2        x                    T⋅k     \n",
       "-B⋅C⋅e_B⋅g_B + B⋅m_B - B ⋅B₀⋅ℯ      + P ⋅a_P + P ⋅P₀⋅e_S⋅(1 - e_P)⋅ℯ      = 0"
      ]
     },
     "execution_count": 4,
     "metadata": {},
     "output_type": "execute_result"
    }
   ],
   "source": [
    "Eq(Ct,0)"
   ]
  },
  {
   "cell_type": "code",
   "execution_count": 5,
   "metadata": {
    "ExecuteTime": {
     "end_time": "2020-03-23T23:45:21.448000Z",
     "start_time": "2020-03-23T23:45:01.879Z"
    }
   },
   "outputs": [
    {
     "data": {
      "text/latex": [
       "\\begin{equation*}- P^{2} a_{P} + P^{x} P_{0} e_{P} e_{S} e^{- \\frac{E_{P}}{T k}} = 0\\end{equation*}"
      ],
      "text/plain": [
       "                          -E_P     \n",
       "                          ─────    \n",
       "   2        x              T⋅k     \n",
       "- P ⋅a_P + P ⋅P₀⋅e_P⋅e_S⋅ℯ      = 0"
      ]
     },
     "execution_count": 5,
     "metadata": {},
     "output_type": "execute_result"
    }
   ],
   "source": [
    "Eq(Pt,0)"
   ]
  },
  {
   "cell_type": "code",
   "execution_count": 6,
   "metadata": {
    "ExecuteTime": {
     "end_time": "2020-03-23T23:45:21.461000Z",
     "start_time": "2020-03-23T23:45:01.884Z"
    }
   },
   "outputs": [
    {
     "data": {
      "text/latex": [
       "\\begin{equation*}B C e_{B} g_{B} - B m_{B} = 0\\end{equation*}"
      ],
      "text/plain": [
       "B⋅C⋅e_B⋅g_B - B⋅m_B = 0"
      ]
     },
     "execution_count": 6,
     "metadata": {},
     "output_type": "execute_result"
    }
   ],
   "source": [
    "Eq(Bt,0)"
   ]
  },
  {
   "cell_type": "code",
   "execution_count": 8,
   "metadata": {
    "ExecuteTime": {
     "end_time": "2020-03-23T23:53:09.669000Z",
     "start_time": "2020-03-23T23:53:05.863Z"
    }
   },
   "outputs": [
    {
     "data": {
      "text/plain": [
       "2-element Array{Tuple{Sym,Sym,Sym},1}:\n",
       " (C, (P_0*e_P*e_S*exp(-E_P/(T*k))/a_P)^(-1/(x - 2)), 0)            \n",
       " (m_B/(e_B*g_B), (P_0*e_P*e_S*exp(-E_P/(T*k))/a_P)^(-1/(x - 2)), B)"
      ]
     },
     "execution_count": 8,
     "metadata": {},
     "output_type": "execute_result"
    }
   ],
   "source": [
    "solve([Eq(Ct,0),Eq(Pt,0),Eq(Bt,0)],[C,P,B]) # computer hanged is substitute with numbers"
   ]
  },
  {
   "cell_type": "code",
   "execution_count": null,
   "metadata": {},
   "outputs": [],
   "source": []
  }
 ],
 "metadata": {
  "author": "",
  "kernelspec": {
   "display_name": "Julia 1.3.1",
   "language": "julia",
   "name": "julia-1.3"
  },
  "language_info": {
   "file_extension": ".jl",
   "mimetype": "application/julia",
   "name": "julia",
   "version": "1.3.1"
  },
  "latex_envs": {
   "LaTeX_envs_menu_present": true,
   "autoclose": true,
   "autocomplete": true,
   "bibliofile": "biblio.bib",
   "cite_by": "apalike",
   "current_citInitial": 1,
   "eqLabelWithNumbers": true,
   "eqNumInitial": 1,
   "hotkeys": {
    "equation": "Ctrl-E",
    "itemize": "Ctrl-I"
   },
   "labels_anchors": false,
   "latex_user_defs": false,
   "report_style_numbering": true,
   "user_envs_cfg": true
  },
  "toc": {
   "base_numbering": 1,
   "nav_menu": {},
   "number_sections": true,
   "sideBar": true,
   "skip_h1_title": false,
   "title_cell": "Table of Contents",
   "title_sidebar": "Contents",
   "toc_cell": true,
   "toc_position": {},
   "toc_section_display": true,
   "toc_window_display": true
  },
  "varInspector": {
   "cols": {
    "lenName": 16,
    "lenType": 16,
    "lenVar": 40
   },
   "kernels_config": {
    "python": {
     "delete_cmd_postfix": "",
     "delete_cmd_prefix": "del ",
     "library": "var_list.py",
     "varRefreshCmd": "print(var_dic_list())"
    },
    "r": {
     "delete_cmd_postfix": ") ",
     "delete_cmd_prefix": "rm(",
     "library": "var_list.r",
     "varRefreshCmd": "cat(var_dic_list()) "
    }
   },
   "types_to_exclude": [
    "module",
    "function",
    "builtin_function_or_method",
    "instance",
    "_Feature"
   ],
   "window_display": true
  }
 },
 "nbformat": 4,
 "nbformat_minor": 4
}
