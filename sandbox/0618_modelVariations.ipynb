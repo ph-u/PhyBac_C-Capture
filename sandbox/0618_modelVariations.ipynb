{
 "cells": [
  {
   "cell_type": "markdown",
   "metadata": {
    "toc": true
   },
   "source": [
    "<h1>Table of Contents<span class=\"tocSkip\"></span></h1>\n",
    "<div class=\"toc\"><ul class=\"toc-item\"><li><span><a href=\"#Aim\" data-toc-modified-id=\"Aim-1\"><span class=\"toc-item-num\">1&nbsp;&nbsp;</span>Aim</a></span></li><li><span><a href=\"#model-equations\" data-toc-modified-id=\"model-equations-2\"><span class=\"toc-item-num\">2&nbsp;&nbsp;</span>model equations</a></span></li><li><span><a href=\"#env\" data-toc-modified-id=\"env-3\"><span class=\"toc-item-num\">3&nbsp;&nbsp;</span>env</a></span></li><li><span><a href=\"#analytical-solutions\" data-toc-modified-id=\"analytical-solutions-4\"><span class=\"toc-item-num\">4&nbsp;&nbsp;</span>analytical solutions</a></span></li></ul></div>"
   ]
  },
  {
   "cell_type": "markdown",
   "metadata": {},
   "source": [
    "# Aim\n",
    "\n",
    "Solving model of 4 variations: (P+B/P-only)vs(harvest/no)"
   ]
  },
  {
   "cell_type": "markdown",
   "metadata": {},
   "source": [
    "# model equations\n",
    "Four versions of a carbon harvest model has been developed from the same frame:\n",
    "\n",
    "harvest | P+B | P-only\n",
    "--- | --- | ---\n",
    "yes | (1) | (2)\n",
    "no | (3) | (4)\n",
    "\n",
    "Full model (P+B, harvest)\n",
    "\\begin{equation}\\left\\{\\begin{array}{rl}\n",
    "    C'(t) &= e_{PR}(1-e_P)\\cdot g_P\\cdot P + a_P\\cdot P^2 +(e_{BR}(1- e_B)-1)\\cdot g_B\\cdot C\\cdot B +m_B\\cdot B -xC\\\\\n",
    "    P'(t) &= e_{PR}\\cdot e_P\\cdot g_P\\cdot P - a_P\\cdot P^2\\\\\n",
    "    B'(t) &= e_{BR}\\cdot e_B\\cdot g_B\\cdot C\\cdot B - m_B\\cdot B\n",
    "\\end{array}\\right.\\end{equation}\n",
    "\n",
    "P-only, harvest\n",
    "\\begin{equation}\\left\\{\\begin{array}{rl}\n",
    "    C'(t) &= e_{PR}(1-e_P)\\cdot g_P\\cdot P + a_P\\cdot P^2 -xC\\\\\n",
    "    P'(t) &= e_{PR}\\cdot e_P\\cdot g_P\\cdot P - a_P\\cdot P^2\\\\\n",
    "\\end{array}\\right.\\end{equation}\n",
    "\n",
    "P+B, no harvest\n",
    "\\begin{equation}\\left\\{\\begin{array}{rl}\n",
    "    C'(t) &= e_{PR}(1-e_P)\\cdot g_P\\cdot P + a_P\\cdot P^2 +(e_{BR}(1- e_B)-1)\\cdot g_B\\cdot C\\cdot B +m_B\\cdot B\\\\\n",
    "    P'(t) &= e_{PR}\\cdot e_P\\cdot g_P\\cdot P - a_P\\cdot P^2\\\\\n",
    "    B'(t) &= e_{BR}\\cdot e_B\\cdot g_B\\cdot C\\cdot B - m_B\\cdot B\n",
    "\\end{array}\\right.\\end{equation}\n",
    "\n",
    "P-only, no harvest\n",
    "\\begin{equation}\\left\\{\\begin{array}{rl}\n",
    "    C'(t) &= e_{PR}(1-e_P)\\cdot g_P\\cdot P + a_P\\cdot P^2\\\\\n",
    "    P'(t) &= e_{PR}\\cdot e_P\\cdot g_P\\cdot P - a_P\\cdot P^2\\\\\n",
    "\\end{array}\\right.\\end{equation}\n",
    "\n",
    "In the above model versions,\n",
    "\n",
    "1. C'(t) contain [B] terms in P+B setting only; contain the $xC$ term in \"harvest\" setting only\n",
    "0. P'(t) unchanged\n",
    "0. B'(t) appear when a system has included bacteria"
   ]
  },
  {
   "cell_type": "markdown",
   "metadata": {},
   "source": [
    "# env\n",
    "Sympy (v1.5.1), Scipy (v1.2.3)"
   ]
  },
  {
   "cell_type": "code",
   "execution_count": 1,
   "metadata": {
    "ExecuteTime": {
     "end_time": "2020-06-18T13:58:03.585282Z",
     "start_time": "2020-06-18T13:58:02.386239Z"
    }
   },
   "outputs": [],
   "source": [
    "from sympy import *\n",
    "import scipy as sc\n",
    "init_printing()\n",
    "x, ePR,eP,gP,aP, eBR,eB,gB,mB = var(\"x, e_{PR},e_P,g_P,a_P, e_{BR},e_B,g_B,m_B\", positive=True)\n",
    "C,P,B = var(\"C,P,B\", real=True)"
   ]
  },
  {
   "cell_type": "markdown",
   "metadata": {},
   "source": [
    "model equations"
   ]
  },
  {
   "cell_type": "code",
   "execution_count": 2,
   "metadata": {
    "ExecuteTime": {
     "end_time": "2020-06-18T13:58:03.623569Z",
     "start_time": "2020-06-18T13:58:03.589299Z"
    }
   },
   "outputs": [],
   "source": [
    "dP = ePR*eP*gP*P - aP*P**2\n",
    "dB = eBR*eB*gB*C*B - mB*B\n",
    "dC1 = ePR*(1-eP)*gP*P + aP*P**2 + (eBR*(1-eB)-1)*gB*C*B + mB*B - x*C\n",
    "dC2 = ePR*(1-eP)*gP*P + aP*P**2 - x*C\n",
    "dC3 = ePR*(1-eP)*gP*P + aP*P**2 + (eBR*(1-eB)-1)*gB*C*B + mB*B\n",
    "dC4 = ePR*(1-eP)*gP*P + aP*P**2"
   ]
  },
  {
   "cell_type": "markdown",
   "metadata": {},
   "source": [
    "# analytical solutions\n",
    "P+B, harvest"
   ]
  },
  {
   "cell_type": "code",
   "execution_count": 3,
   "metadata": {
    "ExecuteTime": {
     "end_time": "2020-06-18T13:58:06.510719Z",
     "start_time": "2020-06-18T13:58:03.628498Z"
    }
   },
   "outputs": [
    {
     "data": {
      "image/png": "[encoded data removed]",
      "text/latex": [
       "$\\displaystyle \\left[ \\left( 0, \\  0, \\  0\\right), \\  \\left( \\frac{m_{B}}{e_{B} e_{BR} g_{B}}, \\  0, \\  \\frac{x}{e_{BR} g_{B} - g_{B}}\\right), \\  \\left( \\frac{m_{B}}{e_{B} e_{BR} g_{B}}, \\  \\frac{e_{P} e_{PR} g_{P}}{a_{P}}, \\  \\frac{a_{P} m_{B} x - e_{B} e_{P} e_{BR} e_{PR}^{2} g_{B} g_{P}^{2}}{a_{P} e_{BR} g_{B} m_{B} - a_{P} g_{B} m_{B}}\\right), \\  \\left( \\frac{e_{P} e_{PR}^{2} g_{P}^{2}}{a_{P} x}, \\  \\frac{e_{P} e_{PR} g_{P}}{a_{P}}, \\  0\\right)\\right]$"
      ],
      "text/plain": [
       "⎡                                                  ⎛                          \n",
       "⎢           ⎛     m_B                  x        ⎞  ⎜     m_B        e_P⋅e_{PR}\n",
       "⎢(0, 0, 0), ⎜──────────────, 0, ────────────────⎟, ⎜──────────────, ──────────\n",
       "⎣           ⎝e_B⋅e_{BR}⋅g_B     e_{BR}⋅g_B - g_B⎠  ⎝e_B⋅e_{BR}⋅g_B       a_P  \n",
       "\n",
       "                                       2        2⎞  ⎛          2    2         \n",
       "⋅g_P  a_P⋅m_B⋅x - e_B⋅e_P⋅e_{BR}⋅e_{PR} ⋅g_B⋅g_P ⎟  ⎜e_P⋅e_{PR} ⋅g_P   e_P⋅e_{\n",
       "────, ───────────────────────────────────────────⎟, ⎜────────────────, ───────\n",
       "            a_P⋅e_{BR}⋅g_B⋅m_B - a_P⋅g_B⋅m_B     ⎠  ⎝     a_P⋅x             a_\n",
       "\n",
       "          ⎞⎤\n",
       "PR}⋅g_P   ⎟⎥\n",
       "───────, 0⎟⎥\n",
       "P         ⎠⎦"
      ]
     },
     "execution_count": 3,
     "metadata": {},
     "output_type": "execute_result"
    }
   ],
   "source": [
    "solve([Eq(dC1,0),Eq(dP,0),Eq(dB,0)], [C,P,B])"
   ]
  },
  {
   "cell_type": "markdown",
   "metadata": {},
   "source": [
    ". | ..............C.............. | ..............P.............. | ............................B............................\n",
    "--- | --- | --- | ---\n",
    "[1] | 0 | 0 | 0\n",
    "[2] | $\\dfrac{m_B}{e_B e_{BR} g_B}$ | 0 | $\\dfrac{x}{g_B(e_{BR}-1)}$\n",
    "[3] | $\\dfrac{e_P(e_{PR}g_P)^2}{a_P x}$ | $\\dfrac{e_P e_{PR}g_P}{a_P}$ | 0\n",
    "[4] | $\\dfrac{m_B}{e_B e_{BR} g_B}$ | $\\dfrac{e_P e_{PR}g_P}{a_P}$ | $\\dfrac{a_P m_B x - (e_{PR}g_P)^2 e_B e_{BR} g_B}{a_P g_B m_B(e_{BR}-1)}$"
   ]
  },
  {
   "cell_type": "markdown",
   "metadata": {},
   "source": [
    "P-only, harvest"
   ]
  },
  {
   "cell_type": "code",
   "execution_count": 4,
   "metadata": {
    "ExecuteTime": {
     "end_time": "2020-06-18T13:58:06.721942Z",
     "start_time": "2020-06-18T13:58:06.520260Z"
    }
   },
   "outputs": [
    {
     "data": {
      "image/png": "[encoded data removed]",
      "text/latex": [
       "$\\displaystyle \\left[ \\left( 0, \\  0\\right), \\  \\left( \\frac{e_{P} e_{PR}^{2} g_{P}^{2}}{a_{P} x}, \\  \\frac{e_{P} e_{PR} g_{P}}{a_{P}}\\right)\\right]$"
      ],
      "text/plain": [
       "⎡        ⎛          2    2                ⎞⎤\n",
       "⎢        ⎜e_P⋅e_{PR} ⋅g_P   e_P⋅e_{PR}⋅g_P⎟⎥\n",
       "⎢(0, 0), ⎜────────────────, ──────────────⎟⎥\n",
       "⎣        ⎝     a_P⋅x             a_P      ⎠⎦"
      ]
     },
     "execution_count": 4,
     "metadata": {},
     "output_type": "execute_result"
    }
   ],
   "source": [
    "solve([Eq(dC2,0),Eq(dP,0)], [C,P])"
   ]
  },
  {
   "cell_type": "markdown",
   "metadata": {},
   "source": [
    ". | ..............C.............. | P\n",
    "--- | --- | ---\n",
    "[1] | 0 | 0\n",
    "[2] = eqm[1.3] | $\\dfrac{e_P(e_{PR}g_P)^2}{a_P x}$ | $\\dfrac{e_P e_{PR}g_P}{a_P}$"
   ]
  },
  {
   "cell_type": "markdown",
   "metadata": {},
   "source": [
    "P+B, no harvest"
   ]
  },
  {
   "cell_type": "code",
   "execution_count": 5,
   "metadata": {
    "ExecuteTime": {
     "end_time": "2020-06-18T13:58:07.709876Z",
     "start_time": "2020-06-18T13:58:06.727424Z"
    }
   },
   "outputs": [
    {
     "data": {
      "image/png": "[encoded data removed]",
      "text/latex": [
       "$\\displaystyle \\left[ \\left( C, \\  0, \\  0\\right)\\right]$"
      ],
      "text/plain": [
       "[(C, 0, 0)]"
      ]
     },
     "execution_count": 5,
     "metadata": {},
     "output_type": "execute_result"
    }
   ],
   "source": [
    "solve([Eq(dC3,0),Eq(dP,0),Eq(dB,0)], [C,P,B])"
   ]
  },
  {
   "cell_type": "markdown",
   "metadata": {},
   "source": [
    "no harvest = all dead? Is that logical?\n",
    "\n",
    "Or is it hinting that ecosystem must be replaced by others until the climax ecosystem, which have some sort of carbon capture (hence equal to harvest) ability?"
   ]
  },
  {
   "cell_type": "markdown",
   "metadata": {},
   "source": [
    "P-only, no harvest"
   ]
  },
  {
   "cell_type": "code",
   "execution_count": 6,
   "metadata": {
    "ExecuteTime": {
     "end_time": "2020-06-18T13:58:07.773726Z",
     "start_time": "2020-06-18T13:58:07.714931Z"
    }
   },
   "outputs": [
    {
     "data": {
      "image/png": "[encoded data removed]",
      "text/latex": [
       "$\\displaystyle \\left[ \\left( 0, \\  P\\right)\\right]$"
      ],
      "text/plain": [
       "[(0, P)]"
      ]
     },
     "execution_count": 6,
     "metadata": {},
     "output_type": "execute_result"
    }
   ],
   "source": [
    "solve([Eq(dC4,0),Eq(dP,0)], [C,P])"
   ]
  },
  {
   "cell_type": "markdown",
   "metadata": {},
   "source": [
    "where are the dead phytoplanktons in the solution?\n",
    "\n",
    "It is mathematically correct but clearly biologically inaccurate"
   ]
  }
 ],
 "metadata": {
  "kernelspec": {
   "display_name": "Python 3",
   "language": "python",
   "name": "python3"
  },
  "language_info": {
   "codemirror_mode": {
    "name": "ipython",
    "version": 2
   },
   "file_extension": ".py",
   "mimetype": "text/x-python",
   "name": "python",
   "nbconvert_exporter": "python",
   "pygments_lexer": "ipython2",
   "version": "2.7.17"
  },
  "toc": {
   "base_numbering": 1,
   "nav_menu": {},
   "number_sections": true,
   "sideBar": true,
   "skip_h1_title": false,
   "title_cell": "Table of Contents",
   "title_sidebar": "Contents",
   "toc_cell": true,
   "toc_position": {},
   "toc_section_display": true,
   "toc_window_display": true
  }
 },
 "nbformat": 4,
 "nbformat_minor": 2
}
