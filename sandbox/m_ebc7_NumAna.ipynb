{
 "cells": [
  {
   "cell_type": "markdown",
   "metadata": {
    "toc": true
   },
   "source": [
    "<h1>Table of Contents<span class=\"tocSkip\"></span></h1>\n",
    "<div class=\"toc\"><ul class=\"toc-item\"><li><span><a href=\"#aim-&amp;-purpose\" data-toc-modified-id=\"aim-&amp;-purpose-1\"><span class=\"toc-item-num\">1&nbsp;&nbsp;</span>aim &amp; purpose</a></span></li><li><span><a href=\"#CPB-system\" data-toc-modified-id=\"CPB-system-2\"><span class=\"toc-item-num\">2&nbsp;&nbsp;</span>CPB system</a></span></li><li><span><a href=\"#parameters\" data-toc-modified-id=\"parameters-3\"><span class=\"toc-item-num\">3&nbsp;&nbsp;</span>parameters</a></span></li><li><span><a href=\"#Numerical-system-solve\" data-toc-modified-id=\"Numerical-system-solve-4\"><span class=\"toc-item-num\">4&nbsp;&nbsp;</span>Numerical system solve</a></span><ul class=\"toc-item\"><li><span><a href=\"#no-carbon-removal\" data-toc-modified-id=\"no-carbon-removal-4.1\"><span class=\"toc-item-num\">4.1&nbsp;&nbsp;</span>no carbon removal</a></span></li><li><span><a href=\"#with-carbon-removal\" data-toc-modified-id=\"with-carbon-removal-4.2\"><span class=\"toc-item-num\">4.2&nbsp;&nbsp;</span>with carbon removal</a></span></li></ul></li><li><span><a href=\"#Analytical-system-solve\" data-toc-modified-id=\"Analytical-system-solve-5\"><span class=\"toc-item-num\">5&nbsp;&nbsp;</span>Analytical system solve</a></span></li></ul></div>"
   ]
  },
  {
   "cell_type": "markdown",
   "metadata": {},
   "source": [
    "# aim & purpose\n",
    "\n",
    "1. analytically and numerically solve the eco-cell carbon system\n",
    "0. substitute in parameters and solve system\n",
    "0. test for stability of system\n",
    "0. parameter effect on carbon pool in each players\n",
    "0. set of parameters max all three players"
   ]
  },
  {
   "cell_type": "code",
   "execution_count": 1,
   "metadata": {
    "ExecuteTime": {
     "end_time": "2020-04-10T16:09:23.126000+01:00",
     "start_time": "2020-04-10T15:08:54.861Z"
    }
   },
   "outputs": [
    {
     "name": "stdout",
     "output_type": "stream",
     "text": [
      "\n"
     ]
    }
   ],
   "source": [
    "using PyCall, DataFrames, SymPy, Plots, Random\n",
    "mt = pyimport(\"math\")\n",
    "sc = pyimport(\"scipy\")\n",
    "cst = pyimport(\"scipy.constants\")\n",
    "itg = pyimport(\"scipy.integrate\")\n",
    "sympy.init_printing() ## use other py3 function not implemented in native Julia-lang, http://mth229.github.io/symbolic.html\n",
    "println()"
   ]
  },
  {
   "cell_type": "markdown",
   "metadata": {},
   "source": [
    "# CPB system\n",
    "\\begin{equation*}\\left\\{\\begin{array}{rl}\n",
    "C'(t) &= (1-\\varepsilon_P)\\varepsilon_{PR}g_PP +a_PP^2 +g_BCB(e_{BR}(1-e_B)-1) +m_BB\\\\\n",
    "P'(t) &= g_P\\varepsilon_{PR}\\varepsilon_PP -a_PP^2\\\\\n",
    "B'(t) &= g_B\\varepsilon_{BR}\\varepsilon_{B}CB -m_BB\n",
    "\\end{array}\\right.\\end{equation*}"
   ]
  },
  {
   "cell_type": "code",
   "execution_count": 2,
   "metadata": {
    "ExecuteTime": {
     "end_time": "2020-04-10T16:09:33.577000+01:00",
     "start_time": "2020-04-10T15:08:54.866Z"
    }
   },
   "outputs": [
    {
     "data": {
      "text/latex": [
       "\\begin{equation*}B C g_{B} \\left(e_{BR} \\left(1 - e_{B}\\right) - 1\\right) + B m_{B} - C x + P^{2} a_{P} + P e_{PR} g_{P} \\left(1 - e_{P}\\right)\\end{equation*}"
      ],
      "text/plain": [
       "                                              2                           \n",
       "B⋅C⋅g_B⋅(e_BR⋅(1 - e_B) - 1) + B⋅m_B - C⋅x + P ⋅a_P + P⋅e_PR⋅g_P⋅(1 - e_P)"
      ]
     },
     "execution_count": 2,
     "metadata": {},
     "output_type": "execute_result"
    }
   ],
   "source": [
    "## env set-up\n",
    "@vars C P B\n",
    "x, e_PR,e_P,g_P,a_P, e_BR,e_B,g_B,m_B = symbols(\"x e_PR e_P g_P a_P e_BR e_B g_B m_B\",positive=true)\n",
    "\n",
    "## equations\n",
    "dC = g_P*e_PR*(1-e_P)*P +a_P*P^2 +g_B*(e_BR*(1-e_B)-1)*C*B +m_B*B\n",
    "dP = g_P*e_PR*e_P*P -a_P*P^2\n",
    "dB = g_B*e_BR*e_B*C*B -m_B*B\n",
    "dCrm = g_P*e_PR*(1-e_P)*P +a_P*P^2 +g_B*(e_BR*(1-e_B)-1)*C*B +m_B*B -x*C"
   ]
  },
  {
   "cell_type": "code",
   "execution_count": 3,
   "metadata": {
    "ExecuteTime": {
     "end_time": "2020-04-10T16:09:34.103000+01:00",
     "start_time": "2020-04-10T15:08:54.870Z"
    }
   },
   "outputs": [
    {
     "data": {
      "text/plain": [
       "ebc7 (generic function with 1 method)"
      ]
     },
     "execution_count": 3,
     "metadata": {},
     "output_type": "execute_result"
    }
   ],
   "source": [
    "function ebc7(Den,t,x, g_P,e_PR,e_P,a_P, g_B,e_BR,e_B,m_B)\n",
    "    \n",
    "    ## variable sorting\n",
    "    C = Den[:1]\n",
    "    P = Den[:2]\n",
    "    B = Den[:3]\n",
    "    \n",
    "    ## rate calculation\n",
    "    dC = g_P*e_PR*(1-e_P)*P +a_P*P^2 +g_B*(e_BR*(1-e_B)-1)*C*B +m_B*B -x*C\n",
    "    dP = g_P*e_PR*e_P*P -a_P*P^2\n",
    "    dB = g_B*e_BR*e_B*C*B -m_B*B\n",
    "    \n",
    "    ## logic check\n",
    "    if C<=0; dC=0;end\n",
    "    if P<=0; dP=0;end\n",
    "    if B<=0; dB=0;end\n",
    "    \n",
    "    return(sc.array([dC,dP,dB]))\n",
    "    \n",
    "end"
   ]
  },
  {
   "cell_type": "markdown",
   "metadata": {},
   "source": [
    "# parameters\n",
    "\n",
    "parameters | unit | meaning\n",
    "--- | --- | ---\n",
    "$x$ | $t^{-1}$ | rate of carbon removal from the system\n",
    "$e_{PR}$ | no | fraction of phytocell non-respired carbon\n",
    "$e_P$ | no | fraction of carbon incorporated into phytocell biomass\n",
    "$g_P$ | $t^{-1}$ | phytocell growth rate\n",
    "$a_P$ | $m^3gC^{-1}t^{-1}$ | intraspecific interference rate per density of phytocell carbon\n",
    "$e_{BR}$ | no | fraction of microbial detritivore non-respired carbon\n",
    "$e_B$ | no | fraction of carbon incorporated into microbial detritivore biomass\n",
    "$g_B$ | $t^{-1}$ | microbial detritivore growth rate\n",
    "$m_B$ | $t^{-1}$ | microbial detritivore death rate"
   ]
  },
  {
   "cell_type": "code",
   "execution_count": 4,
   "metadata": {
    "ExecuteTime": {
     "end_time": "2020-04-10T16:09:34.702000+01:00",
     "start_time": "2020-04-10T15:08:54.874Z"
    }
   },
   "outputs": [
    {
     "name": "stdout",
     "output_type": "stream",
     "text": [
      "\n"
     ]
    }
   ],
   "source": [
    "## default settings\n",
    "tStp = 20\n",
    "t = sc.linspace(0, 1000, tStp) # sample time series\n",
    "ini = [1 1 1] # gC/m3 C, P, B\n",
    "\n",
    "## parameters (day^{-1})\n",
    "x = 0 # larger value, lower eqm org-B pool\n",
    "e_PR = .563 # larger value, increase in org-C < photocell < detritivore\n",
    "e_P = .63 # larger value, increase in org-C < photocell < detritivore\n",
    "g_P = .89 # larger value, larger eqm position of C-pools and differences between C-pools eqm values\n",
    "a_P = .3 # opposite to the g_P effect\n",
    "e_BR = .6 # larger value, lower org-C and higher detritivore\n",
    "e_B = .55 # larger value, smaller detritivore and larger org-C\n",
    "g_B = .8 # larger value, lower eqm org-C pool\n",
    "m_B = .1 # smaller value, larger differences between C-pools eqm values; larger effect on detritivore\n",
    "\n",
    "println()"
   ]
  },
  {
   "cell_type": "markdown",
   "metadata": {},
   "source": [
    "# Numerical system solve\n",
    "## no carbon removal"
   ]
  },
  {
   "cell_type": "code",
   "execution_count": 5,
   "metadata": {
    "ExecuteTime": {
     "end_time": "2020-04-10T16:09:39.234000+01:00",
     "start_time": "2020-04-10T15:08:54.878Z"
    }
   },
   "outputs": [
    {
     "data": {
      "text/plain": [
       "1-element Array{Tuple{Sym,Sym,Sym},1}:\n",
       " (m_B/(e_B*e_BR*g_B), e_P*e_PR*g_P/a_P, -e_B*e_BR*e_P*e_PR^2*g_P^2/(a_P*m_B*(e_BR - 1)))"
      ]
     },
     "execution_count": 5,
     "metadata": {},
     "output_type": "execute_result"
    }
   ],
   "source": [
    "ss = solve([Eq(dC,0),Eq(dP,0),Eq(dB,0)],[C,P,B])\n",
    "ss"
   ]
  },
  {
   "cell_type": "code",
   "execution_count": 6,
   "metadata": {
    "ExecuteTime": {
     "end_time": "2020-04-10T16:09:40.201000+01:00",
     "start_time": "2020-04-10T15:08:54.885Z"
    }
   },
   "outputs": [
    {
     "data": {
      "text/latex": [
       "\\[ \\left[ \\begin{array}{r}\\frac{m_{B}}{e_{B} e_{BR} g_{B}}\\\\\\frac{e_{P} e_{PR} g_{P}}{a_{P}}\\\\- \\frac{e_{B} e_{BR} e_{P} e_{PR}^{2} g_{P}^{2}}{a_{P} m_{B} \\left(e_{BR} - 1\\right)}\\end{array} \\right] \\]"
      ],
      "text/plain": [
       "3-element Array{Sym,1}:\n",
       "                              m_B/(e_B*e_BR*g_B)\n",
       "                                e_P*e_PR*g_P/a_P\n",
       " -e_B*e_BR*e_P*e_PR^2*g_P^2/(a_P*m_B*(e_BR - 1))"
      ]
     },
     "execution_count": 6,
     "metadata": {},
     "output_type": "execute_result"
    }
   ],
   "source": [
    "[ss[1][1],ss[1][2],ss[1][3]]"
   ]
  },
  {
   "cell_type": "code",
   "execution_count": 7,
   "metadata": {
    "ExecuteTime": {
     "end_time": "2020-04-10T16:09:41.195000+01:00",
     "start_time": "2020-04-10T15:08:54.888Z"
    }
   },
   "outputs": [
    {
     "data": {
      "text/plain": [
       "3-element Array{Float64,1}:\n",
       " 0.3787878787878788\n",
       " 1.052247          \n",
       " 4.349807585392499 "
      ]
     },
     "execution_count": 7,
     "metadata": {},
     "output_type": "execute_result"
    }
   ],
   "source": [
    "[m_B/(e_B*e_BR*g_B), e_P*e_PR*g_P/a_P, -e_B*e_BR*e_P*e_PR^2*g_P^2/(a_P*m_B*(e_BR-1))]"
   ]
  },
  {
   "cell_type": "markdown",
   "metadata": {},
   "source": [
    "## with carbon removal"
   ]
  },
  {
   "cell_type": "code",
   "execution_count": 8,
   "metadata": {
    "ExecuteTime": {
     "end_time": "2020-04-10T16:09:42.760000+01:00",
     "start_time": "2020-04-10T15:08:54.892Z"
    }
   },
   "outputs": [
    {
     "data": {
      "text/plain": [
       "4-element Array{Tuple{Sym,Sym,Sym},1}:\n",
       " (0, 0, 0)                                                                                                           \n",
       " (m_B/(e_B*e_BR*g_B), 0, x/(e_BR*g_B - g_B))                                                                         \n",
       " (m_B/(e_B*e_BR*g_B), e_P*e_PR*g_P/a_P, (a_P*m_B*x - e_B*e_BR*e_P*e_PR^2*g_B*g_P^2)/(a_P*e_BR*g_B*m_B - a_P*g_B*m_B))\n",
       " (e_P*e_PR^2*g_P^2/(a_P*x), e_P*e_PR*g_P/a_P, 0)                                                                     "
      ]
     },
     "execution_count": 8,
     "metadata": {},
     "output_type": "execute_result"
    }
   ],
   "source": [
    "ss0 = solve([Eq(dCrm,0),Eq(dP,0),Eq(dB,0)],[C,P,B])\n",
    "ss0"
   ]
  },
  {
   "cell_type": "code",
   "execution_count": 9,
   "metadata": {
    "ExecuteTime": {
     "end_time": "2020-04-10T16:09:42.775000+01:00",
     "start_time": "2020-04-10T15:08:54.898Z"
    }
   },
   "outputs": [
    {
     "data": {
      "text/latex": [
       "\\[ \\left[ \\begin{array}{r}\\frac{m_{B}}{e_{B} e_{BR} g_{B}}\\\\\\frac{e_{P} e_{PR} g_{P}}{a_{P}}\\\\\\frac{a_{P} m_{B} x - e_{B} e_{BR} e_{P} e_{PR}^{2} g_{B} g_{P}^{2}}{a_{P} e_{BR} g_{B} m_{B} - a_{P} g_{B} m_{B}}\\end{array} \\right] \\]"
      ],
      "text/plain": [
       "3-element Array{Sym,1}:\n",
       "                                                           m_B/(e_B*e_BR*g_B)\n",
       "                                                             e_P*e_PR*g_P/a_P\n",
       " (a_P*m_B*x - e_B*e_BR*e_P*e_PR^2*g_B*g_P^2)/(a_P*e_BR*g_B*m_B - a_P*g_B*m_B)"
      ]
     },
     "execution_count": 9,
     "metadata": {},
     "output_type": "execute_result"
    }
   ],
   "source": [
    "[ss0[3][1],ss0[3][2],ss0[3][3]]"
   ]
  },
  {
   "cell_type": "markdown",
   "metadata": {},
   "source": [
    "# Analytical system solve"
   ]
  },
  {
   "cell_type": "code",
   "execution_count": null,
   "metadata": {
    "ExecuteTime": {
     "start_time": "2020-04-10T15:08:54.903Z"
    }
   },
   "outputs": [],
   "source": [
    "## model testing\n",
    "pops = sc.array([ini[1],ini[2],ini[3]])\n",
    "\n",
    "pops, infodict = itg.odeint(ebc7, pops, t, full_output=true, args=(x, g_P,e_PR,e_P,a_P, g_B,e_BR,e_B,m_B))\n",
    "plot(pops, xlabel=\"time steps\", ylabel=\"carbon density (gm^-3)\", title=\"Time series on carbon density\", lab=[\"organic matter\" \"phytoplankton\" \"detritivore\"], ylim=[0,5])"
   ]
  },
  {
   "cell_type": "code",
   "execution_count": null,
   "metadata": {
    "ExecuteTime": {
     "start_time": "2020-04-10T15:08:54.906Z"
    }
   },
   "outputs": [],
   "source": [
    "aa = @animate for i in 1:100\n",
    "    pops = abs.(rand(Int8,3)/10)\n",
    "    pops, infodict = itg.odeint(ebc7, pops, t, full_output=true, args=(x, g_P,e_PR,e_P,a_P, g_B,e_BR,e_B,m_B))\n",
    "    plot(pops, xlabel=\"time steps\", ylabel=\"carbon density (gm^-3)\", title=\"Time series on carbon density with different initial values\\nand no carbon removal\",\n",
    "        lab=[\"organic carbon: ini (\"*string(round(pops[1,1]; digits=3))*\"); fin (\"*string(round(pops[tStp,1]; digits=3))*\")\" \"phytocell: ini (\"*string(round(pops[1,2]; digits=3))*\"); fin (\"*string(round(pops[tStp,2]; digits=3))*\")\" \"detritivore: ini (\"*string(round(pops[1,3]; digits=3))*\"); fin (\"*string(round(pops[tStp,3]; digits=3))*\")\"\n",
    "            ], ylim=[0,10])\n",
    "end\n",
    "gif(aa, \"gif/randStart.gif\", fps=10)"
   ]
  },
  {
   "cell_type": "code",
   "execution_count": null,
   "metadata": {
    "ExecuteTime": {
     "start_time": "2020-04-10T15:08:54.909Z"
    }
   },
   "outputs": [],
   "source": [
    "aa = @animate for i in 0:100\n",
    "    pops = sc.array([ini[1],ini[2],ini[3]])\n",
    "    test = i/1000\n",
    "    pops, infodict = itg.odeint(ebc7, pops, t, full_output=true, args=(test, g_P,e_PR,e_P,a_P, g_B,e_BR,e_B,m_B))\n",
    "    plot(pops, xlabel=\"time steps\", ylabel=\"carbon density (gm^-3)\", title=\"Time series on carbon density (carbon rm rate = \"*string(test)*\")\", lab=[\"organic matter\" \"phytoplankton\" \"detritivore\"], ylim=[0,5])\n",
    "end\n",
    "gif(aa, \"gif/rmC.gif\", fps=20)"
   ]
  }
 ],
 "metadata": {
  "kernelspec": {
   "display_name": "Julia 1.3.1",
   "language": "julia",
   "name": "julia-1.3"
  },
  "language_info": {
   "file_extension": ".jl",
   "mimetype": "application/julia",
   "name": "julia",
   "version": "1.3.1"
  },
  "toc": {
   "base_numbering": 1,
   "nav_menu": {},
   "number_sections": true,
   "sideBar": true,
   "skip_h1_title": false,
   "title_cell": "Table of Contents",
   "title_sidebar": "Contents",
   "toc_cell": true,
   "toc_position": {},
   "toc_section_display": true,
   "toc_window_display": true
  }
 },
 "nbformat": 4,
 "nbformat_minor": 2
}
