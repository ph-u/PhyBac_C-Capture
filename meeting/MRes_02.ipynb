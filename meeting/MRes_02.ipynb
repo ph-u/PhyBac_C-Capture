{
 "cells": [
  {
   "cell_type": "markdown",
   "metadata": {
    "toc": true
   },
   "source": [
    "<h1>Table of Contents<span class=\"tocSkip\"></span></h1>\n",
    "<div class=\"toc\"><ul class=\"toc-item\"><li><span><a href=\"#Aims\" data-toc-modified-id=\"Aims-1\"><span class=\"toc-item-num\">1&nbsp;&nbsp;</span>Aims</a></span></li><li><span><a href=\"#considered-players-in-model\" data-toc-modified-id=\"considered-players-in-model-2\"><span class=\"toc-item-num\">2&nbsp;&nbsp;</span>considered players in model</a></span></li><li><span><a href=\"#necessary-terms\" data-toc-modified-id=\"necessary-terms-3\"><span class=\"toc-item-num\">3&nbsp;&nbsp;</span>necessary terms</a></span></li></ul></div>"
   ]
  },
  {
   "cell_type": "code",
   "execution_count": 1,
   "metadata": {
    "ExecuteTime": {
     "end_time": "2020-02-05T11:15:14.667000Z",
     "start_time": "2020-02-05T11:14:40.729Z"
    }
   },
   "outputs": [
    {
     "data": {
      "text/plain": [
       "RObject{StrSxp}\n",
       " [1] \"#000000\" \"#E69F00\" \"#56B4E9\" \"#009E73\" \"#0072B2\" \"#D55E00\" \"#CC79A7\"\n",
       " [8] \"#e79f00\" \"#9ad0f3\" \"#F0E442\" \"#999999\" \"#cccccc\" \"#6633ff\" \"#00FFCC\"\n",
       "[15] \"#0066cc\"\n"
      ]
     },
     "execution_count": 1,
     "metadata": {},
     "output_type": "execute_result"
    }
   ],
   "source": [
    "using RCall, PyCall, Plots, ProgressMeter, DataFrames\n",
    "mt = pyimport(\"math\") #??\n",
    "sc = pyimport(\"scipy\")\n",
    "itg = pyimport(\"scipy.integrate\")\n",
    "R\"cbp<-c('#000000', '#E69F00', '#56B4E9', '#009E73', '#0072B2', '#D55E00', '#CC79A7', '#e79f00', '#9ad0f3', '#F0E442', '#999999', '#cccccc', '#6633ff', '#00FFCC', '#0066cc')\""
   ]
  },
  {
   "cell_type": "markdown",
   "metadata": {},
   "source": [
    "# Aims"
   ]
  },
  {
   "cell_type": "markdown",
   "metadata": {},
   "source": [
    "1. explore perturbed population dynamics\n",
    "2. trial on using population fraction as population indicator"
   ]
  },
  {
   "cell_type": "markdown",
   "metadata": {},
   "source": [
    "# considered players in model"
   ]
  },
  {
   "cell_type": "markdown",
   "metadata": {},
   "source": [
    "equation | notation | player | reason | nature\n",
    "--- | --- | --- | --- | ---\n",
    "p(t) | P | cyanobacteria p | player | bio-component\n",
    "q(t) | Q | cyanobacteria q | player | bio-component\n",
    "s(t) | S | solar radiation | resource | nutrient, limiting factor\n",
    "T(t) | T | temperature | resource | death agent, limiting factor"
   ]
  },
  {
   "cell_type": "markdown",
   "metadata": {},
   "source": [
    "# necessary terms"
   ]
  },
  {
   "cell_type": "markdown",
   "metadata": {},
   "source": [
    "term | reason | equation source (sign: +/-)\n",
    "--- | --- | ---\n",
    "$r_xX$ | growth term of biocomponent | p(t) [+], q(t)[+]"
   ]
  },
  {
   "cell_type": "code",
   "execution_count": null,
   "metadata": {},
   "outputs": [],
   "source": []
  }
 ],
 "metadata": {
  "kernelspec": {
   "display_name": "Julia 1.3.1",
   "language": "julia",
   "name": "julia-1.3"
  },
  "language_info": {
   "file_extension": ".jl",
   "mimetype": "application/julia",
   "name": "julia",
   "version": "1.3.1"
  },
  "latex_envs": {
   "LaTeX_envs_menu_present": true,
   "autoclose": true,
   "autocomplete": true,
   "bibliofile": "biblio.bib",
   "cite_by": "apalike",
   "current_citInitial": 1,
   "eqLabelWithNumbers": true,
   "eqNumInitial": 1,
   "hotkeys": {
    "equation": "Ctrl-E",
    "itemize": "Ctrl-I"
   },
   "labels_anchors": false,
   "latex_user_defs": false,
   "report_style_numbering": true,
   "user_envs_cfg": true
  },
  "toc": {
   "base_numbering": 1,
   "nav_menu": {},
   "number_sections": true,
   "sideBar": true,
   "skip_h1_title": false,
   "title_cell": "Table of Contents",
   "title_sidebar": "Contents",
   "toc_cell": true,
   "toc_position": {},
   "toc_section_display": true,
   "toc_window_display": true
  },
  "varInspector": {
   "cols": {
    "lenName": 16,
    "lenType": 16,
    "lenVar": 40
   },
   "kernels_config": {
    "python": {
     "delete_cmd_postfix": "",
     "delete_cmd_prefix": "del ",
     "library": "var_list.py",
     "varRefreshCmd": "print(var_dic_list())"
    },
    "r": {
     "delete_cmd_postfix": ") ",
     "delete_cmd_prefix": "rm(",
     "library": "var_list.r",
     "varRefreshCmd": "cat(var_dic_list()) "
    }
   },
   "types_to_exclude": [
    "module",
    "function",
    "builtin_function_or_method",
    "instance",
    "_Feature"
   ],
   "window_display": true
  }
 },
 "nbformat": 4,
 "nbformat_minor": 2
}
