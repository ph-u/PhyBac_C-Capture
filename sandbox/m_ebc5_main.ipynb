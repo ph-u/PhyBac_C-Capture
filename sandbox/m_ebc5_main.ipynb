{
 "cells": [
  {
   "cell_type": "markdown",
   "metadata": {
    "toc": true
   },
   "source": [
    "<h1>Table of Contents<span class=\"tocSkip\"></span></h1>\n",
    "<div class=\"toc\"><ul class=\"toc-item\"><li><span><a href=\"#housekeeping\" data-toc-modified-id=\"housekeeping-1\"><span class=\"toc-item-num\">1&nbsp;&nbsp;</span>housekeeping</a></span><ul class=\"toc-item\"><li><span><a href=\"#languages-&amp;-packages\" data-toc-modified-id=\"languages-&amp;-packages-1.1\"><span class=\"toc-item-num\">1.1&nbsp;&nbsp;</span>languages &amp; packages</a></span></li><li><span><a href=\"#env-set-up\" data-toc-modified-id=\"env-set-up-1.2\"><span class=\"toc-item-num\">1.2&nbsp;&nbsp;</span>env set-up</a></span></li><li><span><a href=\"#parameters\" data-toc-modified-id=\"parameters-1.3\"><span class=\"toc-item-num\">1.3&nbsp;&nbsp;</span>parameters</a></span></li><li><span><a href=\"#equation-system\" data-toc-modified-id=\"equation-system-1.4\"><span class=\"toc-item-num\">1.4&nbsp;&nbsp;</span>equation system</a></span></li><li><span><a href=\"#equation-system-visualization\" data-toc-modified-id=\"equation-system-visualization-1.5\"><span class=\"toc-item-num\">1.5&nbsp;&nbsp;</span>equation system visualization</a></span></li></ul></li><li><span><a href=\"#numeric-solve\" data-toc-modified-id=\"numeric-solve-2\"><span class=\"toc-item-num\">2&nbsp;&nbsp;</span>numeric solve</a></span><ul class=\"toc-item\"><li><span><a href=\"#whole-ODE-system\" data-toc-modified-id=\"whole-ODE-system-2.1\"><span class=\"toc-item-num\">2.1&nbsp;&nbsp;</span>whole ODE system</a></span></li><li><span><a href=\"#$P$-&amp;-partial-$C$-equation-isolation\" data-toc-modified-id=\"$P$-&amp;-partial-$C$-equation-isolation-2.2\"><span class=\"toc-item-num\">2.2&nbsp;&nbsp;</span>$P$ &amp; partial-$C$ equation isolation</a></span></li><li><span><a href=\"#$B$-&amp;-partial-$C$-equation-isolation\" data-toc-modified-id=\"$B$-&amp;-partial-$C$-equation-isolation-2.3\"><span class=\"toc-item-num\">2.3&nbsp;&nbsp;</span>$B$ &amp; partial-$C$ equation isolation</a></span></li></ul></li><li><span><a href=\"#conclusion\" data-toc-modified-id=\"conclusion-3\"><span class=\"toc-item-num\">3&nbsp;&nbsp;</span>conclusion</a></span></li><li><span><a href=\"#ODE-system-variation\" data-toc-modified-id=\"ODE-system-variation-4\"><span class=\"toc-item-num\">4&nbsp;&nbsp;</span>ODE system variation</a></span><ul class=\"toc-item\"><li><span><a href=\"#parameters\" data-toc-modified-id=\"parameters-4.1\"><span class=\"toc-item-num\">4.1&nbsp;&nbsp;</span>parameters</a></span></li><li><span><a href=\"#equation-system\" data-toc-modified-id=\"equation-system-4.2\"><span class=\"toc-item-num\">4.2&nbsp;&nbsp;</span>equation system</a></span></li><li><span><a href=\"#equation-system-visualization\" data-toc-modified-id=\"equation-system-visualization-4.3\"><span class=\"toc-item-num\">4.3&nbsp;&nbsp;</span>equation system visualization</a></span></li><li><span><a href=\"#equation-system\" data-toc-modified-id=\"equation-system-4.4\"><span class=\"toc-item-num\">4.4&nbsp;&nbsp;</span>equation system</a></span></li><li><span><a href=\"#conclusion-on-varied-system\" data-toc-modified-id=\"conclusion-on-varied-system-4.5\"><span class=\"toc-item-num\">4.5&nbsp;&nbsp;</span>conclusion on varied system</a></span></li></ul></li></ul></div>"
   ]
  },
  {
   "cell_type": "markdown",
   "metadata": {},
   "source": [
    "# housekeeping\n",
    "This notebook is for analytically (2nd attempt) solving parameters in the set of ODEs for eco-bioelectric cell (EBC).\n",
    "\n",
    "## languages & packages\n",
    "Julia-lang 1.3.1: `PyCall` (1.91.2), `DataFrames` (0.20.0), `SymPy` (1.0.18)\n",
    "\n",
    "## env set-up"
   ]
  },
  {
   "cell_type": "code",
   "execution_count": 1,
   "metadata": {
    "ExecuteTime": {
     "end_time": "2020-03-14T12:35:35.143000Z",
     "start_time": "2020-03-14T12:34:55.389Z"
    }
   },
   "outputs": [
    {
     "name": "stderr",
     "output_type": "stream",
     "text": [
      "┌ Info: Precompiling SymPy [24249f21-da20-56a4-8eb1-6a02cf4ae2e6]\n",
      "└ @ Base loading.jl:1273\n",
      "┌ Info: Installing sympy via the Conda sympy package...\n",
      "└ @ PyCall /home/xxxxxx/.julia/packages/PyCall/zqDXB/src/PyCall.jl:697\n",
      "┌ Info: Running `conda install -y sympy` in root environment\n",
      "└ @ Conda /home/xxxxxx/.julia/packages/Conda/3rPhK/src/Conda.jl:113\n"
     ]
    },
    {
     "name": "stdout",
     "output_type": "stream",
     "text": [
      "Collecting package metadata (current_repodata.json): ...working... done\n",
      "Solving environment: ...working... done\n",
      "\n",
      "## Package Plan ##\n",
      "\n",
      "  environment location: /home/xxxxxx/.julia/conda/3\n",
      "\n",
      "  added / updated specs:\n",
      "    - sympy\n",
      "\n",
      "\n",
      "The following packages will be downloaded:\n",
      "\n",
      "    package                    |            build\n",
      "    ---------------------------|-----------------\n",
      "    fastcache-1.1.0            |   py37h7b6447c_0          30 KB\n",
      "    gmp-6.1.2                  |       h6c8ec71_1         514 KB\n",
      "    gmpy2-2.0.8                |   py37h10f8cd9_2         150 KB\n",
      "    mpc-1.1.0                  |       h10f8cd9_1          90 KB\n",
      "    mpfr-4.0.1                 |       hdf1c602_3         429 KB\n",
      "    mpmath-1.1.0               |           py37_0         766 KB\n",
      "    sympy-1.5.1                |           py37_0         8.3 MB\n",
      "    ------------------------------------------------------------\n",
      "                                           Total:        10.2 MB\n",
      "\n",
      "The following NEW packages will be INSTALLED:\n",
      "\n",
      "  fastcache          pkgs/main/linux-64::fastcache-1.1.0-py37h7b6447c_0\n",
      "  gmp                pkgs/main/linux-64::gmp-6.1.2-h6c8ec71_1\n",
      "  gmpy2              pkgs/main/linux-64::gmpy2-2.0.8-py37h10f8cd9_2\n",
      "  mpc                pkgs/main/linux-64::mpc-1.1.0-h10f8cd9_1\n",
      "  mpfr               pkgs/main/linux-64::mpfr-4.0.1-hdf1c602_3\n",
      "  mpmath             pkgs/main/linux-64::mpmath-1.1.0-py37_0\n",
      "  sympy              pkgs/main/linux-64::sympy-1.5.1-py37_0\n",
      "\n",
      "\n",
      "\n",
      "Downloading and Extracting Packages\n",
      "gmpy2-2.0.8          | 150 KB    | ########## | 100% \n",
      "mpc-1.1.0            | 90 KB     | ########## | 100% \n",
      "gmp-6.1.2            | 514 KB    | ########## | 100% \n",
      "mpfr-4.0.1           | 429 KB    | ########## | 100% \n",
      "mpmath-1.1.0         | 766 KB    | ########## | 100% \n",
      "sympy-1.5.1          | 8.3 MB    | ########## | 100% \n",
      "fastcache-1.1.0      | 30 KB     | ########## | 100% \n",
      "Preparing transaction: ...working... done\n",
      "Verifying transaction: ...working... done\n",
      "Executing transaction: ...working... done\n",
      "\n"
     ]
    }
   ],
   "source": [
    "using PyCall, DataFrames, SymPy\n",
    "sympy.init_printing() ## use other py3 function not implemented in native Julia-lang, http://mth229.github.io/symbolic.html\n",
    "println()"
   ]
  },
  {
   "cell_type": "code",
   "execution_count": 2,
   "metadata": {
    "ExecuteTime": {
     "end_time": "2020-03-14T12:35:38.971000Z",
     "start_time": "2020-03-14T12:34:55.394Z"
    }
   },
   "outputs": [
    {
     "data": {
      "text/plain": [
       "(C, P, B, K_P, g_P, e_P, R_P, m_P, g_B, e_B, R_B, m_B)"
      ]
     },
     "execution_count": 2,
     "metadata": {},
     "output_type": "execute_result"
    }
   ],
   "source": [
    "C,P,B,K_P, g_P,e_P,R_P,m_P, g_B,e_B,R_B,m_B = symbols(\"C P B K_P g_P e_P R_P m_P g_B e_B R_B m_B\", positive=true)"
   ]
  },
  {
   "cell_type": "markdown",
   "metadata": {},
   "source": [
    "## parameters\n",
    "symbol | unit | meaning\n",
    "--- | --- | ---\n",
    "$C$ | kgCm$^-3$ | system organic __C__arbon pool concentration\n",
    "$P$ | kgCm$^-3$ | system __P__hytoplankton Carbon pool concentration\n",
    "$B$ | kgCm$^-3$ | system _E. coli_ (__B__acteria) Carbon pool concentration\n",
    "$K_P$ | kgCm$^-3$ | system phytoplankton Carbon pool carrying capacity\n",
    "$g_P$ | t$^{-1}$ | growth rate of $P$\n",
    "$e_P$ | no | carbon assimilation efficiency of $P$\n",
    "$R_P$ | t$^{-1}$ | respiration rate of $P$\n",
    "$m_P$ | t$^{-1}$ | death rate of $P$\n",
    "$g_B$ | m$^3$(kgC$\\cdot$t)$^{-1}$ | growth rate per $B$ pool concentration unit\n",
    "$e_B$ | no | absorption efficiency of $B$\n",
    "$R_B$ | t$^{-1}$ | respiration rate of $B$\n",
    "$m_B$ | t$^{-1}$ | death rate of $B$\n",
    "\n",
    "## equation system\n",
    "\\begin{equation}\n",
    "\\left\\{\\begin{array}{rl}\n",
    "C'(t) &= (g_P(1-\\varepsilon_P)\\left(1-\\frac{P}{K_P}\\right) + m_P)P + (g_B(1-\\varepsilon_B)C + m_B)B\\\\\n",
    "P'(t) &= (g_P\\varepsilon_P \\left(1-\\frac{P}{K_P}\\right) - R_P - m_P)P\\\\\n",
    "B'(t) &= (g_B\\varepsilon_BC - R_B - m_B)B\\\\\n",
    "\\end{array}\\right.\n",
    "\\end{equation}\n",
    "\n",
    "## equation system visualization\n",
    "![](graph/ebc5.png)"
   ]
  },
  {
   "cell_type": "markdown",
   "metadata": {},
   "source": [
    "# numeric solve"
   ]
  },
  {
   "cell_type": "code",
   "execution_count": 3,
   "metadata": {
    "ExecuteTime": {
     "end_time": "2020-03-14T12:35:39.876000Z",
     "start_time": "2020-03-14T12:34:55.400Z"
    }
   },
   "outputs": [
    {
     "data": {
      "text/latex": [
       "\\begin{equation*}B \\left(C e_{B} g_{B} - R_{B} - m_{B}\\right) = 0\\end{equation*}"
      ],
      "text/plain": [
       "B⋅(C⋅e_B⋅g_B - R_B - m_B) = 0"
      ]
     },
     "execution_count": 3,
     "metadata": {},
     "output_type": "execute_result"
    }
   ],
   "source": [
    "C_eqm = Eq((g_P*(1 -e_P)*(1 -P/K_P) +m_P)*P + (g_B*(1 -e_B)*C +m_B)*B, 0)\n",
    "P_eqm = Eq((g_P*e_P*(1 -P/K_P) -R_P -m_P)*P, 0)\n",
    "B_eqm = Eq((g_B*e_B*C -R_B -m_B)*B, 0)"
   ]
  },
  {
   "cell_type": "markdown",
   "metadata": {},
   "source": [
    "## whole ODE system"
   ]
  },
  {
   "cell_type": "code",
   "execution_count": 4,
   "metadata": {
    "ExecuteTime": {
     "end_time": "2020-03-14T12:35:45.656000Z",
     "start_time": "2020-03-14T12:34:55.407Z"
    }
   },
   "outputs": [
    {
     "data": {
      "text/html": [
       "<table class=\"data-frame\"><thead><tr><th></th><th>var</th><th>value</th></tr><tr><th></th><th>String</th><th>Sym</th></tr></thead><tbody><p>3 rows × 2 columns</p><tr><th>1</th><td>C</td><td>(R_B + m_B)/(e_B*g_B)</td></tr><tr><th>2</th><td>P</td><td>-K_P*(R_P - e_P*g_P + m_P)/(e_P*g_P)</td></tr><tr><th>3</th><td>B</td><td>K_P*e_B*(R_P - e_P*g_P + m_P)*(R_P*e_P - R_P - m_P)/(e_P^2*g_P*(R_B*e_B - R_B - m_B))</td></tr></tbody></table>"
      ],
      "text/latex": [
       "\\begin{tabular}{r|cc}\n",
       "\t& var & value\\\\\n",
       "\t\\hline\n",
       "\t& String & Sym\\\\\n",
       "\t\\hline\n",
       "\t1 & C & \\begin{equation*}\\frac{R_{B} + m_{B}}{e_{B} g_{B}}\\end{equation*} \\\\\n",
       "\t2 & P & \\begin{equation*}- \\frac{K_{P} \\left(R_{P} - e_{P} g_{P} + m_{P}\\right)}{e_{P} g_{P}}\\end{equation*} \\\\\n",
       "\t3 & B & \\begin{equation*}\\frac{K_{P} e_{B} \\left(R_{P} - e_{P} g_{P} + m_{P}\\right) \\left(R_{P} e_{P} - R_{P} - m_{P}\\right)}{e_{P}^{2} g_{P} \\left(R_{B} e_{B} - R_{B} - m_{B}\\right)}\\end{equation*} \\\\\n",
       "\\end{tabular}\n"
      ],
      "text/plain": [
       "3×2 DataFrame. Omitted printing of 1 columns\n",
       "│ Row │ var    │\n",
       "│     │ \u001b[90mString\u001b[39m │\n",
       "├─────┼────────┤\n",
       "│ 1   │ C      │\n",
       "│ 2   │ P      │\n",
       "│ 3   │ B      │"
      ]
     },
     "execution_count": 4,
     "metadata": {},
     "output_type": "execute_result"
    }
   ],
   "source": [
    "sol = solve([C_eqm, P_eqm, B_eqm], [C, P, B])\n",
    "DataFrame(\n",
    "    var = [\"C\",\"P\",\"B\"],\n",
    "    value = [sol[1][1],sol[1][2],sol[1][3]]\n",
    ")"
   ]
  },
  {
   "cell_type": "code",
   "execution_count": 5,
   "metadata": {
    "ExecuteTime": {
     "end_time": "2020-03-14T12:35:45.756000Z",
     "start_time": "2020-03-14T12:34:55.412Z"
    }
   },
   "outputs": [
    {
     "data": {
      "text/latex": [
       "\\begin{equation*}\\frac{R_{B} + m_{B}}{e_{B} g_{B}}\\end{equation*}"
      ],
      "text/plain": [
       "R_B + m_B\n",
       "─────────\n",
       " e_B⋅g_B "
      ]
     },
     "execution_count": 5,
     "metadata": {},
     "output_type": "execute_result"
    }
   ],
   "source": [
    "sol[1][1] # C"
   ]
  },
  {
   "cell_type": "markdown",
   "metadata": {},
   "source": [
    "So $g_B$, $e_B$, $R_B$, $m_B$ can be any values within predefined ranges"
   ]
  },
  {
   "cell_type": "code",
   "execution_count": 6,
   "metadata": {
    "ExecuteTime": {
     "end_time": "2020-03-14T12:35:45.765000Z",
     "start_time": "2020-03-14T12:34:55.418Z"
    }
   },
   "outputs": [
    {
     "data": {
      "text/latex": [
       "\\begin{equation*}- \\frac{K_{P} \\left(R_{P} - e_{P} g_{P} + m_{P}\\right)}{e_{P} g_{P}} = 0\\end{equation*}"
      ],
      "text/plain": [
       "-K_P⋅(R_P - e_P⋅g_P + m_P)     \n",
       "─────────────────────────── = 0\n",
       "          e_P⋅g_P              "
      ]
     },
     "execution_count": 6,
     "metadata": {},
     "output_type": "execute_result"
    }
   ],
   "source": [
    "P0 = Eq(sol[1][2],0) # P"
   ]
  },
  {
   "cell_type": "code",
   "execution_count": 7,
   "metadata": {
    "ExecuteTime": {
     "end_time": "2020-03-14T12:35:47.123000Z",
     "start_time": "2020-03-14T12:34:55.423Z"
    }
   },
   "outputs": [
    {
     "data": {
      "text/plain": [
       "1-element Array{NTuple{5,Sym},1}:\n",
       " ((R_P + m_P)/e_P, e_P, R_P, m_P, K_P)"
      ]
     },
     "execution_count": 7,
     "metadata": {},
     "output_type": "execute_result"
    }
   ],
   "source": [
    "solve(P0, [g_P,e_P,R_P,m_P,K_P])"
   ]
  },
  {
   "cell_type": "markdown",
   "metadata": {},
   "source": [
    "[default sol'n]: $e_P$, $R_P$, $m_P$, $K_P$ can be any value; $g_P$ can only be larger than ($\\dfrac{R_P+m_P}{e_P}$)  \n",
    "Or other equivalent alternatives  \n",
    "__NOTE__: a fast-growing, high-efficiency phytoplankton is preferred & advantageous"
   ]
  },
  {
   "cell_type": "code",
   "execution_count": 8,
   "metadata": {
    "ExecuteTime": {
     "end_time": "2020-03-14T12:35:47.138000Z",
     "start_time": "2020-03-14T12:34:55.430Z"
    }
   },
   "outputs": [
    {
     "data": {
      "text/latex": [
       "\\begin{equation*}\\frac{K_{P} e_{B} \\left(R_{P} - e_{P} g_{P} + m_{P}\\right) \\left(R_{P} e_{P} - R_{P} - m_{P}\\right)}{e_{P}^{2} g_{P} \\left(R_{B} e_{B} - R_{B} - m_{B}\\right)} = 0\\end{equation*}"
      ],
      "text/plain": [
       "K_P⋅e_B⋅(R_P - e_P⋅g_P + m_P)⋅(R_P⋅e_P - R_P - m_P)    \n",
       "─────────────────────────────────────────────────── = 0\n",
       "              2                                        \n",
       "           e_P ⋅g_P⋅(R_B⋅e_B - R_B - m_B)              "
      ]
     },
     "execution_count": 8,
     "metadata": {},
     "output_type": "execute_result"
    }
   ],
   "source": [
    "B0 = Eq(sol[1][3],0) # B"
   ]
  },
  {
   "cell_type": "code",
   "execution_count": 9,
   "metadata": {
    "ExecuteTime": {
     "end_time": "2020-03-14T12:35:48.396000Z",
     "start_time": "2020-03-14T12:34:55.434Z"
    }
   },
   "outputs": [
    {
     "data": {
      "text/plain": [
       "2-element Array{NTuple{10,Sym},1}:\n",
       " (C, P, g_P, e_P, m_P/(e_P - 1), m_P, g_B, e_B, R_B, m_B)\n",
       " (C, P, g_P, e_P, e_P*g_P - m_P, m_P, g_B, e_B, R_B, m_B)"
      ]
     },
     "execution_count": 9,
     "metadata": {},
     "output_type": "execute_result"
    }
   ],
   "source": [
    "solve(B0, [C,P, g_P,e_P,R_P,m_P, g_B,e_B,R_B,m_B])"
   ]
  },
  {
   "cell_type": "markdown",
   "metadata": {},
   "source": [
    "Two eqm positions exist for $B$ > 0  \n",
    "All but one parameters can take any values  \n",
    "$R_P$ can only be either ($\\dfrac{m_P}{e_P-1}$) or ($e_P*g_P-m_P$); however ($\\dfrac{m_P}{e_P-1}$) < 0 $\\because$ 0 $\\leq e_P\\leq$ 1, so the only solution is ($e_P*g_P-m_P$) with ($e_P*g_P$) > $m_P$ (the former solution has to be rejected as $R_P$ is a non-negative number)  \n",
    "__NOTE__: the above deduction also favours high growth rate high efficiency low death rate phytoplankton lineages"
   ]
  },
  {
   "cell_type": "markdown",
   "metadata": {},
   "source": [
    "## $P$ & partial-$C$ equation isolation"
   ]
  },
  {
   "cell_type": "code",
   "execution_count": 10,
   "metadata": {
    "ExecuteTime": {
     "end_time": "2020-03-14T12:35:49.317000Z",
     "start_time": "2020-03-14T12:34:55.441Z"
    }
   },
   "outputs": [
    {
     "data": {
      "text/plain": [
       "0-element Array{Any,1}"
      ]
     },
     "execution_count": 10,
     "metadata": {},
     "output_type": "execute_result"
    }
   ],
   "source": [
    "C_eqmP = Eq((g_P*(1 -e_P)*(1 -P/K_P) +m_P)*P, 0)\n",
    "sol = solve([C_eqmP, P_eqm], [C, P])"
   ]
  },
  {
   "cell_type": "markdown",
   "metadata": {},
   "source": [
    "## $B$ & partial-$C$ equation isolation"
   ]
  },
  {
   "cell_type": "code",
   "execution_count": 11,
   "metadata": {
    "ExecuteTime": {
     "end_time": "2020-03-14T12:35:49.382000Z",
     "start_time": "2020-03-14T12:34:55.446Z"
    }
   },
   "outputs": [
    {
     "data": {
      "text/plain": [
       "0-element Array{Any,1}"
      ]
     },
     "execution_count": 11,
     "metadata": {},
     "output_type": "execute_result"
    }
   ],
   "source": [
    "C_eqmB = Eq((g_B*(1 -e_B)*C +m_B)*B, 0)\n",
    "sol = solve([C_eqmB, B_eqm], [C, B])"
   ]
  },
  {
   "cell_type": "markdown",
   "metadata": {},
   "source": [
    "# conclusion\n",
    "From above numeric analysis, the system only limits the use of phytoplankton lineages.  High growth rate, high carbon-assimilation efficiency (i.e. low leakage) and low death rate lineages are required.  \n",
    "On the other hand, flexible _E. coli_ limits are observed.  Hence the idea of incorporating high CUE phytoplankton, low CUE _E. coli_ works, as long as electricity generation calculation also allows low CUE _E. coli_ to serve.\n",
    "\n",
    "# ODE system variation\n",
    "## parameters\n",
    "symbol | unit | meaning\n",
    "--- | --- | ---\n",
    "$C$ | kgCm$^-3$ | system organic __C__arbon pool concentration\n",
    "$P$ | kgCm$^-3$ | system __P__hytoplankton Carbon pool concentration\n",
    "$B$ | kgCm$^-3$ | system _E. coli_ (__B__acteria) Carbon pool concentration\n",
    "$a_P$ | $m^3(kgC)^{-1}$ | intraspecific density dependence coefficient\n",
    "$g_P$ | t$^{-1}$ | growth rate of $P$\n",
    "$e_P$ | no | carbon assimilation efficiency of $P$\n",
    "$R_P$ | t$^{-1}$ | respiration rate of $P$\n",
    "$m_P$ | t$^{-1}$ | death rate of $P$\n",
    "$g_B$ | m$^3$(kgC$\\cdot$t)$^{-1}$ | growth rate per $B$ pool concentration unit\n",
    "$e_B$ | no | absorption efficiency of $B$\n",
    "$R_B$ | t$^{-1}$ | respiration rate of $B$\n",
    "$m_B$ | t$^{-1}$ | death rate of $B$\n",
    "\n",
    "## equation system\n",
    "\\begin{equation}\n",
    "\\left\\{\\begin{array}{rl}\n",
    "C'(t) &= (g_P(1-\\varepsilon_P) + a_PP + m_P)P + (g_B(1-\\varepsilon_B)C + m_B)B\\\\\n",
    "P'(t) &= (g_P\\varepsilon_P - a_PP - R_P - m_P)P\\\\\n",
    "B'(t) &= (g_B\\varepsilon_BC - R_B - m_B)B\\\\\n",
    "\\end{array}\\right.\n",
    "\\end{equation}\n",
    "\n",
    "## equation system visualization\n",
    "![](graph/ebc6.png)\n",
    "## equation system"
   ]
  },
  {
   "cell_type": "code",
   "execution_count": 12,
   "metadata": {
    "ExecuteTime": {
     "end_time": "2020-03-14T12:35:49.390000Z",
     "start_time": "2020-03-14T12:34:55.451Z"
    }
   },
   "outputs": [
    {
     "data": {
      "text/plain": [
       "(C, P, B, a_P, g_P, e_P, R_P, m_P, g_B, e_B, R_B, m_B)"
      ]
     },
     "execution_count": 12,
     "metadata": {},
     "output_type": "execute_result"
    }
   ],
   "source": [
    "## initialise variables\n",
    "C,P,B,a_P, g_P,e_P,R_P,m_P, g_B,e_B,R_B,m_B = symbols(\"C P B a_P g_P e_P R_P m_P g_B e_B R_B m_B\", positive=true)"
   ]
  },
  {
   "cell_type": "code",
   "execution_count": 18,
   "metadata": {
    "ExecuteTime": {
     "end_time": "2020-03-14T12:43:39.993000Z",
     "start_time": "2020-03-14T12:43:39.776Z"
    }
   },
   "outputs": [
    {
     "data": {
      "text/html": [
       "<table class=\"data-frame\"><thead><tr><th></th><th>var</th><th>value</th></tr><tr><th></th><th>String</th><th>Sym</th></tr></thead><tbody><p>3 rows × 2 columns</p><tr><th>1</th><td>C</td><td>(R_B + m_B)/(e_B*g_B)</td></tr><tr><th>2</th><td>P</td><td>-(R_P - e_P*g_P + m_P)/a_P</td></tr><tr><th>3</th><td>B</td><td>e_B*(R_P - g_P)*(R_P - e_P*g_P + m_P)/(a_P*(R_B*e_B - R_B - m_B))</td></tr></tbody></table>"
      ],
      "text/latex": [
       "\\begin{tabular}{r|cc}\n",
       "\t& var & value\\\\\n",
       "\t\\hline\n",
       "\t& String & Sym\\\\\n",
       "\t\\hline\n",
       "\t1 & C & \\begin{equation*}\\frac{R_{B} + m_{B}}{e_{B} g_{B}}\\end{equation*} \\\\\n",
       "\t2 & P & \\begin{equation*}- \\frac{R_{P} - e_{P} g_{P} + m_{P}}{a_{P}}\\end{equation*} \\\\\n",
       "\t3 & B & \\begin{equation*}\\frac{e_{B} \\left(R_{P} - g_{P}\\right) \\left(R_{P} - e_{P} g_{P} + m_{P}\\right)}{a_{P} \\left(R_{B} e_{B} - R_{B} - m_{B}\\right)}\\end{equation*} \\\\\n",
       "\\end{tabular}\n"
      ],
      "text/plain": [
       "3×2 DataFrame. Omitted printing of 1 columns\n",
       "│ Row │ var    │\n",
       "│     │ \u001b[90mString\u001b[39m │\n",
       "├─────┼────────┤\n",
       "│ 1   │ C      │\n",
       "│ 2   │ P      │\n",
       "│ 3   │ B      │"
      ]
     },
     "execution_count": 18,
     "metadata": {},
     "output_type": "execute_result"
    }
   ],
   "source": [
    "C_eqm = Eq((g_P*(1 -e_P) +a_P*P +m_P)*P + (g_B*(1 -e_B)*C +m_B)*B, 0)\n",
    "P_eqm = Eq((g_P*e_P -a_P*P -R_P -m_P)*P, 0)\n",
    "B_eqm = Eq((g_B*e_B*C -R_B -m_B)*B, 0)\n",
    "sol = solve([C_eqm, P_eqm, B_eqm], [C, P, B])\n",
    "DataFrame(\n",
    "    var = [\"C\",\"P\",\"B\"],\n",
    "    value = [sol[1][1],sol[1][2],sol[1][3]]\n",
    ")"
   ]
  },
  {
   "cell_type": "markdown",
   "metadata": {},
   "source": [
    "$C$ is having a value always positive, so the four parameters about bacteria can take any values"
   ]
  },
  {
   "cell_type": "code",
   "execution_count": 19,
   "metadata": {
    "ExecuteTime": {
     "end_time": "2020-03-14T12:48:00.923000Z",
     "start_time": "2020-03-14T12:48:00.827Z"
    }
   },
   "outputs": [
    {
     "data": {
      "text/plain": [
       "1-element Array{NTuple{5,Sym},1}:\n",
       " ((R_P + m_P)/e_P, e_P, R_P, m_P, a_P)"
      ]
     },
     "execution_count": 19,
     "metadata": {},
     "output_type": "execute_result"
    }
   ],
   "source": [
    "P0 = solve(Eq(sol[1][2],0),[g_P,e_P,R_P,m_P,a_P])"
   ]
  },
  {
   "cell_type": "markdown",
   "metadata": {},
   "source": [
    "although the equation of $P$ carbon pool looks different from the previous version, this hindrance factor $a_P$ do not change the result of other parameters"
   ]
  },
  {
   "cell_type": "code",
   "execution_count": 20,
   "metadata": {
    "ExecuteTime": {
     "end_time": "2020-03-14T12:51:18.212000Z",
     "start_time": "2020-03-14T12:51:17.233Z"
    }
   },
   "outputs": [
    {
     "data": {
      "text/plain": [
       "2-element Array{NTuple{9,Sym},1}:\n",
       " (R_P, e_P, R_P, m_P, a_P, g_B, e_B, R_B, m_B)            \n",
       " (g_P, (R_P + m_P)/g_P, R_P, m_P, a_P, g_B, e_B, R_B, m_B)"
      ]
     },
     "execution_count": 20,
     "metadata": {},
     "output_type": "execute_result"
    }
   ],
   "source": [
    "B0 = solve(Eq(sol[1][3],0),[g_P,e_P,R_P,m_P,a_P,g_B,e_B,R_B,m_B])"
   ]
  },
  {
   "cell_type": "markdown",
   "metadata": {},
   "source": [
    "There are two solutions, and only limiting phytoplankton growth rate ($g_P$), assimilation efficiency ($e_P$) and respiration rate ($R_P$).  However the first solution is rejected because it would result in a consistently decreasing $P$ population, which leads to population crash (eqm position of $P$ = 0).  \n",
    "The second solution only limit assimilation efficiency, which only phytoplankton lineages with low efficiency ($e_P < \\dfrac{R_P + m_P}{g_P}$).  This system also can infer further, which for slow-grower phytoplankton (low $g_P$) the efficiency limit is loosen (large $\\dfrac{R_P + m_P}{g_P}$ value); however for fast growers the assimilation efficiency has to be low, with a inverted linear relationship with its growth rate.\n",
    "## conclusion on varied system\n",
    "If intraspecific hindrance is considered instead of carrying capacity, phytoplankton is still the only component with parameter restriction.  Growth rate is found to be only acceptable in the system linearly inverted to its assimilation efficiency."
   ]
  }
 ],
 "metadata": {
  "kernelspec": {
   "display_name": "Julia 1.3.1",
   "language": "julia",
   "name": "julia-1.3"
  },
  "language_info": {
   "file_extension": ".jl",
   "mimetype": "application/julia",
   "name": "julia",
   "version": "1.3.1"
  },
  "latex_envs": {
   "LaTeX_envs_menu_present": true,
   "autoclose": true,
   "autocomplete": true,
   "bibliofile": "biblio.bib",
   "cite_by": "apalike",
   "current_citInitial": 1,
   "eqLabelWithNumbers": true,
   "eqNumInitial": 1,
   "hotkeys": {
    "equation": "Ctrl-E",
    "itemize": "Ctrl-I"
   },
   "labels_anchors": false,
   "latex_user_defs": false,
   "report_style_numbering": true,
   "user_envs_cfg": true
  },
  "toc": {
   "base_numbering": 1,
   "nav_menu": {},
   "number_sections": true,
   "sideBar": true,
   "skip_h1_title": false,
   "title_cell": "Table of Contents",
   "title_sidebar": "Contents",
   "toc_cell": true,
   "toc_position": {},
   "toc_section_display": true,
   "toc_window_display": true
  },
  "varInspector": {
   "cols": {
    "lenName": 16,
    "lenType": 16,
    "lenVar": 40
   },
   "kernels_config": {
    "python": {
     "delete_cmd_postfix": "",
     "delete_cmd_prefix": "del ",
     "library": "var_list.py",
     "varRefreshCmd": "print(var_dic_list())"
    },
    "r": {
     "delete_cmd_postfix": ") ",
     "delete_cmd_prefix": "rm(",
     "library": "var_list.r",
     "varRefreshCmd": "cat(var_dic_list()) "
    }
   },
   "types_to_exclude": [
    "module",
    "function",
    "builtin_function_or_method",
    "instance",
    "_Feature"
   ],
   "window_display": true
  }
 },
 "nbformat": 4,
 "nbformat_minor": 4
}
