{
 "cells": [
  {
   "cell_type": "markdown",
   "metadata": {
    "toc": true
   },
   "source": [
    "<h1>Table of Contents<span class=\"tocSkip\"></span></h1>\n",
    "<div class=\"toc\"><ul class=\"toc-item\"><li><span><a href=\"#latest-model-(Allen-et-al,-2005)\" data-toc-modified-id=\"latest-model-(Allen-et-al,-2005)-1\"><span class=\"toc-item-num\">1&nbsp;&nbsp;</span>latest model (Allen et al, 2005)</a></span></li><li><span><a href=\"#model-adaptation\" data-toc-modified-id=\"model-adaptation-2\"><span class=\"toc-item-num\">2&nbsp;&nbsp;</span>model adaptation</a></span></li><li><span><a href=\"#comparison\" data-toc-modified-id=\"comparison-3\"><span class=\"toc-item-num\">3&nbsp;&nbsp;</span>comparison</a></span><ul class=\"toc-item\"><li><span><a href=\"#adapted-model\" data-toc-modified-id=\"adapted-model-3.1\"><span class=\"toc-item-num\">3.1&nbsp;&nbsp;</span>adapted model</a></span></li></ul></li></ul></div>"
   ]
  },
  {
   "cell_type": "code",
   "execution_count": 1,
   "metadata": {
    "ExecuteTime": {
     "end_time": "2020-03-26T14:23:26.163000Z",
     "start_time": "2020-03-26T14:23:13.026Z"
    }
   },
   "outputs": [
    {
     "name": "stdout",
     "output_type": "stream",
     "text": [
      "\n"
     ]
    }
   ],
   "source": [
    "using PyCall, DataFrames, SymPy\n",
    "mt = pyimport(\"math\")\n",
    "sc = pyimport(\"scipy\")\n",
    "cst = pyimport(\"scipy.constants\")\n",
    "sympy.init_printing() ## use other py3 function not implemented in native Julia-lang, http://mth229.github.io/symbolic.html\n",
    "println()"
   ]
  },
  {
   "cell_type": "markdown",
   "metadata": {},
   "source": [
    "# latest model (Allen et al, 2005)\n",
    "![](graph/paper2005.png)"
   ]
  },
  {
   "cell_type": "markdown",
   "metadata": {},
   "source": [
    "# model adaptation\n",
    "![](graph/ebc7.png)\n",
    "\n",
    "\\begin{equation}\\left\\{\\begin{array}{rl}\n",
    "C'(t) &= (1-\\varepsilon_P)\\varepsilon_{PR}P_0e^{-E_P/kT}P^{0.75} +a_PP^2 -B_0e^{-E_B/kT}B^{0.75} -g_B\\varepsilon_{B}CB +m_BB\\\\\n",
    "P'(t) &= \\varepsilon_P\\varepsilon_{PR}P_0e^{-E_P/kT}P^{0.75} -a_PP^2\\\\\n",
    "B'(t) &= g_B\\varepsilon_{B}CB -m_BB\n",
    "\\end{array}\\right.\\end{equation}"
   ]
  },
  {
   "cell_type": "code",
   "execution_count": 2,
   "metadata": {
    "ExecuteTime": {
     "end_time": "2020-03-26T14:23:31.884000Z",
     "start_time": "2020-03-26T14:23:13.033Z"
    }
   },
   "outputs": [
    {
     "data": {
      "text/plain": [
       "(k, E_P, E_B, x, T, e_P, e_S, P_0, a_P, B_0, g_B, e_B, m_B)"
      ]
     },
     "execution_count": 2,
     "metadata": {},
     "output_type": "execute_result"
    }
   ],
   "source": [
    "@vars C P B\n",
    "k,E_P,E_B,x,T, e_P,e_S,P_0,a_P, B_0,g_B,e_B,m_B = symbols(\"k E_P E_B x T e_P e_S P_0 a_P B_0 g_B e_B m_B\")"
   ]
  },
  {
   "cell_type": "code",
   "execution_count": 3,
   "metadata": {
    "ExecuteTime": {
     "end_time": "2020-03-26T14:23:33.063000Z",
     "start_time": "2020-03-26T14:23:13.038Z"
    }
   },
   "outputs": [
    {
     "data": {
      "text/latex": [
       "\\begin{equation*}B C e_{B} g_{B} - B m_{B}\\end{equation*}"
      ],
      "text/plain": [
       "B⋅C⋅e_B⋅g_B - B⋅m_B"
      ]
     },
     "execution_count": 3,
     "metadata": {},
     "output_type": "execute_result"
    }
   ],
   "source": [
    "Ct = (1-e_P)*e_S*P_0*exp(-E_P/(k*T))*P^x +a_P*P^2 -B_0*exp(-E_B/(k*T))*B^x -g_B*e_B*C*B +m_B*B\n",
    "Pt = e_P*e_S*P_0*exp(-E_P/(k*T))*P^x -a_P*P^2\n",
    "Bt = g_B*e_B*C*B -m_B*B"
   ]
  },
  {
   "cell_type": "code",
   "execution_count": 4,
   "metadata": {
    "ExecuteTime": {
     "end_time": "2020-03-26T14:23:39.590000Z",
     "start_time": "2020-03-26T14:23:13.043Z"
    }
   },
   "outputs": [
    {
     "data": {
      "text/plain": [
       "2-element Array{Tuple{Sym,Sym,Sym},1}:\n",
       " (C, (P_0*e_P*e_S*exp(-E_P/(T*k))/a_P)^(-1/(x - 2)), 0)            \n",
       " (m_B/(e_B*g_B), (P_0*e_P*e_S*exp(-E_P/(T*k))/a_P)^(-1/(x - 2)), B)"
      ]
     },
     "execution_count": 4,
     "metadata": {},
     "output_type": "execute_result"
    }
   ],
   "source": [
    "ss = solve([Eq(Ct,0),Eq(Pt,0),Eq(Bt,0)],[C,P,B])\n",
    "ss"
   ]
  },
  {
   "cell_type": "markdown",
   "metadata": {},
   "source": [
    "# comparison"
   ]
  },
  {
   "cell_type": "markdown",
   "metadata": {},
   "source": [
    "## adapted model"
   ]
  },
  {
   "cell_type": "code",
   "execution_count": 5,
   "metadata": {
    "ExecuteTime": {
     "end_time": "2020-03-26T14:23:40.572000Z",
     "start_time": "2020-03-26T14:23:13.048Z"
    }
   },
   "outputs": [
    {
     "data": {
      "text/latex": [
       "\\[ \\left[ \\begin{array}{r}\\frac{m_{B}}{e_{B} g_{B}}\\\\\\left(\\frac{P_{0} e_{P} e_{S} e^{- \\frac{E_{P}}{T k}}}{a_{P}}\\right)^{- \\frac{1}{x - 2}}\\\\B\\end{array} \\right] \\]"
      ],
      "text/plain": [
       "3-element Array{Sym,1}:\n",
       "                                  m_B/(e_B*g_B)\n",
       " (P_0*e_P*e_S*exp(-E_P/(T*k))/a_P)^(-1/(x - 2))\n",
       "                                              B"
      ]
     },
     "execution_count": 5,
     "metadata": {},
     "output_type": "execute_result"
    }
   ],
   "source": [
    "[ss[2][1],ss[2][2],ss[2][3]]"
   ]
  },
  {
   "cell_type": "code",
   "execution_count": null,
   "metadata": {},
   "outputs": [],
   "source": []
  }
 ],
 "metadata": {
  "kernelspec": {
   "display_name": "Julia 1.3.1",
   "language": "julia",
   "name": "julia-1.3"
  },
  "language_info": {
   "file_extension": ".jl",
   "mimetype": "application/julia",
   "name": "julia",
   "version": "1.3.1"
  },
  "latex_envs": {
   "LaTeX_envs_menu_present": true,
   "autoclose": true,
   "autocomplete": false,
   "bibliofile": "biblio.bib",
   "cite_by": "apalike",
   "current_citInitial": 1,
   "eqLabelWithNumbers": true,
   "eqNumInitial": 1,
   "hotkeys": {
    "equation": "Ctrl-E",
    "itemize": "Ctrl-I"
   },
   "labels_anchors": false,
   "latex_user_defs": false,
   "report_style_numbering": true,
   "user_envs_cfg": false
  },
  "toc": {
   "base_numbering": 1,
   "nav_menu": {},
   "number_sections": true,
   "sideBar": true,
   "skip_h1_title": false,
   "title_cell": "Table of Contents",
   "title_sidebar": "Contents",
   "toc_cell": true,
   "toc_position": {},
   "toc_section_display": true,
   "toc_window_display": true
  },
  "varInspector": {
   "cols": {
    "lenName": 16,
    "lenType": 16,
    "lenVar": 40
   },
   "kernels_config": {
    "python": {
     "delete_cmd_postfix": "",
     "delete_cmd_prefix": "del ",
     "library": "var_list.py",
     "varRefreshCmd": "print(var_dic_list())"
    },
    "r": {
     "delete_cmd_postfix": ") ",
     "delete_cmd_prefix": "rm(",
     "library": "var_list.r",
     "varRefreshCmd": "cat(var_dic_list()) "
    }
   },
   "types_to_exclude": [
    "module",
    "function",
    "builtin_function_or_method",
    "instance",
    "_Feature"
   ],
   "window_display": true
  }
 },
 "nbformat": 4,
 "nbformat_minor": 4
}
