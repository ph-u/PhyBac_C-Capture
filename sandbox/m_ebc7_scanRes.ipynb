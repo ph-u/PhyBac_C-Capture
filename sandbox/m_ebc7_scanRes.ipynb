{
 "cells": [
  {
   "cell_type": "markdown",
   "metadata": {
    "toc": true
   },
   "source": [
    "<h1>Table of Contents<span class=\"tocSkip\"></span></h1>\n",
    "<div class=\"toc\"><ul class=\"toc-item\"><li><span><a href=\"#aim-and-objective\" data-toc-modified-id=\"aim-and-objective-1\"><span class=\"toc-item-num\">1&nbsp;&nbsp;</span>aim and objective</a></span></li><li><span><a href=\"#env-set-up,-data-exploration\" data-toc-modified-id=\"env-set-up,-data-exploration-2\"><span class=\"toc-item-num\">2&nbsp;&nbsp;</span>env set-up, data exploration</a></span></li><li><span><a href=\"#animated-plot-demo\" data-toc-modified-id=\"animated-plot-demo-3\"><span class=\"toc-item-num\">3&nbsp;&nbsp;</span>animated plot demo</a></span></li></ul></div>"
   ]
  },
  {
   "cell_type": "markdown",
   "metadata": {},
   "source": [
    "# aim and objective\n",
    "scan result animated surface plot scan to show individual factors effects  \n",
    "scan result only contains resultant carbon density $>$0.1 gCm$^{-3}$ in every carbon pools considered (i.e. org-C, org-P, org-B)\n",
    "# env set-up, data exploration"
   ]
  },
  {
   "cell_type": "code",
   "execution_count": 6,
   "metadata": {
    "ExecuteTime": {
     "end_time": "2020-04-15T23:24:15.211000+01:00",
     "start_time": "2020-04-15T22:24:14.977Z"
    }
   },
   "outputs": [],
   "source": [
    "using DataFrames, CSV, RCall, Plots"
   ]
  },
  {
   "cell_type": "code",
   "execution_count": null,
   "metadata": {
    "ExecuteTime": {
     "start_time": "2020-04-15T22:24:16.566Z"
    }
   },
   "outputs": [],
   "source": [
    "rAw = CSV.read(\"../result/maxYield_0.1.csv\")"
   ]
  },
  {
   "cell_type": "code",
   "execution_count": 3,
   "metadata": {
    "ExecuteTime": {
     "end_time": "2020-04-15T23:22:10.280000+01:00",
     "start_time": "2020-04-15T22:21:15.224Z"
    }
   },
   "outputs": [
    {
     "data": {
      "text/plain": [
       "Dict{String,Array{Float64,1}} with 9 entries:\n",
       "  \"mB\"  => [0.1, 0.3, 0.5, 0.7, 0.9]\n",
       "  \"ePR\" => [0.5, 0.6, 0.7, 0.8, 0.9, 1.0]\n",
       "  \"eP\"  => [0.5, 0.6, 0.7, 0.8, 0.9, 1.0]\n",
       "  \"gP\"  => [0.1, 0.3, 0.5, 0.7, 0.9, 1.1, 1.3, 1.5, 1.7, 1.9]\n",
       "  \"x\"   => [0.0, 0.2, 0.4, 0.6, 0.8, 1.0]\n",
       "  \"eB\"  => [0.8, 0.9, 1.0, 0.6, 0.7, 0.5]\n",
       "  \"gB\"  => [0.1, 0.3, 0.5, 0.7, 0.9, 1.1, 1.3, 1.5, 1.7, 1.9]\n",
       "  \"aP\"  => [0.1, 0.3, 0.5, 0.7, 0.9]\n",
       "  \"eBR\" => [0.5, 0.6, 0.7, 0.8, 0.9, 1.0]"
      ]
     },
     "execution_count": 3,
     "metadata": {},
     "output_type": "execute_result"
    }
   ],
   "source": [
    "Dict(\n",
    "    \"x\" => unique(rAw[:,1]),\n",
    "    \"ePR\" => unique(rAw[:,2]),\n",
    "    \"eP\" => unique(rAw[:,3]),\n",
    "    \"gP\" => unique(rAw[:,4]),\n",
    "    \"aP\" => unique(rAw[:,5]),\n",
    "    \"eBR\" => unique(rAw[:,6]),\n",
    "    \"eB\" => unique(rAw[:,7]),\n",
    "    \"gB\" => unique(rAw[:,8]),\n",
    "    \"mB\" => unique(rAw[:,9])\n",
    ")"
   ]
  },
  {
   "cell_type": "code",
   "execution_count": 4,
   "metadata": {
    "ExecuteTime": {
     "end_time": "2020-04-15T23:22:22.992000+01:00",
     "start_time": "2020-04-15T22:21:16.414Z"
    }
   },
   "outputs": [
    {
     "data": {
      "text/html": [
       "<table class=\"data-frame\"><thead><tr><th></th><th>variable</th><th>mean</th><th>min</th><th>median</th><th>max</th><th>nunique</th><th>nmissing</th><th>eltype</th></tr><tr><th></th><th>Symbol</th><th>Float64</th><th>Float64</th><th>Float64</th><th>Float64</th><th>Nothing</th><th>Nothing</th><th>DataType</th></tr></thead><tbody><p>13 rows × 8 columns</p><tr><th>1</th><td>x</td><td>0.434891</td><td>0.0</td><td>0.4</td><td>1.0</td><td></td><td></td><td>Float64</td></tr><tr><th>2</th><td>e_PR</td><td>0.766669</td><td>0.5</td><td>0.8</td><td>1.0</td><td></td><td></td><td>Float64</td></tr><tr><th>3</th><td>e_P</td><td>0.758606</td><td>0.5</td><td>0.8</td><td>1.0</td><td></td><td></td><td>Float64</td></tr><tr><th>4</th><td>g_P</td><td>1.19918</td><td>0.1</td><td>1.3</td><td>1.9</td><td></td><td></td><td>Float64</td></tr><tr><th>5</th><td>a_P</td><td>0.457201</td><td>0.1</td><td>0.5</td><td>0.9</td><td></td><td></td><td>Float64</td></tr><tr><th>6</th><td>e_BR</td><td>0.731985</td><td>0.5</td><td>0.7</td><td>1.0</td><td></td><td></td><td>Float64</td></tr><tr><th>7</th><td>e_B</td><td>0.753428</td><td>0.5</td><td>0.8</td><td>1.0</td><td></td><td></td><td>Float64</td></tr><tr><th>8</th><td>g_B</td><td>1.06245</td><td>0.1</td><td>1.1</td><td>1.9</td><td></td><td></td><td>Float64</td></tr><tr><th>9</th><td>m_B</td><td>0.47293</td><td>0.1</td><td>0.5</td><td>0.9</td><td></td><td></td><td>Float64</td></tr><tr><th>10</th><td>eqmC</td><td>1.5369</td><td>0.101</td><td>0.8013</td><td>36.0</td><td></td><td></td><td>Float64</td></tr><tr><th>11</th><td>eqmP</td><td>2.69661</td><td>0.1</td><td>1.52</td><td>19.0</td><td></td><td></td><td>Float64</td></tr><tr><th>12</th><td>eqmB</td><td>Inf</td><td>0.1</td><td>7.94</td><td>Inf</td><td></td><td></td><td>Float64</td></tr><tr><th>13</th><td>eqmA</td><td>Inf</td><td>0.3052</td><td>12.28</td><td>Inf</td><td></td><td></td><td>Float64</td></tr></tbody></table>"
      ],
      "text/latex": [
       "\\begin{tabular}{r|cccccccc}\n",
       "\t& variable & mean & min & median & max & nunique & nmissing & eltype\\\\\n",
       "\t\\hline\n",
       "\t& Symbol & Float64 & Float64 & Float64 & Float64 & Nothing & Nothing & DataType\\\\\n",
       "\t\\hline\n",
       "\t1 & x & 0.434891 & 0.0 & 0.4 & 1.0 &  &  & Float64 \\\\\n",
       "\t2 & e\\_PR & 0.766669 & 0.5 & 0.8 & 1.0 &  &  & Float64 \\\\\n",
       "\t3 & e\\_P & 0.758606 & 0.5 & 0.8 & 1.0 &  &  & Float64 \\\\\n",
       "\t4 & g\\_P & 1.19918 & 0.1 & 1.3 & 1.9 &  &  & Float64 \\\\\n",
       "\t5 & a\\_P & 0.457201 & 0.1 & 0.5 & 0.9 &  &  & Float64 \\\\\n",
       "\t6 & e\\_BR & 0.731985 & 0.5 & 0.7 & 1.0 &  &  & Float64 \\\\\n",
       "\t7 & e\\_B & 0.753428 & 0.5 & 0.8 & 1.0 &  &  & Float64 \\\\\n",
       "\t8 & g\\_B & 1.06245 & 0.1 & 1.1 & 1.9 &  &  & Float64 \\\\\n",
       "\t9 & m\\_B & 0.47293 & 0.1 & 0.5 & 0.9 &  &  & Float64 \\\\\n",
       "\t10 & eqmC & 1.5369 & 0.101 & 0.8013 & 36.0 &  &  & Float64 \\\\\n",
       "\t11 & eqmP & 2.69661 & 0.1 & 1.52 & 19.0 &  &  & Float64 \\\\\n",
       "\t12 & eqmB & Inf & 0.1 & 7.94 & Inf &  &  & Float64 \\\\\n",
       "\t13 & eqmA & Inf & 0.3052 & 12.28 & Inf &  &  & Float64 \\\\\n",
       "\\end{tabular}\n"
      ],
      "text/plain": [
       "13×8 DataFrame. Omitted printing of 1 columns\n",
       "│ Row │ variable │ mean     │ min     │ median  │ max     │ nunique │ nmissing │\n",
       "│     │ \u001b[90mSymbol\u001b[39m   │ \u001b[90mFloat64\u001b[39m  │ \u001b[90mFloat64\u001b[39m │ \u001b[90mFloat64\u001b[39m │ \u001b[90mFloat64\u001b[39m │ \u001b[90mNothing\u001b[39m │ \u001b[90mNothing\u001b[39m  │\n",
       "├─────┼──────────┼──────────┼─────────┼─────────┼─────────┼─────────┼──────────┤\n",
       "│ 1   │ x        │ 0.434891 │ 0.0     │ 0.4     │ 1.0     │         │          │\n",
       "│ 2   │ e_PR     │ 0.766669 │ 0.5     │ 0.8     │ 1.0     │         │          │\n",
       "│ 3   │ e_P      │ 0.758606 │ 0.5     │ 0.8     │ 1.0     │         │          │\n",
       "│ 4   │ g_P      │ 1.19918  │ 0.1     │ 1.3     │ 1.9     │         │          │\n",
       "│ 5   │ a_P      │ 0.457201 │ 0.1     │ 0.5     │ 0.9     │         │          │\n",
       "│ 6   │ e_BR     │ 0.731985 │ 0.5     │ 0.7     │ 1.0     │         │          │\n",
       "│ 7   │ e_B      │ 0.753428 │ 0.5     │ 0.8     │ 1.0     │         │          │\n",
       "│ 8   │ g_B      │ 1.06245  │ 0.1     │ 1.1     │ 1.9     │         │          │\n",
       "│ 9   │ m_B      │ 0.47293  │ 0.1     │ 0.5     │ 0.9     │         │          │\n",
       "│ 10  │ eqmC     │ 1.5369   │ 0.101   │ 0.8013  │ 36.0    │         │          │\n",
       "│ 11  │ eqmP     │ 2.69661  │ 0.1     │ 1.52    │ 19.0    │         │          │\n",
       "│ 12  │ eqmB     │ Inf      │ 0.1     │ 7.94    │ Inf     │         │          │\n",
       "│ 13  │ eqmA     │ Inf      │ 0.3052  │ 12.28   │ Inf     │         │          │"
      ]
     },
     "execution_count": 4,
     "metadata": {},
     "output_type": "execute_result"
    }
   ],
   "source": [
    "describe(rAw)"
   ]
  },
  {
   "cell_type": "markdown",
   "metadata": {},
   "source": [
    "# animated plot demo"
   ]
  },
  {
   "cell_type": "code",
   "execution_count": 5,
   "metadata": {
    "ExecuteTime": {
     "end_time": "2020-04-15T23:22:27.828000+01:00",
     "start_time": "2020-04-15T22:21:21.682Z"
    }
   },
   "outputs": [
    {
     "data": {
      "text/plain": [
       "RObject{VecSxp}\n",
       "[[1]]\n",
       "[1] 0.0 0.2 0.4 0.6 0.8 1.0\n",
       "\n",
       "[[2]]\n",
       "[1] 0.5 0.6 0.7 0.8 0.9 1.0\n",
       "\n",
       "[[3]]\n",
       "[1] 0.5 0.6 0.7 0.8 0.9 1.0\n",
       "\n",
       "[[4]]\n",
       " [1] 0.1 0.3 0.5 0.7 0.9 1.1 1.3 1.5 1.7 1.9\n",
       "\n",
       "[[5]]\n",
       "[1] 0.1 0.3 0.5 0.7 0.9\n",
       "\n",
       "[[6]]\n",
       "[1] 0.5 0.6 0.7 0.8 0.9 1.0\n",
       "\n",
       "[[7]]\n",
       "[1] 0.8 0.9 1.0 0.6 0.7 0.5\n",
       "\n",
       "[[8]]\n",
       " [1] 0.1 0.3 0.5 0.7 0.9 1.1 1.3 1.5 1.7 1.9\n",
       "\n",
       "[[9]]\n",
       "[1] 0.1 0.3 0.5 0.7 0.9\n",
       "\n"
      ]
     },
     "execution_count": 5,
     "metadata": {},
     "output_type": "execute_result"
    }
   ],
   "source": [
    "@rput rAw\n",
    "R\"\n",
    "u0 = vector(mode='list', length=9)\n",
    "for(i in 1:9){\n",
    "    u0[[i]] = unique(rAw[,i])\n",
    "};rm(i)\n",
    "u0\n",
    "\""
   ]
  },
  {
   "cell_type": "code",
   "execution_count": null,
   "metadata": {
    "ExecuteTime": {
     "start_time": "2020-04-15T22:17:28.528Z"
    }
   },
   "outputs": [],
   "source": [
    "setPara = [1 2 2 1 2 2 2 2 3] # 9 default parameter\n",
    "colChg = 1 # col for animation\n",
    "xyAxis =[4 8 10] # xyz axis col\n",
    "aa = @animate for i in 1:length(unique(rAw[:,colChg]))\n",
    "    setPara[colChg] = i\n",
    "    @rput setPara xyAxis\n",
    "    R\"\n",
    "    ## extract necessary data\n",
    "    pp = rAw\n",
    "    for(i in 1:9){\n",
    "        if(i%in%xyAxis==F){\n",
    "        pp = pp[which(rAw[,i]==u0[[i]][setPara[i]]),]\n",
    "    }};rm(i)\n",
    "    \n",
    "    ## convert data into matrix\n",
    "    mm = matrix(NA, nr=length(unique(pp[,xyAxis[1]])), nc=length(unique(pp[,xyAxis[2]])))\n",
    "    rownames(mm)=unique(pp[,xyAxis[1]])\n",
    "    colnames(mm)=unique(pp[,xyAxis[2]])\n",
    "    for(i0 in 1:nrow(pp)){\n",
    "        mm[which(rownames(mm)==pp[i0,xyAxis[1]]),which(colnames(mm)==pp[i0,xyAxis[2]])] <- pp[i0,xyAxis[3]]\n",
    "    };rm(i0)\n",
    "    mmR <- rownames(mm)\n",
    "    mmC <- colnames(mm)\n",
    "    \"\n",
    "    @rget mm mmR mmC u0\n",
    "    if size(mm)[1] >0\n",
    "    p0 = plot(mmR, mmC, mm, st=:surface, zlim=[0,30],\n",
    "    xlabel=string(names(rAw)[xyAxis[1]]),\n",
    "    ylabel=string(names(rAw)[xyAxis[2]]),\n",
    "    zlabel=string(names(rAw)[xyAxis[3]])*\" (gC/m^3)\",\n",
    "    title=\"Surface plot with default parameters x=\"*string(u0[1][setPara[1]])*\"\n",
    "        ePR=\"*string(u0[2][setPara[2]])*\", eP=\"*string(u0[3][setPara[3]])*\", gP=\"*string(u0[4][setPara[4]])*\", aP=\"*string(u0[5][setPara[5]])*\"\n",
    "        eBR=\"*string(u0[6][setPara[6]])*\", eB=\"*string(u0[7][setPara[7]])*\", gB=\"*string(u0[8][setPara[8]])*\", mB=\"*string(u0[9][setPara[9]]))\n",
    "    end\n",
    "end\n",
    "gif(aa, \"gif/surfacePlt.gif\", fps=1)"
   ]
  }
 ],
 "metadata": {
  "kernelspec": {
   "display_name": "Julia 1.3.1",
   "language": "julia",
   "name": "julia-1.3"
  },
  "language_info": {
   "file_extension": ".jl",
   "mimetype": "application/julia",
   "name": "julia",
   "version": "1.3.1"
  },
  "toc": {
   "base_numbering": 1,
   "nav_menu": {},
   "number_sections": true,
   "sideBar": true,
   "skip_h1_title": false,
   "title_cell": "Table of Contents",
   "title_sidebar": "Contents",
   "toc_cell": true,
   "toc_position": {},
   "toc_section_display": true,
   "toc_window_display": true
  }
 },
 "nbformat": 4,
 "nbformat_minor": 2
}
