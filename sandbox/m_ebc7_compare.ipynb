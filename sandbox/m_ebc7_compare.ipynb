{
 "cells": [
  {
   "cell_type": "markdown",
   "metadata": {
    "toc": true
   },
   "source": [
    "<h1>Table of Contents<span class=\"tocSkip\"></span></h1>\n",
    "<div class=\"toc\"><ul class=\"toc-item\"><li><span><a href=\"#latest-model-(Allen-et-al,-2005)\" data-toc-modified-id=\"latest-model-(Allen-et-al,-2005)-1\"><span class=\"toc-item-num\">1&nbsp;&nbsp;</span>latest model (<a href=\"https://besjournals.onlinelibrary.wiley.com/doi/full/10.1111/j.1365-2435.2005.00952.x\" target=\"_blank\">Allen et al, 2005</a>)</a></span><ul class=\"toc-item\"><li><span><a href=\"#assumptions\" data-toc-modified-id=\"assumptions-1.1\"><span class=\"toc-item-num\">1.1&nbsp;&nbsp;</span>assumptions</a></span></li><li><span><a href=\"#identifying-carbon-pools-and-fluxes-controlled-by-biota\" data-toc-modified-id=\"identifying-carbon-pools-and-fluxes-controlled-by-biota-1.2\"><span class=\"toc-item-num\">1.2&nbsp;&nbsp;</span>identifying carbon pools and fluxes controlled by biota</a></span></li><li><span><a href=\"#characterizing-primary-production-based-on-the-size--and-temperature-dependence-of-photosynthesis\" data-toc-modified-id=\"characterizing-primary-production-based-on-the-size--and-temperature-dependence-of-photosynthesis-1.3\"><span class=\"toc-item-num\">1.3&nbsp;&nbsp;</span>characterizing primary production based on the size- and temperature-dependence of photosynthesis</a></span></li><li><span><a href=\"#characterizing-CO$_2$-fluxes-from-autotrophs-and-heterotrophs-based-on-the-size--and-temperature-dependence-of-individual-respiration\" data-toc-modified-id=\"characterizing-CO$_2$-fluxes-from-autotrophs-and-heterotrophs-based-on-the-size--and-temperature-dependence-of-individual-respiration-1.4\"><span class=\"toc-item-num\">1.4&nbsp;&nbsp;</span>characterizing CO$_2$ fluxes from autotrophs and heterotrophs based on the size- and temperature-dependence of individual respiration</a></span></li><li><span><a href=\"#linearizing-soil-carbon-dynamics-to-photosynthesis-&amp;-respiration\" data-toc-modified-id=\"linearizing-soil-carbon-dynamics-to-photosynthesis-&amp;-respiration-1.5\"><span class=\"toc-item-num\">1.5&nbsp;&nbsp;</span>linearizing soil carbon dynamics to photosynthesis &amp; respiration</a></span></li><li><span><a href=\"#characterizing-ecosystem-level-CO$_2$-flux\" data-toc-modified-id=\"characterizing-ecosystem-level-CO$_2$-flux-1.6\"><span class=\"toc-item-num\">1.6&nbsp;&nbsp;</span>characterizing ecosystem-level CO$_2$ flux</a></span></li><li><span><a href=\"#term-combined-system-(p.6)\" data-toc-modified-id=\"term-combined-system-(p.6)-1.7\"><span class=\"toc-item-num\">1.7&nbsp;&nbsp;</span>term-combined system (p.6)</a></span><ul class=\"toc-item\"><li><span><a href=\"#flux\" data-toc-modified-id=\"flux-1.7.1\"><span class=\"toc-item-num\">1.7.1&nbsp;&nbsp;</span>flux</a></span></li><li><span><a href=\"#storage\" data-toc-modified-id=\"storage-1.7.2\"><span class=\"toc-item-num\">1.7.2&nbsp;&nbsp;</span>storage</a></span></li><li><span><a href=\"#turnover\" data-toc-modified-id=\"turnover-1.7.3\"><span class=\"toc-item-num\">1.7.3&nbsp;&nbsp;</span>turnover</a></span></li></ul></li></ul></li><li><span><a href=\"#model-adaptation\" data-toc-modified-id=\"model-adaptation-2\"><span class=\"toc-item-num\">2&nbsp;&nbsp;</span>model adaptation</a></span></li><li><span><a href=\"#parameter-comparison-(without-temperature-dependency)\" data-toc-modified-id=\"parameter-comparison-(without-temperature-dependency)-3\"><span class=\"toc-item-num\">3&nbsp;&nbsp;</span>parameter comparison (without temperature dependency)</a></span><ul class=\"toc-item\"><li><span><a href=\"#equilibrium-comparison\" data-toc-modified-id=\"equilibrium-comparison-3.1\"><span class=\"toc-item-num\">3.1&nbsp;&nbsp;</span>equilibrium comparison</a></span><ul class=\"toc-item\"><li><span><a href=\"#closed-system-model\" data-toc-modified-id=\"closed-system-model-3.1.1\"><span class=\"toc-item-num\">3.1.1&nbsp;&nbsp;</span>closed system model</a></span></li><li><span><a href=\"#open-system-model\" data-toc-modified-id=\"open-system-model-3.1.2\"><span class=\"toc-item-num\">3.1.2&nbsp;&nbsp;</span>open system model</a></span></li></ul></li><li><span><a href=\"#equivalent-variables\" data-toc-modified-id=\"equivalent-variables-3.2\"><span class=\"toc-item-num\">3.2&nbsp;&nbsp;</span>equivalent variables</a></span></li></ul></li></ul></div>"
   ]
  },
  {
   "cell_type": "code",
   "execution_count": 1,
   "metadata": {
    "ExecuteTime": {
     "end_time": "2020-03-29T18:10:51.841000+01:00",
     "start_time": "2020-03-29T17:10:37.692Z"
    }
   },
   "outputs": [
    {
     "name": "stdout",
     "output_type": "stream",
     "text": [
      "\n"
     ]
    }
   ],
   "source": [
    "using PyCall, DataFrames, SymPy\n",
    "mt = pyimport(\"math\")\n",
    "sc = pyimport(\"scipy\")\n",
    "cst = pyimport(\"scipy.constants\")\n",
    "sympy.init_printing() ## use other py3 function not implemented in native Julia-lang, http://mth229.github.io/symbolic.html\n",
    "println()"
   ]
  },
  {
   "cell_type": "markdown",
   "metadata": {},
   "source": [
    "# latest model ([Allen et al, 2005](https://besjournals.onlinelibrary.wiley.com/doi/full/10.1111/j.1365-2435.2005.00952.x))\n",
    "![](graph/paper2005.png)"
   ]
  },
  {
   "cell_type": "markdown",
   "metadata": {},
   "source": [
    "## assumptions\n",
    "\n",
    "org-C flux\n",
    "\\begin{equation}\n",
    "v = v_0e^{-E/kT}\n",
    "\\end{equation}\n",
    "\n",
    "metabolic unit per unit body mass\n",
    "\\begin{equation}\n",
    "\\rho_i = \\rho_0M_i^{-0.25}\n",
    "\\end{equation}\n",
    "\n",
    "**body size and temperature on whole-organism C flux (i.e. [1] \\* [2] )**\n",
    "\\begin{equation}\n",
    "Q_i = v\\rho_iM_i = q_0M_i^{3/4}e^{-E/kT}\n",
    "\\end{equation}\n",
    "\n",
    "biomass pool with population size _J_ in area size _A_, mean body size _$\\bar{M}$_\n",
    "\\begin{equation}\n",
    "M_{Tot} = \\dfrac{1}{A}\\cdot\\sum_{i=1}^{J}M_i = \\dfrac{J\\langle M\\rangle_J}{A}\n",
    "\\end{equation}\n",
    "\n",
    "C flux per unit area for a biomass pool (i.e. sub [3] in [4])\n",
    "\\begin{equation}\n",
    "q = \\dfrac{1}{A}\\cdot\\sum_{i=1}^{J}Q_i = \\dfrac{Jq_0\\langle M^{3/4}\\rangle_Je^{-E/kT}}{A} = q_0M_{Tot}\\langle M^{-1/4}\\rangle_Me^{-E/kT}\\propto w\n",
    "\\end{equation}\n",
    "\n",
    "__C turnover in a biomass pool (i.e. rearranging [5])__\n",
    "\\begin{equation}\n",
    "q/M_{Tot} = q_0(\\langle M^{3/4}\\rangle_J/\\langle M\\rangle_J)e^{-E/kT} = q_0\\langle M^{-1/4}\\rangle_Me^{-E/kT}\n",
    "\\end{equation}\n",
    "\n",
    "## identifying carbon pools and fluxes controlled by biota\n",
    "\n",
    "steady-state model:\n",
    "\n",
    "GPP = respirations (autotrophs + heterotrophs)\n",
    "\\begin{equation}\n",
    "\\langle g\\rangle_\\tau = \\langle r_H\\rangle_\\tau+\\langle r_A\\rangle_\\tau = \\langle r_{Tot}\\rangle_\\tau\n",
    "\\end{equation}\n",
    "\n",
    "NPP = heterotrophic respiration\n",
    "\\begin{equation}\n",
    "\\langle n\\rangle_\\tau = \\langle r_H\\rangle_\\tau\n",
    "\\end{equation}\n",
    "\n",
    "## characterizing primary production based on the size- and temperature-dependence of photosynthesis\n",
    "\n",
    "photosynthetic rate on body size & temperature\n",
    "\\begin{equation}\n",
    "P_i = v_{chlo}\\rho_i^{chlo}M_i = p_oM_i^{3/4}e^{-E/kT}\n",
    "\\end{equation}\n",
    "\n",
    "photosynthetic fluxes of plants\n",
    "\\begin{equation}\n",
    "n = \\varepsilon g = \\varepsilon\\dfrac{1}{A}\\sum_{i=1}^JP_i = \\varepsilon p_0M_{Tot}^A\\langle M_A^{-1/4}\\rangle_Me^{-E_p/kT}\n",
    "\\end{equation}\n",
    "\n",
    "time-averaged rate of NPP per hour\n",
    "\\begin{equation}\n",
    "\\langle n\\rangle_\\tau = (\\gamma/\\tau)\\varepsilon p_0M_{Tot}^A\\langle M_A^{-1/4}\\rangle_M\\langle e^{-E_p/kT}\\rangle_\\tau\n",
    "\\end{equation}\n",
    "\n",
    "## characterizing CO$_2$ fluxes from autotrophs and heterotrophs based on the size- and temperature-dependence of individual respiration\n",
    "\n",
    "individual respiration rate on body size and temperature\n",
    "\\begin{equation}\n",
    "R_i = v_{resp}p_i^{resp}M_i = r_0M_i^{3/4}e^{-E_r/kT}\n",
    "\\end{equation}\n",
    "\n",
    "autotroph respiration (from [12])\n",
    "\\begin{equation}\n",
    "r_A = r_0^AM_{Tot}^A\\langle M_A^{-1/4}\\rangle_Me^{-E_r/kT}\n",
    "\\end{equation}\n",
    "\n",
    "heterotroph respiration (from [12])\n",
    "\\begin{equation}\n",
    "r_H = r_0^HM_{Tot}^H\\langle M_H^{-1/4}\\rangle_Me^{-E_r/kT}\n",
    "\\end{equation}\n",
    "\n",
    "time-averaged fluxes over growth season\n",
    "\\begin{align}\n",
    "\\langle r_A\\rangle_\\tau &= r_0^AM_{Tot}^A\\langle M_A^{-1/4}\\rangle_M\\langle e^{-E_r/kT}\\rangle_\\tau\\\\\n",
    "\\langle r_H\\rangle_\\tau &= r_0^HM_{Tot}^H\\langle M_H^{-1/4}\\rangle_M\\langle e^{-E_r/kT}\\rangle_\\tau\n",
    "\\end{align}\n",
    "\n",
    "production = respiration\n",
    "\\begin{equation}\n",
    "r_0^A = (\\gamma/\\tau)(1-\\varepsilon)p_0(\\langle e^{-E_p/kT}\\rangle_\\tau/\\langle e^{-E_r/kT}\\rangle_\\tau)\n",
    "\\end{equation}\n",
    "\n",
    "## linearizing soil carbon dynamics to photosynthesis & respiration\n",
    "\n",
    "dynamics of soil carbon in-out rate dynamics (per hour)\n",
    "\\begin{equation}\n",
    "dS/dt = l-\\kappa\\cdot S\n",
    "\\end{equation}\n",
    "\n",
    "decomposition rate\n",
    "\\begin{equation}\n",
    "\\kappa = r_H/S = k_0e^{-E_r/kT}\n",
    "\\end{equation}\n",
    "\n",
    "long term C storage (i.e. [8] + [11] + [16] + [18] + [19])\n",
    "\\begin{equation}\n",
    "S = \\langle l\\rangle_\\tau/\\langle\\kappa\\rangle_\\tau = (\\gamma/\\tau)(\\varepsilon p_0M_A^{Tot}\\langle M_A^{-1/4}\\rangle_M/\\kappa_0)(\\langle e^{-E_p/kT}\\rangle_\\tau/\\langle e^{-E_r/kT}\\rangle_\\tau)\n",
    "\\end{equation}\n",
    "\n",
    "heterotroph biomass\n",
    "\\begin{equation}\n",
    "M_{Tot}^H = (\\kappa_0/r_0^H\\langle M_H^{-1/4}\\rangle_M)S\\propto(\\gamma/\\tau)(\\langle e^{-E_p/kT}\\rangle_\\tau/\\langle e^{-E_r/kT}\\rangle_\\tau)\n",
    "\\end{equation}\n",
    "\n",
    "## characterizing ecosystem-level CO$_2$ flux\n",
    "\\begin{equation}\n",
    "r_{Tot} = r_A + r_H = r_0^{Tot}e^{-E_r/kT}\n",
    "\\end{equation}"
   ]
  },
  {
   "cell_type": "markdown",
   "metadata": {},
   "source": [
    "## term-combined system (p.6)\n",
    "### flux\n",
    "\\begin{equation*}\\left\\{\\begin{array}{rl}\n",
    "C(t):& (\\tau/\\gamma)\\langle r_H\\rangle_\\tau = C_0\\langle e^{-E_p/kT}\\rangle_\\tau\\\\\n",
    "P(t):& (\\tau/\\gamma)\\langle n\\rangle_\\tau = P_0\\langle e^{-E_p/kT}\\rangle_\\tau\\langle M_A\\rangle_J^0\\\\\n",
    "B(t):& (\\tau/\\gamma)\\langle r_H\\rangle_\\tau = (\\tau/\\gamma)\\langle n\\rangle_\\tau = B_0\\langle e^{-E_p/kT}\\rangle_\\tau\\langle M_H\\rangle_J^0\n",
    "\\end{array}\\right.\\end{equation*}"
   ]
  },
  {
   "cell_type": "markdown",
   "metadata": {},
   "source": [
    "### storage\n",
    "\\begin{equation*}\\left\\{\\begin{array}{rl}\n",
    "C(t):& (\\tau/\\gamma)S = C_1\\langle e^{-E_p/kT}\\rangle_\\tau/\\langle e^{-E_r/kT}\\rangle_\\tau\\\\\n",
    "P(t):& M_{Tot}^A = P_1\\langle e^{0/kT}\\rangle_\\tau/\\langle M_A^{-1/4}\\rangle_M\\\\\n",
    "B(t):& (\\tau/\\gamma)M_{Tot}^H = B_1\\langle e^{-E_p/kT}\\rangle_\\tau/\\langle e^{-E_r/kT}\\rangle_\\tau\\cdot\\langle M_H^{-1/4}\\rangle_J\n",
    "\\end{array}\\right.\\end{equation*}"
   ]
  },
  {
   "cell_type": "code",
   "execution_count": 2,
   "metadata": {
    "ExecuteTime": {
     "end_time": "2020-03-29T18:10:57.860000+01:00",
     "start_time": "2020-03-29T17:10:37.704Z"
    }
   },
   "outputs": [
    {
     "data": {
      "text/plain": [
       "(t0, g0, k, T, Ep0, Er0, Ma, Mh)"
      ]
     },
     "execution_count": 2,
     "metadata": {},
     "output_type": "execute_result"
    }
   ],
   "source": [
    "@vars C1 P1 B1\n",
    "t0,g0,k,T,Ep0,Er0,Ma,Mh = symbols(\"t0 g0 k T Ep0 Er0 Ma Mh\", positive=true)"
   ]
  },
  {
   "cell_type": "code",
   "execution_count": 3,
   "metadata": {
    "ExecuteTime": {
     "end_time": "2020-03-29T18:10:58.994000+01:00",
     "start_time": "2020-03-29T17:10:37.712Z"
    }
   },
   "outputs": [
    {
     "data": {
      "text/latex": [
       "\\begin{equation*}\\frac{B_{1} g_{0} e^{- \\frac{Ep_{0}}{T k}} e^{\\frac{Er_{0}}{T k}}}{Mh^{0.25} t_{0}}\\end{equation*}"
      ],
      "text/plain": [
       "               -Ep₀   Er₀\n",
       "               ─────  ───\n",
       "     -0.25      T⋅k   T⋅k\n",
       "B₁⋅Mh     ⋅g₀⋅ℯ     ⋅ℯ   \n",
       "─────────────────────────\n",
       "            t₀           "
      ]
     },
     "execution_count": 3,
     "metadata": {},
     "output_type": "execute_result"
    }
   ],
   "source": [
    "S0 = C1*exp(-Ep0/(k*T))/exp(-Er0/(k*T))/(t0/g0)\n",
    "Ma0 = P1*exp(0/(k*T))/Ma^(-.25)\n",
    "Mh0 = B1*exp(-Ep0/(k*T))/exp(-Er0/(k*T))*Mh^(-.25)/(t0/g0)"
   ]
  },
  {
   "cell_type": "markdown",
   "metadata": {},
   "source": [
    "### turnover\n",
    "\\begin{equation*}\\left\\{\\begin{array}{rl}\n",
    "C(t):& \\langle r_H\\rangle_\\tau/S = C_2\\langle e^{-E_r/kT}\\rangle_\\tau\\\\\n",
    "P(t):& (\\tau/\\gamma)\\langle n\\rangle_\\tau/M_{Tot}^A = P_2\\langle e^{-E_p/kT}\\rangle_\\tau\\langle M_A^{-1/4}\\rangle_M\\\\\n",
    "B(t):& \\langle s\\rangle_\\tau/M_{Tot}^H = B_2\\langle r_H\\rangle_\\tau/M_{Tot}^H = B_2\\langle e^{-E_r/kT}\\rangle_\\tau\\langle M_H^{-1/4}\\rangle_M\n",
    "\\end{array}\\right.\\end{equation*}"
   ]
  },
  {
   "cell_type": "markdown",
   "metadata": {},
   "source": [
    "# model adaptation\n",
    "![](graph/ebc7.png)"
   ]
  },
  {
   "cell_type": "markdown",
   "metadata": {},
   "source": [
    "\\begin{equation*}\\left\\{\\begin{array}{rl}\n",
    "C'(t) &= (1-\\varepsilon_P)\\varepsilon_{PR}P_0e^{-E_P/kT}P +a_PP^2 -B_0e^{-E_B/kT}B -g_B\\varepsilon_{B}CB +m_BB\\\\\n",
    "P'(t) &= \\varepsilon_P\\varepsilon_{PR}P_0e^{-E_P/kT}P -a_PP^2\\\\\n",
    "B'(t) &= g_B\\varepsilon_{B}CB -m_BB\n",
    "\\end{array}\\right.\\end{equation*}"
   ]
  },
  {
   "cell_type": "code",
   "execution_count": 4,
   "metadata": {
    "ExecuteTime": {
     "end_time": "2020-03-29T18:10:59.595000+01:00",
     "start_time": "2020-03-29T17:10:37.718Z"
    }
   },
   "outputs": [
    {
     "data": {
      "text/plain": [
       "(k, E_P, E_B, x, T, e_P, e_S, P_0, a_P, B_0, g_B, e_B, m_B)"
      ]
     },
     "execution_count": 4,
     "metadata": {},
     "output_type": "execute_result"
    }
   ],
   "source": [
    "@vars C P B\n",
    "k,E_P,E_B,x,T, e_P,e_S,P_0,a_P, B_0,g_B,e_B,m_B = symbols(\"k E_P E_B x T e_P e_S P_0 a_P B_0 g_B e_B m_B\",positive=true)"
   ]
  },
  {
   "cell_type": "code",
   "execution_count": 5,
   "metadata": {
    "ExecuteTime": {
     "end_time": "2020-03-29T18:10:59.710000+01:00",
     "start_time": "2020-03-29T17:10:37.724Z"
    }
   },
   "outputs": [
    {
     "data": {
      "text/latex": [
       "\\begin{equation*}B C e_{B} g_{B} - B m_{B}\\end{equation*}"
      ],
      "text/plain": [
       "B⋅C⋅e_B⋅g_B - B⋅m_B"
      ]
     },
     "execution_count": 5,
     "metadata": {},
     "output_type": "execute_result"
    }
   ],
   "source": [
    "Ct = (1-e_P)*e_S*P_0*exp(-E_P/(k*T))*P +a_P*P^2 -B_0*exp(-E_B/(k*T))*B -g_B*e_B*C*B +m_B*B\n",
    "Pt = e_P*e_S*P_0*exp(-E_P/(k*T))*P -a_P*P^2\n",
    "Bt = g_B*e_B*C*B -m_B*B"
   ]
  },
  {
   "cell_type": "code",
   "execution_count": 6,
   "metadata": {
    "ExecuteTime": {
     "end_time": "2020-03-29T18:11:02.597000+01:00",
     "start_time": "2020-03-29T17:10:37.731Z"
    }
   },
   "outputs": [
    {
     "data": {
      "text/plain": [
       "1-element Array{Tuple{Sym,Sym,Sym},1}:\n",
       " (m_B/(e_B*g_B), P_0*e_P*e_S*exp(-E_P/(T*k))/a_P, P_0^2*e_P*e_S^2*exp((E_B - 2*E_P)/(T*k))/(B_0*a_P))"
      ]
     },
     "execution_count": 6,
     "metadata": {},
     "output_type": "execute_result"
    }
   ],
   "source": [
    "ss = solve([Eq(Ct,0),Eq(Pt,0),Eq(Bt,0)],[C,P,B])\n",
    "ss"
   ]
  },
  {
   "cell_type": "code",
   "execution_count": 7,
   "metadata": {
    "ExecuteTime": {
     "end_time": "2020-03-29T18:11:03.603000+01:00",
     "start_time": "2020-03-29T17:10:37.738Z"
    }
   },
   "outputs": [
    {
     "data": {
      "text/latex": [
       "\\[ \\left[ \\begin{array}{r}\\frac{m_{B}}{e_{B} g_{B}}\\\\\\frac{P_{0} e_{P} e_{S} e^{- \\frac{E_{P}}{T k}}}{a_{P}}\\\\\\frac{P_{0}^{2} e_{P} e_{S}^{2} e^{\\frac{E_{B} - 2 E_{P}}{T k}}}{B_{0} a_{P}}\\end{array} \\right] \\]"
      ],
      "text/plain": [
       "3-element Array{Sym,1}:\n",
       "                                      m_B/(e_B*g_B)\n",
       "                    P_0*e_P*e_S*exp(-E_P/(T*k))/a_P\n",
       " P_0^2*e_P*e_S^2*exp((E_B - 2*E_P)/(T*k))/(B_0*a_P)"
      ]
     },
     "execution_count": 7,
     "metadata": {},
     "output_type": "execute_result"
    }
   ],
   "source": [
    "[ss[1][1],ss[1][2],ss[1][3]]"
   ]
  },
  {
   "cell_type": "markdown",
   "metadata": {},
   "source": [
    "# parameter comparison (without temperature dependency)"
   ]
  },
  {
   "cell_type": "markdown",
   "metadata": {},
   "source": [
    "previous model (closed system)\n",
    "\\begin{equation*}\\left\\{\\begin{array}{rl}\n",
    "M_{Tot}^A &= \\varepsilon g -l\\\\\n",
    "M_{Tot}^H &= \\delta a -m\\\\\n",
    "S &= m+l-a\\\\\n",
    "g &= (1-\\varepsilon)g + (1-\\delta)a\n",
    "\\end{array}\\right.\\end{equation*}"
   ]
  },
  {
   "cell_type": "markdown",
   "metadata": {},
   "source": [
    "new model (open system)\n",
    "\\begin{equation*}\\left\\{\\begin{array}{rl}\n",
    "C'(t) &= (1-\\varepsilon_P)\\varepsilon_{PR}g_PP +a_PP^2 +g_BCB(e_{BR}(1-e_B)-1) +m_BB\\\\\n",
    "P'(t) &= \\varepsilon_P\\varepsilon_{PR}g_PP -a_PP^2\\\\\n",
    "B'(t) &= g_B\\varepsilon_{BR}\\varepsilon_{B}CB -m_BB\n",
    "\\end{array}\\right.\\end{equation*}"
   ]
  },
  {
   "cell_type": "markdown",
   "metadata": {},
   "source": [
    "term in previous model | term in new model | unit (new, if needed) | meaning\n",
    "--- | --- | --- | ---\n",
    "S | C'(t) | gC t$^{-1}$ | rate of change of organic matter carbon mass per unit time\n",
    "$M_{Tot}^A$ | P'(t) | gC t$^{-1}$ | rate of change of phytoplankton biomass per unit time\n",
    "$M_{Tot}^H$ | B'(t) | gC t$^{-1}$ | rate of change of detritivore biomass per unit time\n",
    "$\\varepsilon$ | $\\varepsilon_P$ | no | fraction of fixed carbon incorporated into phytoplankton biomass\n",
    "$\\delta$ | $\\varepsilon_B$ | no | fraction of fixed carbon incorporated into detritivore biomass\n",
    "$g$ | $g_P$ | gC t$^{-1}$ (t$^{-1}$) | total rate of photosynthesis (pure rate of photosynthesis)\n",
    "$a$ | $g_BCB$ | gC t$^{-1}$ | total rate of photosynthesis (pure rate of photosynthesis)\n",
    "$l$ | $a_PP^2$ | gC t$^{-1}$ | rate of phytoplanktonic organic matter formation through intraspecific interference\n",
    "$m$ | $m_BB$ | gC t$^{-1}$ | rate of detritivore organic matter formation through death\n",
    " | $\\varepsilon_{PR}$ | no | fraction of carbon not respired by phytoplankton (previous model assume carbon balance, no net flux)\n",
    " | $\\varepsilon_{BR}$ | no | fraction of carbon not respired by detritivore (previous model assume carbon balance, no net flux)"
   ]
  },
  {
   "cell_type": "markdown",
   "metadata": {},
   "source": [
    "## equilibrium comparison\n",
    "### closed system model"
   ]
  },
  {
   "cell_type": "code",
   "execution_count": 8,
   "metadata": {
    "ExecuteTime": {
     "end_time": "2020-03-29T18:11:04.094000+01:00",
     "start_time": "2020-03-29T17:10:37.746Z"
    }
   },
   "outputs": [
    {
     "data": {
      "text/plain": [
       "(e, g, l, d, m, a)"
      ]
     },
     "execution_count": 8,
     "metadata": {},
     "output_type": "execute_result"
    }
   ],
   "source": [
    "e,g,l,d,m,a = symbols(\"e g l d m a\", positive=true)"
   ]
  },
  {
   "cell_type": "code",
   "execution_count": 9,
   "metadata": {
    "ExecuteTime": {
     "end_time": "2020-03-29T18:11:04.120000+01:00",
     "start_time": "2020-03-29T17:10:37.753Z"
    }
   },
   "outputs": [
    {
     "data": {
      "text/latex": [
       "\\begin{equation*}- a \\left(1 - d\\right) + g \\left(1 - e\\right)\\end{equation*}"
      ],
      "text/plain": [
       "-a⋅(1 - d) + g⋅(1 - e)"
      ]
     },
     "execution_count": 9,
     "metadata": {},
     "output_type": "execute_result"
    }
   ],
   "source": [
    "dP = e*g-l\n",
    "dB = d*a-m\n",
    "dS = m+l-a\n",
    "dg = (1-e)*g-(1-d)a"
   ]
  },
  {
   "cell_type": "code",
   "execution_count": 10,
   "metadata": {
    "ExecuteTime": {
     "end_time": "2020-03-29T18:11:05.593000+01:00",
     "start_time": "2020-03-29T17:10:37.758Z"
    }
   },
   "outputs": [
    {
     "data": {
      "text/plain": [
       "1-element Array{NTuple{6,Sym},1}:\n",
       " (1/2, 2*l, l, m/(l + m), m, l + m)"
      ]
     },
     "execution_count": 10,
     "metadata": {},
     "output_type": "execute_result"
    }
   ],
   "source": [
    "s1 = solve([Eq(dP,0),Eq(dB,0),Eq(dS,0),Eq(dg,0)], [e,g,l,d,m,a])\n",
    "s1"
   ]
  },
  {
   "cell_type": "code",
   "execution_count": 11,
   "metadata": {
    "ExecuteTime": {
     "end_time": "2020-03-29T18:11:09.084000+01:00",
     "start_time": "2020-03-29T17:10:37.768Z"
    }
   },
   "outputs": [
    {
     "data": {
      "text/html": [
       "<table class=\"data-frame\"><thead><tr><th></th><th>var</th><th>sym</th></tr><tr><th></th><th>String</th><th>Sym</th></tr></thead><tbody><p>6 rows × 2 columns</p><tr><th>1</th><td>e</td><td>1/2</td></tr><tr><th>2</th><td>g</td><td>2*l</td></tr><tr><th>3</th><td>l</td><td>l</td></tr><tr><th>4</th><td>d</td><td>m/(l + m)</td></tr><tr><th>5</th><td>m</td><td>m</td></tr><tr><th>6</th><td>a</td><td>l + m</td></tr></tbody></table>"
      ],
      "text/latex": [
       "\\begin{tabular}{r|cc}\n",
       "\t& var & sym\\\\\n",
       "\t\\hline\n",
       "\t& String & Sym\\\\\n",
       "\t\\hline\n",
       "\t1 & e & \\begin{equation*}\\frac{1}{2}\\end{equation*} \\\\\n",
       "\t2 & g & \\begin{equation*}2 l\\end{equation*} \\\\\n",
       "\t3 & l & \\begin{equation*}l\\end{equation*} \\\\\n",
       "\t4 & d & \\begin{equation*}\\frac{m}{l + m}\\end{equation*} \\\\\n",
       "\t5 & m & \\begin{equation*}m\\end{equation*} \\\\\n",
       "\t6 & a & \\begin{equation*}l + m\\end{equation*} \\\\\n",
       "\\end{tabular}\n"
      ],
      "text/plain": [
       "6×2 DataFrame\n",
       "│ Row │ var    │ sym       │\n",
       "│     │ \u001b[90mString\u001b[39m │ \u001b[90mSym\u001b[39m       │\n",
       "├─────┼────────┼───────────┤\n",
       "│ 1   │ e      │ 1/2       │\n",
       "│ 2   │ g      │ 2*l       │\n",
       "│ 3   │ l      │ l         │\n",
       "│ 4   │ d      │ m/(l + m) │\n",
       "│ 5   │ m      │ m         │\n",
       "│ 6   │ a      │ l + m     │"
      ]
     },
     "execution_count": 11,
     "metadata": {},
     "output_type": "execute_result"
    }
   ],
   "source": [
    "DataFrame(var=[\"e\",\"g\",\"l\",\"d\",\"m\",\"a\"],sym=[s1[1][1],s1[1][2],s1[1][3],s1[1][4],s1[1][5],s1[1][6]])"
   ]
  },
  {
   "cell_type": "code",
   "execution_count": 12,
   "metadata": {
    "ExecuteTime": {
     "end_time": "2020-03-29T18:11:09.094000+01:00",
     "start_time": "2020-03-29T17:10:37.775Z"
    }
   },
   "outputs": [
    {
     "data": {
      "text/latex": [
       "\\[ \\left[ \\begin{array}{r}\\frac{1}{2}\\\\2 l\\\\l\\\\\\frac{m}{l + m}\\\\m\\\\l + m\\end{array} \\right] \\]"
      ],
      "text/plain": [
       "6-element Array{Sym,1}:\n",
       "       1/2\n",
       "       2*l\n",
       "         l\n",
       " m/(l + m)\n",
       "         m\n",
       "     l + m"
      ]
     },
     "execution_count": 12,
     "metadata": {},
     "output_type": "execute_result"
    }
   ],
   "source": [
    "[s1[1][1],s1[1][2],s1[1][3],s1[1][4],s1[1][5],s1[1][6]]"
   ]
  },
  {
   "cell_type": "markdown",
   "metadata": {},
   "source": [
    "### open system model"
   ]
  },
  {
   "cell_type": "code",
   "execution_count": 13,
   "metadata": {
    "ExecuteTime": {
     "end_time": "2020-03-29T18:11:09.102000+01:00",
     "start_time": "2020-03-29T17:10:37.781Z"
    }
   },
   "outputs": [
    {
     "data": {
      "text/plain": [
       "(e_P, e_B, g_P, g_B, a_P, m_B, e_0, e_1)"
      ]
     },
     "execution_count": 13,
     "metadata": {},
     "output_type": "execute_result"
    }
   ],
   "source": [
    "@vars C P B\n",
    "e_P,e_B,g_P,g_B,a_P,m_B,e_0,e_1 = symbols(\"e_P e_B g_P g_B a_P m_B e_0 e_1\", positive=true)"
   ]
  },
  {
   "cell_type": "code",
   "execution_count": 14,
   "metadata": {
    "ExecuteTime": {
     "end_time": "2020-03-29T18:11:09.145000+01:00",
     "start_time": "2020-03-29T17:10:37.788Z"
    }
   },
   "outputs": [
    {
     "data": {
      "text/latex": [
       "\\begin{equation*}B C e_{1} e_{B} g_{B} - B m_{B}\\end{equation*}"
      ],
      "text/plain": [
       "B⋅C⋅e₁⋅e_B⋅g_B - B⋅m_B"
      ]
     },
     "execution_count": 14,
     "metadata": {},
     "output_type": "execute_result"
    }
   ],
   "source": [
    "dC = (1-e_P)*e_0*g_P*P +a_P*P^2 +g_B*C*B*(e_1*(1-e_B)-1) +m_B*B\n",
    "dP = e_P*e_0*g_P*P -a_P*P^2\n",
    "dB = g_B*e_1*e_B*C*B -m_B*B"
   ]
  },
  {
   "cell_type": "code",
   "execution_count": 15,
   "metadata": {
    "ExecuteTime": {
     "end_time": "2020-03-29T18:11:12.877000+01:00",
     "start_time": "2020-03-29T17:10:37.794Z"
    }
   },
   "outputs": [
    {
     "data": {
      "text/plain": [
       "1-element Array{NTuple{8,Sym},1}:\n",
       " (e_P, e_B, g_P, g_B, B*e_P*(C*e_B*g_B - m_B)/(P^2*e_B), m_B, B*(C*e_B*g_B - m_B)/(P*e_B*g_P), m_B/(C*e_B*g_B))"
      ]
     },
     "execution_count": 15,
     "metadata": {},
     "output_type": "execute_result"
    }
   ],
   "source": [
    "ss = solve([Eq(dC,0),Eq(dP,0),Eq(dB,0)],[e_P,e_B,g_P,g_B,a_P,m_B,e_0,e_1])\n",
    "ss"
   ]
  },
  {
   "cell_type": "code",
   "execution_count": 16,
   "metadata": {
    "ExecuteTime": {
     "end_time": "2020-03-29T18:11:12.948000+01:00",
     "start_time": "2020-03-29T17:10:37.800Z"
    }
   },
   "outputs": [
    {
     "data": {
      "text/html": [
       "<table class=\"data-frame\"><thead><tr><th></th><th>var</th><th>sym</th></tr><tr><th></th><th>Sym</th><th>Sym</th></tr></thead><tbody><p>8 rows × 2 columns</p><tr><th>1</th><td>e_P</td><td>e_P</td></tr><tr><th>2</th><td>e_B</td><td>e_B</td></tr><tr><th>3</th><td>g_P</td><td>g_P</td></tr><tr><th>4</th><td>g_B</td><td>g_B</td></tr><tr><th>5</th><td>a_P</td><td>B*e_P*(C*e_B*g_B - m_B)/(P^2*e_B)</td></tr><tr><th>6</th><td>m_B</td><td>m_B</td></tr><tr><th>7</th><td>e_0</td><td>B*(C*e_B*g_B - m_B)/(P*e_B*g_P)</td></tr><tr><th>8</th><td>e_1</td><td>m_B/(C*e_B*g_B)</td></tr></tbody></table>"
      ],
      "text/latex": [
       "\\begin{tabular}{r|cc}\n",
       "\t& var & sym\\\\\n",
       "\t\\hline\n",
       "\t& Sym & Sym\\\\\n",
       "\t\\hline\n",
       "\t1 & \\begin{equation*}e_{P}\\end{equation*} & \\begin{equation*}e_{P}\\end{equation*} \\\\\n",
       "\t2 & \\begin{equation*}e_{B}\\end{equation*} & \\begin{equation*}e_{B}\\end{equation*} \\\\\n",
       "\t3 & \\begin{equation*}g_{P}\\end{equation*} & \\begin{equation*}g_{P}\\end{equation*} \\\\\n",
       "\t4 & \\begin{equation*}g_{B}\\end{equation*} & \\begin{equation*}g_{B}\\end{equation*} \\\\\n",
       "\t5 & \\begin{equation*}a_{P}\\end{equation*} & \\begin{equation*}\\frac{B e_{P} \\left(C e_{B} g_{B} - m_{B}\\right)}{P^{2} e_{B}}\\end{equation*} \\\\\n",
       "\t6 & \\begin{equation*}m_{B}\\end{equation*} & \\begin{equation*}m_{B}\\end{equation*} \\\\\n",
       "\t7 & \\begin{equation*}e_{0}\\end{equation*} & \\begin{equation*}\\frac{B \\left(C e_{B} g_{B} - m_{B}\\right)}{P e_{B} g_{P}}\\end{equation*} \\\\\n",
       "\t8 & \\begin{equation*}e_{1}\\end{equation*} & \\begin{equation*}\\frac{m_{B}}{C e_{B} g_{B}}\\end{equation*} \\\\\n",
       "\\end{tabular}\n"
      ],
      "text/plain": [
       "8×2 DataFrame\n",
       "│ Row │ var │ sym                               │\n",
       "│     │ \u001b[90mSym\u001b[39m │ \u001b[90mSym\u001b[39m                               │\n",
       "├─────┼─────┼───────────────────────────────────┤\n",
       "│ 1   │ e_P │ e_P                               │\n",
       "│ 2   │ e_B │ e_B                               │\n",
       "│ 3   │ g_P │ g_P                               │\n",
       "│ 4   │ g_B │ g_B                               │\n",
       "│ 5   │ a_P │ B*e_P*(C*e_B*g_B - m_B)/(P^2*e_B) │\n",
       "│ 6   │ m_B │ m_B                               │\n",
       "│ 7   │ e_0 │ B*(C*e_B*g_B - m_B)/(P*e_B*g_P)   │\n",
       "│ 8   │ e_1 │ m_B/(C*e_B*g_B)                   │"
      ]
     },
     "execution_count": 16,
     "metadata": {},
     "output_type": "execute_result"
    }
   ],
   "source": [
    "DataFrame(var=[e_P,e_B,g_P,g_B,a_P,m_B,e_0,e_1],sym=[ss[1][1],ss[1][2],ss[1][3],ss[1][4],ss[1][5],ss[1][6],ss[1][7],ss[1][8]])"
   ]
  },
  {
   "cell_type": "code",
   "execution_count": 17,
   "metadata": {
    "ExecuteTime": {
     "end_time": "2020-03-29T18:11:12.964000+01:00",
     "start_time": "2020-03-29T17:10:37.808Z"
    }
   },
   "outputs": [
    {
     "data": {
      "text/latex": [
       "\\[ \\left[ \\begin{array}{r}e_{P}\\\\e_{B}\\\\g_{P}\\\\g_{B}\\\\\\frac{B e_{P} \\left(C e_{B} g_{B} - m_{B}\\right)}{P^{2} e_{B}}\\\\m_{B}\\\\\\frac{B \\left(C e_{B} g_{B} - m_{B}\\right)}{P e_{B} g_{P}}\\\\\\frac{m_{B}}{C e_{B} g_{B}}\\end{array} \\right] \\]"
      ],
      "text/plain": [
       "8-element Array{Sym,1}:\n",
       "                               e_P\n",
       "                               e_B\n",
       "                               g_P\n",
       "                               g_B\n",
       " B*e_P*(C*e_B*g_B - m_B)/(P^2*e_B)\n",
       "                               m_B\n",
       "   B*(C*e_B*g_B - m_B)/(P*e_B*g_P)\n",
       "                   m_B/(C*e_B*g_B)"
      ]
     },
     "execution_count": 17,
     "metadata": {},
     "output_type": "execute_result"
    }
   ],
   "source": [
    "[ss[1][1],ss[1][2],ss[1][3],ss[1][4],ss[1][5],ss[1][6],ss[1][7],ss[1][8]]"
   ]
  },
  {
   "cell_type": "markdown",
   "metadata": {},
   "source": [
    "## equivalent variables\n",
    "previous model variables | equality | SymPy in old model | SymPy in new model | equivalent (if any)\n",
    "--- | --- | --- | --- | ---\n",
    "$\\varepsilon$ | $\\varepsilon_P$ | 0.5 | $e_P$ | .\n",
    "$\\delta$ | $\\varepsilon_B$ | $\\dfrac{m}{l+m}$ | $e_B$ | .\n",
    "$g$ | $g_P$ | 2$l$ | $g_P$ | .\n",
    "$a$ | $g_BCB$ | $l+m$ | $g_B\\cdot C\\cdot B$ | $\\dfrac{B(Ce_Bg_B-m_B(1-e_B))}{e_B}$\n",
    "$l$ | $a_PP^2$ | $l$ | $\\dfrac{B(C\\cdot e_B\\cdot g_B-m_B)}{e_B}$ | .\n",
    "$m$ | $m_BB$ | $m$ | $m_B\\cdot B$ | .\n",
    ". | $\\varepsilon_{PR}$ | . | $\\dfrac{B(C\\cdot e_B\\cdot g_B-m_B)}{P\\cdot e_B\\cdot g_P}$ | $\\dfrac{a_P\\cdot P}{g_P}$\n",
    ". | $\\varepsilon_{BR}$ | . | $\\dfrac{m_B}{C\\cdot g_B\\cdot e_B}$ | ."
   ]
  },
  {
   "cell_type": "markdown",
   "metadata": {},
   "source": [
    "interpretation\n",
    "\n",
    "1. C, B can only be existing as a small value comparable to the parameters, which is less than 1$gCm^{-3}$\n",
    "0. $m_B$ has to be very small in order to fit \"parameters positive\" requirement\n",
    "0. P is inversely-proportional to $a_P$; with $a_P$ close to 0, there is possible phytoplankton biomass storage\n",
    "0. if $a_P$ is extremely small, B has to be super-small, making its role in the ecosystem insignificant\n",
    "0. note that the above interpretations are starting from a carbon-neutral situation\n",
    "0. given carbon per cell is extremely small (bacteria [estimated](https://besjournals.onlinelibrary.wiley.com/doi/pdf/10.1111/j.1365-2435.2006.01222.x) having 25$\\cdot10^{-15}$ gC cell$^{-1}$), population of microbes might be considerable"
   ]
  }
 ],
 "metadata": {
  "kernelspec": {
   "display_name": "Julia 1.3.1",
   "language": "julia",
   "name": "julia-1.3"
  },
  "language_info": {
   "file_extension": ".jl",
   "mimetype": "application/julia",
   "name": "julia",
   "version": "1.3.1"
  },
  "latex_envs": {
   "LaTeX_envs_menu_present": true,
   "autoclose": true,
   "autocomplete": false,
   "bibliofile": "biblio.bib",
   "cite_by": "apalike",
   "current_citInitial": 1,
   "eqLabelWithNumbers": true,
   "eqNumInitial": 1,
   "hotkeys": {
    "equation": "Ctrl-E",
    "itemize": "Ctrl-I"
   },
   "labels_anchors": false,
   "latex_user_defs": false,
   "report_style_numbering": true,
   "user_envs_cfg": false
  },
  "toc": {
   "base_numbering": 1,
   "nav_menu": {},
   "number_sections": true,
   "sideBar": true,
   "skip_h1_title": false,
   "title_cell": "Table of Contents",
   "title_sidebar": "Contents",
   "toc_cell": true,
   "toc_position": {},
   "toc_section_display": true,
   "toc_window_display": true
  },
  "varInspector": {
   "cols": {
    "lenName": 16,
    "lenType": 16,
    "lenVar": 40
   },
   "kernels_config": {
    "python": {
     "delete_cmd_postfix": "",
     "delete_cmd_prefix": "del ",
     "library": "var_list.py",
     "varRefreshCmd": "print(var_dic_list())"
    },
    "r": {
     "delete_cmd_postfix": ") ",
     "delete_cmd_prefix": "rm(",
     "library": "var_list.r",
     "varRefreshCmd": "cat(var_dic_list()) "
    }
   },
   "types_to_exclude": [
    "module",
    "function",
    "builtin_function_or_method",
    "instance",
    "_Feature"
   ],
   "window_display": true
  }
 },
 "nbformat": 4,
 "nbformat_minor": 4
}
