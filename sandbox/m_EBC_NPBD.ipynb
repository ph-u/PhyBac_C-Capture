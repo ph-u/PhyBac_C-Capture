{
 "cells": [
  {
   "cell_type": "markdown",
   "metadata": {
    "slideshow": {
     "slide_type": "slide"
    },
    "toc": true
   },
   "source": [
    "<h1>Table of Contents<span class=\"tocSkip\"></span></h1>\n",
    "<div class=\"toc\"><ul class=\"toc-item\"><li><span><a href=\"#Aims-and-objectives\" data-toc-modified-id=\"Aims-and-objectives-1\"><span class=\"toc-item-num\">1&nbsp;&nbsp;</span>Aims and objectives</a></span></li><li><span><a href=\"#EBC-model-backbone---NPZD-model\" data-toc-modified-id=\"EBC-model-backbone---NPZD-model-2\"><span class=\"toc-item-num\">2&nbsp;&nbsp;</span>EBC model backbone - NPZD model</a></span></li><li><span><a href=\"#overarching-equation-bin\" data-toc-modified-id=\"overarching-equation-bin-3\"><span class=\"toc-item-num\">3&nbsp;&nbsp;</span>overarching equation bin</a></span></li><li><span><a href=\"#NPZD-Model-from-literature\" data-toc-modified-id=\"NPZD-Model-from-literature-4\"><span class=\"toc-item-num\">4&nbsp;&nbsp;</span>NPZD Model from literature</a></span></li><li><span><a href=\"#carbon-sequestration-revenue-(photosynthesis)-rate\" data-toc-modified-id=\"carbon-sequestration-revenue-(photosynthesis)-rate-5\"><span class=\"toc-item-num\">5&nbsp;&nbsp;</span>carbon sequestration revenue (photosynthesis) rate</a></span></li><li><span><a href=\"#electricigen-detritivore-population-electricity-relationship\" data-toc-modified-id=\"electricigen-detritivore-population-electricity-relationship-6\"><span class=\"toc-item-num\">6&nbsp;&nbsp;</span>electricigen detritivore population-electricity relationship</a></span></li><li><span><a href=\"#eco-bioelectric-cell-(EBC)\" data-toc-modified-id=\"eco-bioelectric-cell-(EBC)-7\"><span class=\"toc-item-num\">7&nbsp;&nbsp;</span>eco-bioelectric cell (EBC)</a></span></li></ul></div>"
   ]
  },
  {
   "cell_type": "code",
   "execution_count": 1,
   "metadata": {
    "ExecuteTime": {
     "end_time": "2020-02-26T19:15:12.886000Z",
     "start_time": "2020-02-26T19:14:43.952Z"
    },
    "slideshow": {
     "slide_type": "notes"
    }
   },
   "outputs": [
    {
     "name": "stdout",
     "output_type": "stream",
     "text": [
      "\n"
     ]
    }
   ],
   "source": [
    "using RCall, PyCall, Plots, ProgressMeter, DataFrames\n",
    "mt = pyimport(\"math\")\n",
    "sc = pyimport(\"scipy\")\n",
    "cst = pyimport(\"scipy.constants\")\n",
    "itg = pyimport(\"scipy.integrate\")\n",
    "R\"cbp<-c('#000000', '#E69F00', '#56B4E9', '#009E73', '#0072B2', '#D55E00', '#CC79A7', '#e79f00', '#9ad0f3', '#F0E442', '#999999', '#cccccc', '#6633ff', '#00FFCC', '#0066cc')\"\n",
    "println()"
   ]
  },
  {
   "cell_type": "markdown",
   "metadata": {
    "slideshow": {
     "slide_type": "fragment"
    }
   },
   "source": [
    "# Aims and objectives\n",
    "1. model replication on EMPOWER model ([Anderson et al, 2015](https://eprints.soton.ac.uk/382241/1/gmd-8-2231-2015.pdf))\n",
    "2. combine and list out equations useful for the model of eco-bioelectric cell\n",
    "3. establish relationship between electricigen microbe population and power output"
   ]
  },
  {
   "cell_type": "markdown",
   "metadata": {
    "ExecuteTime": {
     "end_time": "2020-02-26T14:51:07.789000Z",
     "start_time": "2020-02-26T14:50:52.244Z"
    },
    "slideshow": {
     "slide_type": "slide"
    }
   },
   "source": [
    "# EBC model backbone - NPZD model\n",
    "\n",
    "![](graph/model_01_r.png)\n"
   ]
  },
  {
   "cell_type": "markdown",
   "metadata": {
    "slideshow": {
     "slide_type": "fragment"
    }
   },
   "source": [
    "NPZD model is a phenomenological ordinary differential equation (ODE) model in ocean science focus on describing the population dynamics of four major biochemical engines powering the oceanic carbon cycle system.  The nutrient pool (denoted by [$N$]) is consisting of inorganic nutrient essential for phytoplankton population growth.  Phytoplankton population (denoted by [$P$]) is assumed only one type of phytoplankton, grow by absorbing $N$ and is the food source of zooplankton (denoted by [$Z$]).  $Z$ is assumed only one type of zooplankton, food sources are including $P$ and detritus/organic matter (denoted by [$D$]) for its population growth.  $Z$ can only absorb nutrient through digestion of detritus into inorganic nutrient.  Due to the non-perfect absorption system, some \"digested but not absorbed\" inorganic chemical species can escape from zooplankton bodies and contribute to the $N$ pool.  For the $D$ pool, it is a collection of organic matter, including and mostly consist of cellular leftovers (i.e. dead cells from $P$ and $Z$).  It is a food source for $Z$, completing the microscopic oceanic carbon cycle."
   ]
  },
  {
   "cell_type": "markdown",
   "metadata": {
    "slideshow": {
     "slide_type": "slide"
    }
   },
   "source": [
    "![](graph/model_Jupyter01.png)\n"
   ]
  },
  {
   "cell_type": "markdown",
   "metadata": {
    "slideshow": {
     "slide_type": "fragment"
    }
   },
   "source": [
    "Inspired by the EMPOWER model ([Anderson et al, 2015](https://eprints.soton.ac.uk/382241/1/gmd-8-2231-2015.pdf)), I proposed a variation from the NPZD model, replacing the generalist $Z$ to a specialist bacteria _E. coli_ (denoted by $B$) which only feed on detritus.  In that case, $P$ and $B$ is not prey-predator relationship but indirect mutualists for nutrients ($P$ contribute to food source of $B$ and vice versa).  The aim for this model is to look at whether the population of $B$ and $D$ can grow so that $B$ population can produce household-scaled electrical power output and $D$ can be collected as a source of fixed carbon.  This ecosystem would be the anode part of the whole EBC, which the cathode part would be a Lactobacillus fermentation chamber.  This homofermentation chamber can also fossilize the fixed carbon from organic matter into irrespirable lactates, making it bio-unavailable to contribute as a greenhouse gas species naturally.  Yet as the chamber is not interacting with the oxic anode ecosystem, it is ignored in the EBC model."
   ]
  },
  {
   "cell_type": "markdown",
   "metadata": {
    "slideshow": {
     "slide_type": "slide"
    }
   },
   "source": [
    "# overarching equation bin\n",
    "Grazing\n",
    "\\begin{equation}\n",
    "    G_X = ZI_{Zmx}\\Big[ \\dfrac{(X/k_X)^2}{1+(P/k_P)^2+(D/k_D)^2} \\Big]\\text{, which X = P or D} \n",
    "\\end{equation}"
   ]
  },
  {
   "cell_type": "markdown",
   "metadata": {
    "slideshow": {
     "slide_type": "fragment"
    }
   },
   "source": [
    "This grazing pressure ($G_X$) equation is extracted from [Anderson et al, 2015](https://eprints.soton.ac.uk/382241/1/gmd-8-2231-2015.pdf).  The term describes the predation pressure of zooplankton (Z) on phytoplankton (P) or detritus (D).  In the equation, $Z$ is the popoulation size of zooplankton, $P$ is that for phytoplankton and $D$ is for detritus.  $k_P$ is the half-saturation constant of P and $k_D$ is that for detritus.  $I_{Zmax}$ is the maximum ingestion rate of zooplankton.  The term orientation shows a positive relationship between grazing pressure linearly with predator $Z$ population size and their maximum ingestion rate.  This terms is also quadratically positive correlating with a fraction of food population and their half-saturation level.  This equation was having a slight algebraic rearrangement from [Anderson et al, 2015](https://eprints.soton.ac.uk/382241/1/gmd-8-2231-2015.pdf), in which the term $k_Z$ was eliminated.  This shows grazing pressure is not hindered by the predator half-saturation level.  The grazing pressure was also inversely proportional to the sum of food descriptions plus one."
   ]
  },
  {
   "cell_type": "code",
   "execution_count": 2,
   "metadata": {
    "ExecuteTime": {
     "end_time": "2020-02-26T19:15:19.449000Z",
     "start_time": "2020-02-26T19:14:48.347Z"
    },
    "slideshow": {
     "slide_type": "subslide"
    }
   },
   "outputs": [
    {
     "data": {
      "text/plain": [
       "grazing (generic function with 1 method)"
      ]
     },
     "execution_count": 2,
     "metadata": {},
     "output_type": "execute_result"
    }
   ],
   "source": [
    "function grazing(pops, kSer, X, igt) ## tested\n",
    "    ## igt = maximum ingestion rate of zooplankton\n",
    "    \n",
    "    P = pops[:2] # phytoplankton population size\n",
    "    Z = pops[:3] # zooplankton population size\n",
    "    D = pops[:4] # detritus population size\n",
    "    \n",
    "    kP = kSer[:2] # phytoplankton half-saturation constant\n",
    "    kD = kSer[:3] # detritus half-saturation constant\n",
    "    \n",
    "    if X==1\n",
    "        X = kP\n",
    "        kX = kP\n",
    "    else\n",
    "        X = kD\n",
    "        kX = kD\n",
    "    end\n",
    "    \n",
    "    gz = Z*igt*(X/kX)^2/(1+(P/kP)^2+(D/kD)^2)\n",
    "    return(gz)\n",
    "end"
   ]
  },
  {
   "cell_type": "markdown",
   "metadata": {
    "slideshow": {
     "slide_type": "slide"
    }
   },
   "source": [
    "Chlorophyll concentration (from [Randolph et al, 2008](https://www.sciencedirect.com/science/article/pii/S0034425708002022))\n",
    "\\begin{equation}\n",
    "    \\text{cellConc }(\\dfrac{mm^3}{m^3}) = 125.2+4.01\\times[\\text{chlConc}(ppb)]\n",
    "\\end{equation}\n",
    "\\begin{align}\n",
    "    \\text{cellConc }(\\dfrac{mm^3}{m^3}) &= \\dfrac{4\\pi r^3/3 (mm^3)\\cdot\\text{population}}{x\\cdot y\\cdot z (m^3)}\\text{, which r is cellular radius in unit $mm$ assuming spherical cell}\\nonumber\\\\\n",
    "    &= \\dfrac{4\\pi r^3 (mm^3)\\cdot\\text{population}}{3z (m^3)}\\text{, assume x=y=1 for standard SI unit calculation}\n",
    "\\end{align}\n",
    "\\begin{equation}\n",
    "    ppb = \\mu g/L = \\dfrac{1}{1000}\\dfrac{mg}{dm^3} = \\dfrac{1000}{1000}\\dfrac{mg}{m^3} = \\dfrac{mg}{m^3}\n",
    "\\end{equation}\n",
    "\\begin{align}\n",
    "    \\dfrac{4\\pi r^3}{3z} &= 125.2+4.01\\times[\\text{chlConc}(ppb)]\\nonumber\\\\\n",
    "    [\\text{chlConc}(mg/m^3)] &= (\\dfrac{4\\pi r^3[pop]-125.2(3z)}{3z\\cdot4.01})\n",
    "\\end{align}"
   ]
  },
  {
   "cell_type": "code",
   "execution_count": 3,
   "metadata": {
    "ExecuteTime": {
     "end_time": "2020-02-26T19:15:19.610000Z",
     "start_time": "2020-02-26T19:14:48.933Z"
    },
    "slideshow": {
     "slide_type": "subslide"
    }
   },
   "outputs": [
    {
     "data": {
      "text/plain": [
       "chlConc (generic function with 1 method)"
      ]
     },
     "execution_count": 3,
     "metadata": {},
     "output_type": "execute_result"
    }
   ],
   "source": [
    "function chlConc(pop, r, z) ## tested\n",
    "    conc = (4*mt.pi*r^3*pop - 125.2*3*z)/(3*z*4.01)\n",
    "    if conc <0\n",
    "        conc = 0\n",
    "    end\n",
    "    return (conc)\n",
    "end"
   ]
  },
  {
   "cell_type": "code",
   "execution_count": null,
   "metadata": {
    "ExecuteTime": {
     "start_time": "2020-02-26T19:14:48.938Z"
    },
    "slideshow": {
     "slide_type": "fragment"
    }
   },
   "outputs": [],
   "source": [
    "## testing population effect on chlorophyll conc\n",
    "a = [x for x in 0:1:convert(Int, 4e2)]\n",
    "a = DataFrame(i=a,c=[chlConc(a[i],.3,.1) for i in 1:length(a)])\n",
    "plot(a[:,1],a[:,2])"
   ]
  },
  {
   "cell_type": "markdown",
   "metadata": {
    "slideshow": {
     "slide_type": "slide"
    }
   },
   "source": [
    "Light intensity\n",
    "\\begin{align}\n",
    "    i_{t,z} &= i(t)e^{-k_{PAR}z}\\\\\n",
    "    k_{PAR} &= b_{0,i} + b_{1,i}C^{0.5} + b_{2,i}C + \\cdots + b_{5,i}C^{2.5}\\\\\n",
    "    k_{PAR} &= k_w + k_cP\n",
    "\\end{align}"
   ]
  },
  {
   "cell_type": "markdown",
   "metadata": {
    "slideshow": {
     "slide_type": "fragment"
    }
   },
   "source": [
    "The light intensity function ($i_{t,z}$) was an exponential function extracted from [Anderson et al, 2015](https://eprints.soton.ac.uk/382241/1/gmd-8-2231-2015.pdf) relating to the incident irradiation at water surface ($i(t)$, i.e. at sea-level from the original environmental setting).  The incident irradiation is time-dependent ($t$), modified by the exponential term.  The exponential term is a difference equation ($k_{PAR}$) describing chlorophyll concentration ($C$, mg/m$^3$) and some experimental constants (i.e. $b_{0,i}$, $b_{1,i}$ ... $b_{5,i}$) from the site of interest.  This part is negatively correlated with depth, meaning lower light intensity (decreasing in exponential behaviour) would result from increasing depth ($z$).  It is also to pull phytoplankton population size with chlorophyll density through linear relationship estimation from [Randolph et al, 2008](https://www.sciencedirect.com/science/article/pii/S0034425708002022)\n",
    "\n",
    "$k_{PAR}$ can also take another equation which directly take into account of the popoulation of phytoplankton and is adopted in this project.  In the equation, two constants $k_w$ (attenuation of water, 0.04$m^2/mmolN$) and $k_c$ (attenuation of chlorophyll, 0.03$m^2/mmolN$) were often adopted in papers and also used in [Anderson et al, 2015](https://eprints.soton.ac.uk/382241/1/gmd-8-2231-2015.pdf)."
   ]
  },
  {
   "cell_type": "code",
   "execution_count": null,
   "metadata": {
    "ExecuteTime": {
     "start_time": "2020-02-26T19:14:50.100Z"
    },
    "slideshow": {
     "slide_type": "subslide"
    }
   },
   "outputs": [],
   "source": [
    "function intensity(pop, iT, r, z) ## tested\n",
    "    ## bSer = coefficient series (6 elements) from paper for differential equation\n",
    "    bSer = sc.array([.13096,.30969/10,.42644/10,-.13738/10,.24617/100,-.18059/1000]) # top 5m polynomial coefficnents (waiting to be dealt)\n",
    "    C = chlConc(pop, r, z) ## chlorophyll conc (mg/m^3)\n",
    "    kPAR = bSer[:1] + bSer[:2]*C^.5 + bSer[:3]*C + bSer[:4]*C^1.5 + bSer[:5]*C^2 + bSer[:6]*C^2.5\n",
    "    \n",
    "    ## iT = incident irradiation at water surface\n",
    "    ## kPAR = sum of attenuation due to water and phytoplankton\n",
    "    iTz = iT * mt.exp(-kPAR*z)\n",
    "    return(iTz)\n",
    "end"
   ]
  },
  {
   "cell_type": "code",
   "execution_count": null,
   "metadata": {
    "ExecuteTime": {
     "start_time": "2020-02-26T19:14:50.104Z"
    },
    "slideshow": {
     "slide_type": "fragment"
    }
   },
   "outputs": [],
   "source": [
    "## testing population effect on intensity\n",
    "a = [x for x in 0:1:convert(Int, 4e2)]\n",
    "a = DataFrame(i=a,c=[intensity(a[i], 300,.3,.1) for i in 1:length(a)])\n",
    "plot(a[:,1],a[:,2])"
   ]
  },
  {
   "cell_type": "code",
   "execution_count": null,
   "metadata": {
    "ExecuteTime": {
     "start_time": "2020-02-26T19:14:50.108Z"
    },
    "slideshow": {
     "slide_type": "subslide"
    }
   },
   "outputs": [],
   "source": [
    "function inten(P, iT, z) ## tested\n",
    "    ## iT = incident irradiation at water surface\n",
    "    ## P = population of phytoplankton\n",
    "    iTz = iT*mt.exp(-(0.04+0.03*P)*z)\n",
    "    return(iTz)\n",
    "end"
   ]
  },
  {
   "cell_type": "code",
   "execution_count": null,
   "metadata": {
    "ExecuteTime": {
     "start_time": "2020-02-26T19:14:50.112Z"
    },
    "slideshow": {
     "slide_type": "fragment"
    }
   },
   "outputs": [],
   "source": [
    "## testing population effect on intensity 2\n",
    "a = [x for x in 0:1:convert(Int, 4e2)]\n",
    "a = DataFrame(i=a,c=[inten(a[i], 300,.1) for i in 1:length(a)])\n",
    "plot(a[:,1],a[:,2])"
   ]
  },
  {
   "cell_type": "markdown",
   "metadata": {
    "slideshow": {
     "slide_type": "slide"
    }
   },
   "source": [
    "phytoplankton growth rate\n",
    "\\begin{equation}\n",
    "    \\mu_P = \\mu_P^{max}(0)\\cdot1.066^T\\cdot\\dfrac{N}{k_N+N}\\cdot\\dfrac{I(t)}{k_{I,t}+I(t)}\n",
    "\\end{equation}"
   ]
  },
  {
   "cell_type": "markdown",
   "metadata": {
    "slideshow": {
     "slide_type": "fragment"
    }
   },
   "source": [
    "Growth rate of phytoplankton ($\\mu_P$) equation was adopted from [Anderson et al, 2015](https://eprints.soton.ac.uk/382241/1/gmd-8-2231-2015.pdf).  It is experimentally found to be correlated to the maximum growth rate when environment temperature is 0$^oC$ and a constant to the power of environmental temperature $T$.  Growth is proved to be limited by nutrient and light availability.  Hence the growth rate is further modified by positively-correlating with nutrient population ($N$) and inversely-correlated with the half-saturation level of the nutrient ($k_N$) plus nutrient population size.  The product is further modified with the same parameter definitions but using the light intensity function to link phytoplankton bioavailable energy with light availability.  The $k_{I,t}$, however, is the maximum light intensity within the smallest scale of the model (default: day)."
   ]
  },
  {
   "cell_type": "code",
   "execution_count": null,
   "metadata": {
    "ExecuteTime": {
     "start_time": "2020-02-26T19:14:51.246Z"
    },
    "slideshow": {
     "slide_type": "slide"
    }
   },
   "outputs": [],
   "source": [
    "function gRateP(pops, kSer, mu0, T, IntMax, iT, r, z) ## tested\n",
    "    ## mu0 = max growth rate when temperature = 0 deg Celcius\n",
    "    ## T = temperature (deg Celcius)\n",
    "    ## IntMx = maximum light intensity\n",
    "    N = pops[:1] # nutrient population size\n",
    "    P = pops[:2] # phytoplankton population size\n",
    "    kN = kSer[:1] # half-saturation constant: N-uptake\n",
    "    \n",
    "    muP = mu0*1.066^T*N/(kN+N)*intensity(P, iT, r, z)/(.5*IntMax+intensity(P, iT, r, z))\n",
    "    return(muP)\n",
    "end"
   ]
  },
  {
   "cell_type": "code",
   "execution_count": null,
   "metadata": {
    "ExecuteTime": {
     "start_time": "2020-02-26T19:14:51.251Z"
    },
    "slideshow": {
     "slide_type": "fragment"
    }
   },
   "outputs": [],
   "source": [
    "## testing population effect on chlorophyll conc\n",
    "a = [x for x in 0:1:convert(Int, 4e2)]\n",
    "a = DataFrame(i=a,c=[gRateP(sc.array([3,a[i]]),sc.array([1,1]),3,30,30,3,.3,.1) for i in 1:length(a)])\n",
    "plot(a[:,1],a[:,2])"
   ]
  },
  {
   "cell_type": "code",
   "execution_count": null,
   "metadata": {
    "ExecuteTime": {
     "start_time": "2020-02-26T19:14:51.255Z"
    },
    "slideshow": {
     "slide_type": "subslide"
    }
   },
   "outputs": [],
   "source": [
    "function gRP(pops, kSer, mu0, T, IntMax, iT, z) ## tested\n",
    "    ## mu0 = max growth rate when temperature = 0 deg Celcius\n",
    "    ## T = temperature (deg Celcius)\n",
    "    ## IntMx = maximum light intensity\n",
    "    N = pops[:1] # nutrient population size\n",
    "    P = pops[:2] # phytoplankton population size\n",
    "    kN = kSer[:1] # half-saturation constant: N-uptake\n",
    "    \n",
    "    muP = mu0*1.066^T*N/(kN+N)*inten(P, iT, z)/(.5*IntMax+inten(P, iT, z))\n",
    "    return(muP)\n",
    "end"
   ]
  },
  {
   "cell_type": "code",
   "execution_count": null,
   "metadata": {
    "ExecuteTime": {
     "start_time": "2020-02-26T19:14:51.260Z"
    },
    "slideshow": {
     "slide_type": "fragment"
    }
   },
   "outputs": [],
   "source": [
    "## testing population effect on chlorophyll conc\n",
    "a = [x for x in 0:1:convert(Int, 4e2)]\n",
    "a = DataFrame(i=a,c=[gRP(sc.array([3,a[i]]),sc.array([1,1]),3,30,30,3,.1) for i in 1:length(a)])\n",
    "plot(a[:,1],a[:,2])"
   ]
  },
  {
   "cell_type": "markdown",
   "metadata": {
    "slideshow": {
     "slide_type": "slide"
    }
   },
   "source": [
    "# NPZD Model from literature\n",
    "\\begin{equation}\n",
    "\\left\\{\\begin{array}{rl}\n",
    "    N'(t) &= -\\mu_PP + \\beta_Z(1-k_{NZ})(G_P+G_D) + m_DD + (a_NZ + b_N - N)\\cdot\\dfrac{\\omega_{mix}H'(t)}{H(t)}\\\\\n",
    "    P'(t) &= \\mu_PP - G_P - m_PP - m_{P2}P^2 - P\\cdot\\dfrac{\\omega_{mix}H'(t)}{H(t)}\\\\\n",
    "    Z'(t) &= \\beta_Zk_N(G_P+G_D) - m_ZZ - m_{Z2}Z^2-Z\\cdot\\dfrac{\\omega_{mix}H'(t)}{H(t)}\\\\\n",
    "    D'(t) &= m_PP + m_{P2}P^2 + m_ZZ + (1-\\beta_Z)(G_P+G_D) - G_D - (m_D + \\dfrac{v_D}{H(t)})D -D\\cdot\\dfrac{\\omega_{mix}H'(t)}{H(t)}\n",
    "    \\end{array}\\right.\n",
    "\\end{equation}"
   ]
  },
  {
   "cell_type": "markdown",
   "metadata": {
    "slideshow": {
     "slide_type": "fragment"
    }
   },
   "source": [
    "The model is primarily describing a surface oceanic water column expanding from water surface to thermocline (i.e. a unit area with varying depth on mixed layer).  In this model, there were four ODEs describing four pools of components, one ODE for one pool: inorganic nutrition [N], phytoplanktons [P], herbivory zooplankton [Z] and organic matter / detritus [D].  In this model it is assumed there is only one type of player in each equation, hence eliminated interspecies competition, complex trophic relationships and food web considerations.  \n",
    "\n",
    "Among these four equations there is a special cross-equation water column description term ($\\dfrac{\\omega_{mix}H'(t)}{H(t)}$):\n",
    "*  positively relating to the rate of water mixing ($\\omega_{mix}$) and rate of thermocline movement ($H'(t)$) with inverse relationship with depth of thermocline from water surface ($H(t)$)\n",
    "* This is a general modification term in all four equations because the model assumes uniform distributions of all four players [N, P, Z, D].  Hence when rate of change is negative ($H'(t)<0$), the living space for all component would increase, leading to an immediate colonization of new available space (living components of surface water layer can't live beyond the depth of thermocline)\n",
    "* however when depth of thermocline decrease ($H'(t)>0$), this makes the surface mixed layer thinner and hence living space of all components decreased.  Under the \"constant concentration\" assumption, this means players lived at the bottom part of the water column would be killed (and removed) from the system (this system is only modeling the surface layer, i.e. above thermocline)\n",
    "\n",
    "The nutrient time series ODE [N'(t)]:\n",
    "* $\\mu_P$ is the growth term for phytoplankton [$P$], which draws nutrient out of the nutrient pool (-ve) according to the phytoplankton instantaneous population assuming nutrient:phytoplankton = 1:1\n",
    "* $\\beta_Z(1-k_{NZ})(G_P+G_D)$ is the total wasted food from zooplankton [$Z$], which is the total food ($G_P + G_D$) got digested, absorbed ($\\beta_Z$) but not used (1-$k_{NZ}$).  It is a positive term because we assume zooplankton can only absorb inorganic nutrient by absorbing digested organic matter.  Yet due to incomplete absorption efficiency, some digested materials will get egested out and contribute to the inorganic nutrient pool\n",
    "* $m_D$ is the natural decomposition rate of the detritus [$D$] by non-biological processes.  This would be related to the concentration of detritus according to chemical species equlibria (i.e. related to the population of detritus chemical species)\n",
    "* $(a_NZ + b_N - N)\\cdot\\dfrac{\\omega_{mix}H'(t)}{H(t)}$ is a algebraic term pooling linear nutrient-zooplankton relationship ($a_NZ + b_N$) and nutrient pool size [N] and found their difference.  This difference value is related to the water column term ($\\dfrac{\\omega_{mix}H'(t)}{H(t)}$)\n",
    "\n",
    "The phytoplankton time series ODE [P'(t)]:\n",
    "* $\\mu_P$ is the growth term for phytoplankton [$P$] (described above)\n",
    "* $G_P$ is the standardized loss term of phytoplankton population under grazing by zooplankton\n",
    "* $m_P$ is the standard linear death rate of phytoplankton supported by field measurements\n",
    "* $m_{P2}$ is the standard quadratic death rate of phytoplankton supported by field measurements\n",
    "* $P\\cdot\\dfrac{\\omega_{mix}H'(t)}{H(t)}$ is the water column algebraic term, gain/loss is depending on the change of thermocline depth (described above)\n",
    "\n",
    "The zooplankton time series ODE [Z'(t)]:\n",
    "* $\\beta_Zk_N(G_P+G_D)$ is the population gain by zooplankton from absorbing digested food, which is partially described above.  In order to be part of the zooplankton population, total food ($G_P+G_D$) has to be encountered/ingested ($k_N$) and handled/absorbed ($\\beta_Z$)\n",
    "* $m_Z$ is the standard linear death rate of zooplankton supported by field measurements\n",
    "* $m_{Z2}$ is the standard quadratic death rate of zooplankton supported by field measurements\n",
    "* $Z\\cdot\\dfrac{\\omega_{mix}H'(t)}{H(t)}$ is the water column algebraic term, gain/loss is depending on the change of thermocline depth (described above)\n",
    "\n",
    "The detritus time series ODE [D'(t)]:\n",
    "* $m_P$ (described above)\n",
    "* $m_{P2}$ (described above)\n",
    "* $m_Z$ (described above)\n",
    "* $(1-\\beta_Z)(G_P+G_D)$ is partially described above, which is the total food ($G_P+G_D$) not being handled ($1-\\beta_Z$) by the zooplankton\n",
    "* $G_D$ is the standardized loss term of detritus population under grazing by zooplankton\n",
    "* $m_D$ (described above)\n",
    "* $\\dfrac{v_D}{H(t)}$\n",
    "* $D\\cdot\\dfrac{\\omega_{mix}H'(t)}{H(t)}$ is the water column algebraic term, gain/loss is depending on the change of thermocline depth (described above)"
   ]
  },
  {
   "cell_type": "code",
   "execution_count": null,
   "metadata": {
    "ExecuteTime": {
     "start_time": "2020-02-26T19:14:52.324Z"
    },
    "slideshow": {
     "slide_type": "subslide"
    }
   },
   "outputs": [],
   "source": [
    "#function empower(pops, t, kSer, mSer, zSer, arb, depth, Temp, GR0deg, IntMax, irradiance, radius)\n",
    "function empower(pops, t, kSer, mSer, zSer, arb, depth, Temp, GR0deg, IntMax, irradiance)\n",
    "    ig = zSer[:1] # ingestion rate\n",
    "    bZ = zSer[:2] # absorption rate\n",
    "    kNZ = zSer[:3] # net production efficiency\n",
    "    \n",
    "    Ht = depth[:1] # considered water column height\n",
    "    Hdt = depth[:2] # rate of change of thermocline (=0 in ebc)\n",
    "    omgMix = depth[:3] # cross-thermocline mixing (=0 in ebc)\n",
    "    \n",
    "#    muP = gRateP(pops, kSer, GR0deg, Temp, IntMax, irradiance, radius, Ht)\n",
    "    muP = gRP(pops, kSer, GR0deg, Temp, IntMax, irradiance, Ht)\n",
    "    GP = grazing(pops, kSer, 1, ig)\n",
    "    GD = grazing(pops, kSer, 2, ig)\n",
    "    Gpd = GP+GD\n",
    "    oCf = omgMix*Hdt/Ht\n",
    "    \n",
    "    N = pops[:1] # nutrient population size\n",
    "    P = pops[:2] # phytoplankton population size\n",
    "    Z = pops[:3] # zooplankton population size\n",
    "    D = pops[:4] # detritius population size\n",
    "    \n",
    "    kN = kSer[:1] # half-saturation nutrient constant: N-uptake\n",
    "    \n",
    "    mP1 = mSer[:1] # phytoplankton mortality (lin)\n",
    "    mP2 = mSer[:2] # phytoplankton mortality (qua)\n",
    "    mZ1 = mSer[:3] # zooplankton mortality (lin)\n",
    "    mZ2 = mSer[:4] # zooplankton mortality (qua)\n",
    "    mD0 = mSer[:5] # detritus mortality (lin)\n",
    "    vD = mSer[:6] # detritus sinking rate (=0 in ebc)\n",
    "        \n",
    "    aN = arb[:1] # subthermocline data slope\n",
    "    bN = arb[:2] # subthermocline data intercept\n",
    "    \n",
    "    # N: -[absorbed by phyto] + grazed by not absorbed by zoo + natural mineralization + mixing\n",
    "    dN = -muP + bZ*(1-kNZ)*Gpd + mD0*D + (aN*Z + bN - N)*oCf\n",
    "    # P: absorbed nutrient - grazed - natural death - more death - mixing kill\n",
    "    dP = muP - GP - mP1*P - mP2*P^2 - P*oCf\n",
    "    # Z: handled & absorbed organics - natural death - more death - mixing kill\n",
    "    dZ = bZ*kN*Gpd - mZ1*Z - mZ2*Z^2 - Z*oCf\n",
    "    # D: death phyto + more death phyto + death zoo + not absorbed OM - grazed OM - natural mineralization or sinked - mixing\n",
    "    dD = mP1*P + mP2*P^2 + mZ1*Z + (1-bZ)*Gpd - GD - D*(mD0+vD/Ht) - D*oCf\n",
    "    \n",
    "    return(sc.array([dN,dP,dZ,dD]))\n",
    "end"
   ]
  },
  {
   "cell_type": "code",
   "execution_count": null,
   "metadata": {
    "ExecuteTime": {
     "start_time": "2020-02-26T19:14:52.329Z"
    },
    "slideshow": {
     "slide_type": "subslide"
    }
   },
   "outputs": [],
   "source": [
    "## model testing\n",
    "t = sc.linspace(0, 30, 10000) # time series (days)\n",
    "\n",
    "## parameters\n",
    "pops = sc.array([7,2,4,7]) # population size/density: NPZD\n",
    "kSer = sc.array([.85,.5,.6,.5]) # half-saturation constant: NPZD\n",
    "mSer = sc.array([.15/10,.25/10,.2/10,.34,.6/10,6.43]) # mortality: P1, P2, Z1, Z2, D, sink_D\n",
    "zSer = sc.array([1,.69,.75]) # zooplankton details: ingestion rate, absorption rate, net production efficiency\n",
    "arb = sc.array([.1,3.91]) #  # subthermocline linear data plot\n",
    "depth = sc.array([1,0,.13]) # water depth details: water col height, rate of thermocline shift, cross-thermocline mixing (detritivore dominant once without layer mixing in water column)\n",
    "Temp = 30 # water surface temperature\n",
    "GR0deg = 3 # phytoplankton growth rate at 0 deg Celcius\n",
    "IntMax = 9 # max light intensity\n",
    "irradiance = 200 # irradiance at water surface\n",
    "\n",
    "pops, infodict = itg.odeint(empower, pops, t, full_output=true, args=(kSer, mSer, zSer, arb, depth, Temp, GR0deg, IntMax, irradiance))\n",
    "plot(pops, xlabel=\"time steps\", ylabel=\"population size\", title=\"Time series on population of nutrient (blue),\\nphytoplankton (orange), zooplankton (green)\\nand detritus (purple)\", label=\"\")"
   ]
  },
  {
   "cell_type": "markdown",
   "metadata": {
    "slideshow": {
     "slide_type": "slide"
    }
   },
   "source": [
    "# carbon sequestration revenue (photosynthesis) rate\n",
    "\\begin{equation}\n",
    "    V_P|_{T^{o}C} = V_P^{max}|_{0^{o}C}\\Big[1-exp\\Big(\\dfrac{-\\alpha\\cdot i(t,z)}{V_P^{max}|_{0^{o}C}}\\Big)\\Big]\n",
    "\\end{equation}"
   ]
  },
  {
   "cell_type": "markdown",
   "metadata": {
    "slideshow": {
     "slide_type": "fragment"
    }
   },
   "source": [
    "Carbon sequestration should be related to photosynthesis, as the process can fix 6 atmospheric carbon dioxide molecules into one glucose or two pyruvate molecules.  The general chemical equations are:\n",
    "\\begin{equation}\n",
    "    6\\text{CO}_2 + \\text{NADPH}_2^+ \\rightarrow_\\text{photosynthesis}^\\text{chlorophyll & thylakoid}\\rightarrow \\text{glucose} + \\text{NADP}^+\n",
    "\\end{equation}\n",
    "\\begin{equation}\n",
    "    6\\text{CO}_2 + \\text{NADPH}_2^+ \\rightarrow_\\text{photosynthesis}^\\text{chlorophyll & thylakoid}\\rightarrow 2\\text{pyruvate} + \\text{NADP}^+\n",
    "\\end{equation}\n",
    "\n",
    "In the temperature-dependent photosynthesis rate equation ($V_P|_{T^{o}C}$):\n",
    "* $V_P^{max}|_{0^{o}C}$ is the standardized maximum photosynthesis rate under 0$^oC$\n",
    "* the above term has been modified by a flipped decreasing exponential term (with asymptote +1)\n",
    "* the exponent ($\\dfrac{-\\alpha\\cdot i(t,z)}{V_P^{max}|_{0^{o}C}}$) is a negative fraction based on the standardized max photosynthesis rate modified by initial slope of P-I (photosynthesis-light intensity) curve ($\\alpha$) and light intensity ($i(t,z)$) at the specific depth-time position ($z$, $t$)"
   ]
  },
  {
   "cell_type": "code",
   "execution_count": null,
   "metadata": {
    "ExecuteTime": {
     "start_time": "2020-02-26T19:14:53.307Z"
    },
    "slideshow": {
     "slide_type": "subslide"
    }
   },
   "outputs": [],
   "source": [
    "function CseqRevRate(P, VpMx0, a, iT, r, z) ## tested\n",
    "    ## VpMx0 = max rate photosynthesis 0 degC\n",
    "    ## a = initial slope of P-I curve\n",
    "    ## r = cyanobacteria cell radius (mm)\n",
    "    \n",
    "    Vp = VpMx0*(1-mt.exp(-a*intensity(P, iT, r, z)/VpMx0))\n",
    "    return(Vp)\n",
    "end"
   ]
  },
  {
   "cell_type": "markdown",
   "metadata": {
    "slideshow": {
     "slide_type": "slide"
    }
   },
   "source": [
    "# electricigen detritivore population-electricity relationship\n",
    "[paper](https://www.researchgate.net/publication/264452305_ELECTRICITY_GENERATION_IN_MICROBIAL_FUEL_CELL_BY_THE_DECOMPOSITION_OF_ORGANIC_SLURRY_USING_E-COLI) with typical population density [here](https://www.mdpi.com/1660-4601/9/3/746), power output estimated by simple ratio"
   ]
  },
  {
   "cell_type": "markdown",
   "metadata": {
    "slideshow": {
     "slide_type": "fragment"
    }
   },
   "source": [
    "From [Sahoo et al, 2012](https://www.mdpi.com/1660-4601/9/3/746), cow dung sample have _E. coli_ 140 & 128 CFU for non-coastal & coastal samples respectively.  Their concentration was done by a loop of 1:10 dung suspension dilution in 2-3mL 0.1% peptone water, incubated in MacConkey agar at 37$^o$C for 24 hours.\n",
    "\n",
    "In the same year, [Songera and Kabra, 2012](https://www.researchgate.net/publication/264452305_ELECTRICITY_GENERATION_IN_MICROBIAL_FUEL_CELL_BY_THE_DECOMPOSITION_OF_ORGANIC_SLURRY_USING_E-COLI) has used 500mL 1:5 diluted cow dung samples as a thick slurry for generating electricity.  Their result are as follow:"
   ]
  },
  {
   "cell_type": "markdown",
   "metadata": {
    "slideshow": {
     "slide_type": "subslide"
    }
   },
   "source": [
    "![](graph/elec_01.png)"
   ]
  },
  {
   "cell_type": "markdown",
   "metadata": {
    "slideshow": {
     "slide_type": "subslide"
    }
   },
   "source": [
    "![](graph/elec_02.png)"
   ]
  },
  {
   "cell_type": "markdown",
   "metadata": {
    "slideshow": {
     "slide_type": "subslide"
    }
   },
   "source": [
    "![](graph/elec_03.png)"
   ]
  },
  {
   "cell_type": "markdown",
   "metadata": {
    "slideshow": {
     "slide_type": "fragment"
    }
   },
   "source": [
    "Since both papers were published in the same year and country, it would be valid to cross-reference these two papers for a rough parameter estimation.  The aim was to get a brief idea of how much electricity can be generated from _E. coli_ population by simple population-power ratio."
   ]
  },
  {
   "cell_type": "markdown",
   "metadata": {
    "slideshow": {
     "slide_type": "slide"
    }
   },
   "source": [
    "# eco-bioelectric cell (EBC)"
   ]
  },
  {
   "cell_type": "markdown",
   "metadata": {
    "slideshow": {
     "slide_type": "fragment"
    }
   },
   "source": [
    "eco-bioelectric cell ODEs\n",
    "\\begin{equation}\n",
    "    \\left\\{\\begin{array}{rl}\n",
    "        N'(t) &= -\\mu_PP + \\varepsilon_{BD}(1-b_B)B\\\\\n",
    "        P'(t) &= \\mu_PP - m_{P1}P - m_{P2}P^2\\\\\n",
    "        B'(t) &= \\varepsilon_{BD}b_Bk_{NB} - m_{B1}B - m_{B2}B^2\\\\\n",
    "        D'(t) &= m_{P1}P + m_{P2}P^2 + m_{B1}B + m_{B2}B^2 - \\varepsilon_{BD}D\n",
    "    \\end{array}\\right.\n",
    "\\end{equation}\n",
    "parameters\n",
    "term | unit | meaning  \n",
    "--- | --- | ---  \n",
    "$N$ | X | pool size of N  \n",
    "$P$ | X | population size of P  \n",
    "$B$ | X | population size of B  \n",
    "$D$ | X | pool size of D  \n",
    "$\\mu_P$ | . | growth rate of P  \n",
    "$\\varepsilon_{BD}$ | dimensionless | encounter rate of B&D (and B eat D)  \n",
    "$b_B$ | dimensionless | absorption efficiency of B  \n",
    "$m_{P1}$ | . | linear death rate of P  \n",
    "$m_{P2}$ | . | quadratic death rate of P  \n",
    "$m_{B1}$ | . | linear death rate of B  \n",
    "$m_{B2}$ | . | quadratic death rate of B  \n",
    "$k_{NB}$ | . | energy-biomass conversion efficiency of B (assume D->N->B)  \n",
    "\n",
    "Given general logistic growth equation\n",
    "\\begin{align*}\n",
    "    \\dfrac{d[pop]}{dt} &= r(k-[pop])[pop]\\\\\n",
    "    &= rk[pop] - r[pop]^2\n",
    "\\end{align*}\n",
    "\\begin{equation}\n",
    "\\begin{array}{rl}\n",
    "    rk &= \\mu_P - m_{P1}\\\\\n",
    "    k &= \\dfrac{\\mu_P - m_{P1}}{m_{P2}}\\\\\n",
    "    m_{P1} &= \\mu_P - rk\n",
    "\\end{array}\\qquad\\qquad\\begin{array}{rl}\n",
    "    r &= m_{P2}\n",
    "\\end{array}\n",
    "\\end{equation}"
   ]
  },
  {
   "cell_type": "markdown",
   "metadata": {
    "slideshow": {
     "slide_type": "subslide"
    }
   },
   "source": [
    "With the base overarching equations as base and biological interactions between parties in mind, I proposed the follow modified NPZD model meeting the situation for the eco-bioelectric cell.\n",
    "\n",
    "1. the cell is assumed to be a thin layer structured, hence thermocline terms are not useful and removed\n",
    "2. zooplankton in this model is indeed the detritivore _E. coli_, which is a bacteria (hence $Z\\rightarrow B$) and only ingest detritus (organic matter) as sole food source\n",
    "3. the NPZD model don't have the quadratic death term of zooplankton without clear reason, so there should be no reason to eliminate that quadratic death term for _E. coli_ ($m_{B2}B^2$) in this general model\n",
    "4. currently the chlorophyll concentration is detached from phytoplankton population size, which links would be established in the final model\n",
    "\n",
    "ODE for nutrient [N'(t)]:\n",
    "* $\\mu_P$ (same with the NPZD model)\n",
    "* $\\varepsilon_{BD}(1-b_B)$ similar with the NPZD model, digested ($\\varepsilon_{BD}$) but not absorbed ($1-b_B$) by detritivores, population dependent of the detritivores\n",
    "\n",
    "ODE for phytoplankton [P'(t)]:\n",
    "* $\\mu_P$ (same with the NPZD model)\n",
    "* $m_{P1}$ (same with the NPZD model)\n",
    "* $m_{P2}$ (same with the NPZD model)\n",
    "\n",
    "ODE for detritivore/bacteria [B'(t)]:\n",
    "* $\\varepsilon_{BD}b_Bk_{NB}$ encountered/digested ($\\varepsilon_{BD}$), absorbed ($b_B$) and energy-wise used ($k_{NB}$) by detritivores, population dependent of the detritivores (assuming encounter = capture and digested)\n",
    "* $m_{B1}$ (same function with the NPZD model zooplankton correspondent term description)\n",
    "* $m_{B2}$ (same function with the NPZD model zooplankton correspondent term description)\n",
    "\n",
    "ODE for detritus/organic matter [D'(t)]:\n",
    "* $m_{P1}$ (same with the NPZD model)\n",
    "* $m_{P2}$ (same with the NPZD model)\n",
    "* $m_{B1}$ (same function with the NPZD model zooplankton correspondent term description)\n",
    "* $m_{B2}$ (same function with the NPZD model zooplankton correspondent term description)\n",
    "* $\\varepsilon_{BD}$ encountered/digested according to the population pool of detritus"
   ]
  },
  {
   "cell_type": "code",
   "execution_count": null,
   "metadata": {
    "ExecuteTime": {
     "start_time": "2020-02-26T19:14:57.719Z"
    },
    "slideshow": {
     "slide_type": "subslide"
    }
   },
   "outputs": [],
   "source": [
    "## zooplankton [Z] -> detritivore [B] (special zooplankton which only ingest detritus)\n",
    "#function ebc(pops, t, kSer, mSer, zSer, Temp, GR0deg, IntMax, irradiance, radius, Ht)\n",
    "function ebc(pops, t, kSer, mSer, zSer, Temp, GR0deg, IntMax, irradiance, Ht)\n",
    "    ig = zSer[:1] # ingestion/encounter rate\n",
    "    bB = zSer[:2] # absorption rate\n",
    "    kNB = zSer[:3] # net production efficiency\n",
    "    \n",
    "#    muP = gRateP(pops, kSer, GR0deg, Temp, IntMax, irradiance, radius, Ht)\n",
    "    muP = gRP(pops, kSer, GR0deg, Temp, IntMax, irradiance, Ht)\n",
    "    \n",
    "    N = pops[:1] # nutrient population size\n",
    "    P = pops[:2] # phytoplankton population size\n",
    "    B = pops[:3] # detritivore population size\n",
    "    D = pops[:4] # detritius population size\n",
    "        \n",
    "    mP1 = mSer[:1] # phytoplankton mortality (lin)\n",
    "    mP2 = mSer[:2] # phytoplankton mortality (qua)\n",
    "    mB1 = mSer[:3] # detritivore mortality (lin)\n",
    "    mB2 = mSer[:4] # detritivore mortality (qua)\n",
    "    \n",
    "    # N: nutrient to phyto [-], digested but not absorbed from detritivores [+]\n",
    "    dN = -muP*P +ig*(1-bB)*B\n",
    "    \n",
    "    if P > 0\n",
    "        # P: nutrient absorbed [+], death [-], more death [-]\n",
    "        dP = muP*P -mP1*P -mP2*P^2\n",
    "    else\n",
    "        dP = 0 # if eliminated, can't recover\n",
    "    end\n",
    "    \n",
    "    if B > 0\n",
    "        # B: digested, absorbed & used [+], death [-], more death [-]\n",
    "        dB = ig*bB*kNB -mB1*B -mB2*B^2\n",
    "    else\n",
    "        dB = 0 # if eliminated, can't recover\n",
    "    end\n",
    "        \n",
    "    # D: phyto death [+], phyto more death [+], detritivore death [+], detritivore more death [+], D get destroyed once encountered with detritivore [-]\n",
    "    dD = mP1*P +mP2*P^2 +mB1*B +mB2*B^2 -ig*D\n",
    "    \n",
    "    return(sc.array([dN,dP,dB,dD]))\n",
    "end"
   ]
  },
  {
   "cell_type": "code",
   "execution_count": null,
   "metadata": {
    "ExecuteTime": {
     "start_time": "2020-02-26T19:14:57.724Z"
    },
    "slideshow": {
     "slide_type": "subslide"
    }
   },
   "outputs": [],
   "source": [
    "## model testing\n",
    "x=150\n",
    "t = sc.linspace(0, x, 10000) # time series (days)\n",
    "\n",
    "## parameters\n",
    "pops = sc.array([0,100,100,0]) # population size/density: NPBD\n",
    "kSer = sc.array([.85,0,0,0]) # half-saturation constant: NPBD\n",
    "mSer = sc.array([.2/10,.2/10,.2/10,.1/10]) # mortality: P1 [overall P growth rate] B1 [overall B growth rate]\n",
    "zSer = sc.array([.9,.6,.9]) # zooplankton details: ingestion rate, absorption rate (high value = over-exploitation), net production efficiency\n",
    "Temp = 18 # water surface temperature\n",
    "GR0deg = 3 # phytoplankton growth rate at 0 deg Celcius\n",
    "IntMax = 1490 # max light intensity\n",
    "irradiance = 200 # irradiance at water surface\n",
    "Ht = 1 # water column depth\n",
    "\n",
    "pops, infodict = itg.odeint(ebc, pops, t, full_output=true, args=(kSer, mSer, zSer, Temp, GR0deg, IntMax, irradiance, Ht))\n",
    "\n",
    "plot(pops, xlabel=\"time steps\", ylabel=\"population size\", title=string(round(x/365,digits=2))*\" year(s) Time series on population of\\nnutrient (blue), phytoplankton (orange),\\ndetritivore (green) and detritus (purple)\")"
   ]
  },
  {
   "cell_type": "code",
   "execution_count": null,
   "metadata": {
    "ExecuteTime": {
     "start_time": "2020-02-26T19:14:57.729Z"
    },
    "slideshow": {
     "slide_type": "subslide"
    }
   },
   "outputs": [],
   "source": [
    "pops"
   ]
  },
  {
   "cell_type": "code",
   "execution_count": null,
   "metadata": {
    "ExecuteTime": {
     "start_time": "2020-02-26T19:14:57.733Z"
    },
    "slideshow": {
     "slide_type": "subslide"
    }
   },
   "outputs": [],
   "source": [
    "@rput pops\n",
    "R\"\n",
    "s<-1:nrow(pops)\n",
    "par(mfrow=c(1,2))\n",
    "plot(pops[,2],pops[,3], xlab='phytoplankton pop', ylab='detritivore pop', pch=16, cex=.1)\n",
    "plot(s,pops[,2], col=cbp[2], cex=.1, ylim=c(0,max(pops[,2:3])), xlab='time steps', ylab='population size')\n",
    "points(s,pops[,3], col=cbp[3], cex=.1)\n",
    "legend('topright',legend=c('phyto','detri'),pch=16,col=cbp[2:3])\n",
    "\""
   ]
  }
 ],
 "metadata": {
  "celltoolbar": "Slideshow",
  "kernelspec": {
   "display_name": "Julia 1.3.1",
   "language": "julia",
   "name": "julia-1.3"
  },
  "language_info": {
   "file_extension": ".jl",
   "mimetype": "application/julia",
   "name": "julia",
   "version": "1.3.1"
  },
  "latex_envs": {
   "LaTeX_envs_menu_present": true,
   "autoclose": true,
   "autocomplete": true,
   "bibliofile": "biblio.bib",
   "cite_by": "apalike",
   "current_citInitial": 1,
   "eqLabelWithNumbers": true,
   "eqNumInitial": 1,
   "hotkeys": {
    "equation": "Ctrl-E",
    "itemize": "Ctrl-I"
   },
   "labels_anchors": false,
   "latex_user_defs": false,
   "report_style_numbering": true,
   "user_envs_cfg": true
  },
  "toc": {
   "base_numbering": 1,
   "nav_menu": {},
   "number_sections": true,
   "sideBar": true,
   "skip_h1_title": false,
   "title_cell": "Table of Contents",
   "title_sidebar": "Contents",
   "toc_cell": true,
   "toc_position": {},
   "toc_section_display": true,
   "toc_window_display": true
  },
  "varInspector": {
   "cols": {
    "lenName": 16,
    "lenType": 16,
    "lenVar": 40
   },
   "kernels_config": {
    "python": {
     "delete_cmd_postfix": "",
     "delete_cmd_prefix": "del ",
     "library": "var_list.py",
     "varRefreshCmd": "print(var_dic_list())"
    },
    "r": {
     "delete_cmd_postfix": ") ",
     "delete_cmd_prefix": "rm(",
     "library": "var_list.r",
     "varRefreshCmd": "cat(var_dic_list()) "
    }
   },
   "types_to_exclude": [
    "module",
    "function",
    "builtin_function_or_method",
    "instance",
    "_Feature"
   ],
   "window_display": true
  }
 },
 "nbformat": 4,
 "nbformat_minor": 4
}
