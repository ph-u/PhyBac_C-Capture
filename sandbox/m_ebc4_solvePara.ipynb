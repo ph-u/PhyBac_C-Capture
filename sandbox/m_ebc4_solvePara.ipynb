{
 "cells": [
  {
   "cell_type": "markdown",
   "metadata": {
    "toc": true
   },
   "source": [
    "<h1>Table of Contents<span class=\"tocSkip\"></span></h1>\n",
    "<div class=\"toc\"><ul class=\"toc-item\"><li><span><a href=\"#housekeeping\" data-toc-modified-id=\"housekeeping-1\"><span class=\"toc-item-num\">1&nbsp;&nbsp;</span>housekeeping</a></span><ul class=\"toc-item\"><li><span><a href=\"#languages-&amp;-packages\" data-toc-modified-id=\"languages-&amp;-packages-1.1\"><span class=\"toc-item-num\">1.1&nbsp;&nbsp;</span>languages &amp; packages</a></span></li><li><span><a href=\"#env-set-up\" data-toc-modified-id=\"env-set-up-1.2\"><span class=\"toc-item-num\">1.2&nbsp;&nbsp;</span>env set-up</a></span></li><li><span><a href=\"#model-function\" data-toc-modified-id=\"model-function-1.3\"><span class=\"toc-item-num\">1.3&nbsp;&nbsp;</span>model function</a></span></li></ul></li><li><span><a href=\"#step-by-step-numerical-solve-via-SymPy\" data-toc-modified-id=\"step-by-step-numerical-solve-via-SymPy-2\"><span class=\"toc-item-num\">2&nbsp;&nbsp;</span>step-by-step numerical solve via SymPy</a></span><ul class=\"toc-item\"><li><span><a href=\"#environmental-preparation\" data-toc-modified-id=\"environmental-preparation-2.1\"><span class=\"toc-item-num\">2.1&nbsp;&nbsp;</span>environmental preparation</a></span></li><li><span><a href=\"#solve-each-parameter-in-each-equation\" data-toc-modified-id=\"solve-each-parameter-in-each-equation-2.2\"><span class=\"toc-item-num\">2.2&nbsp;&nbsp;</span>solve each parameter in each equation</a></span><ul class=\"toc-item\"><li><span><a href=\"#$g_p$:-in-$dp$-&amp;-$dm$\" data-toc-modified-id=\"$g_p$:-in-$dp$-&amp;-$dm$-2.2.1\"><span class=\"toc-item-num\">2.2.1&nbsp;&nbsp;</span>$g_p$: in $dp$ &amp; $dm$</a></span></li><li><span><a href=\"#$e_p$:-in-$dp$-&amp;-$dm$\" data-toc-modified-id=\"$e_p$:-in-$dp$-&amp;-$dm$-2.2.2\"><span class=\"toc-item-num\">2.2.2&nbsp;&nbsp;</span>$e_p$: in $dp$ &amp; $dm$</a></span></li><li><span><a href=\"#$R_p$:-in-$dp$\" data-toc-modified-id=\"$R_p$:-in-$dp$-2.2.3\"><span class=\"toc-item-num\">2.2.3&nbsp;&nbsp;</span>$R_p$: in $dp$</a></span></li><li><span><a href=\"#$m_p$:-in-dp-&amp;-dm\" data-toc-modified-id=\"$m_p$:-in-dp-&amp;-dm-2.2.4\"><span class=\"toc-item-num\">2.2.4&nbsp;&nbsp;</span>$m_p$: in dp &amp; dm</a></span></li><li><span><a href=\"#$g_c$:-in-$dc$-&amp;-$dm$\" data-toc-modified-id=\"$g_c$:-in-$dc$-&amp;-$dm$-2.2.5\"><span class=\"toc-item-num\">2.2.5&nbsp;&nbsp;</span>$g_c$: in $dc$ &amp; $dm$</a></span></li><li><span><a href=\"#$e_c$:-in-$dc$-&amp;-$dm$\" data-toc-modified-id=\"$e_c$:-in-$dc$-&amp;-$dm$-2.2.6\"><span class=\"toc-item-num\">2.2.6&nbsp;&nbsp;</span>$e_c$: in $dc$ &amp; $dm$</a></span></li><li><span><a href=\"#$R_c$:-in-$dc$\" data-toc-modified-id=\"$R_c$:-in-$dc$-2.2.7\"><span class=\"toc-item-num\">2.2.7&nbsp;&nbsp;</span>$R_c$: in $dc$</a></span></li><li><span><a href=\"#$m_c$:-in-$dc$-&amp;-$dm$\" data-toc-modified-id=\"$m_c$:-in-$dc$-&amp;-$dm$-2.2.8\"><span class=\"toc-item-num\">2.2.8&nbsp;&nbsp;</span>$m_c$: in $dc$ &amp; $dm$</a></span></li></ul></li></ul></li></ul></div>"
   ]
  },
  {
   "cell_type": "markdown",
   "metadata": {},
   "source": [
    "# housekeeping\n",
    "This notebook is for analytically solving parameters in the set of ODEs for eco-bioelectric cell (EBC).\n",
    "\n",
    "## languages & packages\n",
    "Julia-lang 1.3.1: `PyCall` (1.91.2), `DataFrames` (0.20.0), `SymPy` (1.0.18)\n",
    "\n",
    "## env set-up"
   ]
  },
  {
   "cell_type": "code",
   "execution_count": 1,
   "metadata": {
    "ExecuteTime": {
     "end_time": "2020-03-12T16:06:57.331000Z",
     "start_time": "2020-03-12T16:06:36.963Z"
    }
   },
   "outputs": [
    {
     "name": "stdout",
     "output_type": "stream",
     "text": [
      "\n"
     ]
    }
   ],
   "source": [
    "using PyCall, DataFrames, SymPy\n",
    "mt = pyimport(\"math\")\n",
    "sc = pyimport(\"scipy\")\n",
    "itg = pyimport(\"scipy.integrate\")\n",
    "sympy.init_printing() ## use other py3 function not implemented in native Julia-lang\n",
    "println()"
   ]
  },
  {
   "cell_type": "markdown",
   "metadata": {},
   "source": [
    "## model function\n",
    "![](graph/PBD_00.png)"
   ]
  },
  {
   "cell_type": "code",
   "execution_count": 2,
   "metadata": {
    "ExecuteTime": {
     "end_time": "2020-03-12T16:07:01.958000Z",
     "start_time": "2020-03-12T16:06:37.221Z"
    }
   },
   "outputs": [
    {
     "data": {
      "text/plain": [
       "ebc0 (generic function with 1 method)"
      ]
     },
     "execution_count": 2,
     "metadata": {},
     "output_type": "execute_result"
    }
   ],
   "source": [
    "function ebc0(popDen, t, gp,ep,Rp,mp, gc,ec,Rc,mc)\n",
    "    \n",
    "    ## population densities\n",
    "    P = popDen[:1]\n",
    "    M = popDen[:2]\n",
    "    C = popDen[:3]\n",
    "    \n",
    "    ## numerical adaptation to net growth\n",
    "    #if gp <1; gp = 1+gp;end\n",
    "    #if gc <1; gc = 1+gc;end\n",
    "    \n",
    "    ## fluctuation model\n",
    "    dp = P*(gp*ep - Rp - mp)\n",
    "    dm = P*(gp*(1-ep) + mp) + C*(gc*(1-ec)*M + mc)\n",
    "    dc = C*(gc*ec*M - Rc - mc)\n",
    "    \n",
    "    ## non-recoverable elimination\n",
    "    if P <=0; dp=0;end\n",
    "    if C <=0; dc=0;end\n",
    "    \n",
    "    return(sc.array([dp,dm,dc]))\n",
    "end"
   ]
  },
  {
   "cell_type": "markdown",
   "metadata": {},
   "source": [
    "# step-by-step numerical solve via SymPy\n",
    "This step-wise workflow is following CMEE [notes](https://nbviewer.jupyter.org/github/mhasoba/TheMulQuaBio/blob/master/notebooks/Appendix-Maths.ipynb) (last section) from Samraat on Jupyter math models\n",
    "## environmental preparation\n",
    "define variables"
   ]
  },
  {
   "cell_type": "code",
   "execution_count": 3,
   "metadata": {
    "ExecuteTime": {
     "end_time": "2020-03-12T16:07:04.426000Z",
     "start_time": "2020-03-12T16:06:37.472Z"
    }
   },
   "outputs": [
    {
     "data": {
      "text/plain": [
       "(mc,)"
      ]
     },
     "execution_count": 3,
     "metadata": {},
     "output_type": "execute_result"
    }
   ],
   "source": [
    "@vars P; @vars M; @vars C\n",
    "@vars gp; @vars ep; @vars Rp; @vars mp\n",
    "@vars gc; @vars ec; @vars Rc; @vars mc"
   ]
  },
  {
   "cell_type": "markdown",
   "metadata": {},
   "source": [
    "define SymPy ODE system"
   ]
  },
  {
   "cell_type": "code",
   "execution_count": 16,
   "metadata": {
    "ExecuteTime": {
     "end_time": "2020-03-12T16:19:00.322000Z",
     "start_time": "2020-03-12T16:19:00.305Z"
    }
   },
   "outputs": [
    {
     "data": {
      "text/plain": [
       "(P*(-Rp + ep*gp - mp), C*(M*gc*(1 - ec) + mc) + P*(gp*(1 - ep) + mp), C*(M*ec*gc - Rc - mc))"
      ]
     },
     "execution_count": 16,
     "metadata": {},
     "output_type": "execute_result"
    }
   ],
   "source": [
    "dp = P*(gp*ep - Rp - mp)\n",
    "dm = P*(gp*(1-ep) + mp) + C*(gc*(1-ec)*M + mc)\n",
    "dc = C*(gc*ec*M - Rc - mc)\n",
    "dp, dm, dc"
   ]
  },
  {
   "cell_type": "code",
   "execution_count": 15,
   "metadata": {
    "ExecuteTime": {
     "end_time": "2020-03-12T16:18:54.560000Z",
     "start_time": "2020-03-12T16:18:54.552Z"
    }
   },
   "outputs": [
    {
     "data": {
      "text/latex": [
       "\\begin{equation*}P \\left(- Rp + ep gp - mp\\right)\\end{equation*}"
      ],
      "text/plain": [
       "P⋅(-Rp + ep⋅gp - mp)"
      ]
     },
     "execution_count": 15,
     "metadata": {},
     "output_type": "execute_result"
    }
   ],
   "source": [
    "dp"
   ]
  },
  {
   "cell_type": "code",
   "execution_count": 10,
   "metadata": {
    "ExecuteTime": {
     "end_time": "2020-03-12T16:17:45.289000Z",
     "start_time": "2020-03-12T16:17:45.277Z"
    }
   },
   "outputs": [
    {
     "data": {
      "text/latex": [
       "\\begin{equation*}C \\left(M gc \\left(1 - ec\\right) + mc\\right) + P \\left(gp \\left(1 - ep\\right) + mp\\right)\\end{equation*}"
      ],
      "text/plain": [
       "C⋅(M⋅gc⋅(1 - ec) + mc) + P⋅(gp⋅(1 - ep) + mp)"
      ]
     },
     "execution_count": 10,
     "metadata": {},
     "output_type": "execute_result"
    }
   ],
   "source": [
    "dm"
   ]
  },
  {
   "cell_type": "code",
   "execution_count": 11,
   "metadata": {
    "ExecuteTime": {
     "end_time": "2020-03-12T16:17:56.511000Z",
     "start_time": "2020-03-12T16:17:56.502Z"
    }
   },
   "outputs": [
    {
     "data": {
      "text/latex": [
       "\\begin{equation*}C \\left(M ec gc - Rc - mc\\right)\\end{equation*}"
      ],
      "text/plain": [
       "C⋅(M⋅ec⋅gc - Rc - mc)"
      ]
     },
     "execution_count": 11,
     "metadata": {},
     "output_type": "execute_result"
    }
   ],
   "source": [
    "dc"
   ]
  },
  {
   "cell_type": "markdown",
   "metadata": {},
   "source": [
    "define eqm state"
   ]
  },
  {
   "cell_type": "code",
   "execution_count": 5,
   "metadata": {
    "ExecuteTime": {
     "end_time": "2020-03-12T16:07:05.080000Z",
     "start_time": "2020-03-12T16:06:38.002Z"
    }
   },
   "outputs": [
    {
     "data": {
      "text/plain": [
       "(Eq(P*(-Rp + ep*gp - mp), 0), Eq(C*(M*gc*(1 - ec) + mc) + P*(gp*(1 - ep) + mp), 0), Eq(C*(M*ec*gc - Rc - mc), 0))"
      ]
     },
     "execution_count": 5,
     "metadata": {},
     "output_type": "execute_result"
    }
   ],
   "source": [
    "p_eqm = Eq(dp, 0)\n",
    "m_eqm = Eq(dm, 0)\n",
    "c_eqm = Eq(dc, 0)\n",
    "p_eqm, m_eqm, c_eqm"
   ]
  },
  {
   "cell_type": "code",
   "execution_count": 12,
   "metadata": {
    "ExecuteTime": {
     "end_time": "2020-03-12T16:18:25.549000Z",
     "start_time": "2020-03-12T16:18:25.527Z"
    }
   },
   "outputs": [
    {
     "data": {
      "text/latex": [
       "\\begin{equation*}P \\left(- Rp + ep gp - mp\\right) = 0\\end{equation*}"
      ],
      "text/plain": [
       "P⋅(-Rp + ep⋅gp - mp) = 0"
      ]
     },
     "execution_count": 12,
     "metadata": {},
     "output_type": "execute_result"
    }
   ],
   "source": [
    "p_eqm"
   ]
  },
  {
   "cell_type": "code",
   "execution_count": 13,
   "metadata": {
    "ExecuteTime": {
     "end_time": "2020-03-12T16:18:28.537000Z",
     "start_time": "2020-03-12T16:18:28.526Z"
    }
   },
   "outputs": [
    {
     "data": {
      "text/latex": [
       "\\begin{equation*}C \\left(M gc \\left(1 - ec\\right) + mc\\right) + P \\left(gp \\left(1 - ep\\right) + mp\\right) = 0\\end{equation*}"
      ],
      "text/plain": [
       "C⋅(M⋅gc⋅(1 - ec) + mc) + P⋅(gp⋅(1 - ep) + mp) = 0"
      ]
     },
     "execution_count": 13,
     "metadata": {},
     "output_type": "execute_result"
    }
   ],
   "source": [
    "m_eqm"
   ]
  },
  {
   "cell_type": "code",
   "execution_count": 14,
   "metadata": {
    "ExecuteTime": {
     "end_time": "2020-03-12T16:18:36.943000Z",
     "start_time": "2020-03-12T16:18:36.935Z"
    }
   },
   "outputs": [
    {
     "data": {
      "text/latex": [
       "\\begin{equation*}C \\left(M ec gc - Rc - mc\\right) = 0\\end{equation*}"
      ],
      "text/plain": [
       "C⋅(M⋅ec⋅gc - Rc - mc) = 0"
      ]
     },
     "execution_count": 14,
     "metadata": {},
     "output_type": "execute_result"
    }
   ],
   "source": [
    "c_eqm"
   ]
  },
  {
   "cell_type": "markdown",
   "metadata": {},
   "source": [
    "## solve each parameter in each equation\n",
    "### $g_p$: in $dp$ & $dm$"
   ]
  },
  {
   "cell_type": "code",
   "execution_count": 19,
   "metadata": {
    "ExecuteTime": {
     "end_time": "2020-03-12T16:19:32.075000Z",
     "start_time": "2020-03-12T16:19:31.908Z"
    }
   },
   "outputs": [
    {
     "data": {
      "text/plain": [
       "(Sym[(Rp + mp)/ep], Sym[(-C*M*ec*gc + C*M*gc + C*mc + P*mp)/(P*(ep - 1))])"
      ]
     },
     "execution_count": 19,
     "metadata": {},
     "output_type": "execute_result"
    }
   ],
   "source": [
    "gp_p = solve(p_eqm, gp)\n",
    "gp_m = solve(m_eqm, gp)\n",
    "gp_p, gp_m"
   ]
  },
  {
   "cell_type": "code",
   "execution_count": 18,
   "metadata": {
    "ExecuteTime": {
     "end_time": "2020-03-12T16:19:27.197000Z",
     "start_time": "2020-03-12T16:19:26.321Z"
    }
   },
   "outputs": [
    {
     "data": {
      "text/latex": [
       "\\[ \\left[ \\begin{array}{r}\\frac{Rp + mp}{ep}\\end{array} \\right] \\]"
      ],
      "text/plain": [
       "1-element Array{Sym,1}:\n",
       " (Rp + mp)/ep"
      ]
     },
     "execution_count": 18,
     "metadata": {},
     "output_type": "execute_result"
    }
   ],
   "source": [
    "gp_p"
   ]
  },
  {
   "cell_type": "code",
   "execution_count": 8,
   "metadata": {
    "ExecuteTime": {
     "end_time": "2020-03-12T16:09:37.421000Z",
     "start_time": "2020-03-12T16:09:37.396Z"
    }
   },
   "outputs": [
    {
     "data": {
      "text/latex": [
       "\\[ \\left[ \\begin{array}{r}\\frac{- C M ec gc + C M gc + C mc + P mp}{P \\left(ep - 1\\right)}\\end{array} \\right] \\]"
      ],
      "text/plain": [
       "1-element Array{Sym,1}:\n",
       " (-C*M*ec*gc + C*M*gc + C*mc + P*mp)/(P*(ep - 1))"
      ]
     },
     "execution_count": 8,
     "metadata": {},
     "output_type": "execute_result"
    }
   ],
   "source": [
    "gp_m"
   ]
  },
  {
   "cell_type": "markdown",
   "metadata": {},
   "source": [
    "### $e_p$: in $dp$ & $dm$"
   ]
  },
  {
   "cell_type": "code",
   "execution_count": 25,
   "metadata": {
    "ExecuteTime": {
     "end_time": "2020-03-12T16:22:26.207000Z",
     "start_time": "2020-03-12T16:22:25.824Z"
    }
   },
   "outputs": [
    {
     "name": "stdout",
     "output_type": "stream",
     "text": [
      "Sym[(Rp + mp)/gp]Sym[(C*(-M*ec*gc + M*gc + mc) + P*gp + P*mp)/(P*gp)]\n"
     ]
    }
   ],
   "source": [
    "ep_p = solve(p_eqm, ep)\n",
    "ep_m = solve(m_eqm, ep)\n",
    "ep_p, ep_m"
   ]
  },
  {
   "cell_type": "code",
   "execution_count": 21,
   "metadata": {
    "ExecuteTime": {
     "end_time": "2020-03-12T16:20:28.050000Z",
     "start_time": "2020-03-12T16:20:28.035Z"
    }
   },
   "outputs": [
    {
     "data": {
      "text/latex": [
       "\\[ \\left[ \\begin{array}{r}\\frac{Rp + mp}{gp}\\end{array} \\right] \\]"
      ],
      "text/plain": [
       "1-element Array{Sym,1}:\n",
       " (Rp + mp)/gp"
      ]
     },
     "execution_count": 21,
     "metadata": {},
     "output_type": "execute_result"
    }
   ],
   "source": [
    "ep_p"
   ]
  },
  {
   "cell_type": "code",
   "execution_count": 22,
   "metadata": {
    "ExecuteTime": {
     "end_time": "2020-03-12T16:20:31.783000Z",
     "start_time": "2020-03-12T16:20:31.771Z"
    }
   },
   "outputs": [
    {
     "data": {
      "text/latex": [
       "\\[ \\left[ \\begin{array}{r}\\frac{C \\left(- M ec gc + M gc + mc\\right) + P gp + P mp}{P gp}\\end{array} \\right] \\]"
      ],
      "text/plain": [
       "1-element Array{Sym,1}:\n",
       " (C*(-M*ec*gc + M*gc + mc) + P*gp + P*mp)/(P*gp)"
      ]
     },
     "execution_count": 22,
     "metadata": {},
     "output_type": "execute_result"
    }
   ],
   "source": [
    "ep_m"
   ]
  },
  {
   "cell_type": "markdown",
   "metadata": {},
   "source": [
    "### $R_p$: in $dp$"
   ]
  },
  {
   "cell_type": "code",
   "execution_count": 24,
   "metadata": {
    "ExecuteTime": {
     "end_time": "2020-03-12T16:21:22.837000Z",
     "start_time": "2020-03-12T16:21:22.787Z"
    }
   },
   "outputs": [
    {
     "data": {
      "text/latex": [
       "\\[ \\left[ \\begin{array}{r}ep gp - mp\\end{array} \\right] \\]"
      ],
      "text/plain": [
       "1-element Array{Sym,1}:\n",
       " ep*gp - mp"
      ]
     },
     "execution_count": 24,
     "metadata": {},
     "output_type": "execute_result"
    }
   ],
   "source": [
    "rp_p = solve(p_eqm, Rp)\n",
    "rp_p"
   ]
  },
  {
   "cell_type": "markdown",
   "metadata": {},
   "source": [
    "### $m_p$: in dp & dm"
   ]
  },
  {
   "cell_type": "code",
   "execution_count": 26,
   "metadata": {
    "ExecuteTime": {
     "end_time": "2020-03-12T16:22:49.890000Z",
     "start_time": "2020-03-12T16:22:49.704Z"
    }
   },
   "outputs": [
    {
     "data": {
      "text/plain": [
       "(Sym[-Rp + ep*gp], Sym[(C*M*ec*gc - C*M*gc - C*mc + P*gp*(ep - 1))/P])"
      ]
     },
     "execution_count": 26,
     "metadata": {},
     "output_type": "execute_result"
    }
   ],
   "source": [
    "mp_p = solve(p_eqm, mp)\n",
    "mp_m = solve(m_eqm, mp)\n",
    "mp_p, mp_m"
   ]
  },
  {
   "cell_type": "code",
   "execution_count": 27,
   "metadata": {
    "ExecuteTime": {
     "end_time": "2020-03-12T16:22:59.663000Z",
     "start_time": "2020-03-12T16:22:59.656Z"
    }
   },
   "outputs": [
    {
     "data": {
      "text/latex": [
       "\\[ \\left[ \\begin{array}{r}- Rp + ep gp\\end{array} \\right] \\]"
      ],
      "text/plain": [
       "1-element Array{Sym,1}:\n",
       " -Rp + ep*gp"
      ]
     },
     "execution_count": 27,
     "metadata": {},
     "output_type": "execute_result"
    }
   ],
   "source": [
    "mp_p"
   ]
  },
  {
   "cell_type": "code",
   "execution_count": 28,
   "metadata": {
    "ExecuteTime": {
     "end_time": "2020-03-12T16:23:03.356000Z",
     "start_time": "2020-03-12T16:23:03.336Z"
    }
   },
   "outputs": [
    {
     "data": {
      "text/latex": [
       "\\[ \\left[ \\begin{array}{r}\\frac{C M ec gc - C M gc - C mc + P gp \\left(ep - 1\\right)}{P}\\end{array} \\right] \\]"
      ],
      "text/plain": [
       "1-element Array{Sym,1}:\n",
       " (C*M*ec*gc - C*M*gc - C*mc + P*gp*(ep - 1))/P"
      ]
     },
     "execution_count": 28,
     "metadata": {},
     "output_type": "execute_result"
    }
   ],
   "source": [
    "mp_m"
   ]
  },
  {
   "cell_type": "markdown",
   "metadata": {},
   "source": [
    "### $g_c$: in $dc$ & $dm$"
   ]
  },
  {
   "cell_type": "code",
   "execution_count": 29,
   "metadata": {
    "ExecuteTime": {
     "end_time": "2020-03-12T16:23:42.384000Z",
     "start_time": "2020-03-12T16:23:42.137Z"
    }
   },
   "outputs": [
    {
     "data": {
      "text/plain": [
       "(Sym[(Rc + mc)/(M*ec)], Sym[(C*mc - P*ep*gp + P*gp + P*mp)/(C*M*(ec - 1))])"
      ]
     },
     "execution_count": 29,
     "metadata": {},
     "output_type": "execute_result"
    }
   ],
   "source": [
    "gc_c = solve(c_eqm, gc)\n",
    "gc_m = solve(m_eqm, gc)\n",
    "gc_c, gc_m"
   ]
  },
  {
   "cell_type": "code",
   "execution_count": 30,
   "metadata": {
    "ExecuteTime": {
     "end_time": "2020-03-12T16:23:52.808000Z",
     "start_time": "2020-03-12T16:23:52.801Z"
    }
   },
   "outputs": [
    {
     "data": {
      "text/latex": [
       "\\[ \\left[ \\begin{array}{r}\\frac{Rc + mc}{M ec}\\end{array} \\right] \\]"
      ],
      "text/plain": [
       "1-element Array{Sym,1}:\n",
       " (Rc + mc)/(M*ec)"
      ]
     },
     "execution_count": 30,
     "metadata": {},
     "output_type": "execute_result"
    }
   ],
   "source": [
    "gc_c"
   ]
  },
  {
   "cell_type": "code",
   "execution_count": 31,
   "metadata": {
    "ExecuteTime": {
     "end_time": "2020-03-12T16:23:57.262000Z",
     "start_time": "2020-03-12T16:23:57.249Z"
    }
   },
   "outputs": [
    {
     "data": {
      "text/latex": [
       "\\[ \\left[ \\begin{array}{r}\\frac{C mc - P ep gp + P gp + P mp}{C M \\left(ec - 1\\right)}\\end{array} \\right] \\]"
      ],
      "text/plain": [
       "1-element Array{Sym,1}:\n",
       " (C*mc - P*ep*gp + P*gp + P*mp)/(C*M*(ec - 1))"
      ]
     },
     "execution_count": 31,
     "metadata": {},
     "output_type": "execute_result"
    }
   ],
   "source": [
    "gc_m"
   ]
  },
  {
   "cell_type": "markdown",
   "metadata": {},
   "source": [
    "### $e_c$: in $dc$ & $dm$"
   ]
  },
  {
   "cell_type": "code",
   "execution_count": 32,
   "metadata": {
    "ExecuteTime": {
     "end_time": "2020-03-12T16:24:46.281000Z",
     "start_time": "2020-03-12T16:24:46.022Z"
    }
   },
   "outputs": [
    {
     "data": {
      "text/plain": [
       "(Sym[(Rc + mc)/(M*gc)], Sym[(C*M*gc + C*mc + P*(-ep*gp + gp + mp))/(C*M*gc)])"
      ]
     },
     "execution_count": 32,
     "metadata": {},
     "output_type": "execute_result"
    }
   ],
   "source": [
    "ec_c = solve(c_eqm, ec)\n",
    "ec_m = solve(m_eqm, ec)\n",
    "ec_c, ec_m"
   ]
  },
  {
   "cell_type": "code",
   "execution_count": 33,
   "metadata": {
    "ExecuteTime": {
     "end_time": "2020-03-12T16:24:55.698000Z",
     "start_time": "2020-03-12T16:24:55.682Z"
    }
   },
   "outputs": [
    {
     "data": {
      "text/latex": [
       "\\[ \\left[ \\begin{array}{r}\\frac{Rc + mc}{M gc}\\end{array} \\right] \\]"
      ],
      "text/plain": [
       "1-element Array{Sym,1}:\n",
       " (Rc + mc)/(M*gc)"
      ]
     },
     "execution_count": 33,
     "metadata": {},
     "output_type": "execute_result"
    }
   ],
   "source": [
    "ec_c"
   ]
  },
  {
   "cell_type": "code",
   "execution_count": 34,
   "metadata": {
    "ExecuteTime": {
     "end_time": "2020-03-12T16:24:59.607000Z",
     "start_time": "2020-03-12T16:24:59.595Z"
    }
   },
   "outputs": [
    {
     "data": {
      "text/latex": [
       "\\[ \\left[ \\begin{array}{r}\\frac{C M gc + C mc + P \\left(- ep gp + gp + mp\\right)}{C M gc}\\end{array} \\right] \\]"
      ],
      "text/plain": [
       "1-element Array{Sym,1}:\n",
       " (C*M*gc + C*mc + P*(-ep*gp + gp + mp))/(C*M*gc)"
      ]
     },
     "execution_count": 34,
     "metadata": {},
     "output_type": "execute_result"
    }
   ],
   "source": [
    "ec_m"
   ]
  },
  {
   "cell_type": "markdown",
   "metadata": {},
   "source": [
    "### $R_c$: in $dc$"
   ]
  },
  {
   "cell_type": "code",
   "execution_count": 35,
   "metadata": {
    "ExecuteTime": {
     "end_time": "2020-03-12T16:25:24.758000Z",
     "start_time": "2020-03-12T16:25:24.716Z"
    }
   },
   "outputs": [
    {
     "data": {
      "text/latex": [
       "\\[ \\left[ \\begin{array}{r}M ec gc - mc\\end{array} \\right] \\]"
      ],
      "text/plain": [
       "1-element Array{Sym,1}:\n",
       " M*ec*gc - mc"
      ]
     },
     "execution_count": 35,
     "metadata": {},
     "output_type": "execute_result"
    }
   ],
   "source": [
    "rc_c = solve(c_eqm, Rc)\n",
    "rc_c"
   ]
  },
  {
   "cell_type": "markdown",
   "metadata": {},
   "source": [
    "### $m_c$: in $dc$ & $dm$"
   ]
  },
  {
   "cell_type": "code",
   "execution_count": 37,
   "metadata": {
    "ExecuteTime": {
     "end_time": "2020-03-12T16:25:55.596000Z",
     "start_time": "2020-03-12T16:25:55.429Z"
    }
   },
   "outputs": [
    {
     "data": {
      "text/plain": [
       "(Sym[M*ec*gc - Rc], Sym[(C*M*gc*(ec - 1) + P*ep*gp - P*gp - P*mp)/C])"
      ]
     },
     "execution_count": 37,
     "metadata": {},
     "output_type": "execute_result"
    }
   ],
   "source": [
    "mc_c = solve(c_eqm, mc)\n",
    "mc_m = solve(m_eqm, mc)\n",
    "mc_c, mc_m"
   ]
  },
  {
   "cell_type": "code",
   "execution_count": 38,
   "metadata": {
    "ExecuteTime": {
     "end_time": "2020-03-12T16:26:03.571000Z",
     "start_time": "2020-03-12T16:26:03.564Z"
    }
   },
   "outputs": [
    {
     "data": {
      "text/latex": [
       "\\[ \\left[ \\begin{array}{r}M ec gc - Rc\\end{array} \\right] \\]"
      ],
      "text/plain": [
       "1-element Array{Sym,1}:\n",
       " M*ec*gc - Rc"
      ]
     },
     "execution_count": 38,
     "metadata": {},
     "output_type": "execute_result"
    }
   ],
   "source": [
    "mc_c"
   ]
  },
  {
   "cell_type": "code",
   "execution_count": 39,
   "metadata": {
    "ExecuteTime": {
     "end_time": "2020-03-12T16:26:06.121000Z",
     "start_time": "2020-03-12T16:26:06.109Z"
    }
   },
   "outputs": [
    {
     "data": {
      "text/latex": [
       "\\[ \\left[ \\begin{array}{r}\\frac{C M gc \\left(ec - 1\\right) + P ep gp - P gp - P mp}{C}\\end{array} \\right] \\]"
      ],
      "text/plain": [
       "1-element Array{Sym,1}:\n",
       " (C*M*gc*(ec - 1) + P*ep*gp - P*gp - P*mp)/C"
      ]
     },
     "execution_count": 39,
     "metadata": {},
     "output_type": "execute_result"
    }
   ],
   "source": [
    "mc_m"
   ]
  }
 ],
 "metadata": {
  "kernelspec": {
   "display_name": "Julia 1.3.1",
   "language": "julia",
   "name": "julia-1.3"
  },
  "language_info": {
   "file_extension": ".jl",
   "mimetype": "application/julia",
   "name": "julia",
   "version": "1.3.1"
  },
  "latex_envs": {
   "LaTeX_envs_menu_present": true,
   "autoclose": true,
   "autocomplete": true,
   "bibliofile": "biblio.bib",
   "cite_by": "apalike",
   "current_citInitial": 1,
   "eqLabelWithNumbers": true,
   "eqNumInitial": 1,
   "hotkeys": {
    "equation": "Ctrl-E",
    "itemize": "Ctrl-I"
   },
   "labels_anchors": false,
   "latex_user_defs": false,
   "report_style_numbering": true,
   "user_envs_cfg": true
  },
  "toc": {
   "base_numbering": 1,
   "nav_menu": {},
   "number_sections": true,
   "sideBar": true,
   "skip_h1_title": false,
   "title_cell": "Table of Contents",
   "title_sidebar": "Contents",
   "toc_cell": true,
   "toc_position": {},
   "toc_section_display": true,
   "toc_window_display": true
  },
  "varInspector": {
   "cols": {
    "lenName": 16,
    "lenType": 16,
    "lenVar": 40
   },
   "kernels_config": {
    "python": {
     "delete_cmd_postfix": "",
     "delete_cmd_prefix": "del ",
     "library": "var_list.py",
     "varRefreshCmd": "print(var_dic_list())"
    },
    "r": {
     "delete_cmd_postfix": ") ",
     "delete_cmd_prefix": "rm(",
     "library": "var_list.r",
     "varRefreshCmd": "cat(var_dic_list()) "
    }
   },
   "types_to_exclude": [
    "module",
    "function",
    "builtin_function_or_method",
    "instance",
    "_Feature"
   ],
   "window_display": true
  }
 },
 "nbformat": 4,
 "nbformat_minor": 4
}
