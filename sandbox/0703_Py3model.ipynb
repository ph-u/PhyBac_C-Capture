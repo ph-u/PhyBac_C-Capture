{
 "cells": [
  {
   "cell_type": "markdown",
   "metadata": {
    "toc": true
   },
   "source": [
    "<h1>Table of Contents<span class=\"tocSkip\"></span></h1>\n",
    "<div class=\"toc\"><ul class=\"toc-item\"><li><span><a href=\"#model-import\" data-toc-modified-id=\"model-import-1\"><span class=\"toc-item-num\">1&nbsp;&nbsp;</span>model import</a></span></li><li><span><a href=\"#analytical-solution-deduction\" data-toc-modified-id=\"analytical-solution-deduction-2\"><span class=\"toc-item-num\">2&nbsp;&nbsp;</span>analytical solution deduction</a></span></li><li><span><a href=\"#integration-plotting\" data-toc-modified-id=\"integration-plotting-3\"><span class=\"toc-item-num\">3&nbsp;&nbsp;</span>integration plotting</a></span></li></ul></div>"
   ]
  },
  {
   "cell_type": "markdown",
   "metadata": {},
   "source": [
    "# model import"
   ]
  },
  {
   "cell_type": "code",
   "execution_count": 1,
   "metadata": {
    "ExecuteTime": {
     "end_time": "2020-07-04T00:11:18.915957Z",
     "start_time": "2020-07-04T00:11:17.646885Z"
    }
   },
   "outputs": [],
   "source": [
    "import sys\n",
    "sys.path.insert(0, '../code/')\n",
    "import func\n",
    "import scipy as sc\n",
    "import scipy.integrate as itg\n",
    "import matplotlib.pylab as p\n",
    "import sympy as sp\n",
    "sp.init_printing()"
   ]
  },
  {
   "cell_type": "code",
   "execution_count": 2,
   "metadata": {
    "ExecuteTime": {
     "end_time": "2020-07-04T00:11:18.953334Z",
     "start_time": "2020-07-04T00:11:18.920056Z"
    }
   },
   "outputs": [],
   "source": [
    "C,P,B, x, e_PR,e_P,g_P,a_P, e_BR,e_B,g_B,m_B = sp.var('C,P,B, x, e_PR,e_P,g_P,a_P, e_BR,e_B,g_B,m_B', positive=True)\n",
    "dC = g_P*e_PR*(1-e_P)*P + a_P*P**2 + g_B*(e_BR*(1-e_B)-1)*C*B + m_B*B -x*C\n",
    "dP = g_P*e_PR*e_P*P - a_P*P**2\n",
    "dB = g_B*e_BR*e_B*C*B - m_B*B"
   ]
  },
  {
   "cell_type": "markdown",
   "metadata": {},
   "source": [
    "# analytical solution deduction"
   ]
  },
  {
   "cell_type": "code",
   "execution_count": 3,
   "metadata": {
    "ExecuteTime": {
     "end_time": "2020-07-04T00:11:21.573226Z",
     "start_time": "2020-07-04T00:11:18.957615Z"
    }
   },
   "outputs": [
    {
     "data": {
      "image/png": "[encoded data removed]",
      "text/latex": [
       "$\\displaystyle \\left[ \\left( \\frac{m_{B}}{e_{B} e_{BR} g_{B}}, \\  \\frac{e_{P} e_{PR} g_{P}}{a_{P}}, \\  \\frac{a_{P} m_{B} x - e_{B} e_{BR} e_{P} e_{PR}^{2} g_{B} g_{P}^{2}}{a_{P} e_{BR} g_{B} m_{B} - a_{P} g_{B} m_{B}}\\right)\\right]$"
      ],
      "text/plain": [
       "⎡⎛                                                         2        2⎞⎤\n",
       "⎢⎜    m_B       e_P⋅e_PR⋅g_P  a_P⋅m_B⋅x - e_B⋅e_BR⋅e_P⋅e_PR ⋅g_B⋅g_P ⎟⎥\n",
       "⎢⎜────────────, ────────────, ───────────────────────────────────────⎟⎥\n",
       "⎣⎝e_B⋅e_BR⋅g_B      a_P            a_P⋅e_BR⋅g_B⋅m_B - a_P⋅g_B⋅m_B    ⎠⎦"
      ]
     },
     "execution_count": 3,
     "metadata": {},
     "output_type": "execute_result"
    }
   ],
   "source": [
    "sp.solve([sp.Eq(dC,0),sp.Eq(dP,0),sp.Eq(dB,0)],[C,P,B])"
   ]
  },
  {
   "cell_type": "code",
   "execution_count": 4,
   "metadata": {
    "ExecuteTime": {
     "end_time": "2020-07-04T00:11:21.596578Z",
     "start_time": "2020-07-04T00:11:21.578552Z"
    }
   },
   "outputs": [
    {
     "data": {
      "text/plain": [
       "array([0.21212121, 0.945     , 0.7103125 ])"
      ]
     },
     "execution_count": 4,
     "metadata": {},
     "output_type": "execute_result"
    }
   ],
   "source": [
    "vAr = (.1,.5,.63,.3,.1,.6,.55,2,.14)\n",
    "x = vAr[0]\n",
    "ePR = vAr[1]; eP = vAr[2]; gP = vAr[3]; aP = vAr[4]\n",
    "eBR = vAr[5]; eB = vAr[6]; gB = vAr[7]; mB = vAr[8]\n",
    "eQ = sc.array([mB/(eB*eBR*gB),eP*ePR*gP/aP,(aP*mB*x-eB*eBR*eP*gB*(ePR*gP)**2)/(aP*gB*mB*(eBR-1))])\n",
    "eQ"
   ]
  },
  {
   "cell_type": "markdown",
   "metadata": {},
   "source": [
    "# integration plotting"
   ]
  },
  {
   "cell_type": "code",
   "execution_count": 5,
   "metadata": {
    "ExecuteTime": {
     "end_time": "2020-07-04T00:11:21.972484Z",
     "start_time": "2020-07-04T00:11:21.600124Z"
    }
   },
   "outputs": [
    {
     "data": {
      "image/png": "[encoded data removed]",
      "text/plain": [
       "<Figure size 432x288 with 1 Axes>"
      ]
     },
     "metadata": {
      "needs_background": "light"
     },
     "output_type": "display_data"
    }
   ],
   "source": [
    "t = sc.linspace(0,1000,10000)\n",
    "den, infodict = itg.odeint(func.ebc7, sc.array([1,1,1]), t, full_output=True, args=vAr)\n",
    "p.plot(t,den[:,0], 'b-', label='organic carbon')\n",
    "p.plot(t,den[:,1], 'g-', label='phytoplankton')\n",
    "p.plot(t,den[:,2], 'r-', label='bacteria')\n",
    "p.plot([t[len(t)-1],t[len(t)-1],t[len(t)-1]],eQ, '.')\n",
    "p.grid()\n",
    "p.legend(loc='best')\n",
    "p.xlabel('Time')\n",
    "p.ylabel('density')\n",
    "p.title('Harvest term on all components')\n",
    "p.show()"
   ]
  }
 ],
 "metadata": {
  "kernelspec": {
   "display_name": "Python 3",
   "language": "python",
   "name": "python3"
  },
  "language_info": {
   "codemirror_mode": {
    "name": "ipython",
    "version": 2
   },
   "file_extension": ".py",
   "mimetype": "text/x-python",
   "name": "python",
   "nbconvert_exporter": "python",
   "pygments_lexer": "ipython2",
   "version": "2.7.17"
  },
  "toc": {
   "base_numbering": 1,
   "nav_menu": {},
   "number_sections": true,
   "sideBar": true,
   "skip_h1_title": false,
   "title_cell": "Table of Contents",
   "title_sidebar": "Contents",
   "toc_cell": true,
   "toc_position": {},
   "toc_section_display": true,
   "toc_window_display": true
  }
 },
 "nbformat": 4,
 "nbformat_minor": 2
}
