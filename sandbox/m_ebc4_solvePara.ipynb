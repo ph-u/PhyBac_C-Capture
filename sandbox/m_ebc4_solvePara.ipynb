{
 "cells": [
  {
   "cell_type": "markdown",
   "metadata": {
    "toc": true
   },
   "source": [
    "<h1>Table of Contents<span class=\"tocSkip\"></span></h1>\n",
    "<div class=\"toc\"><ul class=\"toc-item\"><li><span><a href=\"#housekeeping\" data-toc-modified-id=\"housekeeping-1\"><span class=\"toc-item-num\">1&nbsp;&nbsp;</span>housekeeping</a></span><ul class=\"toc-item\"><li><span><a href=\"#languages-&amp;-packages\" data-toc-modified-id=\"languages-&amp;-packages-1.1\"><span class=\"toc-item-num\">1.1&nbsp;&nbsp;</span>languages &amp; packages</a></span></li><li><span><a href=\"#env-set-up\" data-toc-modified-id=\"env-set-up-1.2\"><span class=\"toc-item-num\">1.2&nbsp;&nbsp;</span>env set-up</a></span></li><li><span><a href=\"#model-function\" data-toc-modified-id=\"model-function-1.3\"><span class=\"toc-item-num\">1.3&nbsp;&nbsp;</span>model function</a></span></li></ul></li><li><span><a href=\"#step-by-step-numerical-solve-via-SymPy\" data-toc-modified-id=\"step-by-step-numerical-solve-via-SymPy-2\"><span class=\"toc-item-num\">2&nbsp;&nbsp;</span>step-by-step numerical solve via SymPy</a></span><ul class=\"toc-item\"><li><span><a href=\"#environmental-preparation\" data-toc-modified-id=\"environmental-preparation-2.1\"><span class=\"toc-item-num\">2.1&nbsp;&nbsp;</span>environmental preparation</a></span></li><li><span><a href=\"#solve-each-parameter-in-each-equation\" data-toc-modified-id=\"solve-each-parameter-in-each-equation-2.2\"><span class=\"toc-item-num\">2.2&nbsp;&nbsp;</span>solve each parameter in each equation</a></span><ul class=\"toc-item\"><li><span><a href=\"#$g_p$:-in-$dp$-&amp;-$dm$\" data-toc-modified-id=\"$g_p$:-in-$dp$-&amp;-$dm$-2.2.1\"><span class=\"toc-item-num\">2.2.1&nbsp;&nbsp;</span>$g_p$: in $dp$ &amp; $dm$</a></span></li><li><span><a href=\"#$e_p$:-in-$dp$-&amp;-$dm$\" data-toc-modified-id=\"$e_p$:-in-$dp$-&amp;-$dm$-2.2.2\"><span class=\"toc-item-num\">2.2.2&nbsp;&nbsp;</span>$e_p$: in $dp$ &amp; $dm$</a></span></li><li><span><a href=\"#$R_p$:-in-$dp$\" data-toc-modified-id=\"$R_p$:-in-$dp$-2.2.3\"><span class=\"toc-item-num\">2.2.3&nbsp;&nbsp;</span>$R_p$: in $dp$</a></span></li><li><span><a href=\"#$m_p$:-in-$dp$-&amp;-$dm$\" data-toc-modified-id=\"$m_p$:-in-$dp$-&amp;-$dm$-2.2.4\"><span class=\"toc-item-num\">2.2.4&nbsp;&nbsp;</span>$m_p$: in $dp$ &amp; $dm$</a></span></li><li><span><a href=\"#$g_c$:-in-$dc$-&amp;-$dm$\" data-toc-modified-id=\"$g_c$:-in-$dc$-&amp;-$dm$-2.2.5\"><span class=\"toc-item-num\">2.2.5&nbsp;&nbsp;</span>$g_c$: in $dc$ &amp; $dm$</a></span></li><li><span><a href=\"#$e_c$:-in-$dc$-&amp;-$dm$\" data-toc-modified-id=\"$e_c$:-in-$dc$-&amp;-$dm$-2.2.6\"><span class=\"toc-item-num\">2.2.6&nbsp;&nbsp;</span>$e_c$: in $dc$ &amp; $dm$</a></span></li><li><span><a href=\"#$R_c$:-in-$dc$\" data-toc-modified-id=\"$R_c$:-in-$dc$-2.2.7\"><span class=\"toc-item-num\">2.2.7&nbsp;&nbsp;</span>$R_c$: in $dc$</a></span></li><li><span><a href=\"#$m_c$:-in-$dc$-&amp;-$dm$\" data-toc-modified-id=\"$m_c$:-in-$dc$-&amp;-$dm$-2.2.8\"><span class=\"toc-item-num\">2.2.8&nbsp;&nbsp;</span>$m_c$: in $dc$ &amp; $dm$</a></span></li></ul></li></ul></li><li><span><a href=\"#solve-all-parameters-in-one-go\" data-toc-modified-id=\"solve-all-parameters-in-one-go-3\"><span class=\"toc-item-num\">3&nbsp;&nbsp;</span>solve all parameters in one go</a></span></li></ul></div>"
   ]
  },
  {
   "cell_type": "markdown",
   "metadata": {},
   "source": [
    "# housekeeping\n",
    "This notebook is for analytically solving parameters in the set of ODEs for eco-bioelectric cell (EBC).\n",
    "\n",
    "## languages & packages\n",
    "Julia-lang 1.3.1: `PyCall` (1.91.2), `DataFrames` (0.20.0), `SymPy` (1.0.18)\n",
    "\n",
    "## env set-up"
   ]
  },
  {
   "cell_type": "code",
   "execution_count": 1,
   "metadata": {
    "ExecuteTime": {
     "end_time": "2020-03-13T08:53:27.491000Z",
     "start_time": "2020-03-13T08:53:03.704Z"
    }
   },
   "outputs": [
    {
     "name": "stdout",
     "output_type": "stream",
     "text": [
      "\n"
     ]
    }
   ],
   "source": [
    "using PyCall, DataFrames, SymPy\n",
    "sympy.init_printing() ## use other py3 function not implemented in native Julia-lang\n",
    "println()"
   ]
  },
  {
   "cell_type": "code",
   "execution_count": 2,
   "metadata": {
    "ExecuteTime": {
     "end_time": "2020-03-13T08:53:33.102000Z",
     "start_time": "2020-03-13T08:53:04.167Z"
    }
   },
   "outputs": [
    {
     "data": {
      "text/plain": [
       "ebc0 (generic function with 1 method)"
      ]
     },
     "execution_count": 2,
     "metadata": {},
     "output_type": "execute_result"
    }
   ],
   "source": [
    "# function ebc0(popDen, t, gp,ep,Rp,mp, gc,ec,Rc,mc)\n",
    "    \n",
    "#     ## population densities\n",
    "#     P = popDen[:1]\n",
    "#     M = popDen[:2]\n",
    "#     C = popDen[:3]\n",
    "    \n",
    "#     ## numerical adaptation to net growth\n",
    "#     #if gp <1; gp = 1+gp;end\n",
    "#     #if gc <1; gc = 1+gc;end\n",
    "    \n",
    "#     ## fluctuation model\n",
    "#     dp = P*(gp*ep - Rp - mp)\n",
    "#     dm = P*(gp*(1-ep) + mp) + C*(gc*(1-ec)*M + mc)\n",
    "#     dc = C*(gc*ec*M - Rc - mc)\n",
    "    \n",
    "#     ## non-recoverable elimination\n",
    "#     if P <=0; dp=0;end\n",
    "#     if C <=0; dc=0;end\n",
    "    \n",
    "#     return(sc.array([dp,dm,dc]))\n",
    "# end"
   ]
  },
  {
   "cell_type": "markdown",
   "metadata": {},
   "source": [
    "# step-by-step numerical solve via SymPy\n",
    "This step-wise workflow is following CMEE [notes](https://nbviewer.jupyter.org/github/mhasoba/TheMulQuaBio/blob/master/notebooks/Appendix-Maths.ipynb) (last section) from Samraat on Jupyter math models\n",
    "## environmental preparation\n",
    "define variables"
   ]
  },
  {
   "cell_type": "code",
   "execution_count": 3,
   "metadata": {
    "ExecuteTime": {
     "end_time": "2020-03-13T08:53:36.160000Z",
     "start_time": "2020-03-13T08:53:04.617Z"
    }
   },
   "outputs": [
    {
     "data": {
      "text/plain": [
       "(mc,)"
      ]
     },
     "execution_count": 3,
     "metadata": {},
     "output_type": "execute_result"
    }
   ],
   "source": [
    "@vars P; @vars M; @vars C\n",
    "@vars gp; @vars ep; @vars Rp; @vars mp\n",
    "@vars gc; @vars ec; @vars Rc; @vars mc"
   ]
  },
  {
   "cell_type": "markdown",
   "metadata": {},
   "source": [
    "define SymPy ODE system"
   ]
  },
  {
   "cell_type": "code",
   "execution_count": 4,
   "metadata": {
    "ExecuteTime": {
     "end_time": "2020-03-13T08:53:36.946000Z",
     "start_time": "2020-03-13T08:53:05.052Z"
    }
   },
   "outputs": [
    {
     "data": {
      "text/plain": [
       "(P*(-Rp + ep*gp - mp), C*(M*gc*(1 - ec) + mc) + P*(gp*(1 - ep) + mp), C*(M*ec*gc - Rc - mc))"
      ]
     },
     "execution_count": 4,
     "metadata": {},
     "output_type": "execute_result"
    }
   ],
   "source": [
    "dp = P*(gp*ep - Rp - mp)\n",
    "dm = P*(gp*(1-ep) + mp) + C*(gc*(1-ec)*M + mc)\n",
    "dc = C*(gc*ec*M - Rc - mc)\n",
    "dp, dm, dc"
   ]
  },
  {
   "cell_type": "code",
   "execution_count": 5,
   "metadata": {
    "ExecuteTime": {
     "end_time": "2020-03-13T08:53:38.305000Z",
     "start_time": "2020-03-13T08:53:05.055Z"
    }
   },
   "outputs": [
    {
     "data": {
      "text/latex": [
       "\\begin{equation*}P \\left(- Rp + ep gp - mp\\right)\\end{equation*}"
      ],
      "text/plain": [
       "P⋅(-Rp + ep⋅gp - mp)"
      ]
     },
     "execution_count": 5,
     "metadata": {},
     "output_type": "execute_result"
    }
   ],
   "source": [
    "dp"
   ]
  },
  {
   "cell_type": "code",
   "execution_count": 6,
   "metadata": {
    "ExecuteTime": {
     "end_time": "2020-03-13T08:53:38.319000Z",
     "start_time": "2020-03-13T08:53:05.057Z"
    }
   },
   "outputs": [
    {
     "data": {
      "text/latex": [
       "\\begin{equation*}C \\left(M gc \\left(1 - ec\\right) + mc\\right) + P \\left(gp \\left(1 - ep\\right) + mp\\right)\\end{equation*}"
      ],
      "text/plain": [
       "C⋅(M⋅gc⋅(1 - ec) + mc) + P⋅(gp⋅(1 - ep) + mp)"
      ]
     },
     "execution_count": 6,
     "metadata": {},
     "output_type": "execute_result"
    }
   ],
   "source": [
    "dm"
   ]
  },
  {
   "cell_type": "code",
   "execution_count": 7,
   "metadata": {
    "ExecuteTime": {
     "end_time": "2020-03-13T08:53:38.336000Z",
     "start_time": "2020-03-13T08:53:05.060Z"
    }
   },
   "outputs": [
    {
     "data": {
      "text/latex": [
       "\\begin{equation*}C \\left(M ec gc - Rc - mc\\right)\\end{equation*}"
      ],
      "text/plain": [
       "C⋅(M⋅ec⋅gc - Rc - mc)"
      ]
     },
     "execution_count": 7,
     "metadata": {},
     "output_type": "execute_result"
    }
   ],
   "source": [
    "dc"
   ]
  },
  {
   "cell_type": "markdown",
   "metadata": {},
   "source": [
    "define eqm state"
   ]
  },
  {
   "cell_type": "code",
   "execution_count": 8,
   "metadata": {
    "ExecuteTime": {
     "end_time": "2020-03-13T08:53:38.424000Z",
     "start_time": "2020-03-13T08:53:05.516Z"
    }
   },
   "outputs": [
    {
     "data": {
      "text/plain": [
       "(Eq(P*(-Rp + ep*gp - mp), 0), Eq(C*(M*gc*(1 - ec) + mc) + P*(gp*(1 - ep) + mp), 0), Eq(C*(M*ec*gc - Rc - mc), 0))"
      ]
     },
     "execution_count": 8,
     "metadata": {},
     "output_type": "execute_result"
    }
   ],
   "source": [
    "p_eqm = Eq(dp, 0)\n",
    "m_eqm = Eq(dm, 0)\n",
    "c_eqm = Eq(dc, 0)\n",
    "p_eqm, m_eqm, c_eqm"
   ]
  },
  {
   "cell_type": "code",
   "execution_count": 9,
   "metadata": {
    "ExecuteTime": {
     "end_time": "2020-03-13T08:53:38.436000Z",
     "start_time": "2020-03-13T08:53:05.519Z"
    }
   },
   "outputs": [
    {
     "data": {
      "text/latex": [
       "\\begin{equation*}P \\left(- Rp + ep gp - mp\\right) = 0\\end{equation*}"
      ],
      "text/plain": [
       "P⋅(-Rp + ep⋅gp - mp) = 0"
      ]
     },
     "execution_count": 9,
     "metadata": {},
     "output_type": "execute_result"
    }
   ],
   "source": [
    "p_eqm"
   ]
  },
  {
   "cell_type": "code",
   "execution_count": 10,
   "metadata": {
    "ExecuteTime": {
     "end_time": "2020-03-13T08:53:38.460000Z",
     "start_time": "2020-03-13T08:53:05.521Z"
    }
   },
   "outputs": [
    {
     "data": {
      "text/latex": [
       "\\begin{equation*}C \\left(M gc \\left(1 - ec\\right) + mc\\right) + P \\left(gp \\left(1 - ep\\right) + mp\\right) = 0\\end{equation*}"
      ],
      "text/plain": [
       "C⋅(M⋅gc⋅(1 - ec) + mc) + P⋅(gp⋅(1 - ep) + mp) = 0"
      ]
     },
     "execution_count": 10,
     "metadata": {},
     "output_type": "execute_result"
    }
   ],
   "source": [
    "m_eqm"
   ]
  },
  {
   "cell_type": "code",
   "execution_count": 11,
   "metadata": {
    "ExecuteTime": {
     "end_time": "2020-03-13T08:53:38.480000Z",
     "start_time": "2020-03-13T08:53:05.524Z"
    }
   },
   "outputs": [
    {
     "data": {
      "text/latex": [
       "\\begin{equation*}C \\left(M ec gc - Rc - mc\\right) = 0\\end{equation*}"
      ],
      "text/plain": [
       "C⋅(M⋅ec⋅gc - Rc - mc) = 0"
      ]
     },
     "execution_count": 11,
     "metadata": {},
     "output_type": "execute_result"
    }
   ],
   "source": [
    "c_eqm"
   ]
  },
  {
   "cell_type": "markdown",
   "metadata": {},
   "source": [
    "# solve all parameters in one go\n",
    "summary: there's no co-existence equilibrium position"
   ]
  },
  {
   "cell_type": "code",
   "execution_count": 38,
   "metadata": {
    "ExecuteTime": {
     "end_time": "2020-03-13T08:54:19.433000Z",
     "start_time": "2020-03-13T08:53:12.411Z"
    }
   },
   "outputs": [
    {
     "data": {
      "text/plain": [
       "3-element Array{NTuple{11,Sym},1}:\n",
       " (0, mc/(gc*(ec - 1)), C, gp, ep, Rp, mp, gc, ec, mc/(ec - 1), mc)                                        \n",
       " (P, M, 0, gp, (gp + mp)/gp, gp, mp, gc, ec, Rc, mc)                                                      \n",
       " (P, (Rc + mc)/(ec*gc), -P*ec*(ep*gp - gp - mp)/(Rc*ec - Rc - mc), gp, ep, ep*gp - mp, mp, gc, ec, Rc, mc)"
      ]
     },
     "execution_count": 38,
     "metadata": {},
     "output_type": "execute_result"
    }
   ],
   "source": [
    "solve([p_eqm, m_eqm, c_eqm], [P,M,C])"
   ]
  }
 ],
 "metadata": {
  "kernelspec": {
   "display_name": "Julia 0.4.5",
   "language": "julia",
   "name": "julia-0.4"
  },
  "language_info": {
   "file_extension": ".jl",
   "mimetype": "application/julia",
   "name": "julia",
   "version": "1.3.1"
  },
  "latex_envs": {
   "LaTeX_envs_menu_present": true,
   "autoclose": true,
   "autocomplete": true,
   "bibliofile": "biblio.bib",
   "cite_by": "apalike",
   "current_citInitial": 1,
   "eqLabelWithNumbers": true,
   "eqNumInitial": 1,
   "hotkeys": {
    "equation": "Ctrl-E",
    "itemize": "Ctrl-I"
   },
   "labels_anchors": false,
   "latex_user_defs": false,
   "report_style_numbering": true,
   "user_envs_cfg": true
  },
  "toc": {
   "base_numbering": 1,
   "nav_menu": {},
   "number_sections": true,
   "sideBar": true,
   "skip_h1_title": false,
   "title_cell": "Table of Contents",
   "title_sidebar": "Contents",
   "toc_cell": true,
   "toc_position": {},
   "toc_section_display": true,
   "toc_window_display": true
  },
  "varInspector": {
   "cols": {
    "lenName": 16,
    "lenType": 16,
    "lenVar": 40
   },
   "kernels_config": {
    "python": {
     "delete_cmd_postfix": "",
     "delete_cmd_prefix": "del ",
     "library": "var_list.py",
     "varRefreshCmd": "print(var_dic_list())"
    },
    "r": {
     "delete_cmd_postfix": ") ",
     "delete_cmd_prefix": "rm(",
     "library": "var_list.r",
     "varRefreshCmd": "cat(var_dic_list()) "
    }
   },
   "types_to_exclude": [
    "module",
    "function",
    "builtin_function_or_method",
    "instance",
    "_Feature"
   ],
   "window_display": true
  }
 },
 "nbformat": 4,
 "nbformat_minor": 4
}
