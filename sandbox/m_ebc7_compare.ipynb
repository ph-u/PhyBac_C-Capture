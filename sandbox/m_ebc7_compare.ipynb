{
 "cells": [
  {
   "cell_type": "markdown",
   "metadata": {
    "toc": true
   },
   "source": [
    "<h1>Table of Contents<span class=\"tocSkip\"></span></h1>\n",
    "<div class=\"toc\"><ul class=\"toc-item\"><li><span><a href=\"#latest-model-(Allen-et-al,-2005)\" data-toc-modified-id=\"latest-model-(Allen-et-al,-2005)-1\"><span class=\"toc-item-num\">1&nbsp;&nbsp;</span>latest model (<a href=\"https://besjournals.onlinelibrary.wiley.com/doi/full/10.1111/j.1365-2435.2005.00952.x\" target=\"_blank\">Allen et al, 2005</a>)</a></span><ul class=\"toc-item\"><li><span><a href=\"#assumptions\" data-toc-modified-id=\"assumptions-1.1\"><span class=\"toc-item-num\">1.1&nbsp;&nbsp;</span>assumptions</a></span></li><li><span><a href=\"#identifying-carbon-pools-and-fluxes-controlled-by-biota\" data-toc-modified-id=\"identifying-carbon-pools-and-fluxes-controlled-by-biota-1.2\"><span class=\"toc-item-num\">1.2&nbsp;&nbsp;</span>identifying carbon pools and fluxes controlled by biota</a></span></li><li><span><a href=\"#characterizing-primary-production-based-on-the-size--and-temperature-dependence-of-photosynthesis\" data-toc-modified-id=\"characterizing-primary-production-based-on-the-size--and-temperature-dependence-of-photosynthesis-1.3\"><span class=\"toc-item-num\">1.3&nbsp;&nbsp;</span>characterizing primary production based on the size- and temperature-dependence of photosynthesis</a></span></li><li><span><a href=\"#characterizing-CO$_2$-fluxes-from-autotrophs-and-heterotrophs-based-on-the-size--and-temperature-dependence-of-individual-respiration\" data-toc-modified-id=\"characterizing-CO$_2$-fluxes-from-autotrophs-and-heterotrophs-based-on-the-size--and-temperature-dependence-of-individual-respiration-1.4\"><span class=\"toc-item-num\">1.4&nbsp;&nbsp;</span>characterizing CO$_2$ fluxes from autotrophs and heterotrophs based on the size- and temperature-dependence of individual respiration</a></span></li><li><span><a href=\"#linearizing-soil-carbon-dynamics-to-photosynthesis-&amp;-respiration\" data-toc-modified-id=\"linearizing-soil-carbon-dynamics-to-photosynthesis-&amp;-respiration-1.5\"><span class=\"toc-item-num\">1.5&nbsp;&nbsp;</span>linearizing soil carbon dynamics to photosynthesis &amp; respiration</a></span></li><li><span><a href=\"#characterizing-ecosystem-level-CO$_2$-flux\" data-toc-modified-id=\"characterizing-ecosystem-level-CO$_2$-flux-1.6\"><span class=\"toc-item-num\">1.6&nbsp;&nbsp;</span>characterizing ecosystem-level CO$_2$ flux</a></span></li></ul></li><li><span><a href=\"#model-adaptation\" data-toc-modified-id=\"model-adaptation-2\"><span class=\"toc-item-num\">2&nbsp;&nbsp;</span>model adaptation</a></span></li><li><span><a href=\"#comparison\" data-toc-modified-id=\"comparison-3\"><span class=\"toc-item-num\">3&nbsp;&nbsp;</span>comparison</a></span><ul class=\"toc-item\"><li><span><a href=\"#adapted-model\" data-toc-modified-id=\"adapted-model-3.1\"><span class=\"toc-item-num\">3.1&nbsp;&nbsp;</span>adapted model</a></span></li></ul></li></ul></div>"
   ]
  },
  {
   "cell_type": "code",
   "execution_count": 1,
   "metadata": {
    "ExecuteTime": {
     "end_time": "2020-03-26T14:23:26.163000Z",
     "start_time": "2020-03-26T14:23:13.026Z"
    }
   },
   "outputs": [
    {
     "name": "stdout",
     "output_type": "stream",
     "text": [
      "\n"
     ]
    }
   ],
   "source": [
    "using PyCall, DataFrames, SymPy\n",
    "mt = pyimport(\"math\")\n",
    "sc = pyimport(\"scipy\")\n",
    "cst = pyimport(\"scipy.constants\")\n",
    "sympy.init_printing() ## use other py3 function not implemented in native Julia-lang, http://mth229.github.io/symbolic.html\n",
    "println()"
   ]
  },
  {
   "cell_type": "markdown",
   "metadata": {},
   "source": [
    "# latest model ([Allen et al, 2005](https://besjournals.onlinelibrary.wiley.com/doi/full/10.1111/j.1365-2435.2005.00952.x))\n",
    "![](graph/paper2005.png)"
   ]
  },
  {
   "cell_type": "markdown",
   "metadata": {},
   "source": [
    "\\begin{equation}\\left\\{\\begin{array}{rl}\n",
    "M_{Tot}^A &= \\varepsilon g -l\\\\\n",
    "M_{Tot}^H &= \\delta a -m\\\\\n",
    "S &= m+l-a\\\\\n",
    "\\end{array}\\right.\\end{equation}"
   ]
  },
  {
   "cell_type": "markdown",
   "metadata": {},
   "source": [
    "## assumptions\n",
    "\n",
    "org-C flux\n",
    "\\begin{equation}\n",
    "v = v_0e^{-E/kT}\n",
    "\\end{equation}\n",
    "\n",
    "metabolic unit per unit body mass\n",
    "\\begin{equation}\n",
    "\\rho_i = \\rho_0M_i^{-0.25}\n",
    "\\end{equation}\n",
    "\n",
    "**body size and temperature on whole-organism C flux (i.e. [1] \\* [2] )**\n",
    "\\begin{equation}\n",
    "Q_i = v\\rho_iM_i = q_0M_i^{3/4}e^{-E/kT}\n",
    "\\end{equation}\n",
    "\n",
    "biomass pool with population size _J_ in area size _A_, mean body size _$\\bar{M}$_\n",
    "\\begin{equation}\n",
    "M_{Tot} = \\dfrac{1}{A}\\cdot\\sum_{i=1}^{J}M_i = \\dfrac{J\\langle M\\rangle_J}{A}\n",
    "\\end{equation}\n",
    "\n",
    "C flux per unit area for a biomass pool (i.e. sub [3] in [4])\n",
    "\\begin{equation}\n",
    "q = \\dfrac{1}{A}\\cdot\\sum_{i=1}^{J}Q_i = \\dfrac{Jq_0\\langle M^{3/4}\\rangle_Je^{-E/kT}}{A} = q_0M_{Tot}\\langle M^{-1/4}\\rangle_Me^{-E/kT}\\propto w\n",
    "\\end{equation}\n",
    "\n",
    "__C turnover in a biomass pool (i.e. rearranging [5])__\n",
    "\\begin{equation}\n",
    "a/M_{Tot} = q_0(\\langle M^{3/4}\\rangle_J/\\langle M\\rangle_J)e^{-E/kT} = q_0\\langle M^{-1/4}\\rangle_Me^{-E/kT}\n",
    "\\end{equation}\n",
    "\n",
    "## identifying carbon pools and fluxes controlled by biota\n",
    "\n",
    "steady-state model:\n",
    "\n",
    "GPP = respirations (autotrophs + heterotrophs)\n",
    "\\begin{equation}\n",
    "\\langle g\\rangle_\\tau = \\langle r_H\\rangle_\\tau+\\langle r_A\\rangle_\\tau = \\langle r_{Tot}\\rangle_\\tau\n",
    "\\end{equation}\n",
    "\n",
    "NPP = heterotrophic respiration\n",
    "\\begin{equation}\n",
    "\\langle n\\rangle_\\tau = \\langle r_H\\rangle_\\tau\n",
    "\\end{equation}\n",
    "\n",
    "## characterizing primary production based on the size- and temperature-dependence of photosynthesis\n",
    "\n",
    "photosynthetic rate on body size & temperature\n",
    "\\begin{equation}\n",
    "P_i = v_{chlo}\\rho_i^{chlo}M_i = p_oM_i^{3/4}e^{-E/kT}\n",
    "\\end{equation}\n",
    "\n",
    "photosynthetic fluxes of plants\n",
    "\\begin{equation}\n",
    "n = \\varepsilon g = \\varepsilon\\dfrac{1}{A}\\sum_{i=1}^JP_i = \\varepsilon p_0M_{Tot}^A\\langle M_A^{-1/4}\\rangle_Me^{-E_p/kT}\n",
    "\\end{equation}\n",
    "\n",
    "time-averaged rate of NPP per hour\n",
    "\\begin{equation}\n",
    "\\langle n\\rangle_\\tau = (\\gamma/\\tau)\\varepsilon p_0M_{Tot}^A\\langle M_A^{-1/4}\\rangle_M\\langle e^{-E_p/kT}\\rangle_\\tau\n",
    "\\end{equation}\n",
    "\n",
    "## characterizing CO$_2$ fluxes from autotrophs and heterotrophs based on the size- and temperature-dependence of individual respiration\n",
    "\n",
    "individual respiration rate on body size and temperature\n",
    "\\begin{equation}\n",
    "R_i = v_{resp}p_i^{resp}M_i = r_0M_i^{3/4}e^{-E_r/kT}\n",
    "\\end{equation}\n",
    "\n",
    "autotroph respiration (from [12])\n",
    "\\begin{equation}\n",
    "r_A = r_0^AM_{Tot}^A\\langle M_A^{-1/4}\\rangle_Me^{-E_r/kT}\n",
    "\\end{equation}\n",
    "\n",
    "heterotroph respiration (from [12])\n",
    "\\begin{equation}\n",
    "r_H = r_0^HM_{Tot}^H\\langle M_H^{-1/4}\\rangle_Me^{-E_r/kT}\n",
    "\\end{equation}\n",
    "\n",
    "time-averaged fluxes over growth season\n",
    "\\begin{align}\n",
    "\\langle r_A\\rangle_\\tau &= r_0^AM_{Tot}^A\\langle M_A^{-1/4}\\rangle_M\\langle e^{-E_r/kT}\\rangle_\\tau\\\\\n",
    "\\langle r_H\\rangle_\\tau &= r_0^HM_{Tot}^H\\langle M_H^{-1/4}\\rangle_M\\langle e^{-E_r/kT}\\rangle_\\tau\n",
    "\\end{align}\n",
    "\n",
    "production = respiration\n",
    "\\begin{equation}\n",
    "r_0^A = (\\gamma/\\tau)(1-\\varepsilon)p_0(\\langle e^{-E_p/kT}\\rangle_\\tau/\\langle e^{-E_r/kT}\\rangle_\\tau)\n",
    "\\end{equation}\n",
    "\n",
    "## linearizing soil carbon dynamics to photosynthesis & respiration\n",
    "\n",
    "dynamics of soil carbon in-out rate dynamics (per hour)\n",
    "\\begin{equation}\n",
    "dS/dt = l-\\kappa\\cdot S\n",
    "\\end{equation}\n",
    "\n",
    "decomposition rate\n",
    "\\begin{equation}\n",
    "\\kappa = r_H/S = k_0e^{-E_r/kT}\n",
    "\\end{equation}\n",
    "\n",
    "long term C storage\n",
    "\\begin{equation}\n",
    "S = \\langle l\\rangle_\\tau/\\langle\\kappa\\rangle_\\tau = (\\gamma/\\tau)(\\varepsilon p_0M_A^{Tot}\\langle M_A^{-1/4}\\rangle_M/\\kappa_0)(\\langle e^{-E_p/kT}\\rangle_\\tau/\\langle e^{-E_r/kT}\\rangle_\\tau)\n",
    "\\end{equation}\n",
    "\n",
    "heterotroph biomass\n",
    "\\begin{equation}\n",
    "M_{Tot}^H = (\\kappa_0/r_0^H\\langle M_H^{-1/4}\\rangle_M)S\\propto(\\gamma/\\tau)(\\langle e^{-E_p/kT}\\rangle_\\tau/\\langle e^{-E_r/kT}\\rangle_\\tau)\n",
    "\\end{equation}\n",
    "\n",
    "## characterizing ecosystem-level CO$_2$ flux\n",
    "\\begin{equation}\n",
    "r_{Tot} = r_A + r_H = r_0^{Tot}e^{-E_r/kT}\n",
    "\\end{equation}"
   ]
  },
  {
   "cell_type": "markdown",
   "metadata": {},
   "source": [
    "# model adaptation\n",
    "![](graph/ebc7.png)"
   ]
  },
  {
   "cell_type": "markdown",
   "metadata": {},
   "source": [
    "\\begin{equation}\\left\\{\\begin{array}{rl}\n",
    "C'(t) &= (1-\\varepsilon_P)\\varepsilon_{PR}P_0e^{-E_P/kT}P^{0.75} +a_PP^2 -B_0e^{-E_B/kT}B^{0.75} -g_B\\varepsilon_{B}CB +m_BB\\\\\n",
    "P'(t) &= \\varepsilon_P\\varepsilon_{PR}P_0e^{-E_P/kT}P^{0.75} -a_PP^2\\\\\n",
    "B'(t) &= g_B\\varepsilon_{B}CB -m_BB\n",
    "\\end{array}\\right.\\end{equation}"
   ]
  },
  {
   "cell_type": "code",
   "execution_count": 2,
   "metadata": {
    "ExecuteTime": {
     "end_time": "2020-03-26T14:23:31.884000Z",
     "start_time": "2020-03-26T14:23:13.033Z"
    }
   },
   "outputs": [
    {
     "data": {
      "text/plain": [
       "(k, E_P, E_B, x, T, e_P, e_S, P_0, a_P, B_0, g_B, e_B, m_B)"
      ]
     },
     "execution_count": 2,
     "metadata": {},
     "output_type": "execute_result"
    }
   ],
   "source": [
    "@vars C P B\n",
    "k,E_P,E_B,x,T, e_P,e_S,P_0,a_P, B_0,g_B,e_B,m_B = symbols(\"k E_P E_B x T e_P e_S P_0 a_P B_0 g_B e_B m_B\")"
   ]
  },
  {
   "cell_type": "code",
   "execution_count": 3,
   "metadata": {
    "ExecuteTime": {
     "end_time": "2020-03-26T14:23:33.063000Z",
     "start_time": "2020-03-26T14:23:13.038Z"
    }
   },
   "outputs": [
    {
     "data": {
      "text/latex": [
       "\\begin{equation*}B C e_{B} g_{B} - B m_{B}\\end{equation*}"
      ],
      "text/plain": [
       "B⋅C⋅e_B⋅g_B - B⋅m_B"
      ]
     },
     "execution_count": 3,
     "metadata": {},
     "output_type": "execute_result"
    }
   ],
   "source": [
    "Ct = (1-e_P)*e_S*P_0*exp(-E_P/(k*T))*P^x +a_P*P^2 -B_0*exp(-E_B/(k*T))*B^x -g_B*e_B*C*B +m_B*B\n",
    "Pt = e_P*e_S*P_0*exp(-E_P/(k*T))*P^x -a_P*P^2\n",
    "Bt = g_B*e_B*C*B -m_B*B"
   ]
  },
  {
   "cell_type": "code",
   "execution_count": 4,
   "metadata": {
    "ExecuteTime": {
     "end_time": "2020-03-26T14:23:39.590000Z",
     "start_time": "2020-03-26T14:23:13.043Z"
    }
   },
   "outputs": [
    {
     "data": {
      "text/plain": [
       "2-element Array{Tuple{Sym,Sym,Sym},1}:\n",
       " (C, (P_0*e_P*e_S*exp(-E_P/(T*k))/a_P)^(-1/(x - 2)), 0)            \n",
       " (m_B/(e_B*g_B), (P_0*e_P*e_S*exp(-E_P/(T*k))/a_P)^(-1/(x - 2)), B)"
      ]
     },
     "execution_count": 4,
     "metadata": {},
     "output_type": "execute_result"
    }
   ],
   "source": [
    "ss = solve([Eq(Ct,0),Eq(Pt,0),Eq(Bt,0)],[C,P,B])\n",
    "ss"
   ]
  },
  {
   "cell_type": "markdown",
   "metadata": {},
   "source": [
    "# comparison"
   ]
  },
  {
   "cell_type": "markdown",
   "metadata": {},
   "source": [
    "## adapted model"
   ]
  },
  {
   "cell_type": "code",
   "execution_count": 5,
   "metadata": {
    "ExecuteTime": {
     "end_time": "2020-03-26T14:23:40.572000Z",
     "start_time": "2020-03-26T14:23:13.048Z"
    }
   },
   "outputs": [
    {
     "data": {
      "text/latex": [
       "\\[ \\left[ \\begin{array}{r}\\frac{m_{B}}{e_{B} g_{B}}\\\\\\left(\\frac{P_{0} e_{P} e_{S} e^{- \\frac{E_{P}}{T k}}}{a_{P}}\\right)^{- \\frac{1}{x - 2}}\\\\B\\end{array} \\right] \\]"
      ],
      "text/plain": [
       "3-element Array{Sym,1}:\n",
       "                                  m_B/(e_B*g_B)\n",
       " (P_0*e_P*e_S*exp(-E_P/(T*k))/a_P)^(-1/(x - 2))\n",
       "                                              B"
      ]
     },
     "execution_count": 5,
     "metadata": {},
     "output_type": "execute_result"
    }
   ],
   "source": [
    "[ss[2][1],ss[2][2],ss[2][3]]"
   ]
  },
  {
   "cell_type": "code",
   "execution_count": null,
   "metadata": {},
   "outputs": [],
   "source": []
  }
 ],
 "metadata": {
  "kernelspec": {
   "display_name": "Julia 1.3.1",
   "language": "julia",
   "name": "julia-1.3"
  },
  "language_info": {
   "file_extension": ".jl",
   "mimetype": "application/julia",
   "name": "julia",
   "version": "1.3.1"
  },
  "latex_envs": {
   "LaTeX_envs_menu_present": true,
   "autoclose": true,
   "autocomplete": false,
   "bibliofile": "biblio.bib",
   "cite_by": "apalike",
   "current_citInitial": 1,
   "eqLabelWithNumbers": true,
   "eqNumInitial": 1,
   "hotkeys": {
    "equation": "Ctrl-E",
    "itemize": "Ctrl-I"
   },
   "labels_anchors": false,
   "latex_user_defs": false,
   "report_style_numbering": true,
   "user_envs_cfg": false
  },
  "toc": {
   "base_numbering": 1,
   "nav_menu": {},
   "number_sections": true,
   "sideBar": true,
   "skip_h1_title": false,
   "title_cell": "Table of Contents",
   "title_sidebar": "Contents",
   "toc_cell": true,
   "toc_position": {},
   "toc_section_display": true,
   "toc_window_display": true
  },
  "varInspector": {
   "cols": {
    "lenName": 16,
    "lenType": 16,
    "lenVar": 40
   },
   "kernels_config": {
    "python": {
     "delete_cmd_postfix": "",
     "delete_cmd_prefix": "del ",
     "library": "var_list.py",
     "varRefreshCmd": "print(var_dic_list())"
    },
    "r": {
     "delete_cmd_postfix": ") ",
     "delete_cmd_prefix": "rm(",
     "library": "var_list.r",
     "varRefreshCmd": "cat(var_dic_list()) "
    }
   },
   "types_to_exclude": [
    "module",
    "function",
    "builtin_function_or_method",
    "instance",
    "_Feature"
   ],
   "window_display": true
  }
 },
 "nbformat": 4,
 "nbformat_minor": 4
}
