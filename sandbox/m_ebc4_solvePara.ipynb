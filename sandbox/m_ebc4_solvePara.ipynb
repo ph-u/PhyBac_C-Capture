{
 "cells": [
  {
   "cell_type": "markdown",
   "metadata": {
    "toc": true
   },
   "source": [
    "<h1>Table of Contents<span class=\"tocSkip\"></span></h1>\n",
    "<div class=\"toc\"><ul class=\"toc-item\"><li><span><a href=\"#housekeeping\" data-toc-modified-id=\"housekeeping-1\"><span class=\"toc-item-num\">1&nbsp;&nbsp;</span>housekeeping</a></span><ul class=\"toc-item\"><li><span><a href=\"#languages-&amp;-packages\" data-toc-modified-id=\"languages-&amp;-packages-1.1\"><span class=\"toc-item-num\">1.1&nbsp;&nbsp;</span>languages &amp; packages</a></span></li><li><span><a href=\"#env-set-up\" data-toc-modified-id=\"env-set-up-1.2\"><span class=\"toc-item-num\">1.2&nbsp;&nbsp;</span>env set-up</a></span></li></ul></li><li><span><a href=\"#step-by-step-numerical-solve-via-SymPy\" data-toc-modified-id=\"step-by-step-numerical-solve-via-SymPy-2\"><span class=\"toc-item-num\">2&nbsp;&nbsp;</span>step-by-step numerical solve via SymPy</a></span><ul class=\"toc-item\"><li><span><a href=\"#environmental-preparation\" data-toc-modified-id=\"environmental-preparation-2.1\"><span class=\"toc-item-num\">2.1&nbsp;&nbsp;</span>environmental preparation</a></span></li></ul></li><li><span><a href=\"#solve-all-parameters-in-one-go\" data-toc-modified-id=\"solve-all-parameters-in-one-go-3\"><span class=\"toc-item-num\">3&nbsp;&nbsp;</span>solve all parameters in one go</a></span></li></ul></div>"
   ]
  },
  {
   "cell_type": "markdown",
   "metadata": {},
   "source": [
    "# housekeeping\n",
    "This notebook is for analytically solving parameters in the set of ODEs for eco-bioelectric cell (EBC).\n",
    "\n",
    "## languages & packages\n",
    "Julia-lang 1.3.1: `PyCall` (1.91.2), `DataFrames` (0.20.0), `SymPy` (1.0.18)\n",
    "\n",
    "## env set-up"
   ]
  },
  {
   "cell_type": "code",
   "execution_count": 1,
   "metadata": {
    "ExecuteTime": {
     "end_time": "2020-03-13T15:03:49.899000Z",
     "start_time": "2020-03-13T15:03:30.061Z"
    }
   },
   "outputs": [
    {
     "name": "stdout",
     "output_type": "stream",
     "text": [
      "\n"
     ]
    }
   ],
   "source": [
    "using PyCall, DataFrames, SymPy\n",
    "sympy.init_printing() ## use other py3 function not implemented in native Julia-lang\n",
    "println()"
   ]
  },
  {
   "cell_type": "code",
   "execution_count": 2,
   "metadata": {
    "ExecuteTime": {
     "end_time": "2020-03-13T15:03:52.260000Z",
     "start_time": "2020-03-13T15:03:30.064Z"
    }
   },
   "outputs": [],
   "source": [
    "# function ebc0(popDen, t, gp,ep,Rp,mp, gc,ec,Rc,mc)\n",
    "    \n",
    "#     ## population densities\n",
    "#     P = popDen[:1]\n",
    "#     M = popDen[:2]\n",
    "#     C = popDen[:3]\n",
    "    \n",
    "#     ## numerical adaptation to net growth\n",
    "#     #if gp <1; gp = 1+gp;end\n",
    "#     #if gc <1; gc = 1+gc;end\n",
    "    \n",
    "#     ## fluctuation model\n",
    "#     dp = P*(gp*ep - Rp - mp)\n",
    "#     dm = P*(gp*(1-ep) + mp) + C*(gc*(1-ec)*M + mc)\n",
    "#     dc = C*(gc*ec*M - Rc - mc)\n",
    "    \n",
    "#     ## non-recoverable elimination\n",
    "#     if P <=0; dp=0;end\n",
    "#     if C <=0; dc=0;end\n",
    "    \n",
    "#     return(sc.array([dp,dm,dc]))\n",
    "# end"
   ]
  },
  {
   "cell_type": "markdown",
   "metadata": {},
   "source": [
    "# step-by-step numerical solve via SymPy\n",
    "This step-wise workflow is following CMEE [notes](https://nbviewer.jupyter.org/github/mhasoba/TheMulQuaBio/blob/master/notebooks/Appendix-Maths.ipynb) (last section) from Samraat on Jupyter math models\n",
    "## environmental preparation\n",
    "define variables"
   ]
  },
  {
   "cell_type": "code",
   "execution_count": 3,
   "metadata": {
    "ExecuteTime": {
     "end_time": "2020-03-13T15:03:55.471000Z",
     "start_time": "2020-03-13T15:03:30.203Z"
    }
   },
   "outputs": [
    {
     "data": {
      "text/plain": [
       "(mc,)"
      ]
     },
     "execution_count": 3,
     "metadata": {},
     "output_type": "execute_result"
    }
   ],
   "source": [
    "@vars P; @vars M; @vars C\n",
    "@vars gp; @vars ep; @vars Rp; @vars mp\n",
    "@vars gc; @vars ec; @vars Rc; @vars mc"
   ]
  },
  {
   "cell_type": "markdown",
   "metadata": {},
   "source": [
    "define SymPy ODE system"
   ]
  },
  {
   "cell_type": "code",
   "execution_count": 4,
   "metadata": {
    "ExecuteTime": {
     "end_time": "2020-03-13T15:03:56.007000Z",
     "start_time": "2020-03-13T15:03:30.340Z"
    }
   },
   "outputs": [
    {
     "data": {
      "text/plain": [
       "(P*(-Rp + ep*gp - mp), C*(M*gc*(1 - ec) + mc) + P*(gp*(1 - ep) + mp), C*(M*ec*gc - Rc - mc))"
      ]
     },
     "execution_count": 4,
     "metadata": {},
     "output_type": "execute_result"
    }
   ],
   "source": [
    "dp = P*(gp*ep - Rp - mp)\n",
    "dm = P*(gp*(1-ep) + mp) + C*(gc*(1-ec)*M + mc)\n",
    "dc = C*(gc*ec*M - Rc - mc)\n",
    "dp, dm, dc"
   ]
  },
  {
   "cell_type": "code",
   "execution_count": 5,
   "metadata": {
    "ExecuteTime": {
     "end_time": "2020-03-13T15:03:57.002000Z",
     "start_time": "2020-03-13T15:03:30.343Z"
    }
   },
   "outputs": [
    {
     "data": {
      "text/latex": [
       "\\begin{equation*}P \\left(- Rp + ep gp - mp\\right)\\end{equation*}"
      ],
      "text/plain": [
       "P⋅(-Rp + ep⋅gp - mp)"
      ]
     },
     "execution_count": 5,
     "metadata": {},
     "output_type": "execute_result"
    }
   ],
   "source": [
    "dp"
   ]
  },
  {
   "cell_type": "code",
   "execution_count": 6,
   "metadata": {
    "ExecuteTime": {
     "end_time": "2020-03-13T15:03:57.015000Z",
     "start_time": "2020-03-13T15:03:30.346Z"
    }
   },
   "outputs": [
    {
     "data": {
      "text/latex": [
       "\\begin{equation*}C \\left(M gc \\left(1 - ec\\right) + mc\\right) + P \\left(gp \\left(1 - ep\\right) + mp\\right)\\end{equation*}"
      ],
      "text/plain": [
       "C⋅(M⋅gc⋅(1 - ec) + mc) + P⋅(gp⋅(1 - ep) + mp)"
      ]
     },
     "execution_count": 6,
     "metadata": {},
     "output_type": "execute_result"
    }
   ],
   "source": [
    "dm"
   ]
  },
  {
   "cell_type": "code",
   "execution_count": 7,
   "metadata": {
    "ExecuteTime": {
     "end_time": "2020-03-13T15:03:57.040000Z",
     "start_time": "2020-03-13T15:03:30.348Z"
    }
   },
   "outputs": [
    {
     "data": {
      "text/latex": [
       "\\begin{equation*}C \\left(M ec gc - Rc - mc\\right)\\end{equation*}"
      ],
      "text/plain": [
       "C⋅(M⋅ec⋅gc - Rc - mc)"
      ]
     },
     "execution_count": 7,
     "metadata": {},
     "output_type": "execute_result"
    }
   ],
   "source": [
    "dc"
   ]
  },
  {
   "cell_type": "markdown",
   "metadata": {},
   "source": [
    "define eqm state"
   ]
  },
  {
   "cell_type": "code",
   "execution_count": 8,
   "metadata": {
    "ExecuteTime": {
     "end_time": "2020-03-13T15:03:57.165000Z",
     "start_time": "2020-03-13T15:03:30.489Z"
    }
   },
   "outputs": [
    {
     "data": {
      "text/plain": [
       "(Eq(P*(-Rp + ep*gp - mp), 0), Eq(C*(M*gc*(1 - ec) + mc) + P*(gp*(1 - ep) + mp), 0), Eq(C*(M*ec*gc - Rc - mc), 0))"
      ]
     },
     "execution_count": 8,
     "metadata": {},
     "output_type": "execute_result"
    }
   ],
   "source": [
    "p_eqm = Eq(dp, 0)\n",
    "m_eqm = Eq(dm, 0)\n",
    "c_eqm = Eq(dc, 0)\n",
    "p_eqm, m_eqm, c_eqm"
   ]
  },
  {
   "cell_type": "code",
   "execution_count": 9,
   "metadata": {
    "ExecuteTime": {
     "end_time": "2020-03-13T15:03:57.190000Z",
     "start_time": "2020-03-13T15:03:30.491Z"
    }
   },
   "outputs": [
    {
     "data": {
      "text/latex": [
       "\\begin{equation*}P \\left(- Rp + ep gp - mp\\right) = 0\\end{equation*}"
      ],
      "text/plain": [
       "P⋅(-Rp + ep⋅gp - mp) = 0"
      ]
     },
     "execution_count": 9,
     "metadata": {},
     "output_type": "execute_result"
    }
   ],
   "source": [
    "p_eqm"
   ]
  },
  {
   "cell_type": "code",
   "execution_count": 10,
   "metadata": {
    "ExecuteTime": {
     "end_time": "2020-03-13T15:03:57.223000Z",
     "start_time": "2020-03-13T15:03:30.494Z"
    }
   },
   "outputs": [
    {
     "data": {
      "text/latex": [
       "\\begin{equation*}C \\left(M gc \\left(1 - ec\\right) + mc\\right) + P \\left(gp \\left(1 - ep\\right) + mp\\right) = 0\\end{equation*}"
      ],
      "text/plain": [
       "C⋅(M⋅gc⋅(1 - ec) + mc) + P⋅(gp⋅(1 - ep) + mp) = 0"
      ]
     },
     "execution_count": 10,
     "metadata": {},
     "output_type": "execute_result"
    }
   ],
   "source": [
    "m_eqm"
   ]
  },
  {
   "cell_type": "code",
   "execution_count": 11,
   "metadata": {
    "ExecuteTime": {
     "end_time": "2020-03-13T15:03:57.235000Z",
     "start_time": "2020-03-13T15:03:30.496Z"
    }
   },
   "outputs": [
    {
     "data": {
      "text/latex": [
       "\\begin{equation*}C \\left(M ec gc - Rc - mc\\right) = 0\\end{equation*}"
      ],
      "text/plain": [
       "C⋅(M⋅ec⋅gc - Rc - mc) = 0"
      ]
     },
     "execution_count": 11,
     "metadata": {},
     "output_type": "execute_result"
    }
   ],
   "source": [
    "c_eqm"
   ]
  },
  {
   "cell_type": "markdown",
   "metadata": {},
   "source": [
    "# solve all parameters in one go\n",
    "summary: there's no co-existence equilibrium position"
   ]
  },
  {
   "cell_type": "code",
   "execution_count": 12,
   "metadata": {
    "ExecuteTime": {
     "end_time": "2020-03-13T15:04:01.230000Z",
     "start_time": "2020-03-13T15:03:30.649Z"
    }
   },
   "outputs": [
    {
     "data": {
      "text/plain": [
       "2-element Array{Tuple{Sym,Sym,Sym},1}:\n",
       " (0, M, 0)                \n",
       " (0, (Rc + mc)/(ec*gc), 0)"
      ]
     },
     "execution_count": 12,
     "metadata": {},
     "output_type": "execute_result"
    }
   ],
   "source": [
    "solve([p_eqm, m_eqm, c_eqm], [P,M,C])"
   ]
  }
 ],
 "metadata": {
  "kernelspec": {
   "display_name": "Julia 1.3.1",
   "language": "julia",
   "name": "julia-1.3"
  },
  "language_info": {
   "file_extension": ".jl",
   "mimetype": "application/julia",
   "name": "julia",
   "version": "1.3.1"
  },
  "latex_envs": {
   "LaTeX_envs_menu_present": true,
   "autoclose": true,
   "autocomplete": true,
   "bibliofile": "biblio.bib",
   "cite_by": "apalike",
   "current_citInitial": 1,
   "eqLabelWithNumbers": true,
   "eqNumInitial": 1,
   "hotkeys": {
    "equation": "Ctrl-E",
    "itemize": "Ctrl-I"
   },
   "labels_anchors": false,
   "latex_user_defs": false,
   "report_style_numbering": true,
   "user_envs_cfg": true
  },
  "toc": {
   "base_numbering": 1,
   "nav_menu": {},
   "number_sections": true,
   "sideBar": true,
   "skip_h1_title": false,
   "title_cell": "Table of Contents",
   "title_sidebar": "Contents",
   "toc_cell": true,
   "toc_position": {},
   "toc_section_display": true,
   "toc_window_display": true
  },
  "varInspector": {
   "cols": {
    "lenName": 16,
    "lenType": 16,
    "lenVar": 40
   },
   "kernels_config": {
    "python": {
     "delete_cmd_postfix": "",
     "delete_cmd_prefix": "del ",
     "library": "var_list.py",
     "varRefreshCmd": "print(var_dic_list())"
    },
    "r": {
     "delete_cmd_postfix": ") ",
     "delete_cmd_prefix": "rm(",
     "library": "var_list.r",
     "varRefreshCmd": "cat(var_dic_list()) "
    }
   },
   "types_to_exclude": [
    "module",
    "function",
    "builtin_function_or_method",
    "instance",
    "_Feature"
   ],
   "window_display": true
  }
 },
 "nbformat": 4,
 "nbformat_minor": 4
}
