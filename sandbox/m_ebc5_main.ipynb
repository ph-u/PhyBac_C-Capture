{
 "cells": [
  {
   "cell_type": "markdown",
   "metadata": {
    "toc": true
   },
   "source": [
    "<h1>Table of Contents<span class=\"tocSkip\"></span></h1>\n",
    "<div class=\"toc\"><ul class=\"toc-item\"><li><span><a href=\"#housekeeping\" data-toc-modified-id=\"housekeeping-1\"><span class=\"toc-item-num\">1&nbsp;&nbsp;</span>housekeeping</a></span><ul class=\"toc-item\"><li><span><a href=\"#languages-&amp;-packages\" data-toc-modified-id=\"languages-&amp;-packages-1.1\"><span class=\"toc-item-num\">1.1&nbsp;&nbsp;</span>languages &amp; packages</a></span></li><li><span><a href=\"#env-set-up\" data-toc-modified-id=\"env-set-up-1.2\"><span class=\"toc-item-num\">1.2&nbsp;&nbsp;</span>env set-up</a></span></li><li><span><a href=\"#parameters\" data-toc-modified-id=\"parameters-1.3\"><span class=\"toc-item-num\">1.3&nbsp;&nbsp;</span>parameters</a></span></li><li><span><a href=\"#equations\" data-toc-modified-id=\"equations-1.4\"><span class=\"toc-item-num\">1.4&nbsp;&nbsp;</span>equations</a></span></li></ul></li><li><span><a href=\"#whole-ODE-system-numeric-solve\" data-toc-modified-id=\"whole-ODE-system-numeric-solve-2\"><span class=\"toc-item-num\">2&nbsp;&nbsp;</span>whole ODE system numeric solve</a></span></li><li><span><a href=\"#$P$-&amp;-partial-$C$-equation-isolation-numeric-solve\" data-toc-modified-id=\"$P$-&amp;-partial-$C$-equation-isolation-numeric-solve-3\"><span class=\"toc-item-num\">3&nbsp;&nbsp;</span>$P$ &amp; partial-$C$ equation isolation numeric solve</a></span></li><li><span><a href=\"#$P$-&amp;-partial-$C$-equation-isolation-numeric-solve\" data-toc-modified-id=\"$P$-&amp;-partial-$C$-equation-isolation-numeric-solve-4\"><span class=\"toc-item-num\">4&nbsp;&nbsp;</span>$P$ &amp; partial-$C$ equation isolation numeric solve</a></span></li></ul></div>"
   ]
  },
  {
   "cell_type": "markdown",
   "metadata": {},
   "source": [
    "# housekeeping\n",
    "This notebook is for analytically (2nd attempt) solving parameters in the set of ODEs for eco-bioelectric cell (EBC).\n",
    "\n",
    "## languages & packages\n",
    "Julia-lang 1.3.1: `PyCall` (1.91.2), `DataFrames` (0.20.0), `SymPy` (1.0.18)\n",
    "\n",
    "## env set-up"
   ]
  },
  {
   "cell_type": "code",
   "execution_count": 1,
   "metadata": {
    "ExecuteTime": {
     "end_time": "2020-03-13T19:25:11.978000Z",
     "start_time": "2020-03-13T19:24:49.816Z"
    }
   },
   "outputs": [
    {
     "name": "stdout",
     "output_type": "stream",
     "text": [
      "\n"
     ]
    }
   ],
   "source": [
    "using PyCall, DataFrames, SymPy\n",
    "sympy.init_printing() ## use other py3 function not implemented in native Julia-lang\n",
    "println()"
   ]
  },
  {
   "cell_type": "code",
   "execution_count": 12,
   "metadata": {
    "ExecuteTime": {
     "end_time": "2020-03-13T20:06:47.317000Z",
     "start_time": "2020-03-13T20:06:46.135Z"
    }
   },
   "outputs": [
    {
     "data": {
      "text/plain": [
       "(C, P, B, K_P, g_P, e_P, R_P, m_P, g_B, e_B, R_B, m_B)"
      ]
     },
     "execution_count": 12,
     "metadata": {},
     "output_type": "execute_result"
    }
   ],
   "source": [
    "C,P,B,K_P, g_P,e_P,R_P,m_P, g_B,e_B,R_B,m_B = symbols(\"C P B K_P g_P e_P R_P m_P g_B e_B R_B m_B\", positive=true)"
   ]
  },
  {
   "cell_type": "markdown",
   "metadata": {},
   "source": [
    "## parameters\n",
    "symbol | unit | meaning\n",
    "--- | --- | ---\n",
    "$C$ | kgCm$^-3$ | system organic __C__arbon pool concentration\n",
    "$P$ | kgCm$^-3$ | system __P__hytoplankton Carbon pool concentration\n",
    "$B$ | kgCm$^-3$ | system _E. coli_ (__B__acteria) Carbon pool concentration\n",
    "$K_P$ | kgCm$^-3$ | system phytoplankton Carbon pool carrying capacity\n",
    "$g_P$ | t$^{-1}$ | growth rate of $P$\n",
    "$e_P$ | no | carbon assimilation efficiency of $P$\n",
    "$R_P$ | t$^{-1}$ | respiration rate of $P$\n",
    "$m_P$ | t$^{-1}$ | death rate of $P$\n",
    "$g_B$ | m$^3$(kgC$\\cdot$t)$^{-1}$ | growth rate per $B$ pool concentration unit\n",
    "$e_B$ | no | absorption efficiency of $B$\n",
    "$R_B$ | t$^{-1}$ | respiration rate of $B$\n",
    "$m_B$ | t$^{-1}$ | death rate of $B$\n",
    "\n",
    "## equations\n",
    "\\begin{equation}\n",
    "\\left\\{\\begin{array}{rl}\n",
    "C'(t) &= (g_P(1-\\varepsilon_P)\\left(1-\\frac{P}{K_P}\\right) + m_P)P + (g_B(1-\\varepsilon_B)C + m_B)B\\\\\n",
    "P'(t) &= (g_P\\varepsilon_P \\left(1-\\frac{P}{K_P}\\right) - R_P - m_P)P\\\\\n",
    "B'(t) &= (g_B\\varepsilon_BC - R_B - m_B)B\\\\\n",
    "\\end{array}\\right.\n",
    "\\end{equation}"
   ]
  },
  {
   "cell_type": "markdown",
   "metadata": {},
   "source": [
    "# whole ODE system numeric solve"
   ]
  },
  {
   "cell_type": "markdown",
   "metadata": {},
   "source": [
    "# $P$ & partial-$C$ equation isolation numeric solve"
   ]
  },
  {
   "cell_type": "markdown",
   "metadata": {},
   "source": [
    "# $P$ & partial-$C$ equation isolation numeric solve"
   ]
  },
  {
   "cell_type": "code",
   "execution_count": null,
   "metadata": {},
   "outputs": [],
   "source": []
  }
 ],
 "metadata": {
  "kernelspec": {
   "display_name": "Julia 1.3.1",
   "language": "julia",
   "name": "julia-1.3"
  },
  "language_info": {
   "file_extension": ".jl",
   "mimetype": "application/julia",
   "name": "julia",
   "version": "1.3.1"
  },
  "latex_envs": {
   "LaTeX_envs_menu_present": true,
   "autoclose": true,
   "autocomplete": true,
   "bibliofile": "biblio.bib",
   "cite_by": "apalike",
   "current_citInitial": 1,
   "eqLabelWithNumbers": true,
   "eqNumInitial": 1,
   "hotkeys": {
    "equation": "Ctrl-E",
    "itemize": "Ctrl-I"
   },
   "labels_anchors": false,
   "latex_user_defs": false,
   "report_style_numbering": true,
   "user_envs_cfg": true
  },
  "toc": {
   "base_numbering": 1,
   "nav_menu": {},
   "number_sections": true,
   "sideBar": true,
   "skip_h1_title": false,
   "title_cell": "Table of Contents",
   "title_sidebar": "Contents",
   "toc_cell": true,
   "toc_position": {},
   "toc_section_display": true,
   "toc_window_display": true
  },
  "varInspector": {
   "cols": {
    "lenName": 16,
    "lenType": 16,
    "lenVar": 40
   },
   "kernels_config": {
    "python": {
     "delete_cmd_postfix": "",
     "delete_cmd_prefix": "del ",
     "library": "var_list.py",
     "varRefreshCmd": "print(var_dic_list())"
    },
    "r": {
     "delete_cmd_postfix": ") ",
     "delete_cmd_prefix": "rm(",
     "library": "var_list.r",
     "varRefreshCmd": "cat(var_dic_list()) "
    }
   },
   "types_to_exclude": [
    "module",
    "function",
    "builtin_function_or_method",
    "instance",
    "_Feature"
   ],
   "window_display": true
  }
 },
 "nbformat": 4,
 "nbformat_minor": 4
}
