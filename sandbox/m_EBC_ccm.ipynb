{
 "cells": [
  {
   "cell_type": "markdown",
   "metadata": {
    "slideshow": {
     "slide_type": "slide"
    },
    "toc": true
   },
   "source": [
    "<h1>Table of Contents<span class=\"tocSkip\"></span></h1>\n",
    "<div class=\"toc\"><ul class=\"toc-item\"><li><span><a href=\"#Closest-relative----ocean-mixed-layer-NPZD-model\" data-toc-modified-id=\"Closest-relative----ocean-mixed-layer-NPZD-model-1\"><span class=\"toc-item-num\">1&nbsp;&nbsp;</span>Closest relative -- ocean mixed layer NPZD model</a></span></li><li><span><a href=\"#Carbon-cycle-model-outline\" data-toc-modified-id=\"Carbon-cycle-model-outline-2\"><span class=\"toc-item-num\">2&nbsp;&nbsp;</span>Carbon cycle model outline</a></span><ul class=\"toc-item\"><li><span><a href=\"#ODEs\" data-toc-modified-id=\"ODEs-2.1\"><span class=\"toc-item-num\">2.1&nbsp;&nbsp;</span>ODEs</a></span></li><li><span><a href=\"#Model-visualization\" data-toc-modified-id=\"Model-visualization-2.2\"><span class=\"toc-item-num\">2.2&nbsp;&nbsp;</span>Model visualization</a></span></li><li><span><a href=\"#Table-of-parameters\" data-toc-modified-id=\"Table-of-parameters-2.3\"><span class=\"toc-item-num\">2.3&nbsp;&nbsp;</span>Table of parameters</a></span></li></ul></li><li><span><a href=\"#Carbon-cycle-model-validation\" data-toc-modified-id=\"Carbon-cycle-model-validation-3\"><span class=\"toc-item-num\">3&nbsp;&nbsp;</span>Carbon cycle model validation</a></span></li><li><span><a href=\"#Simple-mathematical-approach\" data-toc-modified-id=\"Simple-mathematical-approach-4\"><span class=\"toc-item-num\">4&nbsp;&nbsp;</span>Simple mathematical approach</a></span></li></ul></div>"
   ]
  },
  {
   "cell_type": "code",
   "execution_count": null,
   "metadata": {
    "ExecuteTime": {
     "start_time": "2020-03-03T10:43:21.196Z"
    },
    "slideshow": {
     "slide_type": "notes"
    }
   },
   "outputs": [],
   "source": [
    "using RCall, PyCall, Plots, ProgressMeter, DataFrames\n",
    "mt = pyimport(\"math\")\n",
    "sc = pyimport(\"scipy\")\n",
    "cst = pyimport(\"scipy.constants\")\n",
    "itg = pyimport(\"scipy.integrate\")\n",
    "R\"cbp<-c('#000000', '#E69F00', '#56B4E9', '#009E73', '#0072B2', '#D55E00', '#CC79A7', '#e79f00', '#9ad0f3', '#F0E442', '#999999', '#cccccc', '#6633ff', '#00FFCC', '#0066cc')\"\n",
    "println()"
   ]
  },
  {
   "cell_type": "markdown",
   "metadata": {
    "slideshow": {
     "slide_type": "slide"
    }
   },
   "source": [
    "# Closest relative -- ocean mixed layer NPZD model\n",
    "![](graph/model_01_r.png)"
   ]
  },
  {
   "cell_type": "markdown",
   "metadata": {
    "slideshow": {
     "slide_type": "fragment"
    }
   },
   "source": [
    "NPZD model is a phenomenological ordinary differential equation (ODE) model in ocean science focus on describing the population dynamics of four major biochemical engines powering the oceanic carbon cycle system.  The nutrient pool (denoted by [$N$]) is consisting of inorganic nutrient essential for phytoplankton population growth.  Phytoplankton population (denoted by [$P$]) is assumed only one type of phytoplankton, grow by absorbing $N$ and is the food source of zooplankton (denoted by [$Z$]).  $Z$ is assumed only one type of zooplankton, food sources are including $P$ and detritus/organic matter (denoted by [$D$]) for its population growth.  $Z$ can only absorb nutrient through digestion of detritus into inorganic nutrient.  Due to the non-perfect absorption system, some \"digested but not absorbed\" inorganic chemical species can escape from zooplankton bodies and contribute to the $N$ pool.  For the $D$ pool, it is a collection of organic matter, including and mostly consist of cellular leftovers (i.e. dead cells from $P$ and $Z$).  It is a food source for $Z$, completing the microscopic oceanic carbon cycle."
   ]
  },
  {
   "cell_type": "markdown",
   "metadata": {
    "slideshow": {
     "slide_type": "slide"
    }
   },
   "source": [
    "\\begin{equation}\n",
    "\\left\\{\\begin{array}{rl}\n",
    "    N'(t) &= -\\mu_PP + \\beta_Z(1-k_{NZ})(G_P+G_D) + m_DD + (a_NZ + b_N - N)\\cdot\\dfrac{\\omega_{mix}H'(t)}{H(t)}\\\\\n",
    "    P'(t) &= \\mu_PP - G_P - m_PP - m_{P2}P^2 - P\\cdot\\dfrac{\\omega_{mix}H'(t)}{H(t)}\\\\\n",
    "    Z'(t) &= \\beta_Zk_N(G_P+G_D) - m_ZZ - m_{Z2}Z^2-Z\\cdot\\dfrac{\\omega_{mix}H'(t)}{H(t)}\\\\\n",
    "    D'(t) &= m_PP + m_{P2}P^2 + m_ZZ + (1-\\beta_Z)(G_P+G_D) - G_D - (m_D + \\dfrac{v_D}{H(t)})D -D\\cdot\\dfrac{\\omega_{mix}H'(t)}{H(t)}\n",
    "    \\end{array}\\right.\n",
    "\\end{equation}"
   ]
  },
  {
   "cell_type": "markdown",
   "metadata": {
    "slideshow": {
     "slide_type": "slide"
    }
   },
   "source": [
    "# Carbon cycle model outline"
   ]
  },
  {
   "cell_type": "markdown",
   "metadata": {
    "slideshow": {
     "slide_type": "fragment"
    }
   },
   "source": [
    "![](graph/DSC_0089.jpg)\n",
    "max CUE in phytoplankton (C-sequestration); min CUE in bacteria (max electricity generation)"
   ]
  },
  {
   "cell_type": "markdown",
   "metadata": {
    "slideshow": {
     "slide_type": "slide"
    }
   },
   "source": [
    "## ODEs\n",
    "By assuming conditions\n",
    "1. light saturating\n",
    "2. nutrient saturating\n",
    "\n",
    "three carbon sinks (in unit $kgCm^{-3}t^{-1}$) are investigated and labeled \"phytoplankton\", \"bacteria / E coli\" and \"detritus / organic matter\".  \n",
    "The expected ODE equations are as follow:\n",
    "\\begin{equation}\n",
    "    \\left\\{\\begin{array}{rl}\n",
    "    [phy]'(t) &= (g_P\\varepsilon_P - R_P - m_P)[phy]\\\\\n",
    "    [mtr]'(t) &= (g_P(1-\\varepsilon_P) + m_P)[phy] + (g_e(1-\\varepsilon_e)[mtr] + m_e)[eco]\\\\\n",
    "    [eco]'(t) &= (g_e\\varepsilon_e[mtr] - R_e - m_e)[eco]\\\\\n",
    "\\end{array}\\right.\n",
    "\\end{equation}\n",
    "or\n",
    "\\begin{equation}\n",
    "    \\left\\{\\begin{array}{rl}\n",
    "    [phy]'(t) &= g_P\\varepsilon_P[phy] - R_P[phy] - m_P[phy]\\\\\n",
    "    [mtr]'(t) &= g_P(1-\\varepsilon_P)[phy] + m_P[phy] + g_e(1-\\varepsilon_e)[eco][mtr] + m_e[eco]\\\\\n",
    "    [eco]'(t) &= g_e\\varepsilon_e[eco][mtr] - R_e[eco] - m_e[eco]\\\\\n",
    "\\end{array}\\right.\n",
    "\\end{equation}"
   ]
  },
  {
   "cell_type": "markdown",
   "metadata": {
    "slideshow": {
     "slide_type": "slide"
    }
   },
   "source": [
    "## Model visualization\n",
    "![](graph/PBD_00.png)"
   ]
  },
  {
   "cell_type": "markdown",
   "metadata": {
    "slideshow": {
     "slide_type": "slide"
    }
   },
   "source": [
    "## Table of parameters\n",
    "notation | unit | value | range | meaning\n",
    "--- | --- | --- | --- | ---\n",
    "phy | $\\dfrac{kgC}{m^3}$ | ? | +ve | biomass concentration of carbon in phytoplankton\n",
    "mtr | $\\dfrac{kgC}{m^3}$ | ? | +ve | concentration of carbon in detritus / organic matter (i.e. D in photo)\n",
    "eco | $\\dfrac{kgC}{m^3}$ | ? | +ve | biomass concentration of carbon in detritivore / _E. coli_ (i.e. B in photo)\n",
    "$g_P$ | $t^{-1}$ | ? | +ve | pure growth rate of phytoplankton (i.e. $g$ in photo)\n",
    "$\\varepsilon_P$ | no | ? | 0-1 | retention efficiency of atmospheric carbon inside phytoplankton cells (i.e. $\\varepsilon$ in photo)\n",
    "$R_P$ | $t^{-1}$ | ? | +ve | respiration rate of phytoplankton (i.e. $R$ in photo)\n",
    "$m_P$ | $t^{-1}$ | ? | +ve | death rate of phytoplankton (i.e. $m$ in photo)\n",
    "$g_e$ | $t^{-1}$ | ? | +ve | pure growth rate of detritivore (i.e. $g_2$ in photo)\n",
    "$\\varepsilon_e$ | no | ? | 0-1 | absorption efficiency of organic carbon inside _E. coli_ cells ($\\varepsilon_2$ in photo)\n",
    "$R_e$ | $t^{-1}$ | ? | +ve | respiration rate of detritivore (i.e. $R_2$ in photo)\n",
    "$m_e$ | $t^{-1}$ | ? | +ve | death rate of detritivore (i.e. $m_2$ in photo)"
   ]
  },
  {
   "cell_type": "markdown",
   "metadata": {
    "slideshow": {
     "slide_type": "slide"
    }
   },
   "source": [
    "# Carbon cycle model validation"
   ]
  },
  {
   "cell_type": "code",
   "execution_count": null,
   "metadata": {
    "ExecuteTime": {
     "start_time": "2020-03-03T10:43:28.720Z"
    },
    "slideshow": {
     "slide_type": "fragment"
    }
   },
   "outputs": [],
   "source": [
    "function ebc0(popDen, t, gp,ep,Rp,mp, gc,ec,Rc,mc)\n",
    "    \n",
    "    ## population densities\n",
    "    P = popDen[:1]\n",
    "    M = popDen[:2]\n",
    "    C = popDen[:3]\n",
    "    \n",
    "    ## numerical adaptation to net growth\n",
    "    gp = 1+gp\n",
    "    gc = 1+gc\n",
    "    \n",
    "    ## fluctuation model\n",
    "    dp = P*(gp*ep - Rp - mp)\n",
    "    dm = P*(gp*(1-ep) + mp) + C*(gc*(1-ec)*M + mc)\n",
    "    dc = C*(gc*ec*M - Rc - mc)\n",
    "    \n",
    "    ## non-recoverable elimination\n",
    "    if P <=0; dp=0;end\n",
    "    if C <=0; dc=0;end\n",
    "    \n",
    "    return(sc.array([dp,dm,dc]))\n",
    "end"
   ]
  },
  {
   "cell_type": "code",
   "execution_count": null,
   "metadata": {
    "ExecuteTime": {
     "start_time": "2020-03-03T10:43:28.728Z"
    },
    "scrolled": true,
    "slideshow": {
     "slide_type": "subslide"
    }
   },
   "outputs": [],
   "source": [
    "## model testing\n",
    "t = sc.linspace(0, 1, 100) # time series\n",
    "\n",
    "## parameters\n",
    "pops = sc.array([5,5,5]) # kgC/m^3 -- carbon density\n",
    "gp = .4/10 # pure growth rate [phytoplankton]\n",
    "ep = .7 # nutrient-handling efficiency [phytoplankton]\n",
    "Rp = .14/100 # respiration loss [phytoplankton]\n",
    "mp = .14/100 # cellular death rate [phytoplankton]\n",
    "gc = .2 # pure growth rate [E. coli]\n",
    "ec = .8 # nutrient-handling efficiency [E. coli]\n",
    "Rc = .8/10 # respiration loss [E. coli]\n",
    "mc = .8/10 # cellular death rate [E. coli]\n",
    "\n",
    "pops, infodict = itg.odeint(ebc0, pops, t, full_output=true, args=(gp,ep,Rp,mp, gc,ec,Rc,mc))\n",
    "plot(pops, xlabel=\"time steps\", ylabel=\"carbon density\", title=\"Time series on population of phytoplankton (blue),\\norganic matter (orange) and E. coli (green)\", label=\"\", ylim=[0,10])"
   ]
  },
  {
   "cell_type": "markdown",
   "metadata": {
    "slideshow": {
     "slide_type": "slide"
    }
   },
   "source": [
    "# Simple mathematical approach\n",
    "![](graph/20200302_DSC_0086.JPG)"
   ]
  },
  {
   "cell_type": "markdown",
   "metadata": {
    "slideshow": {
     "slide_type": "slide"
    }
   },
   "source": [
    "model derivation\n",
    "* equations have not accommodate logistic characteristics\n",
    "* there's only one superscript level of population (order of 1) and all terms are having one composition of population $\\rightarrow$ stability = when population extinct\n",
    "* organic matter concentration $M$ does not match between the two equations"
   ]
  }
 ],
 "metadata": {
  "celltoolbar": "Slideshow",
  "kernelspec": {
   "display_name": "Julia 1.3.1",
   "language": "julia",
   "name": "julia-1.3"
  },
  "language_info": {
   "file_extension": ".jl",
   "mimetype": "application/julia",
   "name": "julia",
   "version": "1.3.1"
  },
  "latex_envs": {
   "LaTeX_envs_menu_present": true,
   "autoclose": true,
   "autocomplete": true,
   "bibliofile": "biblio.bib",
   "cite_by": "apalike",
   "current_citInitial": 1,
   "eqLabelWithNumbers": true,
   "eqNumInitial": 1,
   "hotkeys": {
    "equation": "Ctrl-E",
    "itemize": "Ctrl-I"
   },
   "labels_anchors": false,
   "latex_user_defs": false,
   "report_style_numbering": true,
   "user_envs_cfg": true
  },
  "toc": {
   "base_numbering": 1,
   "nav_menu": {},
   "number_sections": true,
   "sideBar": true,
   "skip_h1_title": false,
   "title_cell": "Table of Contents",
   "title_sidebar": "Contents",
   "toc_cell": true,
   "toc_position": {},
   "toc_section_display": true,
   "toc_window_display": true
  },
  "varInspector": {
   "cols": {
    "lenName": 16,
    "lenType": 16,
    "lenVar": 40
   },
   "kernels_config": {
    "python": {
     "delete_cmd_postfix": "",
     "delete_cmd_prefix": "del ",
     "library": "var_list.py",
     "varRefreshCmd": "print(var_dic_list())"
    },
    "r": {
     "delete_cmd_postfix": ") ",
     "delete_cmd_prefix": "rm(",
     "library": "var_list.r",
     "varRefreshCmd": "cat(var_dic_list()) "
    }
   },
   "types_to_exclude": [
    "module",
    "function",
    "builtin_function_or_method",
    "instance",
    "_Feature"
   ],
   "window_display": true
  }
 },
 "nbformat": 4,
 "nbformat_minor": 4
}
